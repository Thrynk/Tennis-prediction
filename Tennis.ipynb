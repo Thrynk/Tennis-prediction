{
 "cells": [
  {
   "cell_type": "markdown",
   "metadata": {},
   "source": [
    "# Tennis analysis\n",
    "\n",
    "### Question or problem definition\n",
    "\n",
    "We want to see if we can create a prediction model that can predict whether a player will win a match or not, based on different statistics\n",
    "\n",
    "### Acquire training and testing data"
   ]
  },
  {
   "cell_type": "markdown",
   "metadata": {},
   "source": [
    "import librairies :"
   ]
  },
  {
   "cell_type": "code",
   "execution_count": 961,
   "metadata": {},
   "outputs": [],
   "source": [
    "# dataframe manipulation\n",
    "import pandas as pd\n",
    "import numpy as np\n",
    "import random as rnd\n",
    "\n",
    "# visualization\n",
    "import seaborn as sns\n",
    "import matplotlib.pyplot as plt\n",
    "%matplotlib inline"
   ]
  },
  {
   "cell_type": "markdown",
   "metadata": {},
   "source": [
    "Acquire data from csv :"
   ]
  },
  {
   "cell_type": "markdown",
   "metadata": {},
   "source": [
    "We want to collect a list of matches with the following information :\n",
    "- match_id\n",
    "- date\n",
    "- surface\n",
    "- best_of (3 sets win => best_of = 5)\n",
    "- winner_rank\n",
    "- loser_rank\n",
    "- winner_rank_points\n",
    "- loser_rank_points\n",
    "- winner_elo_rating\n",
    "- loser_elo_rating\n",
    "- winner_age\n",
    "- loser_age\n",
    "- winner_height\n",
    "- loser_height\n",
    "\n",
    ">SELECT match_id, date, surface, best_of, winner_rank, loser_rank, winner_rank_points, loser_rank_points, winner_elo_rating, loser_elo_rating, winner_age, loser_age, winner_height, loser_height FROM match;"
   ]
  },
  {
   "cell_type": "markdown",
   "metadata": {},
   "source": [
    "We want to add stats before matches to it :"
   ]
  },
  {
   "cell_type": "markdown",
   "metadata": {},
   "source": [
    "For example if we want to get aces from nadal given a date we have to do :\n",
    "> SELECT AVG(ps.p_ace), AVG(ps.o_ace) FROM (SELECT p_matches, p_ace, o_matches, o_ace, match_id, date, player_id FROM player_match_stats_v WHERE player_id=4742 AND date <= '2016/01/01') ps;"
   ]
  },
  {
   "cell_type": "markdown",
   "metadata": {},
   "source": [
    "final statement to get 2018 matches with their stats :"
   ]
  },
  {
   "cell_type": "markdown",
   "metadata": {},
   "source": [
    ">SELECT pms.match_id, pms.date, pms.surface, pms.level, pms.round, pms.best_of, pms.player_id, pms.opponent_id, pms.player_rank, pms.opponent_rank, pms.player_elo_rating, pms.opponent_elo_rating, pms.player_age, pms.opponent_age, pms.player_height, pms.opponent_height, pms.outcome, pms.p_matches, pms.o_matches, pms.p_sets, pms.o_sets, pms.p_games, pms.o_games, pms.p_tbs, pms.o_tbs, pms.p_ace, pms.p_df, pms.p_sv_pt, pms.p_1st_in, pms.p_1st_won, pms.p_2nd_won, pms.p_sv_gms, pms.p_bp_sv, pms.p_bp_fc, pms.o_ace, pms.o_df, pms.o_sv_pt, pms.o_1st_in, pms.o_1st_won, pms.o_2nd_won, pms.o_sv_gms, pms.o_bp_sv, pms.o_bp_fc, pms.minutes, pms.p_upsets, pms.o_upsets, ps.p_avg_ace, ps.p_avg_df, ps.p_avg_sv_pt, ps.p_avg_1st_in, ps.p_avg_1st_won, ps.p_avg_2nd_won, ps.p_avg_sv_gms, ps.p_avg_bp_sv, ps.p_avg_bp_fc, ps.o_avg_ace, ps.o_avg_df, ps.o_avg_sv_pt, ps.o_avg_1st_in, ps.o_avg_1st_won, ps.o_avg_2nd_won, ps.o_avg_sv_gms, ps.o_avg_bp_sv, ps.o_avg_bp_fc FROM player_match_stats_v pms LEFT JOIN LATERAL (SELECT ROUND(AVG(p_ace), 2) p_avg_ace, ROUND(AVG(p_df), 2) p_avg_df, ROUND(AVG(p_sv_pt), 2) p_avg_sv_pt, ROUND(AVG(p_1st_in), 2) p_avg_1st_in, ROUND(AVG(p_1st_won), 2) p_avg_1st_won, ROUND(AVG(p_2nd_won), 2) p_avg_2nd_won, ROUND(AVG(p_sv_gms), 2) p_avg_sv_gms, ROUND(AVG(p_bp_sv), 2) p_avg_bp_sv, ROUND(AVG(p_bp_fc), 2) p_avg_bp_fc, ROUND(AVG(o_ace), 2) o_avg_ace, ROUND(AVG(o_df), 2) o_avg_df, ROUND(AVG(o_sv_pt), 2) o_avg_sv_pt, ROUND(AVG(o_1st_in), 2) o_avg_1st_in, ROUND(AVG(o_1st_won), 2) o_avg_1st_won, ROUND(AVG(o_2nd_won), 2) o_avg_2nd_won, ROUND(AVG(o_sv_gms), 2) o_avg_sv_gms, ROUND(AVG(o_bp_sv), 2) o_avg_bp_sv, ROUND(AVG(o_bp_fc), 2) o_avg_bp_fc, player_id FROM player_match_stats_v WHERE date <= pms.date GROUP BY player_id) ps ON (pms.player_id=ps.player_id) WHERE pms.date >= '2018-01-01' AND pms.date <='2018-12-31';"
   ]
  },
  {
   "cell_type": "code",
   "execution_count": 962,
   "metadata": {},
   "outputs": [],
   "source": [
    "tennis = pd.read_csv('2018 matches/matches.csv', delimiter=';')"
   ]
  },
  {
   "cell_type": "code",
   "execution_count": 963,
   "metadata": {},
   "outputs": [
    {
     "data": {
      "text/html": [
       "<div>\n",
       "<style scoped>\n",
       "    .dataframe tbody tr th:only-of-type {\n",
       "        vertical-align: middle;\n",
       "    }\n",
       "\n",
       "    .dataframe tbody tr th {\n",
       "        vertical-align: top;\n",
       "    }\n",
       "\n",
       "    .dataframe thead th {\n",
       "        text-align: right;\n",
       "    }\n",
       "</style>\n",
       "<table border=\"1\" class=\"dataframe\">\n",
       "  <thead>\n",
       "    <tr style=\"text-align: right;\">\n",
       "      <th></th>\n",
       "      <th>match_id</th>\n",
       "      <th>date</th>\n",
       "      <th>surface</th>\n",
       "      <th>level</th>\n",
       "      <th>round</th>\n",
       "      <th>best_of</th>\n",
       "      <th>player_id</th>\n",
       "      <th>opponent_id</th>\n",
       "      <th>player_rank</th>\n",
       "      <th>opponent_rank</th>\n",
       "      <th>...</th>\n",
       "      <th>p_avg_bp_fc</th>\n",
       "      <th>o_avg_ace</th>\n",
       "      <th>o_avg_df</th>\n",
       "      <th>o_avg_sv_pt</th>\n",
       "      <th>o_avg_1st_in</th>\n",
       "      <th>o_avg_1st_won</th>\n",
       "      <th>o_avg_2nd_won</th>\n",
       "      <th>o_avg_sv_gms</th>\n",
       "      <th>o_avg_bp_sv</th>\n",
       "      <th>o_avg_bp_fc</th>\n",
       "    </tr>\n",
       "  </thead>\n",
       "  <tbody>\n",
       "    <tr>\n",
       "      <th>0</th>\n",
       "      <td>166985</td>\n",
       "      <td>06/04/2018</td>\n",
       "      <td>C</td>\n",
       "      <td>D</td>\n",
       "      <td>RR</td>\n",
       "      <td>3</td>\n",
       "      <td>6030</td>\n",
       "      <td>11769</td>\n",
       "      <td>87.0</td>\n",
       "      <td>64.0</td>\n",
       "      <td>...</td>\n",
       "      <td>7.58</td>\n",
       "      <td>6.20</td>\n",
       "      <td>2.60</td>\n",
       "      <td>76.18</td>\n",
       "      <td>46.70</td>\n",
       "      <td>33.05</td>\n",
       "      <td>14.95</td>\n",
       "      <td>12.28</td>\n",
       "      <td>3.33</td>\n",
       "      <td>6.03</td>\n",
       "    </tr>\n",
       "    <tr>\n",
       "      <th>1</th>\n",
       "      <td>167084</td>\n",
       "      <td>09/04/2018</td>\n",
       "      <td>C</td>\n",
       "      <td>B</td>\n",
       "      <td>R32</td>\n",
       "      <td>3</td>\n",
       "      <td>6364</td>\n",
       "      <td>6196</td>\n",
       "      <td>26.0</td>\n",
       "      <td>65.0</td>\n",
       "      <td>...</td>\n",
       "      <td>6.69</td>\n",
       "      <td>7.55</td>\n",
       "      <td>3.74</td>\n",
       "      <td>82.57</td>\n",
       "      <td>49.97</td>\n",
       "      <td>36.63</td>\n",
       "      <td>16.29</td>\n",
       "      <td>12.95</td>\n",
       "      <td>4.18</td>\n",
       "      <td>6.77</td>\n",
       "    </tr>\n",
       "    <tr>\n",
       "      <th>2</th>\n",
       "      <td>167085</td>\n",
       "      <td>09/04/2018</td>\n",
       "      <td>C</td>\n",
       "      <td>B</td>\n",
       "      <td>R32</td>\n",
       "      <td>3</td>\n",
       "      <td>5420</td>\n",
       "      <td>4311</td>\n",
       "      <td>93.0</td>\n",
       "      <td>62.0</td>\n",
       "      <td>...</td>\n",
       "      <td>9.05</td>\n",
       "      <td>6.82</td>\n",
       "      <td>3.03</td>\n",
       "      <td>85.92</td>\n",
       "      <td>50.68</td>\n",
       "      <td>36.20</td>\n",
       "      <td>17.91</td>\n",
       "      <td>13.09</td>\n",
       "      <td>4.97</td>\n",
       "      <td>7.82</td>\n",
       "    </tr>\n",
       "    <tr>\n",
       "      <th>3</th>\n",
       "      <td>167086</td>\n",
       "      <td>09/04/2018</td>\n",
       "      <td>C</td>\n",
       "      <td>B</td>\n",
       "      <td>R32</td>\n",
       "      <td>3</td>\n",
       "      <td>4291</td>\n",
       "      <td>5902</td>\n",
       "      <td>91.0</td>\n",
       "      <td>61.0</td>\n",
       "      <td>...</td>\n",
       "      <td>7.98</td>\n",
       "      <td>7.96</td>\n",
       "      <td>3.22</td>\n",
       "      <td>80.63</td>\n",
       "      <td>48.48</td>\n",
       "      <td>35.95</td>\n",
       "      <td>16.59</td>\n",
       "      <td>12.79</td>\n",
       "      <td>4.20</td>\n",
       "      <td>6.56</td>\n",
       "    </tr>\n",
       "    <tr>\n",
       "      <th>4</th>\n",
       "      <td>167087</td>\n",
       "      <td>09/04/2018</td>\n",
       "      <td>C</td>\n",
       "      <td>B</td>\n",
       "      <td>R32</td>\n",
       "      <td>3</td>\n",
       "      <td>4994</td>\n",
       "      <td>3893</td>\n",
       "      <td>55.0</td>\n",
       "      <td>57.0</td>\n",
       "      <td>...</td>\n",
       "      <td>7.27</td>\n",
       "      <td>5.12</td>\n",
       "      <td>2.70</td>\n",
       "      <td>77.29</td>\n",
       "      <td>48.82</td>\n",
       "      <td>34.54</td>\n",
       "      <td>14.85</td>\n",
       "      <td>12.05</td>\n",
       "      <td>3.75</td>\n",
       "      <td>6.16</td>\n",
       "    </tr>\n",
       "  </tbody>\n",
       "</table>\n",
       "<p>5 rows × 64 columns</p>\n",
       "</div>"
      ],
      "text/plain": [
       "   match_id        date surface level round  best_of  player_id  opponent_id  \\\n",
       "0    166985  06/04/2018       C     D    RR        3       6030        11769   \n",
       "1    167084  09/04/2018       C     B   R32        3       6364         6196   \n",
       "2    167085  09/04/2018       C     B   R32        3       5420         4311   \n",
       "3    167086  09/04/2018       C     B   R32        3       4291         5902   \n",
       "4    167087  09/04/2018       C     B   R32        3       4994         3893   \n",
       "\n",
       "   player_rank  opponent_rank  ...  p_avg_bp_fc  o_avg_ace  o_avg_df  \\\n",
       "0         87.0           64.0  ...         7.58       6.20      2.60   \n",
       "1         26.0           65.0  ...         6.69       7.55      3.74   \n",
       "2         93.0           62.0  ...         9.05       6.82      3.03   \n",
       "3         91.0           61.0  ...         7.98       7.96      3.22   \n",
       "4         55.0           57.0  ...         7.27       5.12      2.70   \n",
       "\n",
       "   o_avg_sv_pt  o_avg_1st_in  o_avg_1st_won o_avg_2nd_won  o_avg_sv_gms  \\\n",
       "0        76.18         46.70          33.05         14.95         12.28   \n",
       "1        82.57         49.97          36.63         16.29         12.95   \n",
       "2        85.92         50.68          36.20         17.91         13.09   \n",
       "3        80.63         48.48          35.95         16.59         12.79   \n",
       "4        77.29         48.82          34.54         14.85         12.05   \n",
       "\n",
       "   o_avg_bp_sv  o_avg_bp_fc  \n",
       "0         3.33         6.03  \n",
       "1         4.18         6.77  \n",
       "2         4.97         7.82  \n",
       "3         4.20         6.56  \n",
       "4         3.75         6.16  \n",
       "\n",
       "[5 rows x 64 columns]"
      ]
     },
     "execution_count": 963,
     "metadata": {},
     "output_type": "execute_result"
    }
   ],
   "source": [
    "tennis.head()"
   ]
  },
  {
   "cell_type": "code",
   "execution_count": 964,
   "metadata": {},
   "outputs": [
    {
     "data": {
      "text/plain": [
       "Index(['match_id', 'date', 'surface', 'level', 'round', 'best_of', 'player_id',\n",
       "       'opponent_id', 'player_rank', 'opponent_rank', 'player_elo_rating',\n",
       "       'opponent_elo_rating', 'player_age', 'opponent_age', 'player_height',\n",
       "       'opponent_height', 'outcome', 'p_matches', 'o_matches', 'p_sets',\n",
       "       'o_sets', 'p_games', 'o_games', 'p_tbs', 'o_tbs', 'p_ace', 'p_df',\n",
       "       'p_sv_pt', 'p_1st_in', 'p_1st_won', 'p_2nd_won', 'p_sv_gms', 'p_bp_sv',\n",
       "       'p_bp_fc', 'o_ace', 'o_df', 'o_sv_pt', 'o_1st_in', 'o_1st_won',\n",
       "       'o_2nd_won', 'o_sv_gms', 'o_bp_sv', 'o_bp_fc', 'minutes', 'p_upsets',\n",
       "       'o_upsets', 'p_avg_ace', 'p_avg_df', 'p_avg_sv_pt', 'p_avg_1st_in',\n",
       "       'p_avg_1st_won', 'p_avg_2nd_won', 'p_avg_sv_gms', 'p_avg_bp_sv',\n",
       "       'p_avg_bp_fc', 'o_avg_ace', 'o_avg_df', 'o_avg_sv_pt', 'o_avg_1st_in',\n",
       "       'o_avg_1st_won', 'o_avg_2nd_won', 'o_avg_sv_gms', 'o_avg_bp_sv',\n",
       "       'o_avg_bp_fc'],\n",
       "      dtype='object')"
      ]
     },
     "execution_count": 964,
     "metadata": {},
     "output_type": "execute_result"
    }
   ],
   "source": [
    "tennis.columns"
   ]
  },
  {
   "cell_type": "code",
   "execution_count": 965,
   "metadata": {},
   "outputs": [
    {
     "data": {
      "text/html": [
       "<div>\n",
       "<style scoped>\n",
       "    .dataframe tbody tr th:only-of-type {\n",
       "        vertical-align: middle;\n",
       "    }\n",
       "\n",
       "    .dataframe tbody tr th {\n",
       "        vertical-align: top;\n",
       "    }\n",
       "\n",
       "    .dataframe thead th {\n",
       "        text-align: right;\n",
       "    }\n",
       "</style>\n",
       "<table border=\"1\" class=\"dataframe\">\n",
       "  <thead>\n",
       "    <tr style=\"text-align: right;\">\n",
       "      <th></th>\n",
       "      <th>match_id</th>\n",
       "      <th>date</th>\n",
       "      <th>surface</th>\n",
       "      <th>level</th>\n",
       "      <th>round</th>\n",
       "      <th>best_of</th>\n",
       "      <th>player_id</th>\n",
       "      <th>opponent_id</th>\n",
       "      <th>player_rank</th>\n",
       "      <th>opponent_rank</th>\n",
       "      <th>...</th>\n",
       "      <th>p_avg_bp_fc</th>\n",
       "      <th>o_avg_ace</th>\n",
       "      <th>o_avg_df</th>\n",
       "      <th>o_avg_sv_pt</th>\n",
       "      <th>o_avg_1st_in</th>\n",
       "      <th>o_avg_1st_won</th>\n",
       "      <th>o_avg_2nd_won</th>\n",
       "      <th>o_avg_sv_gms</th>\n",
       "      <th>o_avg_bp_sv</th>\n",
       "      <th>o_avg_bp_fc</th>\n",
       "    </tr>\n",
       "  </thead>\n",
       "  <tbody>\n",
       "    <tr>\n",
       "      <th>0</th>\n",
       "      <td>166985</td>\n",
       "      <td>06/04/2018</td>\n",
       "      <td>C</td>\n",
       "      <td>D</td>\n",
       "      <td>RR</td>\n",
       "      <td>3</td>\n",
       "      <td>6030</td>\n",
       "      <td>11769</td>\n",
       "      <td>87.0</td>\n",
       "      <td>64.0</td>\n",
       "      <td>...</td>\n",
       "      <td>7.58</td>\n",
       "      <td>6.20</td>\n",
       "      <td>2.6</td>\n",
       "      <td>76.18</td>\n",
       "      <td>46.70</td>\n",
       "      <td>33.05</td>\n",
       "      <td>14.95</td>\n",
       "      <td>12.28</td>\n",
       "      <td>3.33</td>\n",
       "      <td>6.03</td>\n",
       "    </tr>\n",
       "    <tr>\n",
       "      <th>390</th>\n",
       "      <td>166985</td>\n",
       "      <td>06/04/2018</td>\n",
       "      <td>C</td>\n",
       "      <td>D</td>\n",
       "      <td>RR</td>\n",
       "      <td>3</td>\n",
       "      <td>11769</td>\n",
       "      <td>6030</td>\n",
       "      <td>64.0</td>\n",
       "      <td>87.0</td>\n",
       "      <td>...</td>\n",
       "      <td>6.85</td>\n",
       "      <td>5.12</td>\n",
       "      <td>3.7</td>\n",
       "      <td>85.24</td>\n",
       "      <td>51.61</td>\n",
       "      <td>38.42</td>\n",
       "      <td>18.42</td>\n",
       "      <td>13.55</td>\n",
       "      <td>3.88</td>\n",
       "      <td>5.94</td>\n",
       "    </tr>\n",
       "  </tbody>\n",
       "</table>\n",
       "<p>2 rows × 64 columns</p>\n",
       "</div>"
      ],
      "text/plain": [
       "     match_id        date surface level round  best_of  player_id  \\\n",
       "0      166985  06/04/2018       C     D    RR        3       6030   \n",
       "390    166985  06/04/2018       C     D    RR        3      11769   \n",
       "\n",
       "     opponent_id  player_rank  opponent_rank  ...  p_avg_bp_fc  o_avg_ace  \\\n",
       "0          11769         87.0           64.0  ...         7.58       6.20   \n",
       "390         6030         64.0           87.0  ...         6.85       5.12   \n",
       "\n",
       "     o_avg_df  o_avg_sv_pt  o_avg_1st_in  o_avg_1st_won o_avg_2nd_won  \\\n",
       "0         2.6        76.18         46.70          33.05         14.95   \n",
       "390       3.7        85.24         51.61          38.42         18.42   \n",
       "\n",
       "     o_avg_sv_gms  o_avg_bp_sv  o_avg_bp_fc  \n",
       "0           12.28         3.33         6.03  \n",
       "390         13.55         3.88         5.94  \n",
       "\n",
       "[2 rows x 64 columns]"
      ]
     },
     "execution_count": 965,
     "metadata": {},
     "output_type": "execute_result"
    }
   ],
   "source": [
    "tennis[tennis['match_id'] == 166985]"
   ]
  },
  {
   "cell_type": "code",
   "execution_count": 966,
   "metadata": {},
   "outputs": [
    {
     "data": {
      "text/plain": [
       "2943"
      ]
     },
     "execution_count": 966,
     "metadata": {},
     "output_type": "execute_result"
    }
   ],
   "source": [
    "tennis['match_id'].nunique()"
   ]
  },
  {
   "cell_type": "markdown",
   "metadata": {},
   "source": [
    "tennis_non_duplicate = tennis.drop_duplicates(subset='match_id')"
   ]
  },
  {
   "cell_type": "markdown",
   "metadata": {},
   "source": [
    "tennis_non_duplicate.shape"
   ]
  },
  {
   "cell_type": "code",
   "execution_count": 967,
   "metadata": {},
   "outputs": [],
   "source": [
    "from sklearn.model_selection import train_test_split"
   ]
  },
  {
   "cell_type": "code",
   "execution_count": 968,
   "metadata": {},
   "outputs": [
    {
     "name": "stdout",
     "output_type": "stream",
     "text": [
      "train shape :  (4414, 64)\n",
      "train test :  (1472, 64)\n"
     ]
    }
   ],
   "source": [
    "train_df = pd.read_csv('2018 matches/matches.csv', delimiter=';')\n",
    "train_df, test_df = train_test_split(tennis)\n",
    "print(\"train shape : \", train_df.shape)\n",
    "print(\"train test : \", test_df.shape)"
   ]
  },
  {
   "cell_type": "markdown",
   "metadata": {},
   "source": [
    "Save those to csv :"
   ]
  },
  {
   "cell_type": "code",
   "execution_count": 969,
   "metadata": {},
   "outputs": [],
   "source": [
    "train_df.to_csv('2018 matches/tennis_matches_stats_train.csv', index=False)\n",
    "test_df.to_csv('2018 matches/tennis_matches_stats_test.csv', index=False)"
   ]
  },
  {
   "cell_type": "markdown",
   "metadata": {},
   "source": [
    "Declare new dataframes :"
   ]
  },
  {
   "cell_type": "code",
   "execution_count": 970,
   "metadata": {},
   "outputs": [],
   "source": [
    "train_df = pd.read_csv('2018 matches/tennis_matches_stats_train.csv')\n",
    "test_df = pd.read_csv('2018 matches/tennis_matches_stats_test.csv')\n",
    "combine = [train_df, test_df]"
   ]
  },
  {
   "cell_type": "markdown",
   "metadata": {},
   "source": [
    "### Analyze by describing data\n",
    "\n",
    "Which features are available in the dataset?"
   ]
  },
  {
   "cell_type": "code",
   "execution_count": 971,
   "metadata": {},
   "outputs": [
    {
     "name": "stdout",
     "output_type": "stream",
     "text": [
      "['match_id' 'date' 'surface' 'level' 'round' 'best_of' 'player_id'\n",
      " 'opponent_id' 'player_rank' 'opponent_rank' 'player_elo_rating'\n",
      " 'opponent_elo_rating' 'player_age' 'opponent_age' 'player_height'\n",
      " 'opponent_height' 'outcome' 'p_matches' 'o_matches' 'p_sets' 'o_sets'\n",
      " 'p_games' 'o_games' 'p_tbs' 'o_tbs' 'p_ace' 'p_df' 'p_sv_pt' 'p_1st_in'\n",
      " 'p_1st_won' 'p_2nd_won' 'p_sv_gms' 'p_bp_sv' 'p_bp_fc' 'o_ace' 'o_df'\n",
      " 'o_sv_pt' 'o_1st_in' 'o_1st_won' 'o_2nd_won' 'o_sv_gms' 'o_bp_sv'\n",
      " 'o_bp_fc' 'minutes' 'p_upsets' 'o_upsets' 'p_avg_ace' 'p_avg_df'\n",
      " 'p_avg_sv_pt' 'p_avg_1st_in' 'p_avg_1st_won' 'p_avg_2nd_won'\n",
      " 'p_avg_sv_gms' 'p_avg_bp_sv' 'p_avg_bp_fc' 'o_avg_ace' 'o_avg_df'\n",
      " 'o_avg_sv_pt' 'o_avg_1st_in' 'o_avg_1st_won' 'o_avg_2nd_won'\n",
      " 'o_avg_sv_gms' 'o_avg_bp_sv' 'o_avg_bp_fc']\n"
     ]
    }
   ],
   "source": [
    "print(train_df.columns.values)"
   ]
  },
  {
   "cell_type": "markdown",
   "metadata": {},
   "source": [
    "Categorical :\n",
    "- Nominal :\n",
    "    - Surface\n",
    "- Ordinal :\n",
    "    - o_matches\n",
    "    - Level\n",
    "    - p_matches\n",
    "\n",
    "Numerical :\n",
    "- Continous :\n",
    "    - player_rank, opponent_rank\n",
    "    - player_age, opponent_age\n",
    "- Discrete\n",
    "    - Best_of\n",
    "    - player_elo_rating, opponent_elo_rating\n",
    "    - player_height, opponent_height\n",
    "    \n",
    "Mixed data types :\n",
    "- Date\n",
    "- Round"
   ]
  },
  {
   "cell_type": "code",
   "execution_count": 972,
   "metadata": {},
   "outputs": [
    {
     "name": "stdout",
     "output_type": "stream",
     "text": [
      "<class 'pandas.core.frame.DataFrame'>\n",
      "RangeIndex: 4414 entries, 0 to 4413\n",
      "Data columns (total 64 columns):\n",
      "match_id               4414 non-null int64\n",
      "date                   4414 non-null object\n",
      "surface                4414 non-null object\n",
      "level                  4414 non-null object\n",
      "round                  4414 non-null object\n",
      "best_of                4414 non-null int64\n",
      "player_id              4414 non-null int64\n",
      "opponent_id            4414 non-null int64\n",
      "player_rank            4394 non-null float64\n",
      "opponent_rank          4389 non-null float64\n",
      "player_elo_rating      4414 non-null int64\n",
      "opponent_elo_rating    4414 non-null int64\n",
      "player_age             4412 non-null float64\n",
      "opponent_age           4411 non-null float64\n",
      "player_height          2805 non-null float64\n",
      "opponent_height        2780 non-null float64\n",
      "outcome                102 non-null object\n",
      "p_matches              4414 non-null int64\n",
      "o_matches              4414 non-null int64\n",
      "p_sets                 4414 non-null int64\n",
      "o_sets                 4414 non-null int64\n",
      "p_games                4414 non-null int64\n",
      "o_games                4414 non-null int64\n",
      "p_tbs                  4414 non-null int64\n",
      "o_tbs                  4414 non-null int64\n",
      "p_ace                  4396 non-null float64\n",
      "p_df                   4396 non-null float64\n",
      "p_sv_pt                4396 non-null float64\n",
      "p_1st_in               4396 non-null float64\n",
      "p_1st_won              4396 non-null float64\n",
      "p_2nd_won              4396 non-null float64\n",
      "p_sv_gms               4396 non-null float64\n",
      "p_bp_sv                4396 non-null float64\n",
      "p_bp_fc                4396 non-null float64\n",
      "o_ace                  4396 non-null float64\n",
      "o_df                   4396 non-null float64\n",
      "o_sv_pt                4396 non-null float64\n",
      "o_1st_in               4396 non-null float64\n",
      "o_1st_won              4396 non-null float64\n",
      "o_2nd_won              4396 non-null float64\n",
      "o_sv_gms               4396 non-null float64\n",
      "o_bp_sv                4396 non-null float64\n",
      "o_bp_fc                4396 non-null float64\n",
      "minutes                4384 non-null float64\n",
      "p_upsets               4414 non-null int64\n",
      "o_upsets               4414 non-null int64\n",
      "p_avg_ace              4408 non-null float64\n",
      "p_avg_df               4408 non-null float64\n",
      "p_avg_sv_pt            4408 non-null float64\n",
      "p_avg_1st_in           4408 non-null float64\n",
      "p_avg_1st_won          4408 non-null float64\n",
      "p_avg_2nd_won          4408 non-null float64\n",
      "p_avg_sv_gms           4408 non-null float64\n",
      "p_avg_bp_sv            4408 non-null float64\n",
      "p_avg_bp_fc            4408 non-null float64\n",
      "o_avg_ace              4408 non-null float64\n",
      "o_avg_df               4408 non-null float64\n",
      "o_avg_sv_pt            4408 non-null float64\n",
      "o_avg_1st_in           4408 non-null float64\n",
      "o_avg_1st_won          4408 non-null float64\n",
      "o_avg_2nd_won          4408 non-null float64\n",
      "o_avg_sv_gms           4408 non-null float64\n",
      "o_avg_bp_sv            4408 non-null float64\n",
      "o_avg_bp_fc            4408 non-null float64\n",
      "dtypes: float64(43), int64(16), object(5)\n",
      "memory usage: 2.2+ MB\n",
      "________________________________________\n",
      "<class 'pandas.core.frame.DataFrame'>\n",
      "RangeIndex: 1472 entries, 0 to 1471\n",
      "Data columns (total 64 columns):\n",
      "match_id               1472 non-null int64\n",
      "date                   1472 non-null object\n",
      "surface                1472 non-null object\n",
      "level                  1472 non-null object\n",
      "round                  1472 non-null object\n",
      "best_of                1472 non-null int64\n",
      "player_id              1472 non-null int64\n",
      "opponent_id            1472 non-null int64\n",
      "player_rank            1464 non-null float64\n",
      "opponent_rank          1469 non-null float64\n",
      "player_elo_rating      1472 non-null int64\n",
      "opponent_elo_rating    1472 non-null int64\n",
      "player_age             1471 non-null float64\n",
      "opponent_age           1472 non-null float64\n",
      "player_height          918 non-null float64\n",
      "opponent_height        943 non-null float64\n",
      "outcome                40 non-null object\n",
      "p_matches              1472 non-null int64\n",
      "o_matches              1472 non-null int64\n",
      "p_sets                 1472 non-null int64\n",
      "o_sets                 1472 non-null int64\n",
      "p_games                1472 non-null int64\n",
      "o_games                1472 non-null int64\n",
      "p_tbs                  1472 non-null int64\n",
      "o_tbs                  1472 non-null int64\n",
      "p_ace                  1466 non-null float64\n",
      "p_df                   1466 non-null float64\n",
      "p_sv_pt                1466 non-null float64\n",
      "p_1st_in               1466 non-null float64\n",
      "p_1st_won              1466 non-null float64\n",
      "p_2nd_won              1466 non-null float64\n",
      "p_sv_gms               1466 non-null float64\n",
      "p_bp_sv                1466 non-null float64\n",
      "p_bp_fc                1466 non-null float64\n",
      "o_ace                  1466 non-null float64\n",
      "o_df                   1466 non-null float64\n",
      "o_sv_pt                1466 non-null float64\n",
      "o_1st_in               1466 non-null float64\n",
      "o_1st_won              1466 non-null float64\n",
      "o_2nd_won              1466 non-null float64\n",
      "o_sv_gms               1466 non-null float64\n",
      "o_bp_sv                1466 non-null float64\n",
      "o_bp_fc                1466 non-null float64\n",
      "minutes                1460 non-null float64\n",
      "p_upsets               1472 non-null int64\n",
      "o_upsets               1472 non-null int64\n",
      "p_avg_ace              1470 non-null float64\n",
      "p_avg_df               1470 non-null float64\n",
      "p_avg_sv_pt            1470 non-null float64\n",
      "p_avg_1st_in           1470 non-null float64\n",
      "p_avg_1st_won          1470 non-null float64\n",
      "p_avg_2nd_won          1470 non-null float64\n",
      "p_avg_sv_gms           1470 non-null float64\n",
      "p_avg_bp_sv            1470 non-null float64\n",
      "p_avg_bp_fc            1470 non-null float64\n",
      "o_avg_ace              1470 non-null float64\n",
      "o_avg_df               1470 non-null float64\n",
      "o_avg_sv_pt            1470 non-null float64\n",
      "o_avg_1st_in           1470 non-null float64\n",
      "o_avg_1st_won          1470 non-null float64\n",
      "o_avg_2nd_won          1470 non-null float64\n",
      "o_avg_sv_gms           1470 non-null float64\n",
      "o_avg_bp_sv            1470 non-null float64\n",
      "o_avg_bp_fc            1470 non-null float64\n",
      "dtypes: float64(43), int64(16), object(5)\n",
      "memory usage: 736.1+ KB\n"
     ]
    }
   ],
   "source": [
    "train_df.info()\n",
    "print('_'*40)\n",
    "test_df.info()"
   ]
  },
  {
   "cell_type": "markdown",
   "metadata": {},
   "source": [
    "Features contain blank, null or empty values :\n",
    "- train :\n",
    "    - opponent_height\n",
    "    - player_height\n",
    "    - outcome\n",
    "- test :\n",
    "    - opponent_height\n",
    "    - player_height\n",
    "    - outcome"
   ]
  },
  {
   "cell_type": "markdown",
   "metadata": {},
   "source": [
    "### Verify how representative is training dataset"
   ]
  },
  {
   "cell_type": "code",
   "execution_count": 973,
   "metadata": {},
   "outputs": [
    {
     "data": {
      "text/html": [
       "<div>\n",
       "<style scoped>\n",
       "    .dataframe tbody tr th:only-of-type {\n",
       "        vertical-align: middle;\n",
       "    }\n",
       "\n",
       "    .dataframe tbody tr th {\n",
       "        vertical-align: top;\n",
       "    }\n",
       "\n",
       "    .dataframe thead th {\n",
       "        text-align: right;\n",
       "    }\n",
       "</style>\n",
       "<table border=\"1\" class=\"dataframe\">\n",
       "  <thead>\n",
       "    <tr style=\"text-align: right;\">\n",
       "      <th></th>\n",
       "      <th>match_id</th>\n",
       "      <th>best_of</th>\n",
       "      <th>player_id</th>\n",
       "      <th>opponent_id</th>\n",
       "      <th>player_rank</th>\n",
       "      <th>opponent_rank</th>\n",
       "      <th>player_elo_rating</th>\n",
       "      <th>opponent_elo_rating</th>\n",
       "      <th>player_age</th>\n",
       "      <th>opponent_age</th>\n",
       "      <th>...</th>\n",
       "      <th>p_avg_bp_fc</th>\n",
       "      <th>o_avg_ace</th>\n",
       "      <th>o_avg_df</th>\n",
       "      <th>o_avg_sv_pt</th>\n",
       "      <th>o_avg_1st_in</th>\n",
       "      <th>o_avg_1st_won</th>\n",
       "      <th>o_avg_2nd_won</th>\n",
       "      <th>o_avg_sv_gms</th>\n",
       "      <th>o_avg_bp_sv</th>\n",
       "      <th>o_avg_bp_fc</th>\n",
       "    </tr>\n",
       "  </thead>\n",
       "  <tbody>\n",
       "    <tr>\n",
       "      <th>count</th>\n",
       "      <td>4414.000000</td>\n",
       "      <td>4414.000000</td>\n",
       "      <td>4414.000000</td>\n",
       "      <td>4414.000000</td>\n",
       "      <td>4394.000000</td>\n",
       "      <td>4389.000000</td>\n",
       "      <td>4414.000000</td>\n",
       "      <td>4414.000000</td>\n",
       "      <td>4412.000000</td>\n",
       "      <td>4411.000000</td>\n",
       "      <td>...</td>\n",
       "      <td>4408.000000</td>\n",
       "      <td>4408.000000</td>\n",
       "      <td>4408.000000</td>\n",
       "      <td>4408.000000</td>\n",
       "      <td>4408.000000</td>\n",
       "      <td>4408.000000</td>\n",
       "      <td>4408.000000</td>\n",
       "      <td>4408.000000</td>\n",
       "      <td>4408.000000</td>\n",
       "      <td>4408.000000</td>\n",
       "    </tr>\n",
       "    <tr>\n",
       "      <th>mean</th>\n",
       "      <td>167541.115088</td>\n",
       "      <td>3.386498</td>\n",
       "      <td>9120.169008</td>\n",
       "      <td>9203.397599</td>\n",
       "      <td>100.540965</td>\n",
       "      <td>101.676236</td>\n",
       "      <td>1917.116221</td>\n",
       "      <td>1914.558677</td>\n",
       "      <td>27.619036</td>\n",
       "      <td>27.615381</td>\n",
       "      <td>...</td>\n",
       "      <td>6.936221</td>\n",
       "      <td>6.061361</td>\n",
       "      <td>3.045073</td>\n",
       "      <td>80.532695</td>\n",
       "      <td>49.074372</td>\n",
       "      <td>35.170304</td>\n",
       "      <td>16.040163</td>\n",
       "      <td>12.629610</td>\n",
       "      <td>4.069807</td>\n",
       "      <td>6.717824</td>\n",
       "    </tr>\n",
       "    <tr>\n",
       "      <th>std</th>\n",
       "      <td>857.445304</td>\n",
       "      <td>0.789782</td>\n",
       "      <td>9789.109213</td>\n",
       "      <td>9852.730213</td>\n",
       "      <td>183.324469</td>\n",
       "      <td>183.793001</td>\n",
       "      <td>169.629871</td>\n",
       "      <td>169.835515</td>\n",
       "      <td>4.695053</td>\n",
       "      <td>4.723553</td>\n",
       "      <td>...</td>\n",
       "      <td>1.397965</td>\n",
       "      <td>1.580709</td>\n",
       "      <td>0.523534</td>\n",
       "      <td>6.233168</td>\n",
       "      <td>4.176999</td>\n",
       "      <td>3.428327</td>\n",
       "      <td>1.600912</td>\n",
       "      <td>0.928972</td>\n",
       "      <td>0.718120</td>\n",
       "      <td>1.194339</td>\n",
       "    </tr>\n",
       "    <tr>\n",
       "      <th>min</th>\n",
       "      <td>166073.000000</td>\n",
       "      <td>3.000000</td>\n",
       "      <td>644.000000</td>\n",
       "      <td>644.000000</td>\n",
       "      <td>1.000000</td>\n",
       "      <td>1.000000</td>\n",
       "      <td>1455.000000</td>\n",
       "      <td>1458.000000</td>\n",
       "      <td>14.530000</td>\n",
       "      <td>14.530000</td>\n",
       "      <td>...</td>\n",
       "      <td>0.000000</td>\n",
       "      <td>0.000000</td>\n",
       "      <td>0.000000</td>\n",
       "      <td>29.000000</td>\n",
       "      <td>17.000000</td>\n",
       "      <td>6.000000</td>\n",
       "      <td>2.000000</td>\n",
       "      <td>6.000000</td>\n",
       "      <td>0.000000</td>\n",
       "      <td>0.000000</td>\n",
       "    </tr>\n",
       "    <tr>\n",
       "      <th>25%</th>\n",
       "      <td>166789.000000</td>\n",
       "      <td>3.000000</td>\n",
       "      <td>4914.000000</td>\n",
       "      <td>4894.000000</td>\n",
       "      <td>27.000000</td>\n",
       "      <td>28.000000</td>\n",
       "      <td>1813.000000</td>\n",
       "      <td>1811.000000</td>\n",
       "      <td>23.920000</td>\n",
       "      <td>23.730000</td>\n",
       "      <td>...</td>\n",
       "      <td>6.130000</td>\n",
       "      <td>5.017500</td>\n",
       "      <td>2.800000</td>\n",
       "      <td>78.280000</td>\n",
       "      <td>47.430000</td>\n",
       "      <td>33.487500</td>\n",
       "      <td>15.290000</td>\n",
       "      <td>12.250000</td>\n",
       "      <td>3.767500</td>\n",
       "      <td>6.120000</td>\n",
       "    </tr>\n",
       "    <tr>\n",
       "      <th>50%</th>\n",
       "      <td>167540.000000</td>\n",
       "      <td>3.000000</td>\n",
       "      <td>5564.000000</td>\n",
       "      <td>5539.000000</td>\n",
       "      <td>57.000000</td>\n",
       "      <td>58.000000</td>\n",
       "      <td>1904.500000</td>\n",
       "      <td>1904.000000</td>\n",
       "      <td>27.840000</td>\n",
       "      <td>27.900000</td>\n",
       "      <td>...</td>\n",
       "      <td>6.910000</td>\n",
       "      <td>5.950000</td>\n",
       "      <td>3.000000</td>\n",
       "      <td>80.280000</td>\n",
       "      <td>48.650000</td>\n",
       "      <td>35.000000</td>\n",
       "      <td>15.900000</td>\n",
       "      <td>12.540000</td>\n",
       "      <td>4.080000</td>\n",
       "      <td>6.710000</td>\n",
       "    </tr>\n",
       "    <tr>\n",
       "      <th>75%</th>\n",
       "      <td>168279.000000</td>\n",
       "      <td>3.000000</td>\n",
       "      <td>6315.000000</td>\n",
       "      <td>6354.000000</td>\n",
       "      <td>98.000000</td>\n",
       "      <td>99.000000</td>\n",
       "      <td>2013.000000</td>\n",
       "      <td>2006.000000</td>\n",
       "      <td>30.980000</td>\n",
       "      <td>31.065000</td>\n",
       "      <td>...</td>\n",
       "      <td>7.770000</td>\n",
       "      <td>7.050000</td>\n",
       "      <td>3.192500</td>\n",
       "      <td>82.570000</td>\n",
       "      <td>50.570000</td>\n",
       "      <td>36.452500</td>\n",
       "      <td>16.690000</td>\n",
       "      <td>12.940000</td>\n",
       "      <td>4.420000</td>\n",
       "      <td>7.390000</td>\n",
       "    </tr>\n",
       "    <tr>\n",
       "      <th>max</th>\n",
       "      <td>169046.000000</td>\n",
       "      <td>5.000000</td>\n",
       "      <td>52643.000000</td>\n",
       "      <td>52643.000000</td>\n",
       "      <td>1902.000000</td>\n",
       "      <td>1821.000000</td>\n",
       "      <td>2473.000000</td>\n",
       "      <td>2473.000000</td>\n",
       "      <td>39.838467</td>\n",
       "      <td>39.838467</td>\n",
       "      <td>...</td>\n",
       "      <td>17.000000</td>\n",
       "      <td>23.000000</td>\n",
       "      <td>10.000000</td>\n",
       "      <td>123.330000</td>\n",
       "      <td>83.000000</td>\n",
       "      <td>59.000000</td>\n",
       "      <td>31.000000</td>\n",
       "      <td>19.000000</td>\n",
       "      <td>12.000000</td>\n",
       "      <td>15.500000</td>\n",
       "    </tr>\n",
       "  </tbody>\n",
       "</table>\n",
       "<p>8 rows × 59 columns</p>\n",
       "</div>"
      ],
      "text/plain": [
       "            match_id      best_of     player_id   opponent_id  player_rank  \\\n",
       "count    4414.000000  4414.000000   4414.000000   4414.000000  4394.000000   \n",
       "mean   167541.115088     3.386498   9120.169008   9203.397599   100.540965   \n",
       "std       857.445304     0.789782   9789.109213   9852.730213   183.324469   \n",
       "min    166073.000000     3.000000    644.000000    644.000000     1.000000   \n",
       "25%    166789.000000     3.000000   4914.000000   4894.000000    27.000000   \n",
       "50%    167540.000000     3.000000   5564.000000   5539.000000    57.000000   \n",
       "75%    168279.000000     3.000000   6315.000000   6354.000000    98.000000   \n",
       "max    169046.000000     5.000000  52643.000000  52643.000000  1902.000000   \n",
       "\n",
       "       opponent_rank  player_elo_rating  opponent_elo_rating   player_age  \\\n",
       "count    4389.000000        4414.000000          4414.000000  4412.000000   \n",
       "mean      101.676236        1917.116221          1914.558677    27.619036   \n",
       "std       183.793001         169.629871           169.835515     4.695053   \n",
       "min         1.000000        1455.000000          1458.000000    14.530000   \n",
       "25%        28.000000        1813.000000          1811.000000    23.920000   \n",
       "50%        58.000000        1904.500000          1904.000000    27.840000   \n",
       "75%        99.000000        2013.000000          2006.000000    30.980000   \n",
       "max      1821.000000        2473.000000          2473.000000    39.838467   \n",
       "\n",
       "       opponent_age  ...  p_avg_bp_fc    o_avg_ace     o_avg_df  o_avg_sv_pt  \\\n",
       "count   4411.000000  ...  4408.000000  4408.000000  4408.000000  4408.000000   \n",
       "mean      27.615381  ...     6.936221     6.061361     3.045073    80.532695   \n",
       "std        4.723553  ...     1.397965     1.580709     0.523534     6.233168   \n",
       "min       14.530000  ...     0.000000     0.000000     0.000000    29.000000   \n",
       "25%       23.730000  ...     6.130000     5.017500     2.800000    78.280000   \n",
       "50%       27.900000  ...     6.910000     5.950000     3.000000    80.280000   \n",
       "75%       31.065000  ...     7.770000     7.050000     3.192500    82.570000   \n",
       "max       39.838467  ...    17.000000    23.000000    10.000000   123.330000   \n",
       "\n",
       "       o_avg_1st_in  o_avg_1st_won  o_avg_2nd_won  o_avg_sv_gms  o_avg_bp_sv  \\\n",
       "count   4408.000000    4408.000000    4408.000000   4408.000000  4408.000000   \n",
       "mean      49.074372      35.170304      16.040163     12.629610     4.069807   \n",
       "std        4.176999       3.428327       1.600912      0.928972     0.718120   \n",
       "min       17.000000       6.000000       2.000000      6.000000     0.000000   \n",
       "25%       47.430000      33.487500      15.290000     12.250000     3.767500   \n",
       "50%       48.650000      35.000000      15.900000     12.540000     4.080000   \n",
       "75%       50.570000      36.452500      16.690000     12.940000     4.420000   \n",
       "max       83.000000      59.000000      31.000000     19.000000    12.000000   \n",
       "\n",
       "       o_avg_bp_fc  \n",
       "count  4408.000000  \n",
       "mean      6.717824  \n",
       "std       1.194339  \n",
       "min       0.000000  \n",
       "25%       6.120000  \n",
       "50%       6.710000  \n",
       "75%       7.390000  \n",
       "max      15.500000  \n",
       "\n",
       "[8 rows x 59 columns]"
      ]
     },
     "execution_count": 973,
     "metadata": {},
     "output_type": "execute_result"
    }
   ],
   "source": [
    "train_df.describe()"
   ]
  },
  {
   "cell_type": "code",
   "execution_count": 974,
   "metadata": {},
   "outputs": [
    {
     "data": {
      "text/plain": [
       "0.8067512460353421"
      ]
     },
     "execution_count": 974,
     "metadata": {},
     "output_type": "execute_result"
    }
   ],
   "source": [
    "train_df[train_df['best_of']==3]['match_id'].count() / (train_df['match_id'].count())"
   ]
  },
  {
   "cell_type": "markdown",
   "metadata": {},
   "source": [
    "We have 80% of the matches that were in best of 3."
   ]
  },
  {
   "cell_type": "code",
   "execution_count": 975,
   "metadata": {},
   "outputs": [
    {
     "data": {
      "text/html": [
       "<div>\n",
       "<style scoped>\n",
       "    .dataframe tbody tr th:only-of-type {\n",
       "        vertical-align: middle;\n",
       "    }\n",
       "\n",
       "    .dataframe tbody tr th {\n",
       "        vertical-align: top;\n",
       "    }\n",
       "\n",
       "    .dataframe thead th {\n",
       "        text-align: right;\n",
       "    }\n",
       "</style>\n",
       "<table border=\"1\" class=\"dataframe\">\n",
       "  <thead>\n",
       "    <tr style=\"text-align: right;\">\n",
       "      <th></th>\n",
       "      <th>date</th>\n",
       "      <th>surface</th>\n",
       "      <th>level</th>\n",
       "      <th>round</th>\n",
       "      <th>outcome</th>\n",
       "    </tr>\n",
       "  </thead>\n",
       "  <tbody>\n",
       "    <tr>\n",
       "      <th>count</th>\n",
       "      <td>4414</td>\n",
       "      <td>4414</td>\n",
       "      <td>4414</td>\n",
       "      <td>4414</td>\n",
       "      <td>102</td>\n",
       "    </tr>\n",
       "    <tr>\n",
       "      <th>unique</th>\n",
       "      <td>44</td>\n",
       "      <td>3</td>\n",
       "      <td>6</td>\n",
       "      <td>8</td>\n",
       "      <td>1</td>\n",
       "    </tr>\n",
       "    <tr>\n",
       "      <th>top</th>\n",
       "      <td>15/01/2018</td>\n",
       "      <td>H</td>\n",
       "      <td>B</td>\n",
       "      <td>R32</td>\n",
       "      <td>RET</td>\n",
       "    </tr>\n",
       "    <tr>\n",
       "      <th>freq</th>\n",
       "      <td>198</td>\n",
       "      <td>2589</td>\n",
       "      <td>1792</td>\n",
       "      <td>1443</td>\n",
       "      <td>102</td>\n",
       "    </tr>\n",
       "  </tbody>\n",
       "</table>\n",
       "</div>"
      ],
      "text/plain": [
       "              date surface level round outcome\n",
       "count         4414    4414  4414  4414     102\n",
       "unique          44       3     6     8       1\n",
       "top     15/01/2018       H     B   R32     RET\n",
       "freq           198    2589  1792  1443     102"
      ]
     },
     "execution_count": 975,
     "metadata": {},
     "output_type": "execute_result"
    }
   ],
   "source": [
    "train_df.describe(include=['O'])"
   ]
  },
  {
   "cell_type": "markdown",
   "metadata": {},
   "source": [
    "- 3 different values for surface (with top H)\n",
    "- 6 different values for level (with top == B)\n",
    "- There were 50 withdrawals"
   ]
  },
  {
   "cell_type": "code",
   "execution_count": 976,
   "metadata": {},
   "outputs": [
    {
     "data": {
      "text/plain": [
       "0.5865428183053919"
      ]
     },
     "execution_count": 976,
     "metadata": {},
     "output_type": "execute_result"
    }
   ],
   "source": [
    "train_df[train_df['surface'] == 'H']['match_id'].count() / train_df['match_id'].count()"
   ]
  },
  {
   "cell_type": "markdown",
   "metadata": {},
   "source": [
    "We have 58% of the matches that were in Hard"
   ]
  },
  {
   "cell_type": "markdown",
   "metadata": {},
   "source": [
    "### Asumptions based on data analysis\n",
    "\n",
    "- Correlating : We want to know how well does each feature correlate with winning a match. We want to do this early in our project and match these quick correlations with modelled correlations later in the project.\n",
    "- Completing : \n",
    "    - \n",
    "- Correcting : \n",
    "    - opponent_height and player_height features may be dropped as it is highly incomplete or contains many null values both in training and test dataset.\n",
    "    - player_id and opponent_id features may be dropped from training dataset as it does not contribute to predict.\n",
    "- Creating : \n",
    "    - We may want to create a new feature called ace_matches based on p_ace and o_ace.\n",
    "\n",
    "- Classifying :\n"
   ]
  },
  {
   "cell_type": "markdown",
   "metadata": {},
   "source": [
    "# Wrangle data\n",
    "\n",
    "Let us now execute our decisions and assumptions for correcting, creating, and completing goals."
   ]
  },
  {
   "cell_type": "markdown",
   "metadata": {},
   "source": [
    "### Correcting by dropping features"
   ]
  },
  {
   "cell_type": "code",
   "execution_count": 977,
   "metadata": {},
   "outputs": [],
   "source": [
    "train_df = train_df.drop(['minutes','p_upsets','o_upsets','p_tbs','o_tbs','p_sets','o_sets','p_games','o_games','player_id','opponent_id','match_id','date','player_height','opponent_height','outcome','o_matches'], axis=1)\n",
    "test_df = test_df.drop(['minutes','p_upsets','o_upsets','p_tbs','o_tbs','p_sets','o_sets','p_games','o_games','player_id','opponent_id','match_id','date','player_height','opponent_height','outcome','o_matches'], axis=1)\n",
    "combine = [train_df, test_df]"
   ]
  },
  {
   "cell_type": "markdown",
   "metadata": {},
   "source": [
    "### Creating new feature extracting from existing"
   ]
  },
  {
   "cell_type": "code",
   "execution_count": 978,
   "metadata": {},
   "outputs": [],
   "source": [
    "for dataset in combine:\n",
    "    dataset['dif_rank'] = dataset['player_rank'] - dataset['opponent_rank']\n",
    "    dataset['dif_elo_rating'] = dataset['player_elo_rating'] - dataset['opponent_elo_rating']\n",
    "    dataset['dif_ace'] = dataset['p_ace'] - dataset['o_ace']\n",
    "    dataset['dif_df'] = dataset['p_df'] - dataset['o_df']\n",
    "    dataset['dif_sv_pt'] = dataset['p_sv_pt'] - dataset['o_sv_pt']\n",
    "    dataset['dif_1st_in'] = dataset['p_1st_in'] - dataset['o_1st_in']\n",
    "    dataset['dif_1st_won'] = dataset['p_1st_won'] - dataset['o_1st_won']\n",
    "    dataset['dif_2nd_won'] = dataset['p_2nd_won'] - dataset['o_2nd_won']\n",
    "    dataset['dif_sv_gms'] = dataset['p_sv_gms'] - dataset['o_sv_gms']\n",
    "    dataset['dif_bp_sv'] = dataset['p_bp_sv'] - dataset['o_bp_sv']\n",
    "    dataset['dif_bp_fc'] = dataset['p_bp_fc'] - dataset['o_bp_fc']\n",
    "    \n",
    "train_df = train_df.drop(['player_rank','opponent_rank','player_elo_rating','opponent_elo_rating','p_ace','o_ace','p_df','o_df','p_sv_pt','o_sv_pt','p_1st_in',\n",
    "                          'o_1st_in','p_1st_won','o_1st_won','p_2nd_won','o_2nd_won','p_sv_gms','o_sv_gms','p_bp_sv','o_bp_sv','p_bp_fc','o_bp_fc'], axis=1)\n",
    "test_df = test_df.drop(['player_rank','opponent_rank','player_elo_rating','opponent_elo_rating','p_ace','o_ace','p_df','o_df','p_sv_pt','o_sv_pt','p_1st_in',\n",
    "                          'o_1st_in','p_1st_won','o_1st_won','p_2nd_won','o_2nd_won','p_sv_gms','o_sv_gms','p_bp_sv','o_bp_sv','p_bp_fc','o_bp_fc'], axis=1)"
   ]
  },
  {
   "cell_type": "code",
   "execution_count": 979,
   "metadata": {},
   "outputs": [],
   "source": [
    "combine = [train_df, test_df]\n",
    "for dataset in combine:\n",
    "    dataset['dif_avg_ace'] = dataset['p_avg_ace'] - dataset['o_avg_ace']\n",
    "    dataset['dif_avg_df'] = dataset['p_avg_df'] - dataset['o_avg_df']\n",
    "    dataset['dif_avg_sv_pt'] = dataset['p_avg_sv_pt'] - dataset['o_avg_sv_pt']\n",
    "    dataset['dif_avg_1st_in'] = dataset['p_avg_1st_in'] - dataset['o_avg_1st_in']\n",
    "    dataset['dif_avg_1st_won'] = dataset['p_avg_1st_won'] - dataset['o_avg_1st_won']\n",
    "    dataset['dif_avg_2nd_won'] = dataset['p_avg_2nd_won'] - dataset['o_avg_2nd_won']\n",
    "    dataset['dif_avg_sv_gms'] = dataset['p_avg_sv_gms'] - dataset['o_avg_sv_gms']\n",
    "    dataset['dif_avg_bp_sv'] = dataset['p_avg_bp_sv'] - dataset['o_avg_bp_sv']\n",
    "    dataset['dif_avg_bp_fc'] = dataset['p_avg_bp_fc'] - dataset['o_avg_bp_fc']\n",
    "    \n",
    "train_df = train_df.drop(['p_avg_ace','o_avg_ace','p_avg_df','o_avg_df','p_avg_sv_pt','o_avg_sv_pt','p_avg_1st_in',\n",
    "                          'o_avg_1st_in','p_avg_1st_won','o_avg_1st_won','p_avg_2nd_won','o_avg_2nd_won','p_avg_sv_gms','o_avg_sv_gms','p_avg_bp_sv','o_avg_bp_sv','p_avg_bp_fc','o_avg_bp_fc'], axis=1)\n",
    "test_df = test_df.drop(['p_avg_ace','o_avg_ace','p_avg_df','o_avg_df','p_avg_sv_pt','o_avg_sv_pt','p_avg_1st_in',\n",
    "                          'o_avg_1st_in','p_avg_1st_won','o_avg_1st_won','p_avg_2nd_won','o_avg_2nd_won','p_avg_sv_gms','o_avg_sv_gms','p_avg_bp_sv','o_avg_bp_sv','p_avg_bp_fc','o_avg_bp_fc'], axis=1)"
   ]
  },
  {
   "cell_type": "code",
   "execution_count": 980,
   "metadata": {},
   "outputs": [
    {
     "data": {
      "text/html": [
       "<div>\n",
       "<style scoped>\n",
       "    .dataframe tbody tr th:only-of-type {\n",
       "        vertical-align: middle;\n",
       "    }\n",
       "\n",
       "    .dataframe tbody tr th {\n",
       "        vertical-align: top;\n",
       "    }\n",
       "\n",
       "    .dataframe thead th {\n",
       "        text-align: right;\n",
       "    }\n",
       "</style>\n",
       "<table border=\"1\" class=\"dataframe\">\n",
       "  <thead>\n",
       "    <tr style=\"text-align: right;\">\n",
       "      <th></th>\n",
       "      <th>surface</th>\n",
       "      <th>level</th>\n",
       "      <th>round</th>\n",
       "      <th>best_of</th>\n",
       "      <th>player_age</th>\n",
       "      <th>opponent_age</th>\n",
       "      <th>p_matches</th>\n",
       "      <th>dif_rank</th>\n",
       "      <th>dif_elo_rating</th>\n",
       "      <th>dif_ace</th>\n",
       "      <th>...</th>\n",
       "      <th>dif_bp_fc</th>\n",
       "      <th>dif_avg_ace</th>\n",
       "      <th>dif_avg_df</th>\n",
       "      <th>dif_avg_sv_pt</th>\n",
       "      <th>dif_avg_1st_in</th>\n",
       "      <th>dif_avg_1st_won</th>\n",
       "      <th>dif_avg_2nd_won</th>\n",
       "      <th>dif_avg_sv_gms</th>\n",
       "      <th>dif_avg_bp_sv</th>\n",
       "      <th>dif_avg_bp_fc</th>\n",
       "    </tr>\n",
       "  </thead>\n",
       "  <tbody>\n",
       "    <tr>\n",
       "      <th>0</th>\n",
       "      <td>C</td>\n",
       "      <td>G</td>\n",
       "      <td>R64</td>\n",
       "      <td>5</td>\n",
       "      <td>21.53</td>\n",
       "      <td>29.00</td>\n",
       "      <td>1</td>\n",
       "      <td>-75.0</td>\n",
       "      <td>259</td>\n",
       "      <td>11.0</td>\n",
       "      <td>...</td>\n",
       "      <td>-12.0</td>\n",
       "      <td>-1.32</td>\n",
       "      <td>-0.65</td>\n",
       "      <td>-0.75</td>\n",
       "      <td>0.18</td>\n",
       "      <td>-0.81</td>\n",
       "      <td>0.36</td>\n",
       "      <td>-0.15</td>\n",
       "      <td>-0.19</td>\n",
       "      <td>-0.25</td>\n",
       "    </tr>\n",
       "    <tr>\n",
       "      <th>1</th>\n",
       "      <td>G</td>\n",
       "      <td>A</td>\n",
       "      <td>QF</td>\n",
       "      <td>3</td>\n",
       "      <td>21.59</td>\n",
       "      <td>34.32</td>\n",
       "      <td>1</td>\n",
       "      <td>-16.0</td>\n",
       "      <td>121</td>\n",
       "      <td>3.0</td>\n",
       "      <td>...</td>\n",
       "      <td>-8.0</td>\n",
       "      <td>-1.23</td>\n",
       "      <td>-0.67</td>\n",
       "      <td>-0.88</td>\n",
       "      <td>0.14</td>\n",
       "      <td>-0.80</td>\n",
       "      <td>0.38</td>\n",
       "      <td>-0.16</td>\n",
       "      <td>-0.22</td>\n",
       "      <td>-0.31</td>\n",
       "    </tr>\n",
       "    <tr>\n",
       "      <th>2</th>\n",
       "      <td>H</td>\n",
       "      <td>B</td>\n",
       "      <td>R16</td>\n",
       "      <td>3</td>\n",
       "      <td>22.52</td>\n",
       "      <td>27.04</td>\n",
       "      <td>1</td>\n",
       "      <td>-61.0</td>\n",
       "      <td>198</td>\n",
       "      <td>2.0</td>\n",
       "      <td>...</td>\n",
       "      <td>-9.0</td>\n",
       "      <td>1.94</td>\n",
       "      <td>0.50</td>\n",
       "      <td>2.07</td>\n",
       "      <td>-0.36</td>\n",
       "      <td>-0.12</td>\n",
       "      <td>0.93</td>\n",
       "      <td>-0.13</td>\n",
       "      <td>-0.13</td>\n",
       "      <td>-0.23</td>\n",
       "    </tr>\n",
       "    <tr>\n",
       "      <th>3</th>\n",
       "      <td>H</td>\n",
       "      <td>A</td>\n",
       "      <td>SF</td>\n",
       "      <td>3</td>\n",
       "      <td>21.28</td>\n",
       "      <td>19.96</td>\n",
       "      <td>1</td>\n",
       "      <td>-29.0</td>\n",
       "      <td>237</td>\n",
       "      <td>3.0</td>\n",
       "      <td>...</td>\n",
       "      <td>-7.0</td>\n",
       "      <td>2.53</td>\n",
       "      <td>0.87</td>\n",
       "      <td>0.06</td>\n",
       "      <td>1.29</td>\n",
       "      <td>2.04</td>\n",
       "      <td>-0.09</td>\n",
       "      <td>0.00</td>\n",
       "      <td>-0.36</td>\n",
       "      <td>-1.08</td>\n",
       "    </tr>\n",
       "    <tr>\n",
       "      <th>4</th>\n",
       "      <td>H</td>\n",
       "      <td>B</td>\n",
       "      <td>R32</td>\n",
       "      <td>3</td>\n",
       "      <td>27.23</td>\n",
       "      <td>24.64</td>\n",
       "      <td>1</td>\n",
       "      <td>40.0</td>\n",
       "      <td>-166</td>\n",
       "      <td>8.0</td>\n",
       "      <td>...</td>\n",
       "      <td>-10.0</td>\n",
       "      <td>2.93</td>\n",
       "      <td>0.34</td>\n",
       "      <td>2.47</td>\n",
       "      <td>-0.06</td>\n",
       "      <td>-0.05</td>\n",
       "      <td>-0.16</td>\n",
       "      <td>0.00</td>\n",
       "      <td>1.25</td>\n",
       "      <td>1.71</td>\n",
       "    </tr>\n",
       "  </tbody>\n",
       "</table>\n",
       "<p>5 rows × 27 columns</p>\n",
       "</div>"
      ],
      "text/plain": [
       "  surface level round  best_of  player_age  opponent_age  p_matches  dif_rank  \\\n",
       "0       C     G   R64        5       21.53         29.00          1     -75.0   \n",
       "1       G     A    QF        3       21.59         34.32          1     -16.0   \n",
       "2       H     B   R16        3       22.52         27.04          1     -61.0   \n",
       "3       H     A    SF        3       21.28         19.96          1     -29.0   \n",
       "4       H     B   R32        3       27.23         24.64          1      40.0   \n",
       "\n",
       "   dif_elo_rating  dif_ace  ...  dif_bp_fc  dif_avg_ace  dif_avg_df  \\\n",
       "0             259     11.0  ...      -12.0        -1.32       -0.65   \n",
       "1             121      3.0  ...       -8.0        -1.23       -0.67   \n",
       "2             198      2.0  ...       -9.0         1.94        0.50   \n",
       "3             237      3.0  ...       -7.0         2.53        0.87   \n",
       "4            -166      8.0  ...      -10.0         2.93        0.34   \n",
       "\n",
       "   dif_avg_sv_pt  dif_avg_1st_in  dif_avg_1st_won  dif_avg_2nd_won  \\\n",
       "0          -0.75            0.18            -0.81             0.36   \n",
       "1          -0.88            0.14            -0.80             0.38   \n",
       "2           2.07           -0.36            -0.12             0.93   \n",
       "3           0.06            1.29             2.04            -0.09   \n",
       "4           2.47           -0.06            -0.05            -0.16   \n",
       "\n",
       "   dif_avg_sv_gms  dif_avg_bp_sv  dif_avg_bp_fc  \n",
       "0           -0.15          -0.19          -0.25  \n",
       "1           -0.16          -0.22          -0.31  \n",
       "2           -0.13          -0.13          -0.23  \n",
       "3            0.00          -0.36          -1.08  \n",
       "4            0.00           1.25           1.71  \n",
       "\n",
       "[5 rows x 27 columns]"
      ]
     },
     "execution_count": 980,
     "metadata": {},
     "output_type": "execute_result"
    }
   ],
   "source": [
    "train_df.head()"
   ]
  },
  {
   "cell_type": "code",
   "execution_count": 981,
   "metadata": {},
   "outputs": [
    {
     "data": {
      "text/html": [
       "<div>\n",
       "<style scoped>\n",
       "    .dataframe tbody tr th:only-of-type {\n",
       "        vertical-align: middle;\n",
       "    }\n",
       "\n",
       "    .dataframe tbody tr th {\n",
       "        vertical-align: top;\n",
       "    }\n",
       "\n",
       "    .dataframe thead th {\n",
       "        text-align: right;\n",
       "    }\n",
       "</style>\n",
       "<table border=\"1\" class=\"dataframe\">\n",
       "  <thead>\n",
       "    <tr style=\"text-align: right;\">\n",
       "      <th></th>\n",
       "      <th>surface</th>\n",
       "      <th>level</th>\n",
       "      <th>round</th>\n",
       "      <th>best_of</th>\n",
       "      <th>player_age</th>\n",
       "      <th>opponent_age</th>\n",
       "      <th>p_matches</th>\n",
       "      <th>dif_rank</th>\n",
       "      <th>dif_elo_rating</th>\n",
       "      <th>dif_ace</th>\n",
       "      <th>...</th>\n",
       "      <th>dif_bp_fc</th>\n",
       "      <th>dif_avg_ace</th>\n",
       "      <th>dif_avg_df</th>\n",
       "      <th>dif_avg_sv_pt</th>\n",
       "      <th>dif_avg_1st_in</th>\n",
       "      <th>dif_avg_1st_won</th>\n",
       "      <th>dif_avg_2nd_won</th>\n",
       "      <th>dif_avg_sv_gms</th>\n",
       "      <th>dif_avg_bp_sv</th>\n",
       "      <th>dif_avg_bp_fc</th>\n",
       "    </tr>\n",
       "  </thead>\n",
       "  <tbody>\n",
       "    <tr>\n",
       "      <th>0</th>\n",
       "      <td>H</td>\n",
       "      <td>B</td>\n",
       "      <td>R32</td>\n",
       "      <td>3</td>\n",
       "      <td>21.62</td>\n",
       "      <td>34.65</td>\n",
       "      <td>1</td>\n",
       "      <td>33.0</td>\n",
       "      <td>-102</td>\n",
       "      <td>-12.0</td>\n",
       "      <td>...</td>\n",
       "      <td>-3.0</td>\n",
       "      <td>-3.74</td>\n",
       "      <td>-0.05</td>\n",
       "      <td>-2.88</td>\n",
       "      <td>-0.55</td>\n",
       "      <td>-0.53</td>\n",
       "      <td>-0.06</td>\n",
       "      <td>-0.16</td>\n",
       "      <td>-0.85</td>\n",
       "      <td>-1.29</td>\n",
       "    </tr>\n",
       "    <tr>\n",
       "      <th>1</th>\n",
       "      <td>C</td>\n",
       "      <td>B</td>\n",
       "      <td>R16</td>\n",
       "      <td>3</td>\n",
       "      <td>25.02</td>\n",
       "      <td>25.79</td>\n",
       "      <td>0</td>\n",
       "      <td>46.0</td>\n",
       "      <td>-1</td>\n",
       "      <td>-3.0</td>\n",
       "      <td>...</td>\n",
       "      <td>3.0</td>\n",
       "      <td>0.05</td>\n",
       "      <td>0.81</td>\n",
       "      <td>0.93</td>\n",
       "      <td>2.89</td>\n",
       "      <td>1.22</td>\n",
       "      <td>-1.28</td>\n",
       "      <td>-0.02</td>\n",
       "      <td>0.19</td>\n",
       "      <td>0.27</td>\n",
       "    </tr>\n",
       "    <tr>\n",
       "      <th>2</th>\n",
       "      <td>C</td>\n",
       "      <td>B</td>\n",
       "      <td>R32</td>\n",
       "      <td>3</td>\n",
       "      <td>32.20</td>\n",
       "      <td>22.86</td>\n",
       "      <td>0</td>\n",
       "      <td>-3.0</td>\n",
       "      <td>109</td>\n",
       "      <td>1.0</td>\n",
       "      <td>...</td>\n",
       "      <td>2.0</td>\n",
       "      <td>3.61</td>\n",
       "      <td>-0.27</td>\n",
       "      <td>-0.98</td>\n",
       "      <td>-0.56</td>\n",
       "      <td>1.01</td>\n",
       "      <td>-1.24</td>\n",
       "      <td>-0.07</td>\n",
       "      <td>-0.02</td>\n",
       "      <td>-0.05</td>\n",
       "    </tr>\n",
       "    <tr>\n",
       "      <th>3</th>\n",
       "      <td>H</td>\n",
       "      <td>G</td>\n",
       "      <td>R128</td>\n",
       "      <td>5</td>\n",
       "      <td>36.70</td>\n",
       "      <td>23.63</td>\n",
       "      <td>1</td>\n",
       "      <td>78.0</td>\n",
       "      <td>-279</td>\n",
       "      <td>11.0</td>\n",
       "      <td>...</td>\n",
       "      <td>-3.0</td>\n",
       "      <td>-1.47</td>\n",
       "      <td>0.05</td>\n",
       "      <td>0.75</td>\n",
       "      <td>-1.20</td>\n",
       "      <td>-2.21</td>\n",
       "      <td>0.05</td>\n",
       "      <td>-0.13</td>\n",
       "      <td>0.29</td>\n",
       "      <td>1.04</td>\n",
       "    </tr>\n",
       "    <tr>\n",
       "      <th>4</th>\n",
       "      <td>C</td>\n",
       "      <td>D</td>\n",
       "      <td>RR</td>\n",
       "      <td>3</td>\n",
       "      <td>23.49</td>\n",
       "      <td>33.00</td>\n",
       "      <td>1</td>\n",
       "      <td>110.0</td>\n",
       "      <td>-77</td>\n",
       "      <td>3.0</td>\n",
       "      <td>...</td>\n",
       "      <td>-3.0</td>\n",
       "      <td>2.08</td>\n",
       "      <td>0.46</td>\n",
       "      <td>7.16</td>\n",
       "      <td>3.08</td>\n",
       "      <td>1.92</td>\n",
       "      <td>-1.00</td>\n",
       "      <td>0.15</td>\n",
       "      <td>1.85</td>\n",
       "      <td>2.77</td>\n",
       "    </tr>\n",
       "  </tbody>\n",
       "</table>\n",
       "<p>5 rows × 27 columns</p>\n",
       "</div>"
      ],
      "text/plain": [
       "  surface level round  best_of  player_age  opponent_age  p_matches  dif_rank  \\\n",
       "0       H     B   R32        3       21.62         34.65          1      33.0   \n",
       "1       C     B   R16        3       25.02         25.79          0      46.0   \n",
       "2       C     B   R32        3       32.20         22.86          0      -3.0   \n",
       "3       H     G  R128        5       36.70         23.63          1      78.0   \n",
       "4       C     D    RR        3       23.49         33.00          1     110.0   \n",
       "\n",
       "   dif_elo_rating  dif_ace  ...  dif_bp_fc  dif_avg_ace  dif_avg_df  \\\n",
       "0            -102    -12.0  ...       -3.0        -3.74       -0.05   \n",
       "1              -1     -3.0  ...        3.0         0.05        0.81   \n",
       "2             109      1.0  ...        2.0         3.61       -0.27   \n",
       "3            -279     11.0  ...       -3.0        -1.47        0.05   \n",
       "4             -77      3.0  ...       -3.0         2.08        0.46   \n",
       "\n",
       "   dif_avg_sv_pt  dif_avg_1st_in  dif_avg_1st_won  dif_avg_2nd_won  \\\n",
       "0          -2.88           -0.55            -0.53            -0.06   \n",
       "1           0.93            2.89             1.22            -1.28   \n",
       "2          -0.98           -0.56             1.01            -1.24   \n",
       "3           0.75           -1.20            -2.21             0.05   \n",
       "4           7.16            3.08             1.92            -1.00   \n",
       "\n",
       "   dif_avg_sv_gms  dif_avg_bp_sv  dif_avg_bp_fc  \n",
       "0           -0.16          -0.85          -1.29  \n",
       "1           -0.02           0.19           0.27  \n",
       "2           -0.07          -0.02          -0.05  \n",
       "3           -0.13           0.29           1.04  \n",
       "4            0.15           1.85           2.77  \n",
       "\n",
       "[5 rows x 27 columns]"
      ]
     },
     "execution_count": 981,
     "metadata": {},
     "output_type": "execute_result"
    }
   ],
   "source": [
    "test_df.head()"
   ]
  },
  {
   "cell_type": "markdown",
   "metadata": {},
   "source": [
    "### Converting a categorical feature"
   ]
  },
  {
   "cell_type": "code",
   "execution_count": 982,
   "metadata": {},
   "outputs": [
    {
     "data": {
      "text/plain": [
       "array(['C', 'G', 'H'], dtype=object)"
      ]
     },
     "execution_count": 982,
     "metadata": {},
     "output_type": "execute_result"
    }
   ],
   "source": [
    "train_df['surface'].unique()"
   ]
  },
  {
   "cell_type": "markdown",
   "metadata": {},
   "source": [
    "We have 3 types of surface : H, C and G"
   ]
  },
  {
   "cell_type": "code",
   "execution_count": 983,
   "metadata": {},
   "outputs": [
    {
     "data": {
      "text/plain": [
       "<matplotlib.axes._subplots.AxesSubplot at 0x1d28c286978>"
      ]
     },
     "execution_count": 983,
     "metadata": {},
     "output_type": "execute_result"
    },
    {
     "data": {
      "image/png": "[encoded data removed]",
      "text/plain": [
       "<Figure size 432x288 with 1 Axes>"
      ]
     },
     "metadata": {
      "needs_background": "light"
     },
     "output_type": "display_data"
    }
   ],
   "source": [
    "combine = [train_df, test_df]\n",
    "for dataset in combine:\n",
    "    dataset['surface'] = dataset['surface'].map( {'H': 0, 'C': 1, 'G':2} ).astype(int)\n",
    "\n",
    "sns.barplot(x = np.sort(train_df['surface'].unique()), y = train_df['surface'].value_counts()/train_df['surface'].count())"
   ]
  },
  {
   "cell_type": "code",
   "execution_count": 984,
   "metadata": {},
   "outputs": [
    {
     "data": {
      "text/plain": [
       "array(['G', 'A', 'B', 'M', 'D', 'F'], dtype=object)"
      ]
     },
     "execution_count": 984,
     "metadata": {},
     "output_type": "execute_result"
    }
   ],
   "source": [
    "train_df['level'].unique()"
   ]
  },
  {
   "cell_type": "code",
   "execution_count": 985,
   "metadata": {},
   "outputs": [
    {
     "data": {
      "text/plain": [
       "<matplotlib.axes._subplots.AxesSubplot at 0x1d28c2c4668>"
      ]
     },
     "execution_count": 985,
     "metadata": {},
     "output_type": "execute_result"
    },
    {
     "data": {
      "image/png": "[encoded data removed]",
      "text/plain": [
       "<Figure size 432x288 with 1 Axes>"
      ]
     },
     "metadata": {
      "needs_background": "light"
     },
     "output_type": "display_data"
    }
   ],
   "source": [
    "for dataset in combine:\n",
    "    dataset['level'] = dataset['level'].map( {'A': 0, 'B': 1, 'D': 2, 'F': 3, 'G': 4, 'M': 5} ).astype(int)\n",
    "sns.barplot(x = np.sort(train_df['level'].unique()), y = train_df['level'].value_counts()/train_df['level'].count())"
   ]
  },
  {
   "cell_type": "code",
   "execution_count": 986,
   "metadata": {},
   "outputs": [
    {
     "data": {
      "text/plain": [
       "array(['R64', 'QF', 'R16', 'SF', 'R32', 'RR', 'R128', 'F'], dtype=object)"
      ]
     },
     "execution_count": 986,
     "metadata": {},
     "output_type": "execute_result"
    }
   ],
   "source": [
    "train_df['round'].unique()"
   ]
  },
  {
   "cell_type": "code",
   "execution_count": 987,
   "metadata": {},
   "outputs": [
    {
     "data": {
      "text/plain": [
       "<matplotlib.axes._subplots.AxesSubplot at 0x1d28c298eb8>"
      ]
     },
     "execution_count": 987,
     "metadata": {},
     "output_type": "execute_result"
    },
    {
     "data": {
      "image/png": "[encoded data removed]",
      "text/plain": [
       "<Figure size 432x288 with 1 Axes>"
      ]
     },
     "metadata": {
      "needs_background": "light"
     },
     "output_type": "display_data"
    }
   ],
   "source": [
    "for dataset in combine:\n",
    "    dataset['round'] = dataset['round'].map( {'RR': 0, 'R128': 1, 'R64': 2, 'R32': 3, 'R16': 4, 'QF': 5, 'SF': 6, 'F': 7} ).astype(int)\n",
    "sns.barplot(x = np.sort(train_df['round'].unique()), y = train_df['round'].value_counts()/train_df['round'].count())"
   ]
  },
  {
   "cell_type": "markdown",
   "metadata": {},
   "source": [
    "### Model, predict and solve"
   ]
  },
  {
   "cell_type": "code",
   "execution_count": 988,
   "metadata": {},
   "outputs": [],
   "source": [
    "# machine learning\n",
    "from sklearn.linear_model import LogisticRegression\n",
    "from sklearn.svm import SVC, LinearSVC\n",
    "from sklearn.ensemble import RandomForestClassifier\n",
    "from sklearn.neighbors import KNeighborsClassifier\n",
    "from sklearn.naive_bayes import GaussianNB\n",
    "from sklearn.linear_model import Perceptron\n",
    "from sklearn.linear_model import SGDClassifier\n",
    "from sklearn.tree import DecisionTreeClassifier"
   ]
  },
  {
   "cell_type": "code",
   "execution_count": 989,
   "metadata": {},
   "outputs": [
    {
     "data": {
      "text/plain": [
       "((4414, 26), (4414,), (1472, 26))"
      ]
     },
     "execution_count": 989,
     "metadata": {},
     "output_type": "execute_result"
    }
   ],
   "source": [
    "X_train = train_df.drop(\"p_matches\", axis=1)\n",
    "Y_train = train_df['p_matches']\n",
    "X_test  = test_df.drop(\"p_matches\", axis=1).copy()\n",
    "X_train.shape, Y_train.shape, X_test.shape"
   ]
  },
  {
   "cell_type": "code",
   "execution_count": null,
   "metadata": {},
   "outputs": [],
   "source": []
  }
 ],
 "metadata": {
  "kernelspec": {
   "display_name": "Python 3",
   "language": "python",
   "name": "python3"
  },
  "language_info": {
   "codemirror_mode": {
    "name": "ipython",
    "version": 3
   },
   "file_extension": ".py",
   "mimetype": "text/x-python",
   "name": "python",
   "nbconvert_exporter": "python",
   "pygments_lexer": "ipython3",
   "version": "3.7.3"
  }
 },
 "nbformat": 4,
 "nbformat_minor": 4
}
