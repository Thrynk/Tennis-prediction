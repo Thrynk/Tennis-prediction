{
 "cells": [
  {
   "cell_type": "markdown",
   "metadata": {},
   "source": [
    "# Tennis analysis\n",
    "\n",
    "### Question or problem definition\n",
    "\n",
    "We want to see if we can create a prediction model that can predict whether a player will win a match or not, based on different statistics\n",
    "\n",
    "### Acquire training and testing data"
   ]
  },
  {
   "cell_type": "markdown",
   "metadata": {},
   "source": [
    "import librairies :"
   ]
  },
  {
   "cell_type": "code",
   "execution_count": 1,
   "metadata": {},
   "outputs": [],
   "source": [
    "# dataframe manipulation\n",
    "import pandas as pd\n",
    "import numpy as np\n",
    "import random as rnd\n",
    "\n",
    "# visualization\n",
    "import seaborn as sns\n",
    "import matplotlib.pyplot as plt\n",
    "%matplotlib inline"
   ]
  },
  {
   "cell_type": "markdown",
   "metadata": {},
   "source": [
    "Acquire data from csv :"
   ]
  },
  {
   "cell_type": "markdown",
   "metadata": {},
   "source": [
    "We want to collect a list of matches with the following information :\n",
    "- match_id\n",
    "- date\n",
    "- surface\n",
    "- best_of (3 sets win => best_of = 5)\n",
    "- winner_rank\n",
    "- loser_rank\n",
    "- winner_rank_points\n",
    "- loser_rank_points\n",
    "- winner_elo_rating\n",
    "- loser_elo_rating\n",
    "- winner_age\n",
    "- loser_age\n",
    "- winner_height\n",
    "- loser_height\n",
    "\n",
    ">SELECT match_id, date, surface, best_of, winner_rank, loser_rank, winner_rank_points, loser_rank_points, winner_elo_rating, loser_elo_rating, winner_age, loser_age, winner_height, loser_height FROM match;"
   ]
  },
  {
   "cell_type": "markdown",
   "metadata": {},
   "source": [
    "We want to add stats before matches to it :"
   ]
  },
  {
   "cell_type": "markdown",
   "metadata": {},
   "source": [
    "For example if we want to get aces from nadal given a date we have to do :\n",
    "> SELECT AVG(ps.p_ace), AVG(ps.o_ace) FROM (SELECT p_matches, p_ace, o_matches, o_ace, match_id, date, player_id FROM player_match_stats_v WHERE player_id=4742 AND date <= '2016/01/01') ps;"
   ]
  },
  {
   "cell_type": "markdown",
   "metadata": {},
   "source": [
    "only missing selection date :"
   ]
  },
  {
   "cell_type": "markdown",
   "metadata": {},
   "source": [
    "SELECT m.match_id, m.date, m.surface, m.best_of, m.winner_rank, m.loser_rank, m.winner_rank_points, m.loser_rank_points, m.winner_elo_rating, m.loser_elo_rating, m.winner_age, m.loser_age, m.winner_height, m.loser_height, ps.p_avg_ace, ps.o_avg_ace FROM match m LEFT JOIN (SELECT AVG(p_ace) p_avg_ace, AVG(o_ace) o_avg_ace, player_id FROM player_match_stats_v WHERE date <= '2016/01/01' GROUP BY player_id) ps ON (m.winner_id=ps.player_id);"
   ]
  },
  {
   "cell_type": "code",
   "execution_count": null,
   "metadata": {},
   "outputs": [],
   "source": []
  }
 ],
 "metadata": {
  "kernelspec": {
   "display_name": "Python 3",
   "language": "python",
   "name": "python3"
  },
  "language_info": {
   "codemirror_mode": {
    "name": "ipython",
    "version": 3
   },
   "file_extension": ".py",
   "mimetype": "text/x-python",
   "name": "python",
   "nbconvert_exporter": "python",
   "pygments_lexer": "ipython3",
   "version": "3.7.4"
  }
 },
 "nbformat": 4,
 "nbformat_minor": 4
}
