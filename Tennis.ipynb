{
 "cells": [
  {
   "cell_type": "markdown",
   "metadata": {},
   "source": [
    "# Tennis analysis\n",
    "\n",
    "### Question or problem definition\n",
    "\n",
    "We want to see if we can create a prediction model that can predict whether a player will win a match or not, based on different statistics\n",
    "\n",
    "### Acquire training and testing data"
   ]
  },
  {
   "cell_type": "markdown",
   "metadata": {},
   "source": [
    "import librairies :"
   ]
  },
  {
   "cell_type": "code",
   "execution_count": 4,
   "metadata": {},
   "outputs": [],
   "source": [
    "# dataframe manipulation\n",
    "import pandas as pd\n",
    "import numpy as np\n",
    "import random as rnd\n",
    "\n",
    "# visualization\n",
    "import seaborn as sns\n",
    "import matplotlib.pyplot as plt\n",
    "%matplotlib inline"
   ]
  },
  {
   "cell_type": "markdown",
   "metadata": {},
   "source": [
    "Acquire data from csv :"
   ]
  },
  {
   "cell_type": "markdown",
   "metadata": {},
   "source": [
    "We want to collect a list of matches with the following information :\n",
    "- match_id\n",
    "- date\n",
    "- surface\n",
    "- best_of (3 sets win => best_of = 5)\n",
    "- winner_rank\n",
    "- loser_rank\n",
    "- winner_rank_points\n",
    "- loser_rank_points\n",
    "- winner_elo_rating\n",
    "- loser_elo_rating\n",
    "- winner_age\n",
    "- loser_age\n",
    "- winner_height\n",
    "- loser_height\n",
    "\n",
    ">SELECT match_id, date, surface, best_of, winner_rank, loser_rank, winner_rank_points, loser_rank_points, winner_elo_rating, loser_elo_rating, winner_age, loser_age, winner_height, loser_height FROM match;"
   ]
  },
  {
   "cell_type": "markdown",
   "metadata": {},
   "source": [
    "We want to add stats before matches to it :"
   ]
  },
  {
   "cell_type": "markdown",
   "metadata": {},
   "source": [
    "For example if we want to get aces from nadal given a date we have to do :\n",
    "> SELECT AVG(ps.p_ace), AVG(ps.o_ace) FROM (SELECT p_matches, p_ace, o_matches, o_ace, match_id, date, player_id FROM player_match_stats_v WHERE player_id=4742 AND date <= '2016/01/01') ps;"
   ]
  },
  {
   "cell_type": "markdown",
   "metadata": {},
   "source": [
    "final statement to get 2018 matches with their stats :"
   ]
  },
  {
   "cell_type": "markdown",
   "metadata": {},
   "source": [
    ">SELECT pms.match_id, pms.date, pms.surface, pms.level, pms.round, pms.best_of, pms.player_id, pms.opponent_id, pms.player_rank, pms.opponent_rank, pms.player_elo_rating, pms.opponent_elo_rating, pms.player_age, pms.opponent_age, pms.player_height, pms.opponent_height, pms.outcome, pms.p_matches, pms.o_matches, pms.p_sets, pms.o_sets, pms.p_games, pms.o_games, pms.p_tbs, pms.o_tbs, pms.p_ace, pms.p_df, pms.p_sv_pt, pms.p_1st_in, pms.p_1st_won, pms.p_2nd_won, pms.p_sv_gms, pms.p_bp_sv, pms.p_bp_fc, pms.o_ace, pms.o_df, pms.o_sv_pt, pms.o_1st_in, pms.o_1st_won, pms.o_2nd_won, pms.o_sv_gms, pms.o_bp_sv, pms.o_bp_fc, pms.minutes, pms.p_upsets, pms.o_upsets, ps.p_avg_ace, ps.p_avg_df, ps.p_avg_sv_pt, ps.p_avg_1st_in, ps.p_avg_1st_won, ps.p_avg_2nd_won, ps.p_avg_sv_gms, ps.p_avg_bp_sv, ps.p_avg_bp_fc, ps.o_avg_ace, ps.o_avg_df, ps.o_avg_sv_pt, ps.o_avg_1st_in, ps.o_avg_1st_won, ps.o_avg_2nd_won, ps.o_avg_sv_gms, ps.o_avg_bp_sv, ps.o_avg_bp_fc FROM player_match_stats_v pms LEFT JOIN LATERAL (SELECT ROUND(AVG(p_ace), 2) p_avg_ace, ROUND(AVG(p_df), 2) p_avg_df, ROUND(AVG(p_sv_pt), 2) p_avg_sv_pt, ROUND(AVG(p_1st_in), 2) p_avg_1st_in, ROUND(AVG(p_1st_won), 2) p_avg_1st_won, ROUND(AVG(p_2nd_won), 2) p_avg_2nd_won, ROUND(AVG(p_sv_gms), 2) p_avg_sv_gms, ROUND(AVG(p_bp_sv), 2) p_avg_bp_sv, ROUND(AVG(p_bp_fc), 2) p_avg_bp_fc, ROUND(AVG(o_ace), 2) o_avg_ace, ROUND(AVG(o_df), 2) o_avg_df, ROUND(AVG(o_sv_pt), 2) o_avg_sv_pt, ROUND(AVG(o_1st_in), 2) o_avg_1st_in, ROUND(AVG(o_1st_won), 2) o_avg_1st_won, ROUND(AVG(o_2nd_won), 2) o_avg_2nd_won, ROUND(AVG(o_sv_gms), 2) o_avg_sv_gms, ROUND(AVG(o_bp_sv), 2) o_avg_bp_sv, ROUND(AVG(o_bp_fc), 2) o_avg_bp_fc, player_id FROM player_match_stats_v WHERE date <= pms.date GROUP BY player_id) ps ON (pms.player_id=ps.player_id) WHERE pms.date >= '2018-01-01' AND pms.date <='2018-12-31';"
   ]
  },
  {
   "cell_type": "code",
   "execution_count": 5,
   "metadata": {},
   "outputs": [],
   "source": [
    "tennis = pd.read_csv('2018 matches/matches.csv', delimiter=';')"
   ]
  },
  {
   "cell_type": "code",
   "execution_count": 6,
   "metadata": {},
   "outputs": [
    {
     "data": {
      "text/html": [
       "<div>\n",
       "<style scoped>\n",
       "    .dataframe tbody tr th:only-of-type {\n",
       "        vertical-align: middle;\n",
       "    }\n",
       "\n",
       "    .dataframe tbody tr th {\n",
       "        vertical-align: top;\n",
       "    }\n",
       "\n",
       "    .dataframe thead th {\n",
       "        text-align: right;\n",
       "    }\n",
       "</style>\n",
       "<table border=\"1\" class=\"dataframe\">\n",
       "  <thead>\n",
       "    <tr style=\"text-align: right;\">\n",
       "      <th></th>\n",
       "      <th>match_id</th>\n",
       "      <th>date</th>\n",
       "      <th>surface</th>\n",
       "      <th>level</th>\n",
       "      <th>round</th>\n",
       "      <th>best_of</th>\n",
       "      <th>player_id</th>\n",
       "      <th>opponent_id</th>\n",
       "      <th>player_rank</th>\n",
       "      <th>opponent_rank</th>\n",
       "      <th>...</th>\n",
       "      <th>p_avg_bp_fc</th>\n",
       "      <th>o_avg_ace</th>\n",
       "      <th>o_avg_df</th>\n",
       "      <th>o_avg_sv_pt</th>\n",
       "      <th>o_avg_1st_in</th>\n",
       "      <th>o_avg_1st_won</th>\n",
       "      <th>o_avg_2nd_won</th>\n",
       "      <th>o_avg_sv_gms</th>\n",
       "      <th>o_avg_bp_sv</th>\n",
       "      <th>o_avg_bp_fc</th>\n",
       "    </tr>\n",
       "  </thead>\n",
       "  <tbody>\n",
       "    <tr>\n",
       "      <th>0</th>\n",
       "      <td>166985</td>\n",
       "      <td>06/04/2018</td>\n",
       "      <td>C</td>\n",
       "      <td>D</td>\n",
       "      <td>RR</td>\n",
       "      <td>3</td>\n",
       "      <td>6030</td>\n",
       "      <td>11769</td>\n",
       "      <td>87.0</td>\n",
       "      <td>64.0</td>\n",
       "      <td>...</td>\n",
       "      <td>7.58</td>\n",
       "      <td>6.20</td>\n",
       "      <td>2.60</td>\n",
       "      <td>76.18</td>\n",
       "      <td>46.70</td>\n",
       "      <td>33.05</td>\n",
       "      <td>14.95</td>\n",
       "      <td>12.28</td>\n",
       "      <td>3.33</td>\n",
       "      <td>6.03</td>\n",
       "    </tr>\n",
       "    <tr>\n",
       "      <th>1</th>\n",
       "      <td>167084</td>\n",
       "      <td>09/04/2018</td>\n",
       "      <td>C</td>\n",
       "      <td>B</td>\n",
       "      <td>R32</td>\n",
       "      <td>3</td>\n",
       "      <td>6364</td>\n",
       "      <td>6196</td>\n",
       "      <td>26.0</td>\n",
       "      <td>65.0</td>\n",
       "      <td>...</td>\n",
       "      <td>6.69</td>\n",
       "      <td>7.55</td>\n",
       "      <td>3.74</td>\n",
       "      <td>82.57</td>\n",
       "      <td>49.97</td>\n",
       "      <td>36.63</td>\n",
       "      <td>16.29</td>\n",
       "      <td>12.95</td>\n",
       "      <td>4.18</td>\n",
       "      <td>6.77</td>\n",
       "    </tr>\n",
       "    <tr>\n",
       "      <th>2</th>\n",
       "      <td>167085</td>\n",
       "      <td>09/04/2018</td>\n",
       "      <td>C</td>\n",
       "      <td>B</td>\n",
       "      <td>R32</td>\n",
       "      <td>3</td>\n",
       "      <td>5420</td>\n",
       "      <td>4311</td>\n",
       "      <td>93.0</td>\n",
       "      <td>62.0</td>\n",
       "      <td>...</td>\n",
       "      <td>9.05</td>\n",
       "      <td>6.82</td>\n",
       "      <td>3.03</td>\n",
       "      <td>85.92</td>\n",
       "      <td>50.68</td>\n",
       "      <td>36.20</td>\n",
       "      <td>17.91</td>\n",
       "      <td>13.09</td>\n",
       "      <td>4.97</td>\n",
       "      <td>7.82</td>\n",
       "    </tr>\n",
       "    <tr>\n",
       "      <th>3</th>\n",
       "      <td>167086</td>\n",
       "      <td>09/04/2018</td>\n",
       "      <td>C</td>\n",
       "      <td>B</td>\n",
       "      <td>R32</td>\n",
       "      <td>3</td>\n",
       "      <td>4291</td>\n",
       "      <td>5902</td>\n",
       "      <td>91.0</td>\n",
       "      <td>61.0</td>\n",
       "      <td>...</td>\n",
       "      <td>7.98</td>\n",
       "      <td>7.96</td>\n",
       "      <td>3.22</td>\n",
       "      <td>80.63</td>\n",
       "      <td>48.48</td>\n",
       "      <td>35.95</td>\n",
       "      <td>16.59</td>\n",
       "      <td>12.79</td>\n",
       "      <td>4.20</td>\n",
       "      <td>6.56</td>\n",
       "    </tr>\n",
       "    <tr>\n",
       "      <th>4</th>\n",
       "      <td>167087</td>\n",
       "      <td>09/04/2018</td>\n",
       "      <td>C</td>\n",
       "      <td>B</td>\n",
       "      <td>R32</td>\n",
       "      <td>3</td>\n",
       "      <td>4994</td>\n",
       "      <td>3893</td>\n",
       "      <td>55.0</td>\n",
       "      <td>57.0</td>\n",
       "      <td>...</td>\n",
       "      <td>7.27</td>\n",
       "      <td>5.12</td>\n",
       "      <td>2.70</td>\n",
       "      <td>77.29</td>\n",
       "      <td>48.82</td>\n",
       "      <td>34.54</td>\n",
       "      <td>14.85</td>\n",
       "      <td>12.05</td>\n",
       "      <td>3.75</td>\n",
       "      <td>6.16</td>\n",
       "    </tr>\n",
       "  </tbody>\n",
       "</table>\n",
       "<p>5 rows × 64 columns</p>\n",
       "</div>"
      ],
      "text/plain": [
       "   match_id        date surface level round  best_of  player_id  opponent_id  \\\n",
       "0    166985  06/04/2018       C     D    RR        3       6030        11769   \n",
       "1    167084  09/04/2018       C     B   R32        3       6364         6196   \n",
       "2    167085  09/04/2018       C     B   R32        3       5420         4311   \n",
       "3    167086  09/04/2018       C     B   R32        3       4291         5902   \n",
       "4    167087  09/04/2018       C     B   R32        3       4994         3893   \n",
       "\n",
       "   player_rank  opponent_rank  ...  p_avg_bp_fc  o_avg_ace  o_avg_df  \\\n",
       "0         87.0           64.0  ...         7.58       6.20      2.60   \n",
       "1         26.0           65.0  ...         6.69       7.55      3.74   \n",
       "2         93.0           62.0  ...         9.05       6.82      3.03   \n",
       "3         91.0           61.0  ...         7.98       7.96      3.22   \n",
       "4         55.0           57.0  ...         7.27       5.12      2.70   \n",
       "\n",
       "   o_avg_sv_pt  o_avg_1st_in  o_avg_1st_won o_avg_2nd_won  o_avg_sv_gms  \\\n",
       "0        76.18         46.70          33.05         14.95         12.28   \n",
       "1        82.57         49.97          36.63         16.29         12.95   \n",
       "2        85.92         50.68          36.20         17.91         13.09   \n",
       "3        80.63         48.48          35.95         16.59         12.79   \n",
       "4        77.29         48.82          34.54         14.85         12.05   \n",
       "\n",
       "   o_avg_bp_sv  o_avg_bp_fc  \n",
       "0         3.33         6.03  \n",
       "1         4.18         6.77  \n",
       "2         4.97         7.82  \n",
       "3         4.20         6.56  \n",
       "4         3.75         6.16  \n",
       "\n",
       "[5 rows x 64 columns]"
      ]
     },
     "execution_count": 6,
     "metadata": {},
     "output_type": "execute_result"
    }
   ],
   "source": [
    "tennis.head()"
   ]
  },
  {
   "cell_type": "code",
   "execution_count": 7,
   "metadata": {},
   "outputs": [
    {
     "data": {
      "text/plain": [
       "Index(['match_id', 'date', 'surface', 'level', 'round', 'best_of', 'player_id',\n",
       "       'opponent_id', 'player_rank', 'opponent_rank', 'player_elo_rating',\n",
       "       'opponent_elo_rating', 'player_age', 'opponent_age', 'player_height',\n",
       "       'opponent_height', 'outcome', 'p_matches', 'o_matches', 'p_sets',\n",
       "       'o_sets', 'p_games', 'o_games', 'p_tbs', 'o_tbs', 'p_ace', 'p_df',\n",
       "       'p_sv_pt', 'p_1st_in', 'p_1st_won', 'p_2nd_won', 'p_sv_gms', 'p_bp_sv',\n",
       "       'p_bp_fc', 'o_ace', 'o_df', 'o_sv_pt', 'o_1st_in', 'o_1st_won',\n",
       "       'o_2nd_won', 'o_sv_gms', 'o_bp_sv', 'o_bp_fc', 'minutes', 'p_upsets',\n",
       "       'o_upsets', 'p_avg_ace', 'p_avg_df', 'p_avg_sv_pt', 'p_avg_1st_in',\n",
       "       'p_avg_1st_won', 'p_avg_2nd_won', 'p_avg_sv_gms', 'p_avg_bp_sv',\n",
       "       'p_avg_bp_fc', 'o_avg_ace', 'o_avg_df', 'o_avg_sv_pt', 'o_avg_1st_in',\n",
       "       'o_avg_1st_won', 'o_avg_2nd_won', 'o_avg_sv_gms', 'o_avg_bp_sv',\n",
       "       'o_avg_bp_fc'],\n",
       "      dtype='object')"
      ]
     },
     "execution_count": 7,
     "metadata": {},
     "output_type": "execute_result"
    }
   ],
   "source": [
    "tennis.columns"
   ]
  },
  {
   "cell_type": "code",
   "execution_count": 90,
   "metadata": {},
   "outputs": [
    {
     "data": {
      "text/html": [
       "<div>\n",
       "<style scoped>\n",
       "    .dataframe tbody tr th:only-of-type {\n",
       "        vertical-align: middle;\n",
       "    }\n",
       "\n",
       "    .dataframe tbody tr th {\n",
       "        vertical-align: top;\n",
       "    }\n",
       "\n",
       "    .dataframe thead th {\n",
       "        text-align: right;\n",
       "    }\n",
       "</style>\n",
       "<table border=\"1\" class=\"dataframe\">\n",
       "  <thead>\n",
       "    <tr style=\"text-align: right;\">\n",
       "      <th></th>\n",
       "      <th>match_id</th>\n",
       "      <th>date</th>\n",
       "      <th>surface</th>\n",
       "      <th>level</th>\n",
       "      <th>round</th>\n",
       "      <th>best_of</th>\n",
       "      <th>player_id</th>\n",
       "      <th>opponent_id</th>\n",
       "      <th>player_rank</th>\n",
       "      <th>opponent_rank</th>\n",
       "      <th>...</th>\n",
       "      <th>p_avg_bp_fc</th>\n",
       "      <th>o_avg_ace</th>\n",
       "      <th>o_avg_df</th>\n",
       "      <th>o_avg_sv_pt</th>\n",
       "      <th>o_avg_1st_in</th>\n",
       "      <th>o_avg_1st_won</th>\n",
       "      <th>o_avg_2nd_won</th>\n",
       "      <th>o_avg_sv_gms</th>\n",
       "      <th>o_avg_bp_sv</th>\n",
       "      <th>o_avg_bp_fc</th>\n",
       "    </tr>\n",
       "  </thead>\n",
       "  <tbody>\n",
       "    <tr>\n",
       "      <th>0</th>\n",
       "      <td>166985</td>\n",
       "      <td>06/04/2018</td>\n",
       "      <td>C</td>\n",
       "      <td>D</td>\n",
       "      <td>RR</td>\n",
       "      <td>3</td>\n",
       "      <td>6030</td>\n",
       "      <td>11769</td>\n",
       "      <td>87.0</td>\n",
       "      <td>64.0</td>\n",
       "      <td>...</td>\n",
       "      <td>7.58</td>\n",
       "      <td>6.20</td>\n",
       "      <td>2.6</td>\n",
       "      <td>76.18</td>\n",
       "      <td>46.70</td>\n",
       "      <td>33.05</td>\n",
       "      <td>14.95</td>\n",
       "      <td>12.28</td>\n",
       "      <td>3.33</td>\n",
       "      <td>6.03</td>\n",
       "    </tr>\n",
       "    <tr>\n",
       "      <th>390</th>\n",
       "      <td>166985</td>\n",
       "      <td>06/04/2018</td>\n",
       "      <td>C</td>\n",
       "      <td>D</td>\n",
       "      <td>RR</td>\n",
       "      <td>3</td>\n",
       "      <td>11769</td>\n",
       "      <td>6030</td>\n",
       "      <td>64.0</td>\n",
       "      <td>87.0</td>\n",
       "      <td>...</td>\n",
       "      <td>6.85</td>\n",
       "      <td>5.12</td>\n",
       "      <td>3.7</td>\n",
       "      <td>85.24</td>\n",
       "      <td>51.61</td>\n",
       "      <td>38.42</td>\n",
       "      <td>18.42</td>\n",
       "      <td>13.55</td>\n",
       "      <td>3.88</td>\n",
       "      <td>5.94</td>\n",
       "    </tr>\n",
       "  </tbody>\n",
       "</table>\n",
       "<p>2 rows × 64 columns</p>\n",
       "</div>"
      ],
      "text/plain": [
       "     match_id        date surface level round  best_of  player_id  \\\n",
       "0      166985  06/04/2018       C     D    RR        3       6030   \n",
       "390    166985  06/04/2018       C     D    RR        3      11769   \n",
       "\n",
       "     opponent_id  player_rank  opponent_rank  ...  p_avg_bp_fc  o_avg_ace  \\\n",
       "0          11769         87.0           64.0  ...         7.58       6.20   \n",
       "390         6030         64.0           87.0  ...         6.85       5.12   \n",
       "\n",
       "     o_avg_df  o_avg_sv_pt  o_avg_1st_in  o_avg_1st_won o_avg_2nd_won  \\\n",
       "0         2.6        76.18         46.70          33.05         14.95   \n",
       "390       3.7        85.24         51.61          38.42         18.42   \n",
       "\n",
       "     o_avg_sv_gms  o_avg_bp_sv  o_avg_bp_fc  \n",
       "0           12.28         3.33         6.03  \n",
       "390         13.55         3.88         5.94  \n",
       "\n",
       "[2 rows x 64 columns]"
      ]
     },
     "execution_count": 90,
     "metadata": {},
     "output_type": "execute_result"
    }
   ],
   "source": [
    "tennis[tennis['match_id'] == 166985]"
   ]
  },
  {
   "cell_type": "code",
   "execution_count": 13,
   "metadata": {},
   "outputs": [
    {
     "data": {
      "text/plain": [
       "2943"
      ]
     },
     "execution_count": 13,
     "metadata": {},
     "output_type": "execute_result"
    }
   ],
   "source": [
    "tennis['match_id'].nunique()"
   ]
  },
  {
   "cell_type": "code",
   "execution_count": 67,
   "metadata": {},
   "outputs": [],
   "source": [
    "tennis_non_duplicate = tennis.drop_duplicates(subset='match_id')"
   ]
  },
  {
   "cell_type": "code",
   "execution_count": 68,
   "metadata": {},
   "outputs": [
    {
     "data": {
      "text/plain": [
       "(2943, 64)"
      ]
     },
     "execution_count": 68,
     "metadata": {},
     "output_type": "execute_result"
    }
   ],
   "source": [
    "tennis_non_duplicate.shape"
   ]
  },
  {
   "cell_type": "code",
   "execution_count": 69,
   "metadata": {},
   "outputs": [],
   "source": [
    "from sklearn.model_selection import train_test_split"
   ]
  },
  {
   "cell_type": "code",
   "execution_count": 77,
   "metadata": {},
   "outputs": [],
   "source": [
    "train_df, test_df = train_test_split(tennis_non_duplicate)"
   ]
  },
  {
   "cell_type": "code",
   "execution_count": 78,
   "metadata": {},
   "outputs": [
    {
     "name": "stdout",
     "output_type": "stream",
     "text": [
      "train shape :  (2207, 64)\n",
      "train test :  (736, 64)\n"
     ]
    }
   ],
   "source": [
    "print(\"train shape : \", train_df.shape)\n",
    "print(\"train test : \", test_df.shape)"
   ]
  },
  {
   "cell_type": "markdown",
   "metadata": {},
   "source": [
    "Save those to csv :"
   ]
  },
  {
   "cell_type": "code",
   "execution_count": 79,
   "metadata": {},
   "outputs": [],
   "source": [
    "train_df.to_csv('2018 matches/tennis_matches_stats_train.csv', index=False)\n",
    "test_df.to_csv('2018 matches/tennis_matches_stats_test.csv', index=False)"
   ]
  },
  {
   "cell_type": "markdown",
   "metadata": {},
   "source": [
    "Declare new dataframes :"
   ]
  },
  {
   "cell_type": "code",
   "execution_count": 80,
   "metadata": {},
   "outputs": [],
   "source": [
    "train_df = pd.read_csv('2018 matches/tennis_matches_stats_train.csv')\n",
    "test_df = pd.read_csv('2018 matches/tennis_matches_stats_test.csv')"
   ]
  },
  {
   "cell_type": "markdown",
   "metadata": {},
   "source": [
    "### Analyze by describing data\n",
    "\n",
    "Which features are available in the dataset?"
   ]
  },
  {
   "cell_type": "code",
   "execution_count": 81,
   "metadata": {},
   "outputs": [
    {
     "name": "stdout",
     "output_type": "stream",
     "text": [
      "['match_id' 'date' 'surface' 'level' 'round' 'best_of' 'player_id'\n",
      " 'opponent_id' 'player_rank' 'opponent_rank' 'player_elo_rating'\n",
      " 'opponent_elo_rating' 'player_age' 'opponent_age' 'player_height'\n",
      " 'opponent_height' 'outcome' 'p_matches' 'o_matches' 'p_sets' 'o_sets'\n",
      " 'p_games' 'o_games' 'p_tbs' 'o_tbs' 'p_ace' 'p_df' 'p_sv_pt' 'p_1st_in'\n",
      " 'p_1st_won' 'p_2nd_won' 'p_sv_gms' 'p_bp_sv' 'p_bp_fc' 'o_ace' 'o_df'\n",
      " 'o_sv_pt' 'o_1st_in' 'o_1st_won' 'o_2nd_won' 'o_sv_gms' 'o_bp_sv'\n",
      " 'o_bp_fc' 'minutes' 'p_upsets' 'o_upsets' 'p_avg_ace' 'p_avg_df'\n",
      " 'p_avg_sv_pt' 'p_avg_1st_in' 'p_avg_1st_won' 'p_avg_2nd_won'\n",
      " 'p_avg_sv_gms' 'p_avg_bp_sv' 'p_avg_bp_fc' 'o_avg_ace' 'o_avg_df'\n",
      " 'o_avg_sv_pt' 'o_avg_1st_in' 'o_avg_1st_won' 'o_avg_2nd_won'\n",
      " 'o_avg_sv_gms' 'o_avg_bp_sv' 'o_avg_bp_fc']\n"
     ]
    }
   ],
   "source": [
    "print(train_df.columns.values)"
   ]
  },
  {
   "cell_type": "markdown",
   "metadata": {},
   "source": [
    "Categorical :\n",
    "- Nominal :\n",
    "    - Surface\n",
    "- Ordinal :\n",
    "    - o_matches\n",
    "    - Level\n",
    "    - p_matches\n",
    "\n",
    "Numerical :\n",
    "- Continous :\n",
    "    - player_rank, opponent_rank\n",
    "    - player_age, opponent_age\n",
    "- Discrete\n",
    "    - Best_of\n",
    "    - player_elo_rating, opponent_elo_rating\n",
    "    - player_height, opponent_height\n",
    "    \n",
    "Mixed data types :\n",
    "- Date\n",
    "- Round"
   ]
  },
  {
   "cell_type": "code",
   "execution_count": 91,
   "metadata": {},
   "outputs": [
    {
     "name": "stdout",
     "output_type": "stream",
     "text": [
      "<class 'pandas.core.frame.DataFrame'>\n",
      "RangeIndex: 2207 entries, 0 to 2206\n",
      "Data columns (total 64 columns):\n",
      "match_id               2207 non-null int64\n",
      "date                   2207 non-null object\n",
      "surface                2207 non-null object\n",
      "level                  2207 non-null object\n",
      "round                  2207 non-null object\n",
      "best_of                2207 non-null int64\n",
      "player_id              2207 non-null int64\n",
      "opponent_id            2207 non-null int64\n",
      "player_rank            2202 non-null float64\n",
      "opponent_rank          2189 non-null float64\n",
      "player_elo_rating      2207 non-null int64\n",
      "opponent_elo_rating    2207 non-null int64\n",
      "player_age             2207 non-null float64\n",
      "opponent_age           2204 non-null float64\n",
      "player_height          1483 non-null float64\n",
      "opponent_height        1296 non-null float64\n",
      "outcome                50 non-null object\n",
      "p_matches              2207 non-null int64\n",
      "o_matches              2207 non-null int64\n",
      "p_sets                 2207 non-null int64\n",
      "o_sets                 2207 non-null int64\n",
      "p_games                2207 non-null int64\n",
      "o_games                2207 non-null int64\n",
      "p_tbs                  2207 non-null int64\n",
      "o_tbs                  2207 non-null int64\n",
      "p_ace                  2198 non-null float64\n",
      "p_df                   2198 non-null float64\n",
      "p_sv_pt                2198 non-null float64\n",
      "p_1st_in               2198 non-null float64\n",
      "p_1st_won              2198 non-null float64\n",
      "p_2nd_won              2198 non-null float64\n",
      "p_sv_gms               2198 non-null float64\n",
      "p_bp_sv                2198 non-null float64\n",
      "p_bp_fc                2198 non-null float64\n",
      "o_ace                  2198 non-null float64\n",
      "o_df                   2198 non-null float64\n",
      "o_sv_pt                2198 non-null float64\n",
      "o_1st_in               2198 non-null float64\n",
      "o_1st_won              2198 non-null float64\n",
      "o_2nd_won              2198 non-null float64\n",
      "o_sv_gms               2198 non-null float64\n",
      "o_bp_sv                2198 non-null float64\n",
      "o_bp_fc                2198 non-null float64\n",
      "minutes                2192 non-null float64\n",
      "p_upsets               2207 non-null int64\n",
      "o_upsets               2207 non-null int64\n",
      "p_avg_ace              2205 non-null float64\n",
      "p_avg_df               2205 non-null float64\n",
      "p_avg_sv_pt            2205 non-null float64\n",
      "p_avg_1st_in           2205 non-null float64\n",
      "p_avg_1st_won          2205 non-null float64\n",
      "p_avg_2nd_won          2205 non-null float64\n",
      "p_avg_sv_gms           2205 non-null float64\n",
      "p_avg_bp_sv            2205 non-null float64\n",
      "p_avg_bp_fc            2205 non-null float64\n",
      "o_avg_ace              2205 non-null float64\n",
      "o_avg_df               2205 non-null float64\n",
      "o_avg_sv_pt            2205 non-null float64\n",
      "o_avg_1st_in           2205 non-null float64\n",
      "o_avg_1st_won          2205 non-null float64\n",
      "o_avg_2nd_won          2205 non-null float64\n",
      "o_avg_sv_gms           2205 non-null float64\n",
      "o_avg_bp_sv            2205 non-null float64\n",
      "o_avg_bp_fc            2205 non-null float64\n",
      "dtypes: float64(43), int64(16), object(5)\n",
      "memory usage: 1.1+ MB\n",
      "________________________________________\n",
      "<class 'pandas.core.frame.DataFrame'>\n",
      "RangeIndex: 736 entries, 0 to 735\n",
      "Data columns (total 64 columns):\n",
      "match_id               736 non-null int64\n",
      "date                   736 non-null object\n",
      "surface                736 non-null object\n",
      "level                  736 non-null object\n",
      "round                  736 non-null object\n",
      "best_of                736 non-null int64\n",
      "player_id              736 non-null int64\n",
      "opponent_id            736 non-null int64\n",
      "player_rank            736 non-null float64\n",
      "opponent_rank          731 non-null float64\n",
      "player_elo_rating      736 non-null int64\n",
      "opponent_elo_rating    736 non-null int64\n",
      "player_age             736 non-null float64\n",
      "opponent_age           736 non-null float64\n",
      "player_height          478 non-null float64\n",
      "opponent_height        466 non-null float64\n",
      "outcome                21 non-null object\n",
      "p_matches              736 non-null int64\n",
      "o_matches              736 non-null int64\n",
      "p_sets                 736 non-null int64\n",
      "o_sets                 736 non-null int64\n",
      "p_games                736 non-null int64\n",
      "o_games                736 non-null int64\n",
      "p_tbs                  736 non-null int64\n",
      "o_tbs                  736 non-null int64\n",
      "p_ace                  733 non-null float64\n",
      "p_df                   733 non-null float64\n",
      "p_sv_pt                733 non-null float64\n",
      "p_1st_in               733 non-null float64\n",
      "p_1st_won              733 non-null float64\n",
      "p_2nd_won              733 non-null float64\n",
      "p_sv_gms               733 non-null float64\n",
      "p_bp_sv                733 non-null float64\n",
      "p_bp_fc                733 non-null float64\n",
      "o_ace                  733 non-null float64\n",
      "o_df                   733 non-null float64\n",
      "o_sv_pt                733 non-null float64\n",
      "o_1st_in               733 non-null float64\n",
      "o_1st_won              733 non-null float64\n",
      "o_2nd_won              733 non-null float64\n",
      "o_sv_gms               733 non-null float64\n",
      "o_bp_sv                733 non-null float64\n",
      "o_bp_fc                733 non-null float64\n",
      "minutes                730 non-null float64\n",
      "p_upsets               736 non-null int64\n",
      "o_upsets               736 non-null int64\n",
      "p_avg_ace              735 non-null float64\n",
      "p_avg_df               735 non-null float64\n",
      "p_avg_sv_pt            735 non-null float64\n",
      "p_avg_1st_in           735 non-null float64\n",
      "p_avg_1st_won          735 non-null float64\n",
      "p_avg_2nd_won          735 non-null float64\n",
      "p_avg_sv_gms           735 non-null float64\n",
      "p_avg_bp_sv            735 non-null float64\n",
      "p_avg_bp_fc            735 non-null float64\n",
      "o_avg_ace              735 non-null float64\n",
      "o_avg_df               735 non-null float64\n",
      "o_avg_sv_pt            735 non-null float64\n",
      "o_avg_1st_in           735 non-null float64\n",
      "o_avg_1st_won          735 non-null float64\n",
      "o_avg_2nd_won          735 non-null float64\n",
      "o_avg_sv_gms           735 non-null float64\n",
      "o_avg_bp_sv            735 non-null float64\n",
      "o_avg_bp_fc            735 non-null float64\n",
      "dtypes: float64(43), int64(16), object(5)\n",
      "memory usage: 368.1+ KB\n"
     ]
    }
   ],
   "source": [
    "train_df.info()\n",
    "print('_'*40)\n",
    "test_df.info()"
   ]
  },
  {
   "cell_type": "markdown",
   "metadata": {},
   "source": [
    "Features contain blank, null or empty values :\n",
    "- train :\n",
    "    - opponent_height\n",
    "    - player_height\n",
    "    - outcome\n",
    "- test :\n",
    "    - opponent_height\n",
    "    - player_height\n",
    "    - outcome"
   ]
  },
  {
   "cell_type": "markdown",
   "metadata": {},
   "source": [
    "### Verify how representative is training dataset"
   ]
  },
  {
   "cell_type": "code",
   "execution_count": 92,
   "metadata": {},
   "outputs": [
    {
     "data": {
      "text/html": [
       "<div>\n",
       "<style scoped>\n",
       "    .dataframe tbody tr th:only-of-type {\n",
       "        vertical-align: middle;\n",
       "    }\n",
       "\n",
       "    .dataframe tbody tr th {\n",
       "        vertical-align: top;\n",
       "    }\n",
       "\n",
       "    .dataframe thead th {\n",
       "        text-align: right;\n",
       "    }\n",
       "</style>\n",
       "<table border=\"1\" class=\"dataframe\">\n",
       "  <thead>\n",
       "    <tr style=\"text-align: right;\">\n",
       "      <th></th>\n",
       "      <th>match_id</th>\n",
       "      <th>best_of</th>\n",
       "      <th>player_id</th>\n",
       "      <th>opponent_id</th>\n",
       "      <th>player_rank</th>\n",
       "      <th>opponent_rank</th>\n",
       "      <th>player_elo_rating</th>\n",
       "      <th>opponent_elo_rating</th>\n",
       "      <th>player_age</th>\n",
       "      <th>opponent_age</th>\n",
       "      <th>...</th>\n",
       "      <th>p_avg_bp_fc</th>\n",
       "      <th>o_avg_ace</th>\n",
       "      <th>o_avg_df</th>\n",
       "      <th>o_avg_sv_pt</th>\n",
       "      <th>o_avg_1st_in</th>\n",
       "      <th>o_avg_1st_won</th>\n",
       "      <th>o_avg_2nd_won</th>\n",
       "      <th>o_avg_sv_gms</th>\n",
       "      <th>o_avg_bp_sv</th>\n",
       "      <th>o_avg_bp_fc</th>\n",
       "    </tr>\n",
       "  </thead>\n",
       "  <tbody>\n",
       "    <tr>\n",
       "      <th>count</th>\n",
       "      <td>2207.000000</td>\n",
       "      <td>2207.000000</td>\n",
       "      <td>2207.000000</td>\n",
       "      <td>2207.000000</td>\n",
       "      <td>2202.000000</td>\n",
       "      <td>2189.000000</td>\n",
       "      <td>2207.000000</td>\n",
       "      <td>2207.000000</td>\n",
       "      <td>2207.000000</td>\n",
       "      <td>2204.000000</td>\n",
       "      <td>...</td>\n",
       "      <td>2205.000000</td>\n",
       "      <td>2205.000000</td>\n",
       "      <td>2205.000000</td>\n",
       "      <td>2205.000000</td>\n",
       "      <td>2205.000000</td>\n",
       "      <td>2205.000000</td>\n",
       "      <td>2205.000000</td>\n",
       "      <td>2205.000000</td>\n",
       "      <td>2205.000000</td>\n",
       "      <td>2205.000000</td>\n",
       "    </tr>\n",
       "    <tr>\n",
       "      <th>mean</th>\n",
       "      <td>167540.609878</td>\n",
       "      <td>3.384232</td>\n",
       "      <td>8506.512460</td>\n",
       "      <td>9789.689624</td>\n",
       "      <td>84.681653</td>\n",
       "      <td>115.254454</td>\n",
       "      <td>1951.570005</td>\n",
       "      <td>1878.778885</td>\n",
       "      <td>27.714443</td>\n",
       "      <td>27.480259</td>\n",
       "      <td>...</td>\n",
       "      <td>6.681837</td>\n",
       "      <td>5.978014</td>\n",
       "      <td>3.034308</td>\n",
       "      <td>80.573252</td>\n",
       "      <td>49.119234</td>\n",
       "      <td>35.038240</td>\n",
       "      <td>15.931102</td>\n",
       "      <td>12.598077</td>\n",
       "      <td>4.127728</td>\n",
       "      <td>6.850766</td>\n",
       "    </tr>\n",
       "    <tr>\n",
       "      <th>std</th>\n",
       "      <td>854.439751</td>\n",
       "      <td>0.788106</td>\n",
       "      <td>8883.014754</td>\n",
       "      <td>10508.704583</td>\n",
       "      <td>163.937932</td>\n",
       "      <td>190.016918</td>\n",
       "      <td>179.000171</td>\n",
       "      <td>152.807228</td>\n",
       "      <td>4.682528</td>\n",
       "      <td>4.690043</td>\n",
       "      <td>...</td>\n",
       "      <td>1.314429</td>\n",
       "      <td>1.469343</td>\n",
       "      <td>0.494564</td>\n",
       "      <td>5.319698</td>\n",
       "      <td>3.522233</td>\n",
       "      <td>3.160558</td>\n",
       "      <td>1.518068</td>\n",
       "      <td>0.829204</td>\n",
       "      <td>0.652633</td>\n",
       "      <td>1.124125</td>\n",
       "    </tr>\n",
       "    <tr>\n",
       "      <th>min</th>\n",
       "      <td>166073.000000</td>\n",
       "      <td>3.000000</td>\n",
       "      <td>644.000000</td>\n",
       "      <td>644.000000</td>\n",
       "      <td>1.000000</td>\n",
       "      <td>1.000000</td>\n",
       "      <td>1463.000000</td>\n",
       "      <td>1455.000000</td>\n",
       "      <td>14.940000</td>\n",
       "      <td>16.280000</td>\n",
       "      <td>...</td>\n",
       "      <td>0.000000</td>\n",
       "      <td>0.000000</td>\n",
       "      <td>0.500000</td>\n",
       "      <td>32.000000</td>\n",
       "      <td>21.000000</td>\n",
       "      <td>6.000000</td>\n",
       "      <td>2.000000</td>\n",
       "      <td>6.000000</td>\n",
       "      <td>0.000000</td>\n",
       "      <td>2.000000</td>\n",
       "    </tr>\n",
       "    <tr>\n",
       "      <th>25%</th>\n",
       "      <td>166791.000000</td>\n",
       "      <td>3.000000</td>\n",
       "      <td>4868.000000</td>\n",
       "      <td>4921.000000</td>\n",
       "      <td>19.250000</td>\n",
       "      <td>37.000000</td>\n",
       "      <td>1844.000000</td>\n",
       "      <td>1785.500000</td>\n",
       "      <td>23.780000</td>\n",
       "      <td>23.887500</td>\n",
       "      <td>...</td>\n",
       "      <td>5.850000</td>\n",
       "      <td>4.980000</td>\n",
       "      <td>2.800000</td>\n",
       "      <td>78.520000</td>\n",
       "      <td>47.490000</td>\n",
       "      <td>33.370000</td>\n",
       "      <td>15.230000</td>\n",
       "      <td>12.250000</td>\n",
       "      <td>3.810000</td>\n",
       "      <td>6.170000</td>\n",
       "    </tr>\n",
       "    <tr>\n",
       "      <th>50%</th>\n",
       "      <td>167543.000000</td>\n",
       "      <td>3.000000</td>\n",
       "      <td>5486.000000</td>\n",
       "      <td>5630.000000</td>\n",
       "      <td>48.000000</td>\n",
       "      <td>68.000000</td>\n",
       "      <td>1926.000000</td>\n",
       "      <td>1882.000000</td>\n",
       "      <td>28.040000</td>\n",
       "      <td>27.635000</td>\n",
       "      <td>...</td>\n",
       "      <td>6.660000</td>\n",
       "      <td>5.840000</td>\n",
       "      <td>2.970000</td>\n",
       "      <td>80.420000</td>\n",
       "      <td>48.830000</td>\n",
       "      <td>34.920000</td>\n",
       "      <td>15.850000</td>\n",
       "      <td>12.530000</td>\n",
       "      <td>4.140000</td>\n",
       "      <td>6.840000</td>\n",
       "    </tr>\n",
       "    <tr>\n",
       "      <th>75%</th>\n",
       "      <td>168267.500000</td>\n",
       "      <td>3.000000</td>\n",
       "      <td>6284.000000</td>\n",
       "      <td>6364.000000</td>\n",
       "      <td>88.000000</td>\n",
       "      <td>113.000000</td>\n",
       "      <td>2053.000000</td>\n",
       "      <td>1957.000000</td>\n",
       "      <td>31.230000</td>\n",
       "      <td>30.800000</td>\n",
       "      <td>...</td>\n",
       "      <td>7.480000</td>\n",
       "      <td>6.980000</td>\n",
       "      <td>3.140000</td>\n",
       "      <td>82.560000</td>\n",
       "      <td>50.580000</td>\n",
       "      <td>36.350000</td>\n",
       "      <td>16.610000</td>\n",
       "      <td>12.930000</td>\n",
       "      <td>4.460000</td>\n",
       "      <td>7.480000</td>\n",
       "    </tr>\n",
       "    <tr>\n",
       "      <th>max</th>\n",
       "      <td>169046.000000</td>\n",
       "      <td>5.000000</td>\n",
       "      <td>52643.000000</td>\n",
       "      <td>52587.000000</td>\n",
       "      <td>1821.000000</td>\n",
       "      <td>1821.000000</td>\n",
       "      <td>2472.000000</td>\n",
       "      <td>2473.000000</td>\n",
       "      <td>39.838467</td>\n",
       "      <td>39.838467</td>\n",
       "      <td>...</td>\n",
       "      <td>15.000000</td>\n",
       "      <td>12.670000</td>\n",
       "      <td>10.000000</td>\n",
       "      <td>114.500000</td>\n",
       "      <td>71.750000</td>\n",
       "      <td>54.000000</td>\n",
       "      <td>31.000000</td>\n",
       "      <td>18.500000</td>\n",
       "      <td>11.000000</td>\n",
       "      <td>15.000000</td>\n",
       "    </tr>\n",
       "  </tbody>\n",
       "</table>\n",
       "<p>8 rows × 59 columns</p>\n",
       "</div>"
      ],
      "text/plain": [
       "            match_id      best_of     player_id   opponent_id  player_rank  \\\n",
       "count    2207.000000  2207.000000   2207.000000   2207.000000  2202.000000   \n",
       "mean   167540.609878     3.384232   8506.512460   9789.689624    84.681653   \n",
       "std       854.439751     0.788106   8883.014754  10508.704583   163.937932   \n",
       "min    166073.000000     3.000000    644.000000    644.000000     1.000000   \n",
       "25%    166791.000000     3.000000   4868.000000   4921.000000    19.250000   \n",
       "50%    167543.000000     3.000000   5486.000000   5630.000000    48.000000   \n",
       "75%    168267.500000     3.000000   6284.000000   6364.000000    88.000000   \n",
       "max    169046.000000     5.000000  52643.000000  52587.000000  1821.000000   \n",
       "\n",
       "       opponent_rank  player_elo_rating  opponent_elo_rating   player_age  \\\n",
       "count    2189.000000        2207.000000          2207.000000  2207.000000   \n",
       "mean      115.254454        1951.570005          1878.778885    27.714443   \n",
       "std       190.016918         179.000171           152.807228     4.682528   \n",
       "min         1.000000        1463.000000          1455.000000    14.940000   \n",
       "25%        37.000000        1844.000000          1785.500000    23.780000   \n",
       "50%        68.000000        1926.000000          1882.000000    28.040000   \n",
       "75%       113.000000        2053.000000          1957.000000    31.230000   \n",
       "max      1821.000000        2472.000000          2473.000000    39.838467   \n",
       "\n",
       "       opponent_age  ...  p_avg_bp_fc    o_avg_ace     o_avg_df  o_avg_sv_pt  \\\n",
       "count   2204.000000  ...  2205.000000  2205.000000  2205.000000  2205.000000   \n",
       "mean      27.480259  ...     6.681837     5.978014     3.034308    80.573252   \n",
       "std        4.690043  ...     1.314429     1.469343     0.494564     5.319698   \n",
       "min       16.280000  ...     0.000000     0.000000     0.500000    32.000000   \n",
       "25%       23.887500  ...     5.850000     4.980000     2.800000    78.520000   \n",
       "50%       27.635000  ...     6.660000     5.840000     2.970000    80.420000   \n",
       "75%       30.800000  ...     7.480000     6.980000     3.140000    82.560000   \n",
       "max       39.838467  ...    15.000000    12.670000    10.000000   114.500000   \n",
       "\n",
       "       o_avg_1st_in  o_avg_1st_won  o_avg_2nd_won  o_avg_sv_gms  o_avg_bp_sv  \\\n",
       "count   2205.000000    2205.000000    2205.000000   2205.000000  2205.000000   \n",
       "mean      49.119234      35.038240      15.931102     12.598077     4.127728   \n",
       "std        3.522233       3.160558       1.518068      0.829204     0.652633   \n",
       "min       21.000000       6.000000       2.000000      6.000000     0.000000   \n",
       "25%       47.490000      33.370000      15.230000     12.250000     3.810000   \n",
       "50%       48.830000      34.920000      15.850000     12.530000     4.140000   \n",
       "75%       50.580000      36.350000      16.610000     12.930000     4.460000   \n",
       "max       71.750000      54.000000      31.000000     18.500000    11.000000   \n",
       "\n",
       "       o_avg_bp_fc  \n",
       "count  2205.000000  \n",
       "mean      6.850766  \n",
       "std       1.124125  \n",
       "min       2.000000  \n",
       "25%       6.170000  \n",
       "50%       6.840000  \n",
       "75%       7.480000  \n",
       "max      15.000000  \n",
       "\n",
       "[8 rows x 59 columns]"
      ]
     },
     "execution_count": 92,
     "metadata": {},
     "output_type": "execute_result"
    }
   ],
   "source": [
    "train_df.describe()"
   ]
  },
  {
   "cell_type": "code",
   "execution_count": 94,
   "metadata": {},
   "outputs": [
    {
     "data": {
      "text/plain": [
       "0.8078840054372451"
      ]
     },
     "execution_count": 94,
     "metadata": {},
     "output_type": "execute_result"
    }
   ],
   "source": [
    "train_df[train_df['best_of']==3]['match_id'].count() / (train_df['match_id'].count())"
   ]
  },
  {
   "cell_type": "markdown",
   "metadata": {},
   "source": [
    "We have 80% of the matches that were in best of 3."
   ]
  },
  {
   "cell_type": "code",
   "execution_count": 95,
   "metadata": {},
   "outputs": [
    {
     "data": {
      "text/plain": [
       "2207"
      ]
     },
     "execution_count": 95,
     "metadata": {},
     "output_type": "execute_result"
    }
   ],
   "source": [
    "train_df['match_id'].count()"
   ]
  },
  {
   "cell_type": "markdown",
   "metadata": {},
   "source": [
    "We have 2943 matches in 2018"
   ]
  },
  {
   "cell_type": "code",
   "execution_count": 96,
   "metadata": {},
   "outputs": [
    {
     "data": {
      "text/html": [
       "<div>\n",
       "<style scoped>\n",
       "    .dataframe tbody tr th:only-of-type {\n",
       "        vertical-align: middle;\n",
       "    }\n",
       "\n",
       "    .dataframe tbody tr th {\n",
       "        vertical-align: top;\n",
       "    }\n",
       "\n",
       "    .dataframe thead th {\n",
       "        text-align: right;\n",
       "    }\n",
       "</style>\n",
       "<table border=\"1\" class=\"dataframe\">\n",
       "  <thead>\n",
       "    <tr style=\"text-align: right;\">\n",
       "      <th></th>\n",
       "      <th>date</th>\n",
       "      <th>surface</th>\n",
       "      <th>level</th>\n",
       "      <th>round</th>\n",
       "      <th>outcome</th>\n",
       "    </tr>\n",
       "  </thead>\n",
       "  <tbody>\n",
       "    <tr>\n",
       "      <th>count</th>\n",
       "      <td>2207</td>\n",
       "      <td>2207</td>\n",
       "      <td>2207</td>\n",
       "      <td>2207</td>\n",
       "      <td>50</td>\n",
       "    </tr>\n",
       "    <tr>\n",
       "      <th>unique</th>\n",
       "      <td>44</td>\n",
       "      <td>3</td>\n",
       "      <td>6</td>\n",
       "      <td>8</td>\n",
       "      <td>1</td>\n",
       "    </tr>\n",
       "    <tr>\n",
       "      <th>top</th>\n",
       "      <td>15/01/2018</td>\n",
       "      <td>H</td>\n",
       "      <td>B</td>\n",
       "      <td>R32</td>\n",
       "      <td>RET</td>\n",
       "    </tr>\n",
       "    <tr>\n",
       "      <th>freq</th>\n",
       "      <td>101</td>\n",
       "      <td>1288</td>\n",
       "      <td>890</td>\n",
       "      <td>714</td>\n",
       "      <td>50</td>\n",
       "    </tr>\n",
       "  </tbody>\n",
       "</table>\n",
       "</div>"
      ],
      "text/plain": [
       "              date surface level round outcome\n",
       "count         2207    2207  2207  2207      50\n",
       "unique          44       3     6     8       1\n",
       "top     15/01/2018       H     B   R32     RET\n",
       "freq           101    1288   890   714      50"
      ]
     },
     "execution_count": 96,
     "metadata": {},
     "output_type": "execute_result"
    }
   ],
   "source": [
    "train_df.describe(include=['O'])"
   ]
  },
  {
   "cell_type": "markdown",
   "metadata": {},
   "source": [
    "- 3 different values for surface (with top H)\n",
    "- 6 different values for level (with top == B)\n",
    "- There were 71 withdrawals"
   ]
  },
  {
   "cell_type": "code",
   "execution_count": 97,
   "metadata": {},
   "outputs": [
    {
     "data": {
      "text/plain": [
       "0.583597643860444"
      ]
     },
     "execution_count": 97,
     "metadata": {},
     "output_type": "execute_result"
    }
   ],
   "source": [
    "train_df[train_df['surface'] == 'H']['match_id'].count() / train_df['match_id'].count()"
   ]
  },
  {
   "cell_type": "markdown",
   "metadata": {},
   "source": [
    "We have 58% of the matches that were in Hard"
   ]
  },
  {
   "cell_type": "markdown",
   "metadata": {},
   "source": [
    "### Asumptions based on data analysis\n",
    "\n",
    "- Correlating : We want to know how well does each feature correlate with Winning a game. We want to do this early in our project and match these quick correlations with modelled correlations later in the project.\n",
    "- Completing : \n",
    "    - We may want to complete Age feature as it is definitely correlated to survival.\n",
    "    - We may want to complete the Embarked feature as it may also correlate with survival or another important feature.\n",
    "- Correcting : \n",
    "    - opponent_height and player_height features may be dropped as it is highly incomplete or contains many null values both in training and test dataset.\n",
    "    - player_id and opponent_id features may be dropped from training dataset as it does not contribute to survival.\n",
    "- Creating : \n",
    "    - We may want to create a new feature called p_serve based on ace...\n",
    "\n",
    "- Classifying :\n"
   ]
  },
  {
   "cell_type": "code",
   "execution_count": 55,
   "metadata": {},
   "outputs": [
    {
     "ename": "TypeError",
     "evalue": "string indices must be integers",
     "output_type": "error",
     "traceback": [
      "\u001b[1;31m---------------------------------------------------------------------------\u001b[0m",
      "\u001b[1;31mTypeError\u001b[0m                                 Traceback (most recent call last)",
      "\u001b[1;32m<ipython-input-55-22e2f4373f56>\u001b[0m in \u001b[0;36m<module>\u001b[1;34m\u001b[0m\n\u001b[0;32m      1\u001b[0m \u001b[1;32mfor\u001b[0m \u001b[0mdataset\u001b[0m \u001b[1;32min\u001b[0m \u001b[0mtrain_df\u001b[0m\u001b[1;33m:\u001b[0m\u001b[1;33m\u001b[0m\u001b[1;33m\u001b[0m\u001b[0m\n\u001b[1;32m----> 2\u001b[1;33m     \u001b[0mdataset\u001b[0m\u001b[1;33m[\u001b[0m\u001b[1;34m'ace_match'\u001b[0m\u001b[1;33m]\u001b[0m \u001b[1;33m=\u001b[0m \u001b[0mdataset\u001b[0m\u001b[1;33m[\u001b[0m\u001b[1;34m'p_ace'\u001b[0m\u001b[1;33m]\u001b[0m \u001b[1;33m-\u001b[0m \u001b[0mdataset\u001b[0m\u001b[1;33m[\u001b[0m\u001b[1;34m'o_ace'\u001b[0m\u001b[1;33m]\u001b[0m\u001b[1;33m\u001b[0m\u001b[1;33m\u001b[0m\u001b[0m\n\u001b[0m",
      "\u001b[1;31mTypeError\u001b[0m: string indices must be integers"
     ]
    }
   ],
   "source": [
    "for dataset in train_df:\n",
    "    dataset['ace_match'] = dataset['p_ace'] - dataset['o_ace']"
   ]
  }
 ],
 "metadata": {
  "kernelspec": {
   "display_name": "Python 3",
   "language": "python",
   "name": "python3"
  },
  "language_info": {
   "codemirror_mode": {
    "name": "ipython",
    "version": 3
   },
   "file_extension": ".py",
   "mimetype": "text/x-python",
   "name": "python",
   "nbconvert_exporter": "python",
   "pygments_lexer": "ipython3",
   "version": "3.7.3"
  }
 },
 "nbformat": 4,
 "nbformat_minor": 4
}
