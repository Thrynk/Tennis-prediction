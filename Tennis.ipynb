{
 "cells": [
  {
   "cell_type": "markdown",
   "metadata": {},
   "source": [
    "# Tennis analysis\n",
    "\n",
    "### Question or problem definition\n",
    "\n",
    "We want to see if we can create a prediction model that can predict whether a player will win a match or not, based on different statistics\n",
    "\n",
    "### Acquire training and testing data"
   ]
  },
  {
   "cell_type": "markdown",
   "metadata": {},
   "source": [
    "import librairies :"
   ]
  },
  {
   "cell_type": "code",
   "execution_count": 1,
   "metadata": {},
   "outputs": [],
   "source": [
    "# dataframe manipulation\n",
    "import pandas as pd\n",
    "import numpy as np\n",
    "import random as rnd\n",
    "\n",
    "# visualization\n",
    "import seaborn as sns\n",
    "import matplotlib.pyplot as plt\n",
    "%matplotlib inline"
   ]
  },
  {
   "cell_type": "markdown",
   "metadata": {},
   "source": [
    "Acquire data from csv :"
   ]
  },
  {
   "cell_type": "markdown",
   "metadata": {},
   "source": [
    "We want to collect a list of matches with the following information :\n",
    "- match_id\n",
    "- date\n",
    "- surface\n",
    "- best_of (3 sets win => best_of = 5)\n",
    "- winner_rank\n",
    "- loser_rank\n",
    "- winner_rank_points\n",
    "- loser_rank_points\n",
    "- winner_elo_rating\n",
    "- loser_elo_rating\n",
    "- winner_age\n",
    "- loser_age\n",
    "- winner_height\n",
    "- loser_height\n",
    "\n",
    ">SELECT match_id, date, surface, best_of, winner_rank, loser_rank, winner_rank_points, loser_rank_points, winner_elo_rating, loser_elo_rating, winner_age, loser_age, winner_height, loser_height FROM match;"
   ]
  },
  {
   "cell_type": "markdown",
   "metadata": {},
   "source": [
    "We want to add stats before matches to it :"
   ]
  },
  {
   "cell_type": "markdown",
   "metadata": {},
   "source": [
    "For example if we want to get aces from nadal given a date we have to do :\n",
    "> SELECT AVG(ps.p_ace), AVG(ps.o_ace) FROM (SELECT p_matches, p_ace, o_matches, o_ace, match_id, date, player_id FROM player_match_stats_v WHERE player_id=4742 AND date <= '2016/01/01') ps;"
   ]
  },
  {
   "cell_type": "markdown",
   "metadata": {},
   "source": [
    "final statement to get 2018 matches with their stats :"
   ]
  },
  {
   "cell_type": "markdown",
   "metadata": {},
   "source": [
    ">SELECT pms.match_id, pms.date, pms.surface, pms.level, pms.round, pms.best_of, pms.player_id, pms.opponent_id, pms.player_rank, pms.opponent_rank, pms.player_elo_rating, pms.opponent_elo_rating, pms.player_age, pms.opponent_age, pms.player_height, pms.opponent_height, pms.outcome, pms.p_matches, pms.o_matches, pms.p_sets, pms.o_sets, pms.p_games, pms.o_games, pms.p_tbs, pms.o_tbs, pms.p_ace, pms.p_df, pms.p_sv_pt, pms.p_1st_in, pms.p_1st_won, pms.p_2nd_won, pms.p_sv_gms, pms.p_bp_sv, pms.p_bp_fc, pms.o_ace, pms.o_df, pms.o_sv_pt, pms.o_1st_in, pms.o_1st_won, pms.o_2nd_won, pms.o_sv_gms, pms.o_bp_sv, pms.o_bp_fc, pms.minutes, pms.p_upsets, pms.o_upsets, ps.p_avg_ace, ps.p_avg_df, ps.p_avg_sv_pt, ps.p_avg_1st_in, ps.p_avg_1st_won, ps.p_avg_2nd_won, ps.p_avg_sv_gms, ps.p_avg_bp_sv, ps.p_avg_bp_fc, ps.o_avg_ace, ps.o_avg_df, ps.o_avg_sv_pt, ps.o_avg_1st_in, ps.o_avg_1st_won, ps.o_avg_2nd_won, ps.o_avg_sv_gms, ps.o_avg_bp_sv, ps.o_avg_bp_fc FROM player_match_stats_v pms LEFT JOIN LATERAL (SELECT ROUND(AVG(p_ace), 2) p_avg_ace, ROUND(AVG(p_df), 2) p_avg_df, ROUND(AVG(p_sv_pt), 2) p_avg_sv_pt, ROUND(AVG(p_1st_in), 2) p_avg_1st_in, ROUND(AVG(p_1st_won), 2) p_avg_1st_won, ROUND(AVG(p_2nd_won), 2) p_avg_2nd_won, ROUND(AVG(p_sv_gms), 2) p_avg_sv_gms, ROUND(AVG(p_bp_sv), 2) p_avg_bp_sv, ROUND(AVG(p_bp_fc), 2) p_avg_bp_fc, ROUND(AVG(o_ace), 2) o_avg_ace, ROUND(AVG(o_df), 2) o_avg_df, ROUND(AVG(o_sv_pt), 2) o_avg_sv_pt, ROUND(AVG(o_1st_in), 2) o_avg_1st_in, ROUND(AVG(o_1st_won), 2) o_avg_1st_won, ROUND(AVG(o_2nd_won), 2) o_avg_2nd_won, ROUND(AVG(o_sv_gms), 2) o_avg_sv_gms, ROUND(AVG(o_bp_sv), 2) o_avg_bp_sv, ROUND(AVG(o_bp_fc), 2) o_avg_bp_fc, player_id FROM player_match_stats_v WHERE date <= pms.date GROUP BY player_id) ps ON (pms.player_id=ps.player_id) WHERE pms.date >= '2018-01-01' AND pms.date <='2018-12-31';"
   ]
  },
  {
   "cell_type": "code",
   "execution_count": 5,
   "metadata": {},
   "outputs": [],
   "source": [
    "tennis = pd.read_csv('2018 matches/matches.csv', delimiter=';')"
   ]
  },
  {
   "cell_type": "code",
   "execution_count": 15,
   "metadata": {},
   "outputs": [
    {
     "data": {
      "text/plain": [
       "(5886, 64)"
      ]
     },
     "execution_count": 15,
     "metadata": {},
     "output_type": "execute_result"
    }
   ],
   "source": [
    "tennis.shape"
   ]
  },
  {
   "cell_type": "markdown",
   "metadata": {},
   "source": [
    "When we checked in the database we had only 2974 matches in 2018, we found it odd to have almost twice more data"
   ]
  },
  {
   "cell_type": "code",
   "execution_count": 8,
   "metadata": {},
   "outputs": [
    {
     "data": {
      "text/html": [
       "<div>\n",
       "<style scoped>\n",
       "    .dataframe tbody tr th:only-of-type {\n",
       "        vertical-align: middle;\n",
       "    }\n",
       "\n",
       "    .dataframe tbody tr th {\n",
       "        vertical-align: top;\n",
       "    }\n",
       "\n",
       "    .dataframe thead th {\n",
       "        text-align: right;\n",
       "    }\n",
       "</style>\n",
       "<table border=\"1\" class=\"dataframe\">\n",
       "  <thead>\n",
       "    <tr style=\"text-align: right;\">\n",
       "      <th></th>\n",
       "      <th>match_id</th>\n",
       "      <th>date</th>\n",
       "      <th>surface</th>\n",
       "      <th>level</th>\n",
       "      <th>round</th>\n",
       "      <th>best_of</th>\n",
       "      <th>player_id</th>\n",
       "      <th>opponent_id</th>\n",
       "      <th>player_rank</th>\n",
       "      <th>opponent_rank</th>\n",
       "      <th>...</th>\n",
       "      <th>p_avg_bp_fc</th>\n",
       "      <th>o_avg_ace</th>\n",
       "      <th>o_avg_df</th>\n",
       "      <th>o_avg_sv_pt</th>\n",
       "      <th>o_avg_1st_in</th>\n",
       "      <th>o_avg_1st_won</th>\n",
       "      <th>o_avg_2nd_won</th>\n",
       "      <th>o_avg_sv_gms</th>\n",
       "      <th>o_avg_bp_sv</th>\n",
       "      <th>o_avg_bp_fc</th>\n",
       "    </tr>\n",
       "  </thead>\n",
       "  <tbody>\n",
       "    <tr>\n",
       "      <td>0</td>\n",
       "      <td>166985</td>\n",
       "      <td>06/04/2018</td>\n",
       "      <td>C</td>\n",
       "      <td>D</td>\n",
       "      <td>RR</td>\n",
       "      <td>3</td>\n",
       "      <td>6030</td>\n",
       "      <td>11769</td>\n",
       "      <td>87.0</td>\n",
       "      <td>64.0</td>\n",
       "      <td>...</td>\n",
       "      <td>7.58</td>\n",
       "      <td>6.20</td>\n",
       "      <td>2.6</td>\n",
       "      <td>76.18</td>\n",
       "      <td>46.70</td>\n",
       "      <td>33.05</td>\n",
       "      <td>14.95</td>\n",
       "      <td>12.28</td>\n",
       "      <td>3.33</td>\n",
       "      <td>6.03</td>\n",
       "    </tr>\n",
       "    <tr>\n",
       "      <td>390</td>\n",
       "      <td>166985</td>\n",
       "      <td>06/04/2018</td>\n",
       "      <td>C</td>\n",
       "      <td>D</td>\n",
       "      <td>RR</td>\n",
       "      <td>3</td>\n",
       "      <td>11769</td>\n",
       "      <td>6030</td>\n",
       "      <td>64.0</td>\n",
       "      <td>87.0</td>\n",
       "      <td>...</td>\n",
       "      <td>6.85</td>\n",
       "      <td>5.12</td>\n",
       "      <td>3.7</td>\n",
       "      <td>85.24</td>\n",
       "      <td>51.61</td>\n",
       "      <td>38.42</td>\n",
       "      <td>18.42</td>\n",
       "      <td>13.55</td>\n",
       "      <td>3.88</td>\n",
       "      <td>5.94</td>\n",
       "    </tr>\n",
       "  </tbody>\n",
       "</table>\n",
       "<p>2 rows × 64 columns</p>\n",
       "</div>"
      ],
      "text/plain": [
       "     match_id        date surface level round  best_of  player_id  \\\n",
       "0      166985  06/04/2018       C     D    RR        3       6030   \n",
       "390    166985  06/04/2018       C     D    RR        3      11769   \n",
       "\n",
       "     opponent_id  player_rank  opponent_rank  ...  p_avg_bp_fc  o_avg_ace  \\\n",
       "0          11769         87.0           64.0  ...         7.58       6.20   \n",
       "390         6030         64.0           87.0  ...         6.85       5.12   \n",
       "\n",
       "     o_avg_df  o_avg_sv_pt  o_avg_1st_in  o_avg_1st_won o_avg_2nd_won  \\\n",
       "0         2.6        76.18         46.70          33.05         14.95   \n",
       "390       3.7        85.24         51.61          38.42         18.42   \n",
       "\n",
       "     o_avg_sv_gms  o_avg_bp_sv  o_avg_bp_fc  \n",
       "0           12.28         3.33         6.03  \n",
       "390         13.55         3.88         5.94  \n",
       "\n",
       "[2 rows x 64 columns]"
      ]
     },
     "execution_count": 8,
     "metadata": {},
     "output_type": "execute_result"
    }
   ],
   "source": [
    "tennis[tennis['match_id'] == 166985]"
   ]
  },
  {
   "cell_type": "markdown",
   "metadata": {},
   "source": [
    "We can see that we have 2 match stats rows for a single match."
   ]
  },
  {
   "cell_type": "code",
   "execution_count": 9,
   "metadata": {},
   "outputs": [
    {
     "data": {
      "text/plain": [
       "2943"
      ]
     },
     "execution_count": 9,
     "metadata": {},
     "output_type": "execute_result"
    }
   ],
   "source": [
    "tennis['match_id'].nunique()"
   ]
  },
  {
   "cell_type": "markdown",
   "metadata": {},
   "source": [
    "That's the number of matches in 2018, so we want to drop duplicates."
   ]
  },
  {
   "cell_type": "code",
   "execution_count": 11,
   "metadata": {},
   "outputs": [],
   "source": [
    "tennis_non_duplicates = tennis.drop_duplicates(subset='match_id')"
   ]
  },
  {
   "cell_type": "code",
   "execution_count": 13,
   "metadata": {},
   "outputs": [
    {
     "data": {
      "text/plain": [
       "(2943, 64)"
      ]
     },
     "execution_count": 13,
     "metadata": {},
     "output_type": "execute_result"
    }
   ],
   "source": [
    "tennis_non_duplicates.shape"
   ]
  },
  {
   "cell_type": "markdown",
   "metadata": {},
   "source": [
    "Once duplicates have been dropped, we can see that we have 2943 matches available for our analysis.\n",
    "\n",
    "Let's save that to a new csv file :"
   ]
  },
  {
   "cell_type": "code",
   "execution_count": 24,
   "metadata": {},
   "outputs": [],
   "source": [
    "tennis_non_duplicates.to_csv('2018 matches/non_duplicates_tennis_matches.csv', index=False)"
   ]
  },
  {
   "cell_type": "code",
   "execution_count": 25,
   "metadata": {},
   "outputs": [],
   "source": [
    "tm_stats = pd.read_csv('2018 matches/non_duplicates_tennis_matches.csv')"
   ]
  },
  {
   "cell_type": "code",
   "execution_count": 26,
   "metadata": {},
   "outputs": [
    {
     "data": {
      "text/html": [
       "<div>\n",
       "<style scoped>\n",
       "    .dataframe tbody tr th:only-of-type {\n",
       "        vertical-align: middle;\n",
       "    }\n",
       "\n",
       "    .dataframe tbody tr th {\n",
       "        vertical-align: top;\n",
       "    }\n",
       "\n",
       "    .dataframe thead th {\n",
       "        text-align: right;\n",
       "    }\n",
       "</style>\n",
       "<table border=\"1\" class=\"dataframe\">\n",
       "  <thead>\n",
       "    <tr style=\"text-align: right;\">\n",
       "      <th></th>\n",
       "      <th>match_id</th>\n",
       "      <th>date</th>\n",
       "      <th>surface</th>\n",
       "      <th>level</th>\n",
       "      <th>round</th>\n",
       "      <th>best_of</th>\n",
       "      <th>player_id</th>\n",
       "      <th>opponent_id</th>\n",
       "      <th>player_rank</th>\n",
       "      <th>opponent_rank</th>\n",
       "      <th>...</th>\n",
       "      <th>p_avg_bp_fc</th>\n",
       "      <th>o_avg_ace</th>\n",
       "      <th>o_avg_df</th>\n",
       "      <th>o_avg_sv_pt</th>\n",
       "      <th>o_avg_1st_in</th>\n",
       "      <th>o_avg_1st_won</th>\n",
       "      <th>o_avg_2nd_won</th>\n",
       "      <th>o_avg_sv_gms</th>\n",
       "      <th>o_avg_bp_sv</th>\n",
       "      <th>o_avg_bp_fc</th>\n",
       "    </tr>\n",
       "  </thead>\n",
       "  <tbody>\n",
       "    <tr>\n",
       "      <td>0</td>\n",
       "      <td>166985</td>\n",
       "      <td>06/04/2018</td>\n",
       "      <td>C</td>\n",
       "      <td>D</td>\n",
       "      <td>RR</td>\n",
       "      <td>3</td>\n",
       "      <td>6030</td>\n",
       "      <td>11769</td>\n",
       "      <td>87.0</td>\n",
       "      <td>64.0</td>\n",
       "      <td>...</td>\n",
       "      <td>7.58</td>\n",
       "      <td>6.20</td>\n",
       "      <td>2.60</td>\n",
       "      <td>76.18</td>\n",
       "      <td>46.70</td>\n",
       "      <td>33.05</td>\n",
       "      <td>14.95</td>\n",
       "      <td>12.28</td>\n",
       "      <td>3.33</td>\n",
       "      <td>6.03</td>\n",
       "    </tr>\n",
       "    <tr>\n",
       "      <td>1</td>\n",
       "      <td>167084</td>\n",
       "      <td>09/04/2018</td>\n",
       "      <td>C</td>\n",
       "      <td>B</td>\n",
       "      <td>R32</td>\n",
       "      <td>3</td>\n",
       "      <td>6364</td>\n",
       "      <td>6196</td>\n",
       "      <td>26.0</td>\n",
       "      <td>65.0</td>\n",
       "      <td>...</td>\n",
       "      <td>6.69</td>\n",
       "      <td>7.55</td>\n",
       "      <td>3.74</td>\n",
       "      <td>82.57</td>\n",
       "      <td>49.97</td>\n",
       "      <td>36.63</td>\n",
       "      <td>16.29</td>\n",
       "      <td>12.95</td>\n",
       "      <td>4.18</td>\n",
       "      <td>6.77</td>\n",
       "    </tr>\n",
       "    <tr>\n",
       "      <td>2</td>\n",
       "      <td>167085</td>\n",
       "      <td>09/04/2018</td>\n",
       "      <td>C</td>\n",
       "      <td>B</td>\n",
       "      <td>R32</td>\n",
       "      <td>3</td>\n",
       "      <td>5420</td>\n",
       "      <td>4311</td>\n",
       "      <td>93.0</td>\n",
       "      <td>62.0</td>\n",
       "      <td>...</td>\n",
       "      <td>9.05</td>\n",
       "      <td>6.82</td>\n",
       "      <td>3.03</td>\n",
       "      <td>85.92</td>\n",
       "      <td>50.68</td>\n",
       "      <td>36.20</td>\n",
       "      <td>17.91</td>\n",
       "      <td>13.09</td>\n",
       "      <td>4.97</td>\n",
       "      <td>7.82</td>\n",
       "    </tr>\n",
       "    <tr>\n",
       "      <td>3</td>\n",
       "      <td>167086</td>\n",
       "      <td>09/04/2018</td>\n",
       "      <td>C</td>\n",
       "      <td>B</td>\n",
       "      <td>R32</td>\n",
       "      <td>3</td>\n",
       "      <td>4291</td>\n",
       "      <td>5902</td>\n",
       "      <td>91.0</td>\n",
       "      <td>61.0</td>\n",
       "      <td>...</td>\n",
       "      <td>7.98</td>\n",
       "      <td>7.96</td>\n",
       "      <td>3.22</td>\n",
       "      <td>80.63</td>\n",
       "      <td>48.48</td>\n",
       "      <td>35.95</td>\n",
       "      <td>16.59</td>\n",
       "      <td>12.79</td>\n",
       "      <td>4.20</td>\n",
       "      <td>6.56</td>\n",
       "    </tr>\n",
       "    <tr>\n",
       "      <td>4</td>\n",
       "      <td>167087</td>\n",
       "      <td>09/04/2018</td>\n",
       "      <td>C</td>\n",
       "      <td>B</td>\n",
       "      <td>R32</td>\n",
       "      <td>3</td>\n",
       "      <td>4994</td>\n",
       "      <td>3893</td>\n",
       "      <td>55.0</td>\n",
       "      <td>57.0</td>\n",
       "      <td>...</td>\n",
       "      <td>7.27</td>\n",
       "      <td>5.12</td>\n",
       "      <td>2.70</td>\n",
       "      <td>77.29</td>\n",
       "      <td>48.82</td>\n",
       "      <td>34.54</td>\n",
       "      <td>14.85</td>\n",
       "      <td>12.05</td>\n",
       "      <td>3.75</td>\n",
       "      <td>6.16</td>\n",
       "    </tr>\n",
       "  </tbody>\n",
       "</table>\n",
       "<p>5 rows × 64 columns</p>\n",
       "</div>"
      ],
      "text/plain": [
       "   match_id        date surface level round  best_of  player_id  opponent_id  \\\n",
       "0    166985  06/04/2018       C     D    RR        3       6030        11769   \n",
       "1    167084  09/04/2018       C     B   R32        3       6364         6196   \n",
       "2    167085  09/04/2018       C     B   R32        3       5420         4311   \n",
       "3    167086  09/04/2018       C     B   R32        3       4291         5902   \n",
       "4    167087  09/04/2018       C     B   R32        3       4994         3893   \n",
       "\n",
       "   player_rank  opponent_rank  ...  p_avg_bp_fc  o_avg_ace  o_avg_df  \\\n",
       "0         87.0           64.0  ...         7.58       6.20      2.60   \n",
       "1         26.0           65.0  ...         6.69       7.55      3.74   \n",
       "2         93.0           62.0  ...         9.05       6.82      3.03   \n",
       "3         91.0           61.0  ...         7.98       7.96      3.22   \n",
       "4         55.0           57.0  ...         7.27       5.12      2.70   \n",
       "\n",
       "   o_avg_sv_pt  o_avg_1st_in  o_avg_1st_won o_avg_2nd_won  o_avg_sv_gms  \\\n",
       "0        76.18         46.70          33.05         14.95         12.28   \n",
       "1        82.57         49.97          36.63         16.29         12.95   \n",
       "2        85.92         50.68          36.20         17.91         13.09   \n",
       "3        80.63         48.48          35.95         16.59         12.79   \n",
       "4        77.29         48.82          34.54         14.85         12.05   \n",
       "\n",
       "   o_avg_bp_sv  o_avg_bp_fc  \n",
       "0         3.33         6.03  \n",
       "1         4.18         6.77  \n",
       "2         4.97         7.82  \n",
       "3         4.20         6.56  \n",
       "4         3.75         6.16  \n",
       "\n",
       "[5 rows x 64 columns]"
      ]
     },
     "execution_count": 26,
     "metadata": {},
     "output_type": "execute_result"
    }
   ],
   "source": [
    "tm_stats.head()"
   ]
  },
  {
   "cell_type": "markdown",
   "metadata": {},
   "source": [
    "We acquired the data needed for our analysis !\n",
    "\n",
    "Now we need to split it in train and test datasets :"
   ]
  },
  {
   "cell_type": "code",
   "execution_count": 28,
   "metadata": {},
   "outputs": [],
   "source": [
    "from sklearn.model_selection import train_test_split"
   ]
  },
  {
   "cell_type": "code",
   "execution_count": 29,
   "metadata": {},
   "outputs": [],
   "source": [
    "tm_stats_train, tm_stats_test = train_test_split(tm_stats)"
   ]
  },
  {
   "cell_type": "code",
   "execution_count": 32,
   "metadata": {},
   "outputs": [
    {
     "name": "stdout",
     "output_type": "stream",
     "text": [
      "train shape :  (2207, 64)\n",
      "train test :  (736, 64)\n"
     ]
    }
   ],
   "source": [
    "print(\"train shape : \", tm_stats_train.shape)\n",
    "print(\"train test : \", tm_stats_test.shape)"
   ]
  },
  {
   "cell_type": "markdown",
   "metadata": {},
   "source": [
    "Save those to csv :"
   ]
  },
  {
   "cell_type": "code",
   "execution_count": 33,
   "metadata": {},
   "outputs": [],
   "source": [
    "tm_stats_train.to_csv('2018 matches/tennis_matches_stats_train.csv', index=False)\n",
    "tm_stats_test.to_csv('2018 matches/tennis_matches_stats_test.csv', index=False)"
   ]
  },
  {
   "cell_type": "markdown",
   "metadata": {},
   "source": [
    "Declare new dataframes :"
   ]
  },
  {
   "cell_type": "code",
   "execution_count": 34,
   "metadata": {},
   "outputs": [],
   "source": [
    "tm_stats_train = pd.read_csv('2018 matches/tennis_matches_stats_train.csv')\n",
    "tm_stats_test = pd.read_csv('2018 matches/tennis_matches_stats_test.csv')"
   ]
  },
  {
   "cell_type": "markdown",
   "metadata": {},
   "source": [
    "### Wrangle, prepare and cleanse data\n",
    "\n",
    "#### Analyse by desribing data\n",
    "\n",
    ">Describe data to see which features are available"
   ]
  },
  {
   "cell_type": "code",
   "execution_count": 36,
   "metadata": {},
   "outputs": [
    {
     "name": "stdout",
     "output_type": "stream",
     "text": [
      "['match_id' 'date' 'surface' 'level' 'round' 'best_of' 'player_id'\n",
      " 'opponent_id' 'player_rank' 'opponent_rank' 'player_elo_rating'\n",
      " 'opponent_elo_rating' 'player_age' 'opponent_age' 'player_height'\n",
      " 'opponent_height' 'outcome' 'p_matches' 'o_matches' 'p_sets' 'o_sets'\n",
      " 'p_games' 'o_games' 'p_tbs' 'o_tbs' 'p_ace' 'p_df' 'p_sv_pt' 'p_1st_in'\n",
      " 'p_1st_won' 'p_2nd_won' 'p_sv_gms' 'p_bp_sv' 'p_bp_fc' 'o_ace' 'o_df'\n",
      " 'o_sv_pt' 'o_1st_in' 'o_1st_won' 'o_2nd_won' 'o_sv_gms' 'o_bp_sv'\n",
      " 'o_bp_fc' 'minutes' 'p_upsets' 'o_upsets' 'p_avg_ace' 'p_avg_df'\n",
      " 'p_avg_sv_pt' 'p_avg_1st_in' 'p_avg_1st_won' 'p_avg_2nd_won'\n",
      " 'p_avg_sv_gms' 'p_avg_bp_sv' 'p_avg_bp_fc' 'o_avg_ace' 'o_avg_df'\n",
      " 'o_avg_sv_pt' 'o_avg_1st_in' 'o_avg_1st_won' 'o_avg_2nd_won'\n",
      " 'o_avg_sv_gms' 'o_avg_bp_sv' 'o_avg_bp_fc']\n"
     ]
    }
   ],
   "source": [
    "print(tm_stats_train.columns.values)"
   ]
  },
  {
   "cell_type": "markdown",
   "metadata": {},
   "source": [
    ">Classify those to see which feature is categorical and which is numerical"
   ]
  },
  {
   "cell_type": "code",
   "execution_count": 38,
   "metadata": {},
   "outputs": [
    {
     "data": {
      "text/html": [
       "<div>\n",
       "<style scoped>\n",
       "    .dataframe tbody tr th:only-of-type {\n",
       "        vertical-align: middle;\n",
       "    }\n",
       "\n",
       "    .dataframe tbody tr th {\n",
       "        vertical-align: top;\n",
       "    }\n",
       "\n",
       "    .dataframe thead th {\n",
       "        text-align: right;\n",
       "    }\n",
       "</style>\n",
       "<table border=\"1\" class=\"dataframe\">\n",
       "  <thead>\n",
       "    <tr style=\"text-align: right;\">\n",
       "      <th></th>\n",
       "      <th>match_id</th>\n",
       "      <th>date</th>\n",
       "      <th>surface</th>\n",
       "      <th>level</th>\n",
       "      <th>round</th>\n",
       "      <th>best_of</th>\n",
       "      <th>player_id</th>\n",
       "      <th>opponent_id</th>\n",
       "      <th>player_rank</th>\n",
       "      <th>opponent_rank</th>\n",
       "      <th>...</th>\n",
       "      <th>p_avg_bp_fc</th>\n",
       "      <th>o_avg_ace</th>\n",
       "      <th>o_avg_df</th>\n",
       "      <th>o_avg_sv_pt</th>\n",
       "      <th>o_avg_1st_in</th>\n",
       "      <th>o_avg_1st_won</th>\n",
       "      <th>o_avg_2nd_won</th>\n",
       "      <th>o_avg_sv_gms</th>\n",
       "      <th>o_avg_bp_sv</th>\n",
       "      <th>o_avg_bp_fc</th>\n",
       "    </tr>\n",
       "  </thead>\n",
       "  <tbody>\n",
       "    <tr>\n",
       "      <td>0</td>\n",
       "      <td>166298</td>\n",
       "      <td>15/01/2018</td>\n",
       "      <td>H</td>\n",
       "      <td>G</td>\n",
       "      <td>R64</td>\n",
       "      <td>5</td>\n",
       "      <td>11176</td>\n",
       "      <td>6407</td>\n",
       "      <td>58.0</td>\n",
       "      <td>53.0</td>\n",
       "      <td>...</td>\n",
       "      <td>6.32</td>\n",
       "      <td>7.78</td>\n",
       "      <td>3.04</td>\n",
       "      <td>78.38</td>\n",
       "      <td>47.40</td>\n",
       "      <td>33.14</td>\n",
       "      <td>14.52</td>\n",
       "      <td>12.07</td>\n",
       "      <td>4.40</td>\n",
       "      <td>7.55</td>\n",
       "    </tr>\n",
       "    <tr>\n",
       "      <td>1</td>\n",
       "      <td>167486</td>\n",
       "      <td>21/05/2018</td>\n",
       "      <td>C</td>\n",
       "      <td>B</td>\n",
       "      <td>SF</td>\n",
       "      <td>3</td>\n",
       "      <td>4467</td>\n",
       "      <td>11787</td>\n",
       "      <td>75.0</td>\n",
       "      <td>102.0</td>\n",
       "      <td>...</td>\n",
       "      <td>7.41</td>\n",
       "      <td>5.02</td>\n",
       "      <td>2.64</td>\n",
       "      <td>80.28</td>\n",
       "      <td>48.17</td>\n",
       "      <td>33.10</td>\n",
       "      <td>15.20</td>\n",
       "      <td>12.28</td>\n",
       "      <td>4.43</td>\n",
       "      <td>7.74</td>\n",
       "    </tr>\n",
       "    <tr>\n",
       "      <td>2</td>\n",
       "      <td>166750</td>\n",
       "      <td>26/02/2018</td>\n",
       "      <td>H</td>\n",
       "      <td>A</td>\n",
       "      <td>R32</td>\n",
       "      <td>3</td>\n",
       "      <td>26578</td>\n",
       "      <td>5055</td>\n",
       "      <td>82.0</td>\n",
       "      <td>88.0</td>\n",
       "      <td>...</td>\n",
       "      <td>5.46</td>\n",
       "      <td>5.88</td>\n",
       "      <td>2.88</td>\n",
       "      <td>79.29</td>\n",
       "      <td>50.71</td>\n",
       "      <td>38.04</td>\n",
       "      <td>16.21</td>\n",
       "      <td>12.96</td>\n",
       "      <td>3.21</td>\n",
       "      <td>4.83</td>\n",
       "    </tr>\n",
       "    <tr>\n",
       "      <td>3</td>\n",
       "      <td>168956</td>\n",
       "      <td>12/11/2018</td>\n",
       "      <td>H</td>\n",
       "      <td>F</td>\n",
       "      <td>SF</td>\n",
       "      <td>3</td>\n",
       "      <td>644</td>\n",
       "      <td>3819</td>\n",
       "      <td>5.0</td>\n",
       "      <td>3.0</td>\n",
       "      <td>...</td>\n",
       "      <td>5.98</td>\n",
       "      <td>4.76</td>\n",
       "      <td>2.95</td>\n",
       "      <td>81.01</td>\n",
       "      <td>49.23</td>\n",
       "      <td>34.62</td>\n",
       "      <td>15.71</td>\n",
       "      <td>12.77</td>\n",
       "      <td>4.14</td>\n",
       "      <td>7.25</td>\n",
       "    </tr>\n",
       "    <tr>\n",
       "      <td>4</td>\n",
       "      <td>166498</td>\n",
       "      <td>05/02/2018</td>\n",
       "      <td>C</td>\n",
       "      <td>B</td>\n",
       "      <td>QF</td>\n",
       "      <td>3</td>\n",
       "      <td>5070</td>\n",
       "      <td>5577</td>\n",
       "      <td>21.0</td>\n",
       "      <td>98.0</td>\n",
       "      <td>...</td>\n",
       "      <td>7.35</td>\n",
       "      <td>5.47</td>\n",
       "      <td>2.97</td>\n",
       "      <td>80.04</td>\n",
       "      <td>48.56</td>\n",
       "      <td>34.13</td>\n",
       "      <td>15.77</td>\n",
       "      <td>12.33</td>\n",
       "      <td>4.25</td>\n",
       "      <td>7.10</td>\n",
       "    </tr>\n",
       "  </tbody>\n",
       "</table>\n",
       "<p>5 rows × 64 columns</p>\n",
       "</div>"
      ],
      "text/plain": [
       "   match_id        date surface level round  best_of  player_id  opponent_id  \\\n",
       "0    166298  15/01/2018       H     G   R64        5      11176         6407   \n",
       "1    167486  21/05/2018       C     B    SF        3       4467        11787   \n",
       "2    166750  26/02/2018       H     A   R32        3      26578         5055   \n",
       "3    168956  12/11/2018       H     F    SF        3        644         3819   \n",
       "4    166498  05/02/2018       C     B    QF        3       5070         5577   \n",
       "\n",
       "   player_rank  opponent_rank  ...  p_avg_bp_fc  o_avg_ace  o_avg_df  \\\n",
       "0         58.0           53.0  ...         6.32       7.78      3.04   \n",
       "1         75.0          102.0  ...         7.41       5.02      2.64   \n",
       "2         82.0           88.0  ...         5.46       5.88      2.88   \n",
       "3          5.0            3.0  ...         5.98       4.76      2.95   \n",
       "4         21.0           98.0  ...         7.35       5.47      2.97   \n",
       "\n",
       "   o_avg_sv_pt  o_avg_1st_in  o_avg_1st_won o_avg_2nd_won  o_avg_sv_gms  \\\n",
       "0        78.38         47.40          33.14         14.52         12.07   \n",
       "1        80.28         48.17          33.10         15.20         12.28   \n",
       "2        79.29         50.71          38.04         16.21         12.96   \n",
       "3        81.01         49.23          34.62         15.71         12.77   \n",
       "4        80.04         48.56          34.13         15.77         12.33   \n",
       "\n",
       "   o_avg_bp_sv  o_avg_bp_fc  \n",
       "0         4.40         7.55  \n",
       "1         4.43         7.74  \n",
       "2         3.21         4.83  \n",
       "3         4.14         7.25  \n",
       "4         4.25         7.10  \n",
       "\n",
       "[5 rows x 64 columns]"
      ]
     },
     "execution_count": 38,
     "metadata": {},
     "output_type": "execute_result"
    }
   ],
   "source": [
    "tm_stats_train.head()"
   ]
  },
  {
   "cell_type": "markdown",
   "metadata": {},
   "source": [
    "Categorical variables are :\n",
    "- Nominal :\n",
    "    - surface\n",
    "- Ordinal\n",
    "    - level\n",
    "    - p_matches, o_matches\n",
    "    \n",
    "Numerical variables are :\n",
    "- Discrete :\n",
    "    - best_of\n",
    "    - player_id, opponent_id\n",
    "    - player_rank, opponent_rank\n",
    "    - \n",
    "\n",
    "- Continuous : \n",
    "    - player_elo_rating, opponent_elo_rating\n",
    "    - player_age, opponent_age\n",
    "    - player_height, opponent_height\n",
    "\n",
    "Mixed types :\n",
    "- round\n",
    "- date\n",
    "- outcome"
   ]
  },
  {
   "cell_type": "code",
   "execution_count": null,
   "metadata": {},
   "outputs": [],
   "source": []
  }
 ],
 "metadata": {
  "kernelspec": {
   "display_name": "Python 3",
   "language": "python",
   "name": "python3"
  },
  "language_info": {
   "codemirror_mode": {
    "name": "ipython",
    "version": 3
   },
   "file_extension": ".py",
   "mimetype": "text/x-python",
   "name": "python",
   "nbconvert_exporter": "python",
   "pygments_lexer": "ipython3",
   "version": "3.7.4"
  }
 },
 "nbformat": 4,
 "nbformat_minor": 4
}
