{
 "cells": [
  {
   "cell_type": "code",
   "execution_count": 1,
   "metadata": {},
   "outputs": [],
   "source": [
    "import pandas as pd"
   ]
  },
  {
   "cell_type": "code",
   "execution_count": 2,
   "metadata": {},
   "outputs": [],
   "source": [
    "df = pd.read_csv('input/2014-2017.csv', delimiter=';')"
   ]
  },
  {
   "cell_type": "code",
   "execution_count": 3,
   "metadata": {},
   "outputs": [
    {
     "data": {
      "text/html": [
       "<div>\n",
       "<style scoped>\n",
       "    .dataframe tbody tr th:only-of-type {\n",
       "        vertical-align: middle;\n",
       "    }\n",
       "\n",
       "    .dataframe tbody tr th {\n",
       "        vertical-align: top;\n",
       "    }\n",
       "\n",
       "    .dataframe thead th {\n",
       "        text-align: right;\n",
       "    }\n",
       "</style>\n",
       "<table border=\"1\" class=\"dataframe\">\n",
       "  <thead>\n",
       "    <tr style=\"text-align: right;\">\n",
       "      <th></th>\n",
       "      <th>match_id</th>\n",
       "      <th>date</th>\n",
       "      <th>winner_id</th>\n",
       "      <th>loser_id</th>\n",
       "      <th>winner_rank</th>\n",
       "      <th>loser_rank</th>\n",
       "      <th>winner_rank_points</th>\n",
       "      <th>loser_rank_points</th>\n",
       "      <th>winner_elo_rating</th>\n",
       "      <th>loser_elo_rating</th>\n",
       "    </tr>\n",
       "  </thead>\n",
       "  <tbody>\n",
       "    <tr>\n",
       "      <td>0</td>\n",
       "      <td>155602</td>\n",
       "      <td>21/04/2014</td>\n",
       "      <td>4894</td>\n",
       "      <td>4022</td>\n",
       "      <td>50.0</td>\n",
       "      <td>15.0</td>\n",
       "      <td>947.0</td>\n",
       "      <td>2065.0</td>\n",
       "      <td>1867.0</td>\n",
       "      <td>2036.0</td>\n",
       "    </tr>\n",
       "    <tr>\n",
       "      <td>1</td>\n",
       "      <td>155603</td>\n",
       "      <td>21/04/2014</td>\n",
       "      <td>5763</td>\n",
       "      <td>4659</td>\n",
       "      <td>16.0</td>\n",
       "      <td>92.0</td>\n",
       "      <td>2040.0</td>\n",
       "      <td>605.0</td>\n",
       "      <td>2112.0</td>\n",
       "      <td>1861.0</td>\n",
       "    </tr>\n",
       "    <tr>\n",
       "      <td>2</td>\n",
       "      <td>155604</td>\n",
       "      <td>21/04/2014</td>\n",
       "      <td>4789</td>\n",
       "      <td>3908</td>\n",
       "      <td>24.0</td>\n",
       "      <td>102.0</td>\n",
       "      <td>1580.0</td>\n",
       "      <td>569.0</td>\n",
       "      <td>2085.0</td>\n",
       "      <td>1871.0</td>\n",
       "    </tr>\n",
       "    <tr>\n",
       "      <td>3</td>\n",
       "      <td>155605</td>\n",
       "      <td>21/04/2014</td>\n",
       "      <td>4585</td>\n",
       "      <td>4467</td>\n",
       "      <td>43.0</td>\n",
       "      <td>28.0</td>\n",
       "      <td>1016.0</td>\n",
       "      <td>1315.0</td>\n",
       "      <td>1902.0</td>\n",
       "      <td>1979.0</td>\n",
       "    </tr>\n",
       "    <tr>\n",
       "      <td>4</td>\n",
       "      <td>155202</td>\n",
       "      <td>06/03/2014</td>\n",
       "      <td>5231</td>\n",
       "      <td>4742</td>\n",
       "      <td>31.0</td>\n",
       "      <td>1.0</td>\n",
       "      <td>1205.0</td>\n",
       "      <td>14085.0</td>\n",
       "      <td>1992.0</td>\n",
       "      <td>2510.0</td>\n",
       "    </tr>\n",
       "  </tbody>\n",
       "</table>\n",
       "</div>"
      ],
      "text/plain": [
       "   match_id        date  winner_id  loser_id  winner_rank  loser_rank  \\\n",
       "0    155602  21/04/2014       4894      4022         50.0        15.0   \n",
       "1    155603  21/04/2014       5763      4659         16.0        92.0   \n",
       "2    155604  21/04/2014       4789      3908         24.0       102.0   \n",
       "3    155605  21/04/2014       4585      4467         43.0        28.0   \n",
       "4    155202  06/03/2014       5231      4742         31.0         1.0   \n",
       "\n",
       "   winner_rank_points  loser_rank_points  winner_elo_rating  loser_elo_rating  \n",
       "0               947.0             2065.0             1867.0            2036.0  \n",
       "1              2040.0              605.0             2112.0            1861.0  \n",
       "2              1580.0              569.0             2085.0            1871.0  \n",
       "3              1016.0             1315.0             1902.0            1979.0  \n",
       "4              1205.0            14085.0             1992.0            2510.0  "
      ]
     },
     "execution_count": 3,
     "metadata": {},
     "output_type": "execute_result"
    }
   ],
   "source": [
    "df.head()"
   ]
  },
  {
   "cell_type": "code",
   "execution_count": 8,
   "metadata": {},
   "outputs": [],
   "source": [
    "from random import randint"
   ]
  },
  {
   "cell_type": "code",
   "execution_count": 69,
   "metadata": {},
   "outputs": [],
   "source": [
    "def randomsample(df):\n",
    "    # creating arrays to put in DataFrame at the end\n",
    "    match_id = []\n",
    "    date = []\n",
    "    player1_id = []\n",
    "    player2_id = []\n",
    "    player1_rank = []\n",
    "    player2_rank = []\n",
    "    player1_rank_points = []\n",
    "    player2_rank_points = []\n",
    "    player1_elo_rating = []\n",
    "    player2_elo_rating = []\n",
    "    won = []\n",
    "    \n",
    "    for i in range(0, df.shape[0]):\n",
    "\n",
    "        # create random number to choose win or loose (we have a high number of matches so the sampling should be 50/50)\n",
    "        rand = randint(0, 1)\n",
    "\n",
    "        match_id.append(df.iloc[i]['match_id'])\n",
    "        date.append(df.iloc[i]['date'])\n",
    "\n",
    "        if rand == 0:\n",
    "            # ids\n",
    "            player1_id.append(df.iloc[i]['loser_id'])\n",
    "            player2_id.append(df.iloc[i]['winner_id'])\n",
    "            # ranks\n",
    "            player1_rank.append(df.iloc[i]['loser_rank'])\n",
    "            player2_rank.append(df.iloc[i]['winner_rank'])\n",
    "            # rank points\n",
    "            player1_rank_points.append(df.iloc[i]['loser_rank_points'])\n",
    "            player2_rank_points.append(df.iloc[i]['winner_rank_points'])\n",
    "            # elo ratings\n",
    "            player1_elo_rating.append(df.iloc[i]['loser_elo_rating'])\n",
    "            player2_elo_rating.append(df.iloc[i]['winner_elo_rating'])\n",
    "            # won\n",
    "            won.append(0)\n",
    "        else:\n",
    "            # ids\n",
    "            player1_id.append(df.iloc[i]['winner_id'])\n",
    "            player2_id.append(df.iloc[i]['loser_id'])\n",
    "            # ranks\n",
    "            player1_rank.append(df.iloc[i]['winner_rank'])\n",
    "            player2_rank.append(df.iloc[i]['loser_rank'])\n",
    "            # rank points\n",
    "            player1_rank_points.append(df.iloc[i]['winner_rank_points'])\n",
    "            player2_rank_points.append(df.iloc[i]['loser_rank_points'])\n",
    "            # elo ratings\n",
    "            player1_elo_rating.append(df.iloc[i]['winner_elo_rating'])\n",
    "            player2_elo_rating.append(df.iloc[i]['loser_elo_rating'])\n",
    "            # won\n",
    "            won.append(1)\n",
    "\n",
    "    return pd.DataFrame({\n",
    "        'match_id': match_id,\n",
    "        'date': date,\n",
    "        'player1_id': player1_id,\n",
    "        'player2_id': player2_id,\n",
    "        'player1_rank': player1_rank,\n",
    "        'player2_rank': player2_rank,\n",
    "        'player1_rank_points': player1_rank_points,\n",
    "        'player2_rank_points': player2_rank_points,\n",
    "        'player1_elo_rating': player1_elo_rating,\n",
    "        'player2_elo_rating': player2_elo_rating,\n",
    "        'won': won\n",
    "    })"
   ]
  },
  {
   "cell_type": "code",
   "execution_count": 71,
   "metadata": {},
   "outputs": [],
   "source": [
    "oversampled_df = randomsample(df)"
   ]
  },
  {
   "cell_type": "code",
   "execution_count": 72,
   "metadata": {},
   "outputs": [
    {
     "data": {
      "text/html": [
       "<div>\n",
       "<style scoped>\n",
       "    .dataframe tbody tr th:only-of-type {\n",
       "        vertical-align: middle;\n",
       "    }\n",
       "\n",
       "    .dataframe tbody tr th {\n",
       "        vertical-align: top;\n",
       "    }\n",
       "\n",
       "    .dataframe thead th {\n",
       "        text-align: right;\n",
       "    }\n",
       "</style>\n",
       "<table border=\"1\" class=\"dataframe\">\n",
       "  <thead>\n",
       "    <tr style=\"text-align: right;\">\n",
       "      <th></th>\n",
       "      <th>match_id</th>\n",
       "      <th>date</th>\n",
       "      <th>player1_id</th>\n",
       "      <th>player2_id</th>\n",
       "      <th>player1_rank</th>\n",
       "      <th>player2_rank</th>\n",
       "      <th>player1_rank_points</th>\n",
       "      <th>player2_rank_points</th>\n",
       "      <th>player1_elo_rating</th>\n",
       "      <th>player2_elo_rating</th>\n",
       "      <th>won</th>\n",
       "    </tr>\n",
       "  </thead>\n",
       "  <tbody>\n",
       "    <tr>\n",
       "      <td>0</td>\n",
       "      <td>155602</td>\n",
       "      <td>21/04/2014</td>\n",
       "      <td>4894</td>\n",
       "      <td>4022</td>\n",
       "      <td>50.0</td>\n",
       "      <td>15.0</td>\n",
       "      <td>947.0</td>\n",
       "      <td>2065.0</td>\n",
       "      <td>1867.0</td>\n",
       "      <td>2036.0</td>\n",
       "      <td>1</td>\n",
       "    </tr>\n",
       "    <tr>\n",
       "      <td>1</td>\n",
       "      <td>155603</td>\n",
       "      <td>21/04/2014</td>\n",
       "      <td>4659</td>\n",
       "      <td>5763</td>\n",
       "      <td>92.0</td>\n",
       "      <td>16.0</td>\n",
       "      <td>605.0</td>\n",
       "      <td>2040.0</td>\n",
       "      <td>1861.0</td>\n",
       "      <td>2112.0</td>\n",
       "      <td>0</td>\n",
       "    </tr>\n",
       "    <tr>\n",
       "      <td>2</td>\n",
       "      <td>155604</td>\n",
       "      <td>21/04/2014</td>\n",
       "      <td>3908</td>\n",
       "      <td>4789</td>\n",
       "      <td>102.0</td>\n",
       "      <td>24.0</td>\n",
       "      <td>569.0</td>\n",
       "      <td>1580.0</td>\n",
       "      <td>1871.0</td>\n",
       "      <td>2085.0</td>\n",
       "      <td>0</td>\n",
       "    </tr>\n",
       "    <tr>\n",
       "      <td>3</td>\n",
       "      <td>155605</td>\n",
       "      <td>21/04/2014</td>\n",
       "      <td>4467</td>\n",
       "      <td>4585</td>\n",
       "      <td>28.0</td>\n",
       "      <td>43.0</td>\n",
       "      <td>1315.0</td>\n",
       "      <td>1016.0</td>\n",
       "      <td>1979.0</td>\n",
       "      <td>1902.0</td>\n",
       "      <td>0</td>\n",
       "    </tr>\n",
       "    <tr>\n",
       "      <td>4</td>\n",
       "      <td>155202</td>\n",
       "      <td>06/03/2014</td>\n",
       "      <td>5231</td>\n",
       "      <td>4742</td>\n",
       "      <td>31.0</td>\n",
       "      <td>1.0</td>\n",
       "      <td>1205.0</td>\n",
       "      <td>14085.0</td>\n",
       "      <td>1992.0</td>\n",
       "      <td>2510.0</td>\n",
       "      <td>1</td>\n",
       "    </tr>\n",
       "  </tbody>\n",
       "</table>\n",
       "</div>"
      ],
      "text/plain": [
       "   match_id        date  player1_id  player2_id  player1_rank  player2_rank  \\\n",
       "0    155602  21/04/2014        4894        4022          50.0          15.0   \n",
       "1    155603  21/04/2014        4659        5763          92.0          16.0   \n",
       "2    155604  21/04/2014        3908        4789         102.0          24.0   \n",
       "3    155605  21/04/2014        4467        4585          28.0          43.0   \n",
       "4    155202  06/03/2014        5231        4742          31.0           1.0   \n",
       "\n",
       "   player1_rank_points  player2_rank_points  player1_elo_rating  \\\n",
       "0                947.0               2065.0              1867.0   \n",
       "1                605.0               2040.0              1861.0   \n",
       "2                569.0               1580.0              1871.0   \n",
       "3               1315.0               1016.0              1979.0   \n",
       "4               1205.0              14085.0              1992.0   \n",
       "\n",
       "   player2_elo_rating  won  \n",
       "0              2036.0    1  \n",
       "1              2112.0    0  \n",
       "2              2085.0    0  \n",
       "3              1902.0    0  \n",
       "4              2510.0    1  "
      ]
     },
     "execution_count": 72,
     "metadata": {},
     "output_type": "execute_result"
    }
   ],
   "source": [
    "oversampled_df.head()"
   ]
  },
  {
   "cell_type": "code",
   "execution_count": 74,
   "metadata": {},
   "outputs": [],
   "source": [
    "import matplotlib.pyplot as plt"
   ]
  },
  {
   "cell_type": "code",
   "execution_count": 76,
   "metadata": {},
   "outputs": [
    {
     "data": {
      "image/png": "[encoded data removed]",
      "text/plain": [
       "<Figure size 432x288 with 1 Axes>"
      ]
     },
     "metadata": {
      "needs_background": "light"
     },
     "output_type": "display_data"
    }
   ],
   "source": [
    "plt.hist(oversampled_df['won'])\n",
    "plt.show()"
   ]
  },
  {
   "cell_type": "code",
   "execution_count": 78,
   "metadata": {},
   "outputs": [
    {
     "data": {
      "text/plain": [
       "0    5802\n",
       "1    5800\n",
       "Name: won, dtype: int64"
      ]
     },
     "execution_count": 78,
     "metadata": {},
     "output_type": "execute_result"
    }
   ],
   "source": [
    "oversampled_df['won'].value_counts()"
   ]
  },
  {
   "cell_type": "code",
   "execution_count": null,
   "metadata": {},
   "outputs": [],
   "source": [
    "oversampled_df.to_csv('input/balanced-2014-2017.csv', index=False)"
   ]
  }
 ],
 "metadata": {
  "kernelspec": {
   "display_name": "Python 3",
   "language": "python",
   "name": "python3"
  },
  "language_info": {
   "codemirror_mode": {
    "name": "ipython",
    "version": 3
   },
   "file_extension": ".py",
   "mimetype": "text/x-python",
   "name": "python",
   "nbconvert_exporter": "python",
   "pygments_lexer": "ipython3",
   "version": "3.7.4"
  }
 },
 "nbformat": 4,
 "nbformat_minor": 4
}
