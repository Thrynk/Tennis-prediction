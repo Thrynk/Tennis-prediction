{
 "cells": [
  {
   "cell_type": "markdown",
   "metadata": {},
   "source": [
    "# Tennis prediction with rank\n",
    "\n",
    "### Question or problem definition\n",
    "\n",
    "We want to see if we can create a prediction model that can predict whether a player will win a match or not, based on rank feature\n",
    "\n",
    "### Acquire training and testing data"
   ]
  },
  {
   "cell_type": "code",
   "execution_count": 1,
   "metadata": {},
   "outputs": [],
   "source": [
    "import pandas as pd\n",
    "\n",
    "# visualization\n",
    "import seaborn as sns\n",
    "import matplotlib.pyplot as plt\n",
    "%matplotlib inline"
   ]
  },
  {
   "cell_type": "markdown",
   "metadata": {},
   "source": [
    "#### Acquire data"
   ]
  },
  {
   "cell_type": "code",
   "execution_count": 2,
   "metadata": {},
   "outputs": [],
   "source": [
    "train_df = pd.read_csv('input/balanced-2014-2017.csv')"
   ]
  },
  {
   "cell_type": "code",
   "execution_count": 3,
   "metadata": {},
   "outputs": [
    {
     "data": {
      "text/html": [
       "<div>\n",
       "<style scoped>\n",
       "    .dataframe tbody tr th:only-of-type {\n",
       "        vertical-align: middle;\n",
       "    }\n",
       "\n",
       "    .dataframe tbody tr th {\n",
       "        vertical-align: top;\n",
       "    }\n",
       "\n",
       "    .dataframe thead th {\n",
       "        text-align: right;\n",
       "    }\n",
       "</style>\n",
       "<table border=\"1\" class=\"dataframe\">\n",
       "  <thead>\n",
       "    <tr style=\"text-align: right;\">\n",
       "      <th></th>\n",
       "      <th>match_id</th>\n",
       "      <th>date</th>\n",
       "      <th>player1_id</th>\n",
       "      <th>player2_id</th>\n",
       "      <th>player1_rank</th>\n",
       "      <th>player2_rank</th>\n",
       "      <th>player1_rank_points</th>\n",
       "      <th>player2_rank_points</th>\n",
       "      <th>player1_elo_rating</th>\n",
       "      <th>player2_elo_rating</th>\n",
       "      <th>won</th>\n",
       "    </tr>\n",
       "  </thead>\n",
       "  <tbody>\n",
       "    <tr>\n",
       "      <td>0</td>\n",
       "      <td>155602</td>\n",
       "      <td>21/04/2014</td>\n",
       "      <td>4894</td>\n",
       "      <td>4022</td>\n",
       "      <td>50.0</td>\n",
       "      <td>15.0</td>\n",
       "      <td>947.0</td>\n",
       "      <td>2065.0</td>\n",
       "      <td>1867.0</td>\n",
       "      <td>2036.0</td>\n",
       "      <td>1</td>\n",
       "    </tr>\n",
       "    <tr>\n",
       "      <td>1</td>\n",
       "      <td>155603</td>\n",
       "      <td>21/04/2014</td>\n",
       "      <td>4659</td>\n",
       "      <td>5763</td>\n",
       "      <td>92.0</td>\n",
       "      <td>16.0</td>\n",
       "      <td>605.0</td>\n",
       "      <td>2040.0</td>\n",
       "      <td>1861.0</td>\n",
       "      <td>2112.0</td>\n",
       "      <td>0</td>\n",
       "    </tr>\n",
       "    <tr>\n",
       "      <td>2</td>\n",
       "      <td>155604</td>\n",
       "      <td>21/04/2014</td>\n",
       "      <td>3908</td>\n",
       "      <td>4789</td>\n",
       "      <td>102.0</td>\n",
       "      <td>24.0</td>\n",
       "      <td>569.0</td>\n",
       "      <td>1580.0</td>\n",
       "      <td>1871.0</td>\n",
       "      <td>2085.0</td>\n",
       "      <td>0</td>\n",
       "    </tr>\n",
       "    <tr>\n",
       "      <td>3</td>\n",
       "      <td>155605</td>\n",
       "      <td>21/04/2014</td>\n",
       "      <td>4467</td>\n",
       "      <td>4585</td>\n",
       "      <td>28.0</td>\n",
       "      <td>43.0</td>\n",
       "      <td>1315.0</td>\n",
       "      <td>1016.0</td>\n",
       "      <td>1979.0</td>\n",
       "      <td>1902.0</td>\n",
       "      <td>0</td>\n",
       "    </tr>\n",
       "    <tr>\n",
       "      <td>4</td>\n",
       "      <td>155202</td>\n",
       "      <td>06/03/2014</td>\n",
       "      <td>5231</td>\n",
       "      <td>4742</td>\n",
       "      <td>31.0</td>\n",
       "      <td>1.0</td>\n",
       "      <td>1205.0</td>\n",
       "      <td>14085.0</td>\n",
       "      <td>1992.0</td>\n",
       "      <td>2510.0</td>\n",
       "      <td>1</td>\n",
       "    </tr>\n",
       "  </tbody>\n",
       "</table>\n",
       "</div>"
      ],
      "text/plain": [
       "   match_id        date  player1_id  player2_id  player1_rank  player2_rank  \\\n",
       "0    155602  21/04/2014        4894        4022          50.0          15.0   \n",
       "1    155603  21/04/2014        4659        5763          92.0          16.0   \n",
       "2    155604  21/04/2014        3908        4789         102.0          24.0   \n",
       "3    155605  21/04/2014        4467        4585          28.0          43.0   \n",
       "4    155202  06/03/2014        5231        4742          31.0           1.0   \n",
       "\n",
       "   player1_rank_points  player2_rank_points  player1_elo_rating  \\\n",
       "0                947.0               2065.0              1867.0   \n",
       "1                605.0               2040.0              1861.0   \n",
       "2                569.0               1580.0              1871.0   \n",
       "3               1315.0               1016.0              1979.0   \n",
       "4               1205.0              14085.0              1992.0   \n",
       "\n",
       "   player2_elo_rating  won  \n",
       "0              2036.0    1  \n",
       "1              2112.0    0  \n",
       "2              2085.0    0  \n",
       "3              1902.0    0  \n",
       "4              2510.0    1  "
      ]
     },
     "execution_count": 3,
     "metadata": {},
     "output_type": "execute_result"
    }
   ],
   "source": [
    "train_df.head()"
   ]
  },
  {
   "cell_type": "code",
   "execution_count": 4,
   "metadata": {},
   "outputs": [],
   "source": [
    "test_df = pd.read_csv('input/balanced-2018.csv')"
   ]
  },
  {
   "cell_type": "code",
   "execution_count": 5,
   "metadata": {},
   "outputs": [
    {
     "data": {
      "text/html": [
       "<div>\n",
       "<style scoped>\n",
       "    .dataframe tbody tr th:only-of-type {\n",
       "        vertical-align: middle;\n",
       "    }\n",
       "\n",
       "    .dataframe tbody tr th {\n",
       "        vertical-align: top;\n",
       "    }\n",
       "\n",
       "    .dataframe thead th {\n",
       "        text-align: right;\n",
       "    }\n",
       "</style>\n",
       "<table border=\"1\" class=\"dataframe\">\n",
       "  <thead>\n",
       "    <tr style=\"text-align: right;\">\n",
       "      <th></th>\n",
       "      <th>match_id</th>\n",
       "      <th>date</th>\n",
       "      <th>player1_id</th>\n",
       "      <th>player2_id</th>\n",
       "      <th>player1_rank</th>\n",
       "      <th>player2_rank</th>\n",
       "      <th>player1_rank_points</th>\n",
       "      <th>player2_rank_points</th>\n",
       "      <th>player1_elo_rating</th>\n",
       "      <th>player2_elo_rating</th>\n",
       "      <th>won</th>\n",
       "    </tr>\n",
       "  </thead>\n",
       "  <tbody>\n",
       "    <tr>\n",
       "      <td>0</td>\n",
       "      <td>167084</td>\n",
       "      <td>09/04/2018</td>\n",
       "      <td>6364</td>\n",
       "      <td>6196</td>\n",
       "      <td>26.0</td>\n",
       "      <td>65.0</td>\n",
       "      <td>1627.0</td>\n",
       "      <td>815.0</td>\n",
       "      <td>1989.0</td>\n",
       "      <td>1859.0</td>\n",
       "      <td>1</td>\n",
       "    </tr>\n",
       "    <tr>\n",
       "      <td>1</td>\n",
       "      <td>167085</td>\n",
       "      <td>09/04/2018</td>\n",
       "      <td>4311</td>\n",
       "      <td>5420</td>\n",
       "      <td>62.0</td>\n",
       "      <td>93.0</td>\n",
       "      <td>851.0</td>\n",
       "      <td>626.0</td>\n",
       "      <td>1948.0</td>\n",
       "      <td>1768.0</td>\n",
       "      <td>0</td>\n",
       "    </tr>\n",
       "    <tr>\n",
       "      <td>2</td>\n",
       "      <td>167086</td>\n",
       "      <td>09/04/2018</td>\n",
       "      <td>5902</td>\n",
       "      <td>4291</td>\n",
       "      <td>61.0</td>\n",
       "      <td>91.0</td>\n",
       "      <td>864.0</td>\n",
       "      <td>638.0</td>\n",
       "      <td>1876.0</td>\n",
       "      <td>1844.0</td>\n",
       "      <td>0</td>\n",
       "    </tr>\n",
       "    <tr>\n",
       "      <td>3</td>\n",
       "      <td>167087</td>\n",
       "      <td>09/04/2018</td>\n",
       "      <td>3893</td>\n",
       "      <td>4994</td>\n",
       "      <td>57.0</td>\n",
       "      <td>55.0</td>\n",
       "      <td>895.0</td>\n",
       "      <td>932.0</td>\n",
       "      <td>1801.0</td>\n",
       "      <td>1868.0</td>\n",
       "      <td>0</td>\n",
       "    </tr>\n",
       "    <tr>\n",
       "      <td>4</td>\n",
       "      <td>167088</td>\n",
       "      <td>09/04/2018</td>\n",
       "      <td>4752</td>\n",
       "      <td>5333</td>\n",
       "      <td>38.0</td>\n",
       "      <td>102.0</td>\n",
       "      <td>1295.0</td>\n",
       "      <td>586.0</td>\n",
       "      <td>2040.0</td>\n",
       "      <td>1685.0</td>\n",
       "      <td>1</td>\n",
       "    </tr>\n",
       "  </tbody>\n",
       "</table>\n",
       "</div>"
      ],
      "text/plain": [
       "   match_id        date  player1_id  player2_id  player1_rank  player2_rank  \\\n",
       "0    167084  09/04/2018        6364        6196          26.0          65.0   \n",
       "1    167085  09/04/2018        4311        5420          62.0          93.0   \n",
       "2    167086  09/04/2018        5902        4291          61.0          91.0   \n",
       "3    167087  09/04/2018        3893        4994          57.0          55.0   \n",
       "4    167088  09/04/2018        4752        5333          38.0         102.0   \n",
       "\n",
       "   player1_rank_points  player2_rank_points  player1_elo_rating  \\\n",
       "0               1627.0                815.0              1989.0   \n",
       "1                851.0                626.0              1948.0   \n",
       "2                864.0                638.0              1876.0   \n",
       "3                895.0                932.0              1801.0   \n",
       "4               1295.0                586.0              2040.0   \n",
       "\n",
       "   player2_elo_rating  won  \n",
       "0              1859.0    1  \n",
       "1              1768.0    0  \n",
       "2              1844.0    0  \n",
       "3              1868.0    0  \n",
       "4              1685.0    1  "
      ]
     },
     "execution_count": 5,
     "metadata": {},
     "output_type": "execute_result"
    }
   ],
   "source": [
    "test_df.head()"
   ]
  },
  {
   "cell_type": "markdown",
   "metadata": {},
   "source": [
    "### Wrangle, prepare, cleanse data"
   ]
  },
  {
   "cell_type": "markdown",
   "metadata": {},
   "source": [
    "#### Analyse by describing data"
   ]
  },
  {
   "cell_type": "code",
   "execution_count": 6,
   "metadata": {},
   "outputs": [
    {
     "name": "stdout",
     "output_type": "stream",
     "text": [
      "<class 'pandas.core.frame.DataFrame'>\n",
      "RangeIndex: 11602 entries, 0 to 11601\n",
      "Data columns (total 11 columns):\n",
      "match_id               11602 non-null int64\n",
      "date                   11602 non-null object\n",
      "player1_id             11602 non-null int64\n",
      "player2_id             11602 non-null int64\n",
      "player1_rank           11507 non-null float64\n",
      "player2_rank           11505 non-null float64\n",
      "player1_rank_points    11507 non-null float64\n",
      "player2_rank_points    11505 non-null float64\n",
      "player1_elo_rating     11586 non-null float64\n",
      "player2_elo_rating     11586 non-null float64\n",
      "won                    11602 non-null int64\n",
      "dtypes: float64(6), int64(4), object(1)\n",
      "memory usage: 997.2+ KB\n"
     ]
    }
   ],
   "source": [
    "train_df.info()"
   ]
  },
  {
   "cell_type": "markdown",
   "metadata": {},
   "source": [
    "#### Verify how representative is training dataset"
   ]
  },
  {
   "cell_type": "code",
   "execution_count": 7,
   "metadata": {},
   "outputs": [
    {
     "data": {
      "text/html": [
       "<div>\n",
       "<style scoped>\n",
       "    .dataframe tbody tr th:only-of-type {\n",
       "        vertical-align: middle;\n",
       "    }\n",
       "\n",
       "    .dataframe tbody tr th {\n",
       "        vertical-align: top;\n",
       "    }\n",
       "\n",
       "    .dataframe thead th {\n",
       "        text-align: right;\n",
       "    }\n",
       "</style>\n",
       "<table border=\"1\" class=\"dataframe\">\n",
       "  <thead>\n",
       "    <tr style=\"text-align: right;\">\n",
       "      <th></th>\n",
       "      <th>match_id</th>\n",
       "      <th>player1_id</th>\n",
       "      <th>player2_id</th>\n",
       "      <th>player1_rank</th>\n",
       "      <th>player2_rank</th>\n",
       "      <th>player1_rank_points</th>\n",
       "      <th>player2_rank_points</th>\n",
       "      <th>player1_elo_rating</th>\n",
       "      <th>player2_elo_rating</th>\n",
       "      <th>won</th>\n",
       "    </tr>\n",
       "  </thead>\n",
       "  <tbody>\n",
       "    <tr>\n",
       "      <td>count</td>\n",
       "      <td>11602.000000</td>\n",
       "      <td>11602.000000</td>\n",
       "      <td>11602.000000</td>\n",
       "      <td>11507.000000</td>\n",
       "      <td>11505.000000</td>\n",
       "      <td>11507.000000</td>\n",
       "      <td>11505.000000</td>\n",
       "      <td>11586.000000</td>\n",
       "      <td>11586.000000</td>\n",
       "      <td>11602.000000</td>\n",
       "    </tr>\n",
       "    <tr>\n",
       "      <td>mean</td>\n",
       "      <td>160443.217290</td>\n",
       "      <td>5830.131874</td>\n",
       "      <td>5902.309516</td>\n",
       "      <td>101.983488</td>\n",
       "      <td>102.700304</td>\n",
       "      <td>1493.727557</td>\n",
       "      <td>1501.468144</td>\n",
       "      <td>1925.355256</td>\n",
       "      <td>1924.654756</td>\n",
       "      <td>0.499914</td>\n",
       "    </tr>\n",
       "    <tr>\n",
       "      <td>std</td>\n",
       "      <td>3656.338188</td>\n",
       "      <td>4543.194422</td>\n",
       "      <td>4756.332233</td>\n",
       "      <td>188.023829</td>\n",
       "      <td>195.194436</td>\n",
       "      <td>2011.202338</td>\n",
       "      <td>2074.862460</td>\n",
       "      <td>193.270879</td>\n",
       "      <td>193.829332</td>\n",
       "      <td>0.500022</td>\n",
       "    </tr>\n",
       "    <tr>\n",
       "      <td>min</td>\n",
       "      <td>154487.000000</td>\n",
       "      <td>644.000000</td>\n",
       "      <td>644.000000</td>\n",
       "      <td>1.000000</td>\n",
       "      <td>1.000000</td>\n",
       "      <td>1.000000</td>\n",
       "      <td>1.000000</td>\n",
       "      <td>1405.000000</td>\n",
       "      <td>1400.000000</td>\n",
       "      <td>0.000000</td>\n",
       "    </tr>\n",
       "    <tr>\n",
       "      <td>25%</td>\n",
       "      <td>157387.250000</td>\n",
       "      <td>4533.000000</td>\n",
       "      <td>4541.000000</td>\n",
       "      <td>24.000000</td>\n",
       "      <td>25.000000</td>\n",
       "      <td>579.000000</td>\n",
       "      <td>579.000000</td>\n",
       "      <td>1804.000000</td>\n",
       "      <td>1806.000000</td>\n",
       "      <td>0.000000</td>\n",
       "    </tr>\n",
       "    <tr>\n",
       "      <td>50%</td>\n",
       "      <td>160287.500000</td>\n",
       "      <td>5016.000000</td>\n",
       "      <td>5019.500000</td>\n",
       "      <td>53.000000</td>\n",
       "      <td>54.000000</td>\n",
       "      <td>865.000000</td>\n",
       "      <td>858.000000</td>\n",
       "      <td>1906.000000</td>\n",
       "      <td>1906.000000</td>\n",
       "      <td>0.000000</td>\n",
       "    </tr>\n",
       "    <tr>\n",
       "      <td>75%</td>\n",
       "      <td>163314.750000</td>\n",
       "      <td>5658.000000</td>\n",
       "      <td>5663.000000</td>\n",
       "      <td>96.000000</td>\n",
       "      <td>97.000000</td>\n",
       "      <td>1510.000000</td>\n",
       "      <td>1495.000000</td>\n",
       "      <td>2023.000000</td>\n",
       "      <td>2018.000000</td>\n",
       "      <td>1.000000</td>\n",
       "    </tr>\n",
       "    <tr>\n",
       "      <td>max</td>\n",
       "      <td>173783.000000</td>\n",
       "      <td>47166.000000</td>\n",
       "      <td>52374.000000</td>\n",
       "      <td>2166.000000</td>\n",
       "      <td>2159.000000</td>\n",
       "      <td>16950.000000</td>\n",
       "      <td>16950.000000</td>\n",
       "      <td>2630.000000</td>\n",
       "      <td>2628.000000</td>\n",
       "      <td>1.000000</td>\n",
       "    </tr>\n",
       "  </tbody>\n",
       "</table>\n",
       "</div>"
      ],
      "text/plain": [
       "            match_id    player1_id    player2_id  player1_rank  player2_rank  \\\n",
       "count   11602.000000  11602.000000  11602.000000  11507.000000  11505.000000   \n",
       "mean   160443.217290   5830.131874   5902.309516    101.983488    102.700304   \n",
       "std      3656.338188   4543.194422   4756.332233    188.023829    195.194436   \n",
       "min    154487.000000    644.000000    644.000000      1.000000      1.000000   \n",
       "25%    157387.250000   4533.000000   4541.000000     24.000000     25.000000   \n",
       "50%    160287.500000   5016.000000   5019.500000     53.000000     54.000000   \n",
       "75%    163314.750000   5658.000000   5663.000000     96.000000     97.000000   \n",
       "max    173783.000000  47166.000000  52374.000000   2166.000000   2159.000000   \n",
       "\n",
       "       player1_rank_points  player2_rank_points  player1_elo_rating  \\\n",
       "count         11507.000000         11505.000000        11586.000000   \n",
       "mean           1493.727557          1501.468144         1925.355256   \n",
       "std            2011.202338          2074.862460          193.270879   \n",
       "min               1.000000             1.000000         1405.000000   \n",
       "25%             579.000000           579.000000         1804.000000   \n",
       "50%             865.000000           858.000000         1906.000000   \n",
       "75%            1510.000000          1495.000000         2023.000000   \n",
       "max           16950.000000         16950.000000         2630.000000   \n",
       "\n",
       "       player2_elo_rating           won  \n",
       "count        11586.000000  11602.000000  \n",
       "mean          1924.654756      0.499914  \n",
       "std            193.829332      0.500022  \n",
       "min           1400.000000      0.000000  \n",
       "25%           1806.000000      0.000000  \n",
       "50%           1906.000000      0.000000  \n",
       "75%           2018.000000      1.000000  \n",
       "max           2628.000000      1.000000  "
      ]
     },
     "execution_count": 7,
     "metadata": {},
     "output_type": "execute_result"
    }
   ],
   "source": [
    "train_df.describe()"
   ]
  },
  {
   "cell_type": "markdown",
   "metadata": {},
   "source": [
    "We only have tennis tournaments with level above ATP 250, so it seems reasonable to have an average rank of 101-102"
   ]
  },
  {
   "cell_type": "markdown",
   "metadata": {},
   "source": [
    "We have to deal with missing values to plot ranks"
   ]
  },
  {
   "cell_type": "code",
   "execution_count": 8,
   "metadata": {},
   "outputs": [
    {
     "data": {
      "text/plain": [
       "match_id                0\n",
       "date                    0\n",
       "player1_id              0\n",
       "player2_id              0\n",
       "player1_rank           95\n",
       "player2_rank           97\n",
       "player1_rank_points    95\n",
       "player2_rank_points    97\n",
       "player1_elo_rating     16\n",
       "player2_elo_rating     16\n",
       "won                     0\n",
       "dtype: int64"
      ]
     },
     "execution_count": 8,
     "metadata": {},
     "output_type": "execute_result"
    }
   ],
   "source": [
    "train_df.isnull().sum()"
   ]
  },
  {
   "cell_type": "code",
   "execution_count": 9,
   "metadata": {},
   "outputs": [],
   "source": [
    "train_df = train_df.dropna(subset=['player1_rank', 'player2_rank'])"
   ]
  },
  {
   "cell_type": "code",
   "execution_count": 10,
   "metadata": {},
   "outputs": [
    {
     "data": {
      "text/plain": [
       "match_id                0\n",
       "date                    0\n",
       "player1_id              0\n",
       "player2_id              0\n",
       "player1_rank            0\n",
       "player2_rank            0\n",
       "player1_rank_points     0\n",
       "player2_rank_points     0\n",
       "player1_elo_rating     16\n",
       "player2_elo_rating     16\n",
       "won                     0\n",
       "dtype: int64"
      ]
     },
     "execution_count": 10,
     "metadata": {},
     "output_type": "execute_result"
    }
   ],
   "source": [
    "train_df.isnull().sum()"
   ]
  },
  {
   "cell_type": "code",
   "execution_count": 11,
   "metadata": {},
   "outputs": [
    {
     "data": {
      "text/plain": [
       "<matplotlib.axes._subplots.AxesSubplot at 0x2b3387373c8>"
      ]
     },
     "execution_count": 11,
     "metadata": {},
     "output_type": "execute_result"
    },
    {
     "data": {
      "image/png": "[encoded data removed]",
      "text/plain": [
       "<Figure size 432x288 with 1 Axes>"
      ]
     },
     "metadata": {
      "needs_background": "light"
     },
     "output_type": "display_data"
    }
   ],
   "source": [
    "sns.distplot(train_df['player1_rank'])"
   ]
  },
  {
   "cell_type": "code",
   "execution_count": 12,
   "metadata": {},
   "outputs": [
    {
     "data": {
      "text/plain": [
       "match_id                0\n",
       "date                    0\n",
       "player1_id              0\n",
       "player2_id              0\n",
       "player1_rank           13\n",
       "player2_rank           15\n",
       "player1_rank_points    13\n",
       "player2_rank_points    15\n",
       "player1_elo_rating     16\n",
       "player2_elo_rating     16\n",
       "won                     0\n",
       "dtype: int64"
      ]
     },
     "execution_count": 12,
     "metadata": {},
     "output_type": "execute_result"
    }
   ],
   "source": [
    "test_df.isnull().sum()"
   ]
  },
  {
   "cell_type": "code",
   "execution_count": 13,
   "metadata": {},
   "outputs": [],
   "source": [
    "test_df = test_df.dropna(subset=['player1_rank', 'player2_rank'])"
   ]
  },
  {
   "cell_type": "code",
   "execution_count": 14,
   "metadata": {},
   "outputs": [
    {
     "data": {
      "text/plain": [
       "match_id                0\n",
       "date                    0\n",
       "player1_id              0\n",
       "player2_id              0\n",
       "player1_rank            0\n",
       "player2_rank            0\n",
       "player1_rank_points     0\n",
       "player2_rank_points     0\n",
       "player1_elo_rating     16\n",
       "player2_elo_rating     16\n",
       "won                     0\n",
       "dtype: int64"
      ]
     },
     "execution_count": 14,
     "metadata": {},
     "output_type": "execute_result"
    }
   ],
   "source": [
    "test_df.isnull().sum()"
   ]
  },
  {
   "cell_type": "markdown",
   "metadata": {},
   "source": [
    "Drop columns that we don't want to use :"
   ]
  },
  {
   "cell_type": "code",
   "execution_count": 15,
   "metadata": {},
   "outputs": [],
   "source": [
    "train_df = train_df.drop(['match_id', 'date', 'player1_id', 'player2_id', 'player1_rank_points', 'player2_rank_points', 'player1_elo_rating', 'player2_elo_rating'], axis=1)"
   ]
  },
  {
   "cell_type": "code",
   "execution_count": 16,
   "metadata": {},
   "outputs": [],
   "source": [
    "test_df = test_df.drop(['match_id', 'date', 'player1_id', 'player2_id', 'player1_rank_points', 'player2_rank_points', 'player1_elo_rating', 'player2_elo_rating'], axis=1)"
   ]
  },
  {
   "cell_type": "markdown",
   "metadata": {},
   "source": [
    "Create rank difference feature"
   ]
  },
  {
   "cell_type": "code",
   "execution_count": 17,
   "metadata": {},
   "outputs": [],
   "source": [
    "train_df['rank_diff'] = train_df['player1_rank'] - train_df['player2_rank']\n",
    "train_df = train_df.drop(['player1_rank', 'player2_rank'], axis=1)"
   ]
  },
  {
   "cell_type": "code",
   "execution_count": 18,
   "metadata": {},
   "outputs": [],
   "source": [
    "test_df['rank_diff'] = test_df['player1_rank'] - test_df['player2_rank']\n",
    "test_df = test_df.drop(['player1_rank', 'player2_rank'], axis=1)"
   ]
  },
  {
   "cell_type": "markdown",
   "metadata": {},
   "source": [
    "Visualize rank"
   ]
  },
  {
   "cell_type": "code",
   "execution_count": 19,
   "metadata": {},
   "outputs": [
    {
     "data": {
      "image/png": "[encoded data removed]",
      "text/plain": [
       "<Figure size 432x216 with 2 Axes>"
      ]
     },
     "metadata": {
      "needs_background": "light"
     },
     "output_type": "display_data"
    }
   ],
   "source": [
    "g = sns.FacetGrid(train_df, col='won')\n",
    "g.map(plt.hist, 'rank_diff', bins=50)\n",
    "plt.show()"
   ]
  },
  {
   "cell_type": "code",
   "execution_count": 20,
   "metadata": {},
   "outputs": [
    {
     "data": {
      "text/plain": [
       "0    5718\n",
       "1    5705\n",
       "Name: won, dtype: int64"
      ]
     },
     "execution_count": 20,
     "metadata": {},
     "output_type": "execute_result"
    }
   ],
   "source": [
    "train_df['won'].value_counts()"
   ]
  },
  {
   "cell_type": "code",
   "execution_count": 21,
   "metadata": {},
   "outputs": [
    {
     "data": {
      "text/html": [
       "<div>\n",
       "<style scoped>\n",
       "    .dataframe tbody tr th:only-of-type {\n",
       "        vertical-align: middle;\n",
       "    }\n",
       "\n",
       "    .dataframe tbody tr th {\n",
       "        vertical-align: top;\n",
       "    }\n",
       "\n",
       "    .dataframe thead th {\n",
       "        text-align: right;\n",
       "    }\n",
       "</style>\n",
       "<table border=\"1\" class=\"dataframe\">\n",
       "  <thead>\n",
       "    <tr style=\"text-align: right;\">\n",
       "      <th></th>\n",
       "      <th>won</th>\n",
       "      <th>rank_diff</th>\n",
       "    </tr>\n",
       "  </thead>\n",
       "  <tbody>\n",
       "    <tr>\n",
       "      <td>0</td>\n",
       "      <td>1</td>\n",
       "      <td>35.0</td>\n",
       "    </tr>\n",
       "    <tr>\n",
       "      <td>1</td>\n",
       "      <td>0</td>\n",
       "      <td>76.0</td>\n",
       "    </tr>\n",
       "    <tr>\n",
       "      <td>2</td>\n",
       "      <td>0</td>\n",
       "      <td>78.0</td>\n",
       "    </tr>\n",
       "    <tr>\n",
       "      <td>3</td>\n",
       "      <td>0</td>\n",
       "      <td>-15.0</td>\n",
       "    </tr>\n",
       "    <tr>\n",
       "      <td>4</td>\n",
       "      <td>1</td>\n",
       "      <td>30.0</td>\n",
       "    </tr>\n",
       "  </tbody>\n",
       "</table>\n",
       "</div>"
      ],
      "text/plain": [
       "   won  rank_diff\n",
       "0    1       35.0\n",
       "1    0       76.0\n",
       "2    0       78.0\n",
       "3    0      -15.0\n",
       "4    1       30.0"
      ]
     },
     "execution_count": 21,
     "metadata": {},
     "output_type": "execute_result"
    }
   ],
   "source": [
    "train_df.head()"
   ]
  },
  {
   "cell_type": "markdown",
   "metadata": {},
   "source": [
    "Model, predict, solve"
   ]
  },
  {
   "cell_type": "code",
   "execution_count": 22,
   "metadata": {},
   "outputs": [],
   "source": [
    "# machine learning\n",
    "from sklearn.linear_model import LogisticRegression"
   ]
  },
  {
   "cell_type": "code",
   "execution_count": 23,
   "metadata": {},
   "outputs": [],
   "source": [
    "X_train = train_df.drop('won', axis=1)\n",
    "Y_train = train_df['won']\n",
    "X_test = test_df.drop('won', axis=1).copy()\n",
    "Y_test = test_df['won']"
   ]
  },
  {
   "cell_type": "code",
   "execution_count": 24,
   "metadata": {},
   "outputs": [],
   "source": [
    "# Logistic Regression\n",
    "\n",
    "logreg = LogisticRegression()\n",
    "logreg.fit(X_train, Y_train)\n",
    "Y_pred = logreg.predict(X_test)"
   ]
  },
  {
   "cell_type": "code",
   "execution_count": 25,
   "metadata": {},
   "outputs": [],
   "source": [
    "from sklearn.metrics import classification_report"
   ]
  },
  {
   "cell_type": "code",
   "execution_count": 26,
   "metadata": {},
   "outputs": [
    {
     "name": "stdout",
     "output_type": "stream",
     "text": [
      "              precision    recall  f1-score   support\n",
      "\n",
      "           0       0.65      0.64      0.65      1510\n",
      "           1       0.63      0.64      0.63      1437\n",
      "\n",
      "    accuracy                           0.64      2947\n",
      "   macro avg       0.64      0.64      0.64      2947\n",
      "weighted avg       0.64      0.64      0.64      2947\n",
      "\n"
     ]
    }
   ],
   "source": [
    "print(classification_report(Y_test, Y_pred))"
   ]
  },
  {
   "cell_type": "code",
   "execution_count": 27,
   "metadata": {},
   "outputs": [],
   "source": [
    "from sklearn.metrics import confusion_matrix"
   ]
  },
  {
   "cell_type": "code",
   "execution_count": 28,
   "metadata": {},
   "outputs": [
    {
     "data": {
      "text/plain": [
       "array([[972, 538],\n",
       "       [523, 914]], dtype=int64)"
      ]
     },
     "execution_count": 28,
     "metadata": {},
     "output_type": "execute_result"
    }
   ],
   "source": [
    "confusion_matrix(Y_test, Y_pred)"
   ]
  },
  {
   "cell_type": "code",
   "execution_count": 29,
   "metadata": {},
   "outputs": [
    {
     "data": {
      "text/plain": [
       "(2947,)"
      ]
     },
     "execution_count": 29,
     "metadata": {},
     "output_type": "execute_result"
    }
   ],
   "source": [
    "Y_test.shape"
   ]
  },
  {
   "cell_type": "markdown",
   "metadata": {},
   "source": [
    "accuracy = (True positive + True negative) / (all population)"
   ]
  },
  {
   "cell_type": "code",
   "execution_count": 30,
   "metadata": {},
   "outputs": [
    {
     "data": {
      "text/plain": [
       "0.6399728537495758"
      ]
     },
     "execution_count": 30,
     "metadata": {},
     "output_type": "execute_result"
    }
   ],
   "source": [
    "(972+914)/2947"
   ]
  },
  {
   "cell_type": "markdown",
   "metadata": {},
   "source": [
    "**Questions** we have :\n",
    "- How to do when we always have player_1 won ? Do we need to balance test dataset ?\n",
    "- How to interpret the coefficients ?\n",
    "- Model evaluation f1-score, accuracy ? How to truly evaluate our model ?"
   ]
  },
  {
   "cell_type": "markdown",
   "metadata": {},
   "source": [
    "Calculate our odds (to see for a future betting strategy) :"
   ]
  },
  {
   "cell_type": "code",
   "execution_count": 31,
   "metadata": {},
   "outputs": [
    {
     "data": {
      "text/html": [
       "<div>\n",
       "<style scoped>\n",
       "    .dataframe tbody tr th:only-of-type {\n",
       "        vertical-align: middle;\n",
       "    }\n",
       "\n",
       "    .dataframe tbody tr th {\n",
       "        vertical-align: top;\n",
       "    }\n",
       "\n",
       "    .dataframe thead th {\n",
       "        text-align: right;\n",
       "    }\n",
       "</style>\n",
       "<table border=\"1\" class=\"dataframe\">\n",
       "  <thead>\n",
       "    <tr style=\"text-align: right;\">\n",
       "      <th></th>\n",
       "      <th>Feature</th>\n",
       "      <th>Coefficient</th>\n",
       "    </tr>\n",
       "  </thead>\n",
       "  <tbody>\n",
       "    <tr>\n",
       "      <td>0</td>\n",
       "      <td>rank_diff</td>\n",
       "      <td>-0.00501</td>\n",
       "    </tr>\n",
       "  </tbody>\n",
       "</table>\n",
       "</div>"
      ],
      "text/plain": [
       "     Feature  Coefficient\n",
       "0  rank_diff     -0.00501"
      ]
     },
     "execution_count": 31,
     "metadata": {},
     "output_type": "execute_result"
    }
   ],
   "source": [
    "pd.DataFrame({'Feature': ['rank_diff'], 'Coefficient': logreg.coef_[0]})"
   ]
  },
  {
   "cell_type": "markdown",
   "metadata": {},
   "source": [
    "When rank_diff increases the logit odd decreases"
   ]
  },
  {
   "cell_type": "code",
   "execution_count": 32,
   "metadata": {},
   "outputs": [
    {
     "data": {
      "text/plain": [
       "array([-0.00365532])"
      ]
     },
     "execution_count": 32,
     "metadata": {},
     "output_type": "execute_result"
    }
   ],
   "source": [
    "logreg.intercept_"
   ]
  },
  {
   "cell_type": "code",
   "execution_count": 33,
   "metadata": {},
   "outputs": [
    {
     "data": {
      "text/html": [
       "<div>\n",
       "<style scoped>\n",
       "    .dataframe tbody tr th:only-of-type {\n",
       "        vertical-align: middle;\n",
       "    }\n",
       "\n",
       "    .dataframe tbody tr th {\n",
       "        vertical-align: top;\n",
       "    }\n",
       "\n",
       "    .dataframe thead th {\n",
       "        text-align: right;\n",
       "    }\n",
       "</style>\n",
       "<table border=\"1\" class=\"dataframe\">\n",
       "  <thead>\n",
       "    <tr style=\"text-align: right;\">\n",
       "      <th></th>\n",
       "      <th>won</th>\n",
       "      <th>rank_diff</th>\n",
       "    </tr>\n",
       "  </thead>\n",
       "  <tbody>\n",
       "    <tr>\n",
       "      <td>0</td>\n",
       "      <td>1</td>\n",
       "      <td>-39.0</td>\n",
       "    </tr>\n",
       "    <tr>\n",
       "      <td>1</td>\n",
       "      <td>0</td>\n",
       "      <td>-31.0</td>\n",
       "    </tr>\n",
       "    <tr>\n",
       "      <td>2</td>\n",
       "      <td>0</td>\n",
       "      <td>-30.0</td>\n",
       "    </tr>\n",
       "    <tr>\n",
       "      <td>3</td>\n",
       "      <td>0</td>\n",
       "      <td>2.0</td>\n",
       "    </tr>\n",
       "    <tr>\n",
       "      <td>4</td>\n",
       "      <td>1</td>\n",
       "      <td>-64.0</td>\n",
       "    </tr>\n",
       "  </tbody>\n",
       "</table>\n",
       "</div>"
      ],
      "text/plain": [
       "   won  rank_diff\n",
       "0    1      -39.0\n",
       "1    0      -31.0\n",
       "2    0      -30.0\n",
       "3    0        2.0\n",
       "4    1      -64.0"
      ]
     },
     "execution_count": 33,
     "metadata": {},
     "output_type": "execute_result"
    }
   ],
   "source": [
    "test_df.head()"
   ]
  },
  {
   "cell_type": "code",
   "execution_count": 34,
   "metadata": {},
   "outputs": [],
   "source": [
    "import math"
   ]
  },
  {
   "cell_type": "code",
   "execution_count": 35,
   "metadata": {},
   "outputs": [
    {
     "data": {
      "text/plain": [
       "1.2113489869894645"
      ]
     },
     "execution_count": 35,
     "metadata": {},
     "output_type": "execute_result"
    }
   ],
   "source": [
    "math.exp(logreg.intercept_+logreg.coef_[0][0]*(-39))"
   ]
  }
 ],
 "metadata": {
  "kernelspec": {
   "display_name": "Python 3",
   "language": "python",
   "name": "python3"
  },
  "language_info": {
   "codemirror_mode": {
    "name": "ipython",
    "version": 3
   },
   "file_extension": ".py",
   "mimetype": "text/x-python",
   "name": "python",
   "nbconvert_exporter": "python",
   "pygments_lexer": "ipython3",
   "version": "3.7.4"
  }
 },
 "nbformat": 4,
 "nbformat_minor": 4
}
