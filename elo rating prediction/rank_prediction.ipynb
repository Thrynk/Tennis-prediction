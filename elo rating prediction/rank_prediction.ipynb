{
 "cells": [
  {
   "cell_type": "markdown",
   "metadata": {},
   "source": [
    "# Prediction with Rank\n",
    "\n",
    "### Question or problem definition\n",
    "\n",
    "But : Déterminer quel joueur va gagner en fonction du rang\n",
    "\n",
    "### Acquire training and testing data\n",
    "\n",
    "Importer les librairies nécessaires :"
   ]
  },
  {
   "cell_type": "code",
   "execution_count": 1,
   "metadata": {},
   "outputs": [],
   "source": [
    "import pandas as pd\n",
    "import numpy as np\n",
    "import random as rnd\n",
    "\n",
    "# visualization\n",
    "import seaborn as sns\n",
    "import matplotlib.pyplot as plt\n",
    "%matplotlib inline"
   ]
  },
  {
   "cell_type": "markdown",
   "metadata": {},
   "source": [
    "### Acquire Data"
   ]
  },
  {
   "cell_type": "code",
   "execution_count": 2,
   "metadata": {},
   "outputs": [],
   "source": [
    "train_df = pd.read_csv('input/balanced-2014-2017.csv')\n",
    "test_df = pd.read_csv('input/balanced-2018.csv')\n",
    "combine = [train_df, test_df]"
   ]
  },
  {
   "cell_type": "code",
   "execution_count": 3,
   "metadata": {},
   "outputs": [
    {
     "data": {
      "text/html": [
       "<div>\n",
       "<style scoped>\n",
       "    .dataframe tbody tr th:only-of-type {\n",
       "        vertical-align: middle;\n",
       "    }\n",
       "\n",
       "    .dataframe tbody tr th {\n",
       "        vertical-align: top;\n",
       "    }\n",
       "\n",
       "    .dataframe thead th {\n",
       "        text-align: right;\n",
       "    }\n",
       "</style>\n",
       "<table border=\"1\" class=\"dataframe\">\n",
       "  <thead>\n",
       "    <tr style=\"text-align: right;\">\n",
       "      <th></th>\n",
       "      <th>match_id</th>\n",
       "      <th>date</th>\n",
       "      <th>player1_id</th>\n",
       "      <th>player2_id</th>\n",
       "      <th>player1_rank</th>\n",
       "      <th>player2_rank</th>\n",
       "      <th>player1_rank_points</th>\n",
       "      <th>player2_rank_points</th>\n",
       "      <th>player1_elo_rating</th>\n",
       "      <th>player2_elo_rating</th>\n",
       "      <th>won</th>\n",
       "    </tr>\n",
       "  </thead>\n",
       "  <tbody>\n",
       "    <tr>\n",
       "      <td>0</td>\n",
       "      <td>155602</td>\n",
       "      <td>21/04/2014</td>\n",
       "      <td>4894</td>\n",
       "      <td>4022</td>\n",
       "      <td>50.0</td>\n",
       "      <td>15.0</td>\n",
       "      <td>947.0</td>\n",
       "      <td>2065.0</td>\n",
       "      <td>1867.0</td>\n",
       "      <td>2036.0</td>\n",
       "      <td>1</td>\n",
       "    </tr>\n",
       "    <tr>\n",
       "      <td>1</td>\n",
       "      <td>155603</td>\n",
       "      <td>21/04/2014</td>\n",
       "      <td>4659</td>\n",
       "      <td>5763</td>\n",
       "      <td>92.0</td>\n",
       "      <td>16.0</td>\n",
       "      <td>605.0</td>\n",
       "      <td>2040.0</td>\n",
       "      <td>1861.0</td>\n",
       "      <td>2112.0</td>\n",
       "      <td>0</td>\n",
       "    </tr>\n",
       "    <tr>\n",
       "      <td>2</td>\n",
       "      <td>155604</td>\n",
       "      <td>21/04/2014</td>\n",
       "      <td>3908</td>\n",
       "      <td>4789</td>\n",
       "      <td>102.0</td>\n",
       "      <td>24.0</td>\n",
       "      <td>569.0</td>\n",
       "      <td>1580.0</td>\n",
       "      <td>1871.0</td>\n",
       "      <td>2085.0</td>\n",
       "      <td>0</td>\n",
       "    </tr>\n",
       "    <tr>\n",
       "      <td>3</td>\n",
       "      <td>155605</td>\n",
       "      <td>21/04/2014</td>\n",
       "      <td>4467</td>\n",
       "      <td>4585</td>\n",
       "      <td>28.0</td>\n",
       "      <td>43.0</td>\n",
       "      <td>1315.0</td>\n",
       "      <td>1016.0</td>\n",
       "      <td>1979.0</td>\n",
       "      <td>1902.0</td>\n",
       "      <td>0</td>\n",
       "    </tr>\n",
       "    <tr>\n",
       "      <td>4</td>\n",
       "      <td>155202</td>\n",
       "      <td>06/03/2014</td>\n",
       "      <td>5231</td>\n",
       "      <td>4742</td>\n",
       "      <td>31.0</td>\n",
       "      <td>1.0</td>\n",
       "      <td>1205.0</td>\n",
       "      <td>14085.0</td>\n",
       "      <td>1992.0</td>\n",
       "      <td>2510.0</td>\n",
       "      <td>1</td>\n",
       "    </tr>\n",
       "  </tbody>\n",
       "</table>\n",
       "</div>"
      ],
      "text/plain": [
       "   match_id        date  player1_id  player2_id  player1_rank  player2_rank  \\\n",
       "0    155602  21/04/2014        4894        4022          50.0          15.0   \n",
       "1    155603  21/04/2014        4659        5763          92.0          16.0   \n",
       "2    155604  21/04/2014        3908        4789         102.0          24.0   \n",
       "3    155605  21/04/2014        4467        4585          28.0          43.0   \n",
       "4    155202  06/03/2014        5231        4742          31.0           1.0   \n",
       "\n",
       "   player1_rank_points  player2_rank_points  player1_elo_rating  \\\n",
       "0                947.0               2065.0              1867.0   \n",
       "1                605.0               2040.0              1861.0   \n",
       "2                569.0               1580.0              1871.0   \n",
       "3               1315.0               1016.0              1979.0   \n",
       "4               1205.0              14085.0              1992.0   \n",
       "\n",
       "   player2_elo_rating  won  \n",
       "0              2036.0    1  \n",
       "1              2112.0    0  \n",
       "2              2085.0    0  \n",
       "3              1902.0    0  \n",
       "4              2510.0    1  "
      ]
     },
     "execution_count": 3,
     "metadata": {},
     "output_type": "execute_result"
    }
   ],
   "source": [
    "train_df.head()"
   ]
  },
  {
   "cell_type": "markdown",
   "metadata": {},
   "source": [
    "### Analyze by describing data\n",
    "\n",
    "Which features are available in the dataset?"
   ]
  },
  {
   "cell_type": "code",
   "execution_count": 4,
   "metadata": {},
   "outputs": [
    {
     "name": "stdout",
     "output_type": "stream",
     "text": [
      "['match_id' 'date' 'player1_id' 'player2_id' 'player1_rank' 'player2_rank'\n",
      " 'player1_rank_points' 'player2_rank_points' 'player1_elo_rating'\n",
      " 'player2_elo_rating' 'won']\n"
     ]
    }
   ],
   "source": [
    "print(train_df.columns.values)"
   ]
  },
  {
   "cell_type": "code",
   "execution_count": 5,
   "metadata": {},
   "outputs": [
    {
     "name": "stdout",
     "output_type": "stream",
     "text": [
      "<class 'pandas.core.frame.DataFrame'>\n",
      "RangeIndex: 11602 entries, 0 to 11601\n",
      "Data columns (total 11 columns):\n",
      "match_id               11602 non-null int64\n",
      "date                   11602 non-null object\n",
      "player1_id             11602 non-null int64\n",
      "player2_id             11602 non-null int64\n",
      "player1_rank           11507 non-null float64\n",
      "player2_rank           11505 non-null float64\n",
      "player1_rank_points    11507 non-null float64\n",
      "player2_rank_points    11505 non-null float64\n",
      "player1_elo_rating     11586 non-null float64\n",
      "player2_elo_rating     11586 non-null float64\n",
      "won                    11602 non-null int64\n",
      "dtypes: float64(6), int64(4), object(1)\n",
      "memory usage: 997.2+ KB\n",
      "________________________________________\n",
      "<class 'pandas.core.frame.DataFrame'>\n",
      "RangeIndex: 2974 entries, 0 to 2973\n",
      "Data columns (total 11 columns):\n",
      "match_id               2974 non-null int64\n",
      "date                   2974 non-null object\n",
      "player1_id             2974 non-null int64\n",
      "player2_id             2974 non-null int64\n",
      "player1_rank           2961 non-null float64\n",
      "player2_rank           2959 non-null float64\n",
      "player1_rank_points    2961 non-null float64\n",
      "player2_rank_points    2959 non-null float64\n",
      "player1_elo_rating     2958 non-null float64\n",
      "player2_elo_rating     2958 non-null float64\n",
      "won                    2974 non-null int64\n",
      "dtypes: float64(6), int64(4), object(1)\n",
      "memory usage: 255.7+ KB\n"
     ]
    }
   ],
   "source": [
    "train_df.info()\n",
    "print('_'*40)\n",
    "test_df.info()"
   ]
  },
  {
   "cell_type": "markdown",
   "metadata": {},
   "source": [
    "Features contain blank, null or empty values :\n",
    "- train :\n",
    "    - player1_rank\n",
    "    - player2_rank\n",
    "    - player1_rank_points\n",
    "    - player2_rank_points\n",
    "    - player1_elo_rating\n",
    "    - player2_elo_rating\n",
    "- test :\n",
    "    - player1_rank\n",
    "    - player2_rank\n",
    "    - player1_rank_points\n",
    "    - player2_rank_points\n",
    "    - player1_elo_rating\n",
    "    - player2_elo_rating"
   ]
  },
  {
   "cell_type": "code",
   "execution_count": 6,
   "metadata": {},
   "outputs": [],
   "source": [
    "train_df = train_df.dropna(subset=['player1_elo_rating','player2_elo_rating'])\n",
    "test_df = test_df.dropna(subset=['player1_elo_rating','player2_elo_rating'])\n",
    "combine = [train_df, test_df]"
   ]
  },
  {
   "cell_type": "code",
   "execution_count": 7,
   "metadata": {},
   "outputs": [],
   "source": [
    "train_df = train_df.drop(['match_id','date','player1_id','player2_id','player1_rank','player2_rank','player1_rank_points','player2_rank_points'], axis=1)\n",
    "test_df = test_df.drop(['match_id','date','player1_id','player2_id','player1_rank','player2_rank','player1_rank_points','player2_rank_points'], axis=1)"
   ]
  },
  {
   "cell_type": "code",
   "execution_count": 8,
   "metadata": {},
   "outputs": [
    {
     "data": {
      "text/html": [
       "<div>\n",
       "<style scoped>\n",
       "    .dataframe tbody tr th:only-of-type {\n",
       "        vertical-align: middle;\n",
       "    }\n",
       "\n",
       "    .dataframe tbody tr th {\n",
       "        vertical-align: top;\n",
       "    }\n",
       "\n",
       "    .dataframe thead th {\n",
       "        text-align: right;\n",
       "    }\n",
       "</style>\n",
       "<table border=\"1\" class=\"dataframe\">\n",
       "  <thead>\n",
       "    <tr style=\"text-align: right;\">\n",
       "      <th></th>\n",
       "      <th>player1_elo_rating</th>\n",
       "      <th>player2_elo_rating</th>\n",
       "      <th>won</th>\n",
       "    </tr>\n",
       "  </thead>\n",
       "  <tbody>\n",
       "    <tr>\n",
       "      <td>0</td>\n",
       "      <td>1867.0</td>\n",
       "      <td>2036.0</td>\n",
       "      <td>1</td>\n",
       "    </tr>\n",
       "    <tr>\n",
       "      <td>1</td>\n",
       "      <td>1861.0</td>\n",
       "      <td>2112.0</td>\n",
       "      <td>0</td>\n",
       "    </tr>\n",
       "    <tr>\n",
       "      <td>2</td>\n",
       "      <td>1871.0</td>\n",
       "      <td>2085.0</td>\n",
       "      <td>0</td>\n",
       "    </tr>\n",
       "    <tr>\n",
       "      <td>3</td>\n",
       "      <td>1979.0</td>\n",
       "      <td>1902.0</td>\n",
       "      <td>0</td>\n",
       "    </tr>\n",
       "    <tr>\n",
       "      <td>4</td>\n",
       "      <td>1992.0</td>\n",
       "      <td>2510.0</td>\n",
       "      <td>1</td>\n",
       "    </tr>\n",
       "  </tbody>\n",
       "</table>\n",
       "</div>"
      ],
      "text/plain": [
       "   player1_elo_rating  player2_elo_rating  won\n",
       "0              1867.0              2036.0    1\n",
       "1              1861.0              2112.0    0\n",
       "2              1871.0              2085.0    0\n",
       "3              1979.0              1902.0    0\n",
       "4              1992.0              2510.0    1"
      ]
     },
     "execution_count": 8,
     "metadata": {},
     "output_type": "execute_result"
    }
   ],
   "source": [
    "train_df.head()"
   ]
  },
  {
   "cell_type": "code",
   "execution_count": 9,
   "metadata": {},
   "outputs": [
    {
     "data": {
      "text/html": [
       "<div>\n",
       "<style scoped>\n",
       "    .dataframe tbody tr th:only-of-type {\n",
       "        vertical-align: middle;\n",
       "    }\n",
       "\n",
       "    .dataframe tbody tr th {\n",
       "        vertical-align: top;\n",
       "    }\n",
       "\n",
       "    .dataframe thead th {\n",
       "        text-align: right;\n",
       "    }\n",
       "</style>\n",
       "<table border=\"1\" class=\"dataframe\">\n",
       "  <thead>\n",
       "    <tr style=\"text-align: right;\">\n",
       "      <th></th>\n",
       "      <th>player1_elo_rating</th>\n",
       "      <th>player2_elo_rating</th>\n",
       "      <th>won</th>\n",
       "    </tr>\n",
       "  </thead>\n",
       "  <tbody>\n",
       "    <tr>\n",
       "      <td>0</td>\n",
       "      <td>1989.0</td>\n",
       "      <td>1859.0</td>\n",
       "      <td>1</td>\n",
       "    </tr>\n",
       "    <tr>\n",
       "      <td>1</td>\n",
       "      <td>1948.0</td>\n",
       "      <td>1768.0</td>\n",
       "      <td>0</td>\n",
       "    </tr>\n",
       "    <tr>\n",
       "      <td>2</td>\n",
       "      <td>1876.0</td>\n",
       "      <td>1844.0</td>\n",
       "      <td>0</td>\n",
       "    </tr>\n",
       "    <tr>\n",
       "      <td>3</td>\n",
       "      <td>1801.0</td>\n",
       "      <td>1868.0</td>\n",
       "      <td>0</td>\n",
       "    </tr>\n",
       "    <tr>\n",
       "      <td>4</td>\n",
       "      <td>2040.0</td>\n",
       "      <td>1685.0</td>\n",
       "      <td>1</td>\n",
       "    </tr>\n",
       "  </tbody>\n",
       "</table>\n",
       "</div>"
      ],
      "text/plain": [
       "   player1_elo_rating  player2_elo_rating  won\n",
       "0              1989.0              1859.0    1\n",
       "1              1948.0              1768.0    0\n",
       "2              1876.0              1844.0    0\n",
       "3              1801.0              1868.0    0\n",
       "4              2040.0              1685.0    1"
      ]
     },
     "execution_count": 9,
     "metadata": {},
     "output_type": "execute_result"
    }
   ],
   "source": [
    "test_df.head()"
   ]
  },
  {
   "cell_type": "code",
   "execution_count": 10,
   "metadata": {},
   "outputs": [
    {
     "data": {
      "text/html": [
       "<div>\n",
       "<style scoped>\n",
       "    .dataframe tbody tr th:only-of-type {\n",
       "        vertical-align: middle;\n",
       "    }\n",
       "\n",
       "    .dataframe tbody tr th {\n",
       "        vertical-align: top;\n",
       "    }\n",
       "\n",
       "    .dataframe thead th {\n",
       "        text-align: right;\n",
       "    }\n",
       "</style>\n",
       "<table border=\"1\" class=\"dataframe\">\n",
       "  <thead>\n",
       "    <tr style=\"text-align: right;\">\n",
       "      <th></th>\n",
       "      <th>won</th>\n",
       "      <th>dif_elo_rating</th>\n",
       "    </tr>\n",
       "  </thead>\n",
       "  <tbody>\n",
       "    <tr>\n",
       "      <td>0</td>\n",
       "      <td>1</td>\n",
       "      <td>-169.0</td>\n",
       "    </tr>\n",
       "    <tr>\n",
       "      <td>1</td>\n",
       "      <td>0</td>\n",
       "      <td>-251.0</td>\n",
       "    </tr>\n",
       "    <tr>\n",
       "      <td>2</td>\n",
       "      <td>0</td>\n",
       "      <td>-214.0</td>\n",
       "    </tr>\n",
       "    <tr>\n",
       "      <td>3</td>\n",
       "      <td>0</td>\n",
       "      <td>77.0</td>\n",
       "    </tr>\n",
       "    <tr>\n",
       "      <td>4</td>\n",
       "      <td>1</td>\n",
       "      <td>-518.0</td>\n",
       "    </tr>\n",
       "  </tbody>\n",
       "</table>\n",
       "</div>"
      ],
      "text/plain": [
       "   won  dif_elo_rating\n",
       "0    1          -169.0\n",
       "1    0          -251.0\n",
       "2    0          -214.0\n",
       "3    0            77.0\n",
       "4    1          -518.0"
      ]
     },
     "execution_count": 10,
     "metadata": {},
     "output_type": "execute_result"
    }
   ],
   "source": [
    "combine = [train_df, test_df]\n",
    "for dataset in combine:\n",
    "    dataset['dif_elo_rating'] = dataset['player1_elo_rating'] - dataset['player2_elo_rating']\n",
    "train_df = train_df.drop(['player1_elo_rating','player2_elo_rating'], axis=1)\n",
    "test_df = test_df.drop(['player1_elo_rating','player2_elo_rating'], axis=1)\n",
    "train_df.head()"
   ]
  },
  {
   "cell_type": "markdown",
   "metadata": {},
   "source": [
    "### Model, predict and solve"
   ]
  },
  {
   "cell_type": "code",
   "execution_count": 11,
   "metadata": {},
   "outputs": [],
   "source": [
    "# machine learning\n",
    "from sklearn.linear_model import LogisticRegression"
   ]
  },
  {
   "cell_type": "code",
   "execution_count": 12,
   "metadata": {},
   "outputs": [
    {
     "data": {
      "text/plain": [
       "((11586, 1), (11586,), (2958, 1))"
      ]
     },
     "execution_count": 12,
     "metadata": {},
     "output_type": "execute_result"
    }
   ],
   "source": [
    "X_train = train_df.drop(\"won\", axis=1)\n",
    "Y_train = train_df[\"won\"]\n",
    "X_test = test_df.drop('won', axis=1).copy()\n",
    "Y_test = test_df['won']\n",
    "X_train.shape, Y_train.shape, X_test.shape"
   ]
  },
  {
   "cell_type": "code",
   "execution_count": 13,
   "metadata": {},
   "outputs": [],
   "source": [
    "# Logistic Regression\n",
    "\n",
    "logreg = LogisticRegression()\n",
    "logreg.fit(X_train, Y_train)\n",
    "Y_pred = logreg.predict(X_test)"
   ]
  },
  {
   "cell_type": "code",
   "execution_count": 34,
   "metadata": {},
   "outputs": [],
   "source": [
    "from sklearn.metrics import classification_report, log_loss"
   ]
  },
  {
   "cell_type": "code",
   "execution_count": 15,
   "metadata": {},
   "outputs": [
    {
     "name": "stdout",
     "output_type": "stream",
     "text": [
      "              precision    recall  f1-score   support\n",
      "\n",
      "           0       0.66      0.65      0.66      1519\n",
      "           1       0.64      0.65      0.64      1439\n",
      "\n",
      "    accuracy                           0.65      2958\n",
      "   macro avg       0.65      0.65      0.65      2958\n",
      "weighted avg       0.65      0.65      0.65      2958\n",
      "\n"
     ]
    }
   ],
   "source": [
    "print(classification_report(Y_test, Y_pred))"
   ]
  },
  {
   "cell_type": "code",
   "execution_count": 16,
   "metadata": {},
   "outputs": [],
   "source": [
    "from sklearn.metrics import confusion_matrix"
   ]
  },
  {
   "cell_type": "code",
   "execution_count": 17,
   "metadata": {},
   "outputs": [
    {
     "data": {
      "text/plain": [
       "array([[987, 532],\n",
       "       [501, 938]], dtype=int64)"
      ]
     },
     "execution_count": 17,
     "metadata": {},
     "output_type": "execute_result"
    }
   ],
   "source": [
    "confusion_matrix(Y_test, Y_pred)"
   ]
  },
  {
   "cell_type": "code",
   "execution_count": 18,
   "metadata": {},
   "outputs": [
    {
     "data": {
      "text/plain": [
       "(2958,)"
      ]
     },
     "execution_count": 18,
     "metadata": {},
     "output_type": "execute_result"
    }
   ],
   "source": [
    "Y_test.shape"
   ]
  },
  {
   "cell_type": "code",
   "execution_count": 19,
   "metadata": {},
   "outputs": [
    {
     "data": {
      "text/plain": [
       "0.6507775524002705"
      ]
     },
     "execution_count": 19,
     "metadata": {},
     "output_type": "execute_result"
    }
   ],
   "source": [
    "(987+938)/2958"
   ]
  },
  {
   "cell_type": "markdown",
   "metadata": {},
   "source": [
    "Test on 2019 data :"
   ]
  },
  {
   "cell_type": "code",
   "execution_count": 23,
   "metadata": {},
   "outputs": [],
   "source": [
    "test_df_2019 = pd.read_csv('input/balanced-2019.csv')"
   ]
  },
  {
   "cell_type": "code",
   "execution_count": 24,
   "metadata": {},
   "outputs": [
    {
     "data": {
      "text/plain": [
       "match_id                0\n",
       "date                    0\n",
       "player1_id              0\n",
       "player2_id              0\n",
       "player1_rank           13\n",
       "player2_rank           15\n",
       "player1_rank_points    13\n",
       "player2_rank_points    15\n",
       "player1_elo_rating     16\n",
       "player2_elo_rating     16\n",
       "won                     0\n",
       "dtype: int64"
      ]
     },
     "execution_count": 24,
     "metadata": {},
     "output_type": "execute_result"
    }
   ],
   "source": [
    "test_df_2019.isnull().sum()"
   ]
  },
  {
   "cell_type": "code",
   "execution_count": 25,
   "metadata": {},
   "outputs": [],
   "source": [
    "test_df_2019 = test_df_2019.dropna(subset=['player1_elo_rating', 'player2_elo_rating'])"
   ]
  },
  {
   "cell_type": "code",
   "execution_count": 26,
   "metadata": {},
   "outputs": [],
   "source": [
    "test_df_2019 = test_df_2019.drop(['match_id', 'date', 'player1_id', 'player2_id', 'player1_rank_points', 'player2_rank_points', 'player1_rank', 'player2_rank'], axis=1)"
   ]
  },
  {
   "cell_type": "code",
   "execution_count": 27,
   "metadata": {},
   "outputs": [],
   "source": [
    "test_df_2019['elo_rating_diff'] = test_df_2019['player1_elo_rating'] - test_df_2019['player2_elo_rating']\n",
    "test_df_2019 = test_df_2019.drop(['player1_elo_rating', 'player2_elo_rating'], axis=1)"
   ]
  },
  {
   "cell_type": "code",
   "execution_count": 28,
   "metadata": {},
   "outputs": [],
   "source": [
    "train_df_2014_2018 = pd.concat([train_df, test_df])"
   ]
  },
  {
   "cell_type": "code",
   "execution_count": 29,
   "metadata": {},
   "outputs": [
    {
     "data": {
      "text/plain": [
       "0    7311\n",
       "1    7233\n",
       "Name: won, dtype: int64"
      ]
     },
     "execution_count": 29,
     "metadata": {},
     "output_type": "execute_result"
    }
   ],
   "source": [
    "train_df_2014_2018['won'].value_counts()"
   ]
  },
  {
   "cell_type": "code",
   "execution_count": 30,
   "metadata": {},
   "outputs": [],
   "source": [
    "X_train_2014_2018 = train_df_2014_2018.drop('won', axis=1)\n",
    "Y_train_2014_2018 = train_df_2014_2018['won']\n",
    "X_test_2019 = test_df_2019.drop('won', axis=1).copy()\n",
    "Y_test_2019 = test_df_2019['won']"
   ]
  },
  {
   "cell_type": "code",
   "execution_count": 31,
   "metadata": {},
   "outputs": [],
   "source": [
    "# Logistic Regression\n",
    "\n",
    "logreg = LogisticRegression()\n",
    "logreg.fit(X_train_2014_2018, Y_train_2014_2018)\n",
    "Y_pred_2019 = logreg.predict(X_test_2019)"
   ]
  },
  {
   "cell_type": "code",
   "execution_count": 32,
   "metadata": {},
   "outputs": [
    {
     "name": "stdout",
     "output_type": "stream",
     "text": [
      "              precision    recall  f1-score   support\n",
      "\n",
      "           0       0.66      0.66      0.66      1519\n",
      "           1       0.64      0.64      0.64      1439\n",
      "\n",
      "    accuracy                           0.65      2958\n",
      "   macro avg       0.65      0.65      0.65      2958\n",
      "weighted avg       0.65      0.65      0.65      2958\n",
      "\n"
     ]
    }
   ],
   "source": [
    "print(classification_report(Y_test_2019, Y_pred_2019))"
   ]
  },
  {
   "cell_type": "code",
   "execution_count": 35,
   "metadata": {},
   "outputs": [
    {
     "data": {
      "text/plain": [
       "0.6254623580975438"
      ]
     },
     "execution_count": 35,
     "metadata": {},
     "output_type": "execute_result"
    }
   ],
   "source": [
    "log_loss(Y_test_2019, logreg.predict_proba(X_test_2019))"
   ]
  }
 ],
 "metadata": {
  "kernelspec": {
   "display_name": "Python 3",
   "language": "python",
   "name": "python3"
  },
  "language_info": {
   "codemirror_mode": {
    "name": "ipython",
    "version": 3
   },
   "file_extension": ".py",
   "mimetype": "text/x-python",
   "name": "python",
   "nbconvert_exporter": "python",
   "pygments_lexer": "ipython3",
   "version": "3.7.4"
  }
 },
 "nbformat": 4,
 "nbformat_minor": 4
}
