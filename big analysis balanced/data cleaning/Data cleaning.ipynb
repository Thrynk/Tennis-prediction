{
 "cells": [
  {
   "cell_type": "code",
   "execution_count": 23,
   "metadata": {},
   "outputs": [],
   "source": [
    "import pandas as pd\n",
    "import os"
   ]
  },
  {
   "cell_type": "code",
   "execution_count": 24,
   "metadata": {},
   "outputs": [],
   "source": [
    "train_df = pd.read_csv(os.path.abspath('../input/2007-2017.csv'), delimiter=';')"
   ]
  },
  {
   "cell_type": "markdown",
   "metadata": {},
   "source": [
    "Drop empty line drop in primary data exploration"
   ]
  },
  {
   "cell_type": "code",
   "execution_count": 25,
   "metadata": {},
   "outputs": [],
   "source": [
    "train_df = train_df.dropna(subset=['match_id'])"
   ]
  },
  {
   "cell_type": "markdown",
   "metadata": {},
   "source": [
    "Check if we have duplicates :"
   ]
  },
  {
   "cell_type": "code",
   "execution_count": 26,
   "metadata": {},
   "outputs": [
    {
     "name": "stdout",
     "output_type": "stream",
     "text": [
      "65686\n",
      "32843\n"
     ]
    }
   ],
   "source": [
    "print(train_df.shape[0])\n",
    "print(train_df['match_id'].nunique())"
   ]
  },
  {
   "cell_type": "markdown",
   "metadata": {},
   "source": [
    "Drop duplicates and keep only player 1 won (need to be shuffled after) :"
   ]
  },
  {
   "cell_type": "code",
   "execution_count": 27,
   "metadata": {},
   "outputs": [],
   "source": [
    "train_df = train_df[train_df['p_matches'] == 1]"
   ]
  },
  {
   "cell_type": "code",
   "execution_count": 28,
   "metadata": {},
   "outputs": [
    {
     "name": "stdout",
     "output_type": "stream",
     "text": [
      "32843\n",
      "32843\n"
     ]
    }
   ],
   "source": [
    "print(train_df.shape[0])\n",
    "print(train_df['match_id'].nunique())"
   ]
  },
  {
   "cell_type": "markdown",
   "metadata": {},
   "source": [
    "Shuffle dataset :"
   ]
  },
  {
   "cell_type": "code",
   "execution_count": 29,
   "metadata": {},
   "outputs": [
    {
     "name": "stdout",
     "output_type": "stream",
     "text": [
      "['match_id' 'tournament_name' 'season' 'tournament_id' 'date' 'level'\n",
      " 'surface' 'round' 'best_of' 'player_id' 'player_rank' 'player_elo_rating'\n",
      " 'opponent_id' 'opponent_rank' 'opponent_elo_rating' 'outcome' 'minutes'\n",
      " 'p_1st_in' 'o_1st_in' 'p_sv_pt' 'o_sv_pt' 'p_1st_won' 'o_1st_won'\n",
      " 'p_2nd_won' 'o_2nd_won' 'p_ace' 'o_ace' 'p_df' 'o_df' 'p_bp_sv' 'o_bp_sv'\n",
      " 'p_bp_fc' 'o_bp_fc' 'p_matches' 'p_sv_gms' 'o_sv_gms']\n"
     ]
    }
   ],
   "source": [
    "print(train_df.columns.values)"
   ]
  },
  {
   "cell_type": "code",
   "execution_count": 35,
   "metadata": {},
   "outputs": [],
   "source": [
    "from random import randint\n",
    "from tqdm.notebook import tqdm"
   ]
  },
  {
   "cell_type": "code",
   "execution_count": 36,
   "metadata": {},
   "outputs": [],
   "source": [
    "def shuffleSample(df):\n",
    "    match_id = []\n",
    "    tournament_name = []\n",
    "    season = []\n",
    "    tournament_id = []\n",
    "    date = []\n",
    "    level = []\n",
    "    surface = []\n",
    "    round_column = []\n",
    "    best_of = []\n",
    "    player_id = []\n",
    "    player_rank = []\n",
    "    player_elo_rating = []\n",
    "    opponent_id = []\n",
    "    opponent_rank = []\n",
    "    opponent_elo_rating = []\n",
    "    outcome = []\n",
    "    minutes = []\n",
    "    p_1st_in = []\n",
    "    o_1st_in = [] \n",
    "    p_sv_pt = [] \n",
    "    o_sv_pt = []\n",
    "    p_1st_won = [] \n",
    "    o_1st_won = []\n",
    "    p_2nd_won = [] \n",
    "    o_2nd_won = [] \n",
    "    p_ace = [] \n",
    "    o_ace = [] \n",
    "    p_df = []\n",
    "    o_df = []\n",
    "    p_bp_sv = [] \n",
    "    o_bp_sv = []\n",
    "    p_bp_fc = [] \n",
    "    o_bp_fc = [] \n",
    "    p_matches = [] # won feature\n",
    "    p_sv_gms = []\n",
    "    o_sv_gms = []\n",
    "    \n",
    "    for i in tqdm(range(df.shape[0])):\n",
    "        # create random number to choose win or loose (we have a high number of matches so the sampling should be 50/50)\n",
    "        rand = randint(0, 1)\n",
    "    \n",
    "        match_id.append(df.iloc[i]['match_id'])\n",
    "        tournament_name.append(df.iloc[i]['tournament_name'])\n",
    "        season.append(df.iloc[i]['season'])\n",
    "        tournament_id.append(df.iloc[i]['tournament_id'])\n",
    "        date.append(df.iloc[i]['date'])\n",
    "        level.append(df.iloc[i]['level'])\n",
    "        surface.append(df.iloc[i]['surface'])\n",
    "        round_column.append(df.iloc[i]['round'])\n",
    "        best_of.append(df.iloc[i]['best_of'])\n",
    "        outcome.append(df.iloc[i]['outcome'])\n",
    "        minutes.append(df.iloc[i]['minutes'])\n",
    "        \n",
    "        if rand == 0:\n",
    "            player_id.append(df.iloc[i]['opponent_id'])\n",
    "            player_rank.append(df.iloc[i]['opponent_rank'])\n",
    "            player_elo_rating.append(df.iloc[i]['opponent_elo_rating'])\n",
    "            opponent_id.append(df.iloc[i]['player_id'])\n",
    "            opponent_rank.append(df.iloc[i]['player_rank'])\n",
    "            opponent_elo_rating.append(df.iloc[i]['player_elo_rating'])\n",
    "            p_1st_in.append(df.iloc[i]['o_1st_in'])\n",
    "            o_1st_in.append(df.iloc[i]['p_1st_in'])\n",
    "            p_sv_pt.append(df.iloc[i]['o_sv_pt']) \n",
    "            o_sv_pt.append(df.iloc[i]['p_sv_pt'])\n",
    "            p_1st_won.append(df.iloc[i]['o_1st_won']) \n",
    "            o_1st_won.append(df.iloc[i]['p_1st_won'])\n",
    "            p_2nd_won.append(df.iloc[i]['o_2nd_won']) \n",
    "            o_2nd_won.append(df.iloc[i]['p_2nd_won']) \n",
    "            p_ace.append(df.iloc[i]['o_ace']) \n",
    "            o_ace.append(df.iloc[i]['p_ace']) \n",
    "            p_df.append(df.iloc[i]['o_df'])\n",
    "            o_df.append(df.iloc[i]['p_df'])\n",
    "            p_bp_sv.append(df.iloc[i]['o_bp_sv']) \n",
    "            o_bp_sv.append(df.iloc[i]['p_bp_sv'])\n",
    "            p_bp_fc.append(df.iloc[i]['o_bp_fc'])\n",
    "            o_bp_fc.append(df.iloc[i]['p_bp_fc']) \n",
    "            p_matches.append(0) # won feature\n",
    "            p_sv_gms.append(df.iloc[i]['o_sv_gms'])\n",
    "            o_sv_gms.append(df.iloc[i]['p_sv_gms'])\n",
    "        else:\n",
    "            player_id.append(df.iloc[i]['player_id'])\n",
    "            player_rank.append(df.iloc[i]['player_rank'])\n",
    "            player_elo_rating.append(df.iloc[i]['player_elo_rating'])\n",
    "            opponent_id.append(df.iloc[i]['opponent_id'])\n",
    "            opponent_rank.append(df.iloc[i]['opponent_rank'])\n",
    "            opponent_elo_rating.append(df.iloc[i]['opponent_elo_rating'])\n",
    "            p_1st_in.append(df.iloc[i]['p_1st_in'])\n",
    "            o_1st_in.append(df.iloc[i]['o_1st_in'])\n",
    "            p_sv_pt.append(df.iloc[i]['p_sv_pt']) \n",
    "            o_sv_pt.append(df.iloc[i]['o_sv_pt'])\n",
    "            p_1st_won.append(df.iloc[i]['p_1st_won']) \n",
    "            o_1st_won.append(df.iloc[i]['o_1st_won'])\n",
    "            p_2nd_won.append(df.iloc[i]['p_2nd_won']) \n",
    "            o_2nd_won.append(df.iloc[i]['o_2nd_won']) \n",
    "            p_ace.append(df.iloc[i]['p_ace']) \n",
    "            o_ace.append(df.iloc[i]['o_ace']) \n",
    "            p_df.append(df.iloc[i]['p_df'])\n",
    "            o_df.append(df.iloc[i]['o_df'])\n",
    "            p_bp_sv.append(df.iloc[i]['p_bp_sv']) \n",
    "            o_bp_sv.append(df.iloc[i]['o_bp_sv'])\n",
    "            p_bp_fc.append(df.iloc[i]['p_bp_fc'])\n",
    "            o_bp_fc.append(df.iloc[i]['o_bp_fc']) \n",
    "            p_matches.append(1) # won feature\n",
    "            p_sv_gms.append(df.iloc[i]['p_sv_gms'])\n",
    "            o_sv_gms.append(df.iloc[i]['o_sv_gms'])\n",
    "    \n",
    "    return pd.DataFrame({\n",
    "        'match_id': match_id,\n",
    "        'tournament_name': tournament_name,\n",
    "        'season': season,\n",
    "        'tournament_id': tournament_id,\n",
    "        'date': date,\n",
    "        'level': level,\n",
    "        'surface': surface,\n",
    "        'round': round_column,\n",
    "        'best_of': best_of,\n",
    "        'player_id': player_id,\n",
    "        'player_rank': player_rank,\n",
    "        'player_elo_rating': player_elo_rating,\n",
    "        'opponent_id': opponent_id,\n",
    "        'opponent_rank': opponent_rank,\n",
    "        'opponent_elo_rating': opponent_elo_rating,\n",
    "        'outcome': outcome,\n",
    "        'minutes': minutes,\n",
    "        'p_1st_in': p_1st_in,\n",
    "        'o_1st_in': o_1st_in,\n",
    "        'p_sv_pt': p_sv_pt, \n",
    "        'o_sv_pt': o_sv_pt,\n",
    "        'p_1st_won': p_1st_won, \n",
    "        'o_1st_won': o_1st_won,\n",
    "        'p_2nd_won': p_2nd_won, \n",
    "        'o_2nd_won': o_2nd_won,\n",
    "        'p_ace': p_ace, \n",
    "        'o_ace': o_ace, \n",
    "        'p_df': p_df,\n",
    "        'o_df': o_df,\n",
    "        'p_bp_sv': p_bp_sv, \n",
    "        'o_bp_sv': o_bp_sv,\n",
    "        'p_bp_fc': p_bp_fc, \n",
    "        'o_bp_fc': o_bp_fc, \n",
    "        'p_matches': p_matches, # won feature\n",
    "        'p_sv_gms': p_sv_gms,\n",
    "        'o_sv_gms': o_sv_gms\n",
    "    })\n",
    "    \n",
    "    "
   ]
  },
  {
   "cell_type": "code",
   "execution_count": 37,
   "metadata": {},
   "outputs": [
    {
     "data": {
      "application/vnd.jupyter.widget-view+json": {
       "model_id": "3b0137e0878647a98c8b68ff55dc17c9",
       "version_major": 2,
       "version_minor": 0
      },
      "text/plain": [
       "HBox(children=(IntProgress(value=0, max=32843), HTML(value='')))"
      ]
     },
     "metadata": {},
     "output_type": "display_data"
    },
    {
     "name": "stdout",
     "output_type": "stream",
     "text": [
      "\n"
     ]
    }
   ],
   "source": [
    "train_df = shuffleSample(train_df)"
   ]
  },
  {
   "cell_type": "code",
   "execution_count": 38,
   "metadata": {},
   "outputs": [
    {
     "data": {
      "text/plain": [
       "0    16506\n",
       "1    16337\n",
       "Name: p_matches, dtype: int64"
      ]
     },
     "execution_count": 38,
     "metadata": {},
     "output_type": "execute_result"
    }
   ],
   "source": [
    "train_df['p_matches'].value_counts()"
   ]
  },
  {
   "cell_type": "code",
   "execution_count": 41,
   "metadata": {
    "collapsed": true,
    "jupyter": {
     "outputs_hidden": true
    }
   },
   "outputs": [
    {
     "ename": "KeyError",
     "evalue": "\"['minutes'] not found in axis\"",
     "output_type": "error",
     "traceback": [
      "\u001b[1;31m---------------------------------------------------------------------------\u001b[0m",
      "\u001b[1;31mKeyError\u001b[0m                                  Traceback (most recent call last)",
      "\u001b[1;32m<ipython-input-41-31ac39e5e750>\u001b[0m in \u001b[0;36m<module>\u001b[1;34m\u001b[0m\n\u001b[0;32m      3\u001b[0m \u001b[0mtrain_df\u001b[0m \u001b[1;33m=\u001b[0m \u001b[0mtrain_df\u001b[0m\u001b[1;33m.\u001b[0m\u001b[0mdropna\u001b[0m\u001b[1;33m(\u001b[0m\u001b[0msubset\u001b[0m\u001b[1;33m=\u001b[0m\u001b[1;33m[\u001b[0m\u001b[1;34m'p_1st_in'\u001b[0m\u001b[1;33m,\u001b[0m \u001b[1;34m'player_rank'\u001b[0m\u001b[1;33m,\u001b[0m \u001b[1;34m'opponent_rank'\u001b[0m\u001b[1;33m,\u001b[0m \u001b[1;34m'surface'\u001b[0m\u001b[1;33m]\u001b[0m\u001b[1;33m)\u001b[0m\u001b[1;33m\u001b[0m\u001b[1;33m\u001b[0m\u001b[0m\n\u001b[0;32m      4\u001b[0m \u001b[0mtrain_df\u001b[0m \u001b[1;33m=\u001b[0m \u001b[0mtrain_df\u001b[0m\u001b[1;33m.\u001b[0m\u001b[0mdrop\u001b[0m\u001b[1;33m(\u001b[0m\u001b[0mtrain_df\u001b[0m\u001b[1;33m[\u001b[0m\u001b[0mtrain_df\u001b[0m\u001b[1;33m[\u001b[0m\u001b[1;34m'surface'\u001b[0m\u001b[1;33m]\u001b[0m \u001b[1;33m==\u001b[0m \u001b[1;34m'P'\u001b[0m\u001b[1;33m]\u001b[0m\u001b[1;33m.\u001b[0m\u001b[0mindex\u001b[0m\u001b[1;33m)\u001b[0m\u001b[1;33m\u001b[0m\u001b[1;33m\u001b[0m\u001b[0m\n\u001b[1;32m----> 5\u001b[1;33m \u001b[0mtrain_df\u001b[0m \u001b[1;33m=\u001b[0m \u001b[0mtrain_df\u001b[0m\u001b[1;33m.\u001b[0m\u001b[0mdrop\u001b[0m\u001b[1;33m(\u001b[0m\u001b[0mcolumns\u001b[0m\u001b[1;33m=\u001b[0m\u001b[1;33m[\u001b[0m\u001b[1;34m'minutes'\u001b[0m\u001b[1;33m]\u001b[0m\u001b[1;33m)\u001b[0m\u001b[1;33m\u001b[0m\u001b[1;33m\u001b[0m\u001b[0m\n\u001b[0m\u001b[0;32m      6\u001b[0m \u001b[1;33m\u001b[0m\u001b[0m\n\u001b[0;32m      7\u001b[0m \u001b[0mprint\u001b[0m\u001b[1;33m(\u001b[0m\u001b[0mtrain_df\u001b[0m\u001b[1;33m.\u001b[0m\u001b[0misnull\u001b[0m\u001b[1;33m(\u001b[0m\u001b[1;33m)\u001b[0m\u001b[1;33m.\u001b[0m\u001b[0msum\u001b[0m\u001b[1;33m(\u001b[0m\u001b[1;33m)\u001b[0m\u001b[1;33m)\u001b[0m\u001b[1;33m\u001b[0m\u001b[1;33m\u001b[0m\u001b[0m\n",
      "\u001b[1;32m~\\Anaconda3\\lib\\site-packages\\pandas\\core\\frame.py\u001b[0m in \u001b[0;36mdrop\u001b[1;34m(self, labels, axis, index, columns, level, inplace, errors)\u001b[0m\n\u001b[0;32m   4100\u001b[0m             \u001b[0mlevel\u001b[0m\u001b[1;33m=\u001b[0m\u001b[0mlevel\u001b[0m\u001b[1;33m,\u001b[0m\u001b[1;33m\u001b[0m\u001b[1;33m\u001b[0m\u001b[0m\n\u001b[0;32m   4101\u001b[0m             \u001b[0minplace\u001b[0m\u001b[1;33m=\u001b[0m\u001b[0minplace\u001b[0m\u001b[1;33m,\u001b[0m\u001b[1;33m\u001b[0m\u001b[1;33m\u001b[0m\u001b[0m\n\u001b[1;32m-> 4102\u001b[1;33m             \u001b[0merrors\u001b[0m\u001b[1;33m=\u001b[0m\u001b[0merrors\u001b[0m\u001b[1;33m,\u001b[0m\u001b[1;33m\u001b[0m\u001b[1;33m\u001b[0m\u001b[0m\n\u001b[0m\u001b[0;32m   4103\u001b[0m         )\n\u001b[0;32m   4104\u001b[0m \u001b[1;33m\u001b[0m\u001b[0m\n",
      "\u001b[1;32m~\\Anaconda3\\lib\\site-packages\\pandas\\core\\generic.py\u001b[0m in \u001b[0;36mdrop\u001b[1;34m(self, labels, axis, index, columns, level, inplace, errors)\u001b[0m\n\u001b[0;32m   3912\u001b[0m         \u001b[1;32mfor\u001b[0m \u001b[0maxis\u001b[0m\u001b[1;33m,\u001b[0m \u001b[0mlabels\u001b[0m \u001b[1;32min\u001b[0m \u001b[0maxes\u001b[0m\u001b[1;33m.\u001b[0m\u001b[0mitems\u001b[0m\u001b[1;33m(\u001b[0m\u001b[1;33m)\u001b[0m\u001b[1;33m:\u001b[0m\u001b[1;33m\u001b[0m\u001b[1;33m\u001b[0m\u001b[0m\n\u001b[0;32m   3913\u001b[0m             \u001b[1;32mif\u001b[0m \u001b[0mlabels\u001b[0m \u001b[1;32mis\u001b[0m \u001b[1;32mnot\u001b[0m \u001b[1;32mNone\u001b[0m\u001b[1;33m:\u001b[0m\u001b[1;33m\u001b[0m\u001b[1;33m\u001b[0m\u001b[0m\n\u001b[1;32m-> 3914\u001b[1;33m                 \u001b[0mobj\u001b[0m \u001b[1;33m=\u001b[0m \u001b[0mobj\u001b[0m\u001b[1;33m.\u001b[0m\u001b[0m_drop_axis\u001b[0m\u001b[1;33m(\u001b[0m\u001b[0mlabels\u001b[0m\u001b[1;33m,\u001b[0m \u001b[0maxis\u001b[0m\u001b[1;33m,\u001b[0m \u001b[0mlevel\u001b[0m\u001b[1;33m=\u001b[0m\u001b[0mlevel\u001b[0m\u001b[1;33m,\u001b[0m \u001b[0merrors\u001b[0m\u001b[1;33m=\u001b[0m\u001b[0merrors\u001b[0m\u001b[1;33m)\u001b[0m\u001b[1;33m\u001b[0m\u001b[1;33m\u001b[0m\u001b[0m\n\u001b[0m\u001b[0;32m   3915\u001b[0m \u001b[1;33m\u001b[0m\u001b[0m\n\u001b[0;32m   3916\u001b[0m         \u001b[1;32mif\u001b[0m \u001b[0minplace\u001b[0m\u001b[1;33m:\u001b[0m\u001b[1;33m\u001b[0m\u001b[1;33m\u001b[0m\u001b[0m\n",
      "\u001b[1;32m~\\Anaconda3\\lib\\site-packages\\pandas\\core\\generic.py\u001b[0m in \u001b[0;36m_drop_axis\u001b[1;34m(self, labels, axis, level, errors)\u001b[0m\n\u001b[0;32m   3944\u001b[0m                 \u001b[0mnew_axis\u001b[0m \u001b[1;33m=\u001b[0m \u001b[0maxis\u001b[0m\u001b[1;33m.\u001b[0m\u001b[0mdrop\u001b[0m\u001b[1;33m(\u001b[0m\u001b[0mlabels\u001b[0m\u001b[1;33m,\u001b[0m \u001b[0mlevel\u001b[0m\u001b[1;33m=\u001b[0m\u001b[0mlevel\u001b[0m\u001b[1;33m,\u001b[0m \u001b[0merrors\u001b[0m\u001b[1;33m=\u001b[0m\u001b[0merrors\u001b[0m\u001b[1;33m)\u001b[0m\u001b[1;33m\u001b[0m\u001b[1;33m\u001b[0m\u001b[0m\n\u001b[0;32m   3945\u001b[0m             \u001b[1;32melse\u001b[0m\u001b[1;33m:\u001b[0m\u001b[1;33m\u001b[0m\u001b[1;33m\u001b[0m\u001b[0m\n\u001b[1;32m-> 3946\u001b[1;33m                 \u001b[0mnew_axis\u001b[0m \u001b[1;33m=\u001b[0m \u001b[0maxis\u001b[0m\u001b[1;33m.\u001b[0m\u001b[0mdrop\u001b[0m\u001b[1;33m(\u001b[0m\u001b[0mlabels\u001b[0m\u001b[1;33m,\u001b[0m \u001b[0merrors\u001b[0m\u001b[1;33m=\u001b[0m\u001b[0merrors\u001b[0m\u001b[1;33m)\u001b[0m\u001b[1;33m\u001b[0m\u001b[1;33m\u001b[0m\u001b[0m\n\u001b[0m\u001b[0;32m   3947\u001b[0m             \u001b[0mresult\u001b[0m \u001b[1;33m=\u001b[0m \u001b[0mself\u001b[0m\u001b[1;33m.\u001b[0m\u001b[0mreindex\u001b[0m\u001b[1;33m(\u001b[0m\u001b[1;33m**\u001b[0m\u001b[1;33m{\u001b[0m\u001b[0maxis_name\u001b[0m\u001b[1;33m:\u001b[0m \u001b[0mnew_axis\u001b[0m\u001b[1;33m}\u001b[0m\u001b[1;33m)\u001b[0m\u001b[1;33m\u001b[0m\u001b[1;33m\u001b[0m\u001b[0m\n\u001b[0;32m   3948\u001b[0m \u001b[1;33m\u001b[0m\u001b[0m\n",
      "\u001b[1;32m~\\Anaconda3\\lib\\site-packages\\pandas\\core\\indexes\\base.py\u001b[0m in \u001b[0;36mdrop\u001b[1;34m(self, labels, errors)\u001b[0m\n\u001b[0;32m   5338\u001b[0m         \u001b[1;32mif\u001b[0m \u001b[0mmask\u001b[0m\u001b[1;33m.\u001b[0m\u001b[0many\u001b[0m\u001b[1;33m(\u001b[0m\u001b[1;33m)\u001b[0m\u001b[1;33m:\u001b[0m\u001b[1;33m\u001b[0m\u001b[1;33m\u001b[0m\u001b[0m\n\u001b[0;32m   5339\u001b[0m             \u001b[1;32mif\u001b[0m \u001b[0merrors\u001b[0m \u001b[1;33m!=\u001b[0m \u001b[1;34m\"ignore\"\u001b[0m\u001b[1;33m:\u001b[0m\u001b[1;33m\u001b[0m\u001b[1;33m\u001b[0m\u001b[0m\n\u001b[1;32m-> 5340\u001b[1;33m                 \u001b[1;32mraise\u001b[0m \u001b[0mKeyError\u001b[0m\u001b[1;33m(\u001b[0m\u001b[1;34m\"{} not found in axis\"\u001b[0m\u001b[1;33m.\u001b[0m\u001b[0mformat\u001b[0m\u001b[1;33m(\u001b[0m\u001b[0mlabels\u001b[0m\u001b[1;33m[\u001b[0m\u001b[0mmask\u001b[0m\u001b[1;33m]\u001b[0m\u001b[1;33m)\u001b[0m\u001b[1;33m)\u001b[0m\u001b[1;33m\u001b[0m\u001b[1;33m\u001b[0m\u001b[0m\n\u001b[0m\u001b[0;32m   5341\u001b[0m             \u001b[0mindexer\u001b[0m \u001b[1;33m=\u001b[0m \u001b[0mindexer\u001b[0m\u001b[1;33m[\u001b[0m\u001b[1;33m~\u001b[0m\u001b[0mmask\u001b[0m\u001b[1;33m]\u001b[0m\u001b[1;33m\u001b[0m\u001b[1;33m\u001b[0m\u001b[0m\n\u001b[0;32m   5342\u001b[0m         \u001b[1;32mreturn\u001b[0m \u001b[0mself\u001b[0m\u001b[1;33m.\u001b[0m\u001b[0mdelete\u001b[0m\u001b[1;33m(\u001b[0m\u001b[0mindexer\u001b[0m\u001b[1;33m)\u001b[0m\u001b[1;33m\u001b[0m\u001b[1;33m\u001b[0m\u001b[0m\n",
      "\u001b[1;31mKeyError\u001b[0m: \"['minutes'] not found in axis\""
     ]
    }
   ],
   "source": [
    "# train\n",
    "train_df = train_df.dropna(subset=['match_id'])\n",
    "train_df = train_df.dropna(subset=['p_1st_in', 'player_rank', 'opponent_rank', 'surface'])\n",
    "train_df = train_df.drop(train_df[train_df['surface'] == 'P'].index)\n",
    "train_df = train_df.drop(columns=['minutes'])\n",
    "\n",
    "print(train_df.isnull().sum())\n",
    "\n",
    "# save it to csv\n",
    "\n",
    "train_df.to_csv(os.path.abspath('../input/cleaned-2007-2017.csv'), index=False)"
   ]
  },
  {
   "cell_type": "code",
   "execution_count": 46,
   "metadata": {},
   "outputs": [],
   "source": [
    "test_df = pd.read_csv(os.path.abspath('../input/2018.csv'), delimiter=';')"
   ]
  },
  {
   "cell_type": "code",
   "execution_count": 48,
   "metadata": {},
   "outputs": [
    {
     "name": "stdout",
     "output_type": "stream",
     "text": [
      "5886\n",
      "2943\n"
     ]
    }
   ],
   "source": [
    "print(test_df.shape[0])\n",
    "print(test_df['match_id'].nunique())"
   ]
  },
  {
   "cell_type": "code",
   "execution_count": 49,
   "metadata": {},
   "outputs": [],
   "source": [
    "test_df = test_df[test_df['p_matches'] == 1]"
   ]
  },
  {
   "cell_type": "code",
   "execution_count": 50,
   "metadata": {},
   "outputs": [
    {
     "name": "stdout",
     "output_type": "stream",
     "text": [
      "2943\n",
      "2943\n"
     ]
    }
   ],
   "source": [
    "print(test_df.shape[0])\n",
    "print(test_df['match_id'].nunique())"
   ]
  },
  {
   "cell_type": "code",
   "execution_count": 51,
   "metadata": {},
   "outputs": [
    {
     "data": {
      "application/vnd.jupyter.widget-view+json": {
       "model_id": "b462deda80e04d49badcc49aa1fca900",
       "version_major": 2,
       "version_minor": 0
      },
      "text/plain": [
       "HBox(children=(IntProgress(value=0, max=2943), HTML(value='')))"
      ]
     },
     "metadata": {},
     "output_type": "display_data"
    },
    {
     "name": "stdout",
     "output_type": "stream",
     "text": [
      "\n"
     ]
    }
   ],
   "source": [
    "test_df = shuffleSample(test_df)"
   ]
  },
  {
   "cell_type": "code",
   "execution_count": 52,
   "metadata": {},
   "outputs": [
    {
     "data": {
      "text/plain": [
       "0    1512\n",
       "1    1431\n",
       "Name: p_matches, dtype: int64"
      ]
     },
     "execution_count": 52,
     "metadata": {},
     "output_type": "execute_result"
    }
   ],
   "source": [
    "test_df['p_matches'].value_counts()"
   ]
  },
  {
   "cell_type": "code",
   "execution_count": 53,
   "metadata": {},
   "outputs": [],
   "source": [
    "test_df = test_df.dropna(subset=['p_1st_in', 'player_rank', 'opponent_rank', 'surface'])\n",
    "test_df = test_df.drop(columns=['minutes'])\n",
    "\n",
    "test_df.isnull().sum()\n",
    "\n",
    "test_df.to_csv(os.path.abspath('../input/cleaned-2018.csv'), index=False)"
   ]
  },
  {
   "cell_type": "code",
   "execution_count": null,
   "metadata": {},
   "outputs": [],
   "source": []
  }
 ],
 "metadata": {
  "kernelspec": {
   "display_name": "Python 3",
   "language": "python",
   "name": "python3"
  },
  "language_info": {
   "codemirror_mode": {
    "name": "ipython",
    "version": 3
   },
   "file_extension": ".py",
   "mimetype": "text/x-python",
   "name": "python",
   "nbconvert_exporter": "python",
   "pygments_lexer": "ipython3",
   "version": "3.7.3"
  }
 },
 "nbformat": 4,
 "nbformat_minor": 4
}
