{
 "cells": [
  {
   "cell_type": "code",
   "execution_count": 216,
   "metadata": {},
   "outputs": [],
   "source": [
    "import pandas as pd\n",
    "import os\n",
    "import numpy as np"
   ]
  },
  {
   "cell_type": "code",
   "execution_count": 217,
   "metadata": {},
   "outputs": [],
   "source": [
    "df1 = pd.read_csv(os.path.abspath('../input/standardized-diff-cleaned-featured-2008-2017.csv'))"
   ]
  },
  {
   "cell_type": "code",
   "execution_count": 218,
   "metadata": {},
   "outputs": [],
   "source": [
    "df2 = pd.read_csv(os.path.abspath('../input/standardized-diff-cleaned-featured-2018.csv'))"
   ]
  },
  {
   "cell_type": "code",
   "execution_count": 219,
   "metadata": {},
   "outputs": [],
   "source": [
    "df = pd.concat([df1, df2])"
   ]
  },
  {
   "cell_type": "code",
   "execution_count": 220,
   "metadata": {},
   "outputs": [
    {
     "data": {
      "text/plain": [
       "array(['p_number_of_matches_used', 'direct', 'o_number_of_matches_used',\n",
       "       'player_id', 'opponent_id', 'tournament_name', 'date', 'p_matches',\n",
       "       'fs_diff', 'w1sp_diff', 'w2sp_diff', 'wrp_diff', 'tpw_diff',\n",
       "       'tmw_diff', 'aces_per_game_diff', 'df_per_game_diff',\n",
       "       'bp_won_diff', 'wsp_diff', 'completeness_diff', 'serve_adv_diff',\n",
       "       'elo_rating_diff'], dtype=object)"
      ]
     },
     "execution_count": 220,
     "metadata": {},
     "output_type": "execute_result"
    }
   ],
   "source": [
    "df.columns.values"
   ]
  },
  {
   "cell_type": "code",
   "execution_count": 221,
   "metadata": {},
   "outputs": [],
   "source": [
    "df = df.drop(['p_number_of_matches_used', 'o_number_of_matches_used', 'player_id', 'opponent_id', 'tournament_name', 'date'], axis=1)"
   ]
  },
  {
   "cell_type": "code",
   "execution_count": 222,
   "metadata": {},
   "outputs": [
    {
     "data": {
      "text/plain": [
       "direct                0\n",
       "p_matches             0\n",
       "fs_diff               0\n",
       "w1sp_diff             0\n",
       "w2sp_diff             0\n",
       "wrp_diff              0\n",
       "tpw_diff              0\n",
       "tmw_diff              0\n",
       "aces_per_game_diff    0\n",
       "df_per_game_diff      0\n",
       "bp_won_diff           0\n",
       "wsp_diff              0\n",
       "completeness_diff     0\n",
       "serve_adv_diff        0\n",
       "elo_rating_diff       0\n",
       "dtype: int64"
      ]
     },
     "execution_count": 222,
     "metadata": {},
     "output_type": "execute_result"
    }
   ],
   "source": [
    "df.isnull().sum()"
   ]
  },
  {
   "cell_type": "code",
   "execution_count": 223,
   "metadata": {},
   "outputs": [],
   "source": [
    "X_train = df.drop(['p_matches'], axis=1).copy()\n",
    "Y_train = df['p_matches']"
   ]
  },
  {
   "cell_type": "code",
   "execution_count": 224,
   "metadata": {},
   "outputs": [
    {
     "data": {
      "text/plain": [
       "array([False, False, False, False, False, False, False, False, False,\n",
       "       False, False, False, False,  True])"
      ]
     },
     "execution_count": 224,
     "metadata": {},
     "output_type": "execute_result"
    }
   ],
   "source": [
    "from sklearn.feature_selection import RFE\n",
    "from sklearn.linear_model import LogisticRegression\n",
    "\n",
    "estimator = LogisticRegression(max_iter=200)\n",
    "selector = RFE(estimator, n_features_to_select=1, step=1)\n",
    "selector = selector.fit(X_train, Y_train)\n",
    "selector.support_"
   ]
  },
  {
   "cell_type": "code",
   "execution_count": 225,
   "metadata": {},
   "outputs": [
    {
     "data": {
      "text/html": [
       "<div>\n",
       "<style scoped>\n",
       "    .dataframe tbody tr th:only-of-type {\n",
       "        vertical-align: middle;\n",
       "    }\n",
       "\n",
       "    .dataframe tbody tr th {\n",
       "        vertical-align: top;\n",
       "    }\n",
       "\n",
       "    .dataframe thead th {\n",
       "        text-align: right;\n",
       "    }\n",
       "</style>\n",
       "<table border=\"1\" class=\"dataframe\">\n",
       "  <thead>\n",
       "    <tr style=\"text-align: right;\">\n",
       "      <th></th>\n",
       "      <th>ranking</th>\n",
       "    </tr>\n",
       "  </thead>\n",
       "  <tbody>\n",
       "    <tr>\n",
       "      <td>1</td>\n",
       "      <td>elo_rating_diff</td>\n",
       "    </tr>\n",
       "    <tr>\n",
       "      <td>2</td>\n",
       "      <td>serve_adv_diff</td>\n",
       "    </tr>\n",
       "    <tr>\n",
       "      <td>3</td>\n",
       "      <td>wsp_diff</td>\n",
       "    </tr>\n",
       "    <tr>\n",
       "      <td>4</td>\n",
       "      <td>wrp_diff</td>\n",
       "    </tr>\n",
       "    <tr>\n",
       "      <td>5</td>\n",
       "      <td>completeness_diff</td>\n",
       "    </tr>\n",
       "    <tr>\n",
       "      <td>6</td>\n",
       "      <td>tpw_diff</td>\n",
       "    </tr>\n",
       "    <tr>\n",
       "      <td>7</td>\n",
       "      <td>aces_per_game_diff</td>\n",
       "    </tr>\n",
       "    <tr>\n",
       "      <td>8</td>\n",
       "      <td>direct</td>\n",
       "    </tr>\n",
       "    <tr>\n",
       "      <td>9</td>\n",
       "      <td>w2sp_diff</td>\n",
       "    </tr>\n",
       "    <tr>\n",
       "      <td>10</td>\n",
       "      <td>bp_won_diff</td>\n",
       "    </tr>\n",
       "    <tr>\n",
       "      <td>11</td>\n",
       "      <td>w1sp_diff</td>\n",
       "    </tr>\n",
       "    <tr>\n",
       "      <td>12</td>\n",
       "      <td>fs_diff</td>\n",
       "    </tr>\n",
       "    <tr>\n",
       "      <td>13</td>\n",
       "      <td>df_per_game_diff</td>\n",
       "    </tr>\n",
       "    <tr>\n",
       "      <td>14</td>\n",
       "      <td>tmw_diff</td>\n",
       "    </tr>\n",
       "  </tbody>\n",
       "</table>\n",
       "</div>"
      ],
      "text/plain": [
       "               ranking\n",
       "1      elo_rating_diff\n",
       "2       serve_adv_diff\n",
       "3             wsp_diff\n",
       "4             wrp_diff\n",
       "5    completeness_diff\n",
       "6             tpw_diff\n",
       "7   aces_per_game_diff\n",
       "8               direct\n",
       "9            w2sp_diff\n",
       "10         bp_won_diff\n",
       "11           w1sp_diff\n",
       "12             fs_diff\n",
       "13    df_per_game_diff\n",
       "14            tmw_diff"
      ]
     },
     "execution_count": 225,
     "metadata": {},
     "output_type": "execute_result"
    }
   ],
   "source": [
    "pd.DataFrame({'ranking': X_train.columns.values},index=selector.ranking_).sort_index()"
   ]
  },
  {
   "cell_type": "code",
   "execution_count": 226,
   "metadata": {},
   "outputs": [],
   "source": [
    "test_df = pd.read_csv(os.path.abspath('../input/standardized-diff-cleaned-featured-2019.csv'))"
   ]
  },
  {
   "cell_type": "code",
   "execution_count": 227,
   "metadata": {},
   "outputs": [
    {
     "data": {
      "text/plain": [
       "2564"
      ]
     },
     "execution_count": 227,
     "metadata": {},
     "output_type": "execute_result"
    }
   ],
   "source": [
    "test_df.shape[0]"
   ]
  },
  {
   "cell_type": "code",
   "execution_count": 228,
   "metadata": {},
   "outputs": [],
   "source": [
    "test_df = test_df.drop(['p_number_of_matches_used', 'o_number_of_matches_used', 'player_id', 'opponent_id', 'tournament_name', 'date'], axis=1)"
   ]
  },
  {
   "cell_type": "code",
   "execution_count": 229,
   "metadata": {},
   "outputs": [
    {
     "data": {
      "text/plain": [
       "array(['direct', 'p_matches', 'fs_diff', 'w1sp_diff', 'w2sp_diff',\n",
       "       'wrp_diff', 'tpw_diff', 'tmw_diff', 'aces_per_game_diff',\n",
       "       'df_per_game_diff', 'bp_won_diff', 'wsp_diff', 'completeness_diff',\n",
       "       'serve_adv_diff', 'elo_rating_diff'], dtype=object)"
      ]
     },
     "execution_count": 229,
     "metadata": {},
     "output_type": "execute_result"
    }
   ],
   "source": [
    "test_df.columns.values"
   ]
  },
  {
   "cell_type": "code",
   "execution_count": 230,
   "metadata": {},
   "outputs": [
    {
     "data": {
      "text/plain": [
       "array(['direct', 'fs_diff', 'w1sp_diff', 'w2sp_diff', 'wrp_diff',\n",
       "       'tpw_diff', 'tmw_diff', 'aces_per_game_diff', 'df_per_game_diff',\n",
       "       'bp_won_diff', 'wsp_diff', 'completeness_diff', 'serve_adv_diff',\n",
       "       'elo_rating_diff'], dtype=object)"
      ]
     },
     "execution_count": 230,
     "metadata": {},
     "output_type": "execute_result"
    }
   ],
   "source": [
    "X_train.columns.values"
   ]
  },
  {
   "cell_type": "code",
   "execution_count": 231,
   "metadata": {},
   "outputs": [],
   "source": [
    "X_test = test_df.drop(['p_matches'], axis=1).copy()\n",
    "Y_test = test_df['p_matches']"
   ]
  },
  {
   "cell_type": "code",
   "execution_count": 232,
   "metadata": {},
   "outputs": [],
   "source": [
    "from sklearn.linear_model import LogisticRegression\n",
    "\n",
    "logreg = LogisticRegression(max_iter=200)\n",
    "logreg.fit(X_train, Y_train)\n",
    "\n",
    "Y_pred = logreg.predict(X_test)"
   ]
  },
  {
   "cell_type": "code",
   "execution_count": 233,
   "metadata": {},
   "outputs": [],
   "source": [
    "from sklearn.metrics import classification_report, log_loss, confusion_matrix"
   ]
  },
  {
   "cell_type": "code",
   "execution_count": 234,
   "metadata": {},
   "outputs": [
    {
     "name": "stdout",
     "output_type": "stream",
     "text": [
      "              precision    recall  f1-score   support\n",
      "\n",
      "           0       0.49      0.52      0.50      1267\n",
      "           1       0.50      0.48      0.49      1297\n",
      "\n",
      "    accuracy                           0.50      2564\n",
      "   macro avg       0.50      0.50      0.50      2564\n",
      "weighted avg       0.50      0.50      0.50      2564\n",
      "\n"
     ]
    }
   ],
   "source": [
    "print(classification_report(Y_test, Y_pred))"
   ]
  },
  {
   "cell_type": "code",
   "execution_count": 235,
   "metadata": {},
   "outputs": [
    {
     "data": {
      "text/plain": [
       "array([[656, 611],\n",
       "       [679, 618]], dtype=int64)"
      ]
     },
     "execution_count": 235,
     "metadata": {},
     "output_type": "execute_result"
    }
   ],
   "source": [
    "confusion_matrix(Y_test, Y_pred)"
   ]
  },
  {
   "cell_type": "code",
   "execution_count": 236,
   "metadata": {},
   "outputs": [
    {
     "data": {
      "text/html": [
       "<div>\n",
       "<style scoped>\n",
       "    .dataframe tbody tr th:only-of-type {\n",
       "        vertical-align: middle;\n",
       "    }\n",
       "\n",
       "    .dataframe tbody tr th {\n",
       "        vertical-align: top;\n",
       "    }\n",
       "\n",
       "    .dataframe thead th {\n",
       "        text-align: right;\n",
       "    }\n",
       "</style>\n",
       "<table border=\"1\" class=\"dataframe\">\n",
       "  <thead>\n",
       "    <tr style=\"text-align: right;\">\n",
       "      <th></th>\n",
       "      <th>direct</th>\n",
       "      <th>p_matches</th>\n",
       "      <th>fs_diff</th>\n",
       "      <th>w1sp_diff</th>\n",
       "      <th>w2sp_diff</th>\n",
       "      <th>wrp_diff</th>\n",
       "      <th>tpw_diff</th>\n",
       "      <th>tmw_diff</th>\n",
       "      <th>aces_per_game_diff</th>\n",
       "      <th>df_per_game_diff</th>\n",
       "      <th>bp_won_diff</th>\n",
       "      <th>wsp_diff</th>\n",
       "      <th>completeness_diff</th>\n",
       "      <th>serve_adv_diff</th>\n",
       "      <th>elo_rating_diff</th>\n",
       "    </tr>\n",
       "  </thead>\n",
       "  <tbody>\n",
       "    <tr>\n",
       "      <td>0</td>\n",
       "      <td>0.0</td>\n",
       "      <td>1</td>\n",
       "      <td>1.007344</td>\n",
       "      <td>-0.660907</td>\n",
       "      <td>0.839020</td>\n",
       "      <td>0.089247</td>\n",
       "      <td>0.102672</td>\n",
       "      <td>-1.597219</td>\n",
       "      <td>-0.365864</td>\n",
       "      <td>0.868355</td>\n",
       "      <td>0.483959</td>\n",
       "      <td>-0.008189</td>\n",
       "      <td>0.028730</td>\n",
       "      <td>0.031951</td>\n",
       "      <td>0.269262</td>\n",
       "    </tr>\n",
       "    <tr>\n",
       "      <td>1</td>\n",
       "      <td>1.0</td>\n",
       "      <td>0</td>\n",
       "      <td>-1.515746</td>\n",
       "      <td>-0.027084</td>\n",
       "      <td>-0.401122</td>\n",
       "      <td>0.767656</td>\n",
       "      <td>0.269770</td>\n",
       "      <td>-1.493985</td>\n",
       "      <td>-0.124504</td>\n",
       "      <td>0.706120</td>\n",
       "      <td>-0.224898</td>\n",
       "      <td>-0.491438</td>\n",
       "      <td>-0.194762</td>\n",
       "      <td>-0.152926</td>\n",
       "      <td>0.005280</td>\n",
       "    </tr>\n",
       "    <tr>\n",
       "      <td>2</td>\n",
       "      <td>0.0</td>\n",
       "      <td>1</td>\n",
       "      <td>-0.454251</td>\n",
       "      <td>-0.337295</td>\n",
       "      <td>-0.295331</td>\n",
       "      <td>1.223649</td>\n",
       "      <td>0.528999</td>\n",
       "      <td>-0.102807</td>\n",
       "      <td>-0.338221</td>\n",
       "      <td>0.071793</td>\n",
       "      <td>-1.266031</td>\n",
       "      <td>-0.480624</td>\n",
       "      <td>0.028192</td>\n",
       "      <td>0.063823</td>\n",
       "      <td>0.549083</td>\n",
       "    </tr>\n",
       "    <tr>\n",
       "      <td>3</td>\n",
       "      <td>1.0</td>\n",
       "      <td>0</td>\n",
       "      <td>1.898100</td>\n",
       "      <td>-1.184200</td>\n",
       "      <td>1.913698</td>\n",
       "      <td>0.759803</td>\n",
       "      <td>0.635209</td>\n",
       "      <td>-1.797654</td>\n",
       "      <td>-0.472288</td>\n",
       "      <td>-1.784993</td>\n",
       "      <td>0.305178</td>\n",
       "      <td>-0.030300</td>\n",
       "      <td>0.267530</td>\n",
       "      <td>0.312066</td>\n",
       "      <td>-0.137271</td>\n",
       "    </tr>\n",
       "    <tr>\n",
       "      <td>4</td>\n",
       "      <td>0.0</td>\n",
       "      <td>0</td>\n",
       "      <td>0.841569</td>\n",
       "      <td>1.560695</td>\n",
       "      <td>-3.176390</td>\n",
       "      <td>1.127302</td>\n",
       "      <td>0.942312</td>\n",
       "      <td>-4.706949</td>\n",
       "      <td>0.482186</td>\n",
       "      <td>0.279313</td>\n",
       "      <td>-1.407839</td>\n",
       "      <td>0.075721</td>\n",
       "      <td>0.557361</td>\n",
       "      <td>0.585617</td>\n",
       "      <td>1.356868</td>\n",
       "    </tr>\n",
       "  </tbody>\n",
       "</table>\n",
       "</div>"
      ],
      "text/plain": [
       "   direct  p_matches   fs_diff  w1sp_diff  w2sp_diff  wrp_diff  tpw_diff  \\\n",
       "0     0.0          1  1.007344  -0.660907   0.839020  0.089247  0.102672   \n",
       "1     1.0          0 -1.515746  -0.027084  -0.401122  0.767656  0.269770   \n",
       "2     0.0          1 -0.454251  -0.337295  -0.295331  1.223649  0.528999   \n",
       "3     1.0          0  1.898100  -1.184200   1.913698  0.759803  0.635209   \n",
       "4     0.0          0  0.841569   1.560695  -3.176390  1.127302  0.942312   \n",
       "\n",
       "   tmw_diff  aces_per_game_diff  df_per_game_diff  bp_won_diff  wsp_diff  \\\n",
       "0 -1.597219           -0.365864          0.868355     0.483959 -0.008189   \n",
       "1 -1.493985           -0.124504          0.706120    -0.224898 -0.491438   \n",
       "2 -0.102807           -0.338221          0.071793    -1.266031 -0.480624   \n",
       "3 -1.797654           -0.472288         -1.784993     0.305178 -0.030300   \n",
       "4 -4.706949            0.482186          0.279313    -1.407839  0.075721   \n",
       "\n",
       "   completeness_diff  serve_adv_diff  elo_rating_diff  \n",
       "0           0.028730        0.031951         0.269262  \n",
       "1          -0.194762       -0.152926         0.005280  \n",
       "2           0.028192        0.063823         0.549083  \n",
       "3           0.267530        0.312066        -0.137271  \n",
       "4           0.557361        0.585617         1.356868  "
      ]
     },
     "execution_count": 236,
     "metadata": {},
     "output_type": "execute_result"
    }
   ],
   "source": [
    "test_df.head()"
   ]
  },
  {
   "cell_type": "code",
   "execution_count": 237,
   "metadata": {},
   "outputs": [
    {
     "data": {
      "text/html": [
       "<div>\n",
       "<style scoped>\n",
       "    .dataframe tbody tr th:only-of-type {\n",
       "        vertical-align: middle;\n",
       "    }\n",
       "\n",
       "    .dataframe tbody tr th {\n",
       "        vertical-align: top;\n",
       "    }\n",
       "\n",
       "    .dataframe thead th {\n",
       "        text-align: right;\n",
       "    }\n",
       "</style>\n",
       "<table border=\"1\" class=\"dataframe\">\n",
       "  <thead>\n",
       "    <tr style=\"text-align: right;\">\n",
       "      <th></th>\n",
       "      <th>direct</th>\n",
       "      <th>p_matches</th>\n",
       "      <th>fs_diff</th>\n",
       "      <th>w1sp_diff</th>\n",
       "      <th>w2sp_diff</th>\n",
       "      <th>wrp_diff</th>\n",
       "      <th>tpw_diff</th>\n",
       "      <th>tmw_diff</th>\n",
       "      <th>aces_per_game_diff</th>\n",
       "      <th>df_per_game_diff</th>\n",
       "      <th>bp_won_diff</th>\n",
       "      <th>wsp_diff</th>\n",
       "      <th>completeness_diff</th>\n",
       "      <th>serve_adv_diff</th>\n",
       "      <th>elo_rating_diff</th>\n",
       "    </tr>\n",
       "  </thead>\n",
       "  <tbody>\n",
       "    <tr>\n",
       "      <td>count</td>\n",
       "      <td>2564.000000</td>\n",
       "      <td>2564.000000</td>\n",
       "      <td>2564.000000</td>\n",
       "      <td>2564.000000</td>\n",
       "      <td>2564.000000</td>\n",
       "      <td>2564.000000</td>\n",
       "      <td>2564.000000</td>\n",
       "      <td>2564.000000</td>\n",
       "      <td>2564.000000</td>\n",
       "      <td>2564.000000</td>\n",
       "      <td>2564.000000</td>\n",
       "      <td>2564.000000</td>\n",
       "      <td>2564.000000</td>\n",
       "      <td>2564.000000</td>\n",
       "      <td>2564.000000</td>\n",
       "    </tr>\n",
       "    <tr>\n",
       "      <td>mean</td>\n",
       "      <td>0.004570</td>\n",
       "      <td>0.505850</td>\n",
       "      <td>0.032167</td>\n",
       "      <td>-0.010342</td>\n",
       "      <td>-0.011653</td>\n",
       "      <td>0.001536</td>\n",
       "      <td>-0.001665</td>\n",
       "      <td>-0.008921</td>\n",
       "      <td>-0.007736</td>\n",
       "      <td>-0.001761</td>\n",
       "      <td>0.001804</td>\n",
       "      <td>-0.003701</td>\n",
       "      <td>-0.004265</td>\n",
       "      <td>-0.003068</td>\n",
       "      <td>-0.022885</td>\n",
       "    </tr>\n",
       "    <tr>\n",
       "      <td>std</td>\n",
       "      <td>0.576104</td>\n",
       "      <td>0.500063</td>\n",
       "      <td>1.000000</td>\n",
       "      <td>1.000000</td>\n",
       "      <td>1.000000</td>\n",
       "      <td>1.000000</td>\n",
       "      <td>1.000000</td>\n",
       "      <td>1.000000</td>\n",
       "      <td>1.000000</td>\n",
       "      <td>1.000000</td>\n",
       "      <td>1.000000</td>\n",
       "      <td>1.000000</td>\n",
       "      <td>1.000000</td>\n",
       "      <td>1.000000</td>\n",
       "      <td>1.000000</td>\n",
       "    </tr>\n",
       "    <tr>\n",
       "      <td>min</td>\n",
       "      <td>-1.000000</td>\n",
       "      <td>0.000000</td>\n",
       "      <td>-3.176804</td>\n",
       "      <td>-4.697876</td>\n",
       "      <td>-3.679002</td>\n",
       "      <td>-4.250947</td>\n",
       "      <td>-5.916746</td>\n",
       "      <td>-5.992180</td>\n",
       "      <td>-4.147274</td>\n",
       "      <td>-4.532387</td>\n",
       "      <td>-5.535592</td>\n",
       "      <td>-5.172253</td>\n",
       "      <td>-6.011864</td>\n",
       "      <td>-6.047336</td>\n",
       "      <td>-4.324026</td>\n",
       "    </tr>\n",
       "    <tr>\n",
       "      <td>25%</td>\n",
       "      <td>0.000000</td>\n",
       "      <td>0.000000</td>\n",
       "      <td>-0.640104</td>\n",
       "      <td>-0.640202</td>\n",
       "      <td>-0.635431</td>\n",
       "      <td>-0.641436</td>\n",
       "      <td>-0.559539</td>\n",
       "      <td>-0.406719</td>\n",
       "      <td>-0.579194</td>\n",
       "      <td>-0.662591</td>\n",
       "      <td>-0.534878</td>\n",
       "      <td>-0.614379</td>\n",
       "      <td>-0.593713</td>\n",
       "      <td>-0.592684</td>\n",
       "      <td>-0.638837</td>\n",
       "    </tr>\n",
       "    <tr>\n",
       "      <td>50%</td>\n",
       "      <td>0.000000</td>\n",
       "      <td>1.000000</td>\n",
       "      <td>0.036107</td>\n",
       "      <td>-0.039413</td>\n",
       "      <td>-0.034047</td>\n",
       "      <td>-0.003016</td>\n",
       "      <td>-0.006582</td>\n",
       "      <td>0.001468</td>\n",
       "      <td>-0.010109</td>\n",
       "      <td>-0.008688</td>\n",
       "      <td>0.004841</td>\n",
       "      <td>-0.023473</td>\n",
       "      <td>-0.021192</td>\n",
       "      <td>-0.019216</td>\n",
       "      <td>-0.031678</td>\n",
       "    </tr>\n",
       "    <tr>\n",
       "      <td>75%</td>\n",
       "      <td>0.000000</td>\n",
       "      <td>1.000000</td>\n",
       "      <td>0.671030</td>\n",
       "      <td>0.641990</td>\n",
       "      <td>0.616500</td>\n",
       "      <td>0.589151</td>\n",
       "      <td>0.538373</td>\n",
       "      <td>0.394760</td>\n",
       "      <td>0.551729</td>\n",
       "      <td>0.666238</td>\n",
       "      <td>0.530858</td>\n",
       "      <td>0.598914</td>\n",
       "      <td>0.594647</td>\n",
       "      <td>0.585323</td>\n",
       "      <td>0.601879</td>\n",
       "    </tr>\n",
       "    <tr>\n",
       "      <td>max</td>\n",
       "      <td>1.000000</td>\n",
       "      <td>1.000000</td>\n",
       "      <td>4.191206</td>\n",
       "      <td>5.881981</td>\n",
       "      <td>5.016133</td>\n",
       "      <td>4.629603</td>\n",
       "      <td>8.516128</td>\n",
       "      <td>5.261427</td>\n",
       "      <td>4.159611</td>\n",
       "      <td>4.154253</td>\n",
       "      <td>9.949665</td>\n",
       "      <td>5.000085</td>\n",
       "      <td>6.628267</td>\n",
       "      <td>7.169356</td>\n",
       "      <td>3.753825</td>\n",
       "    </tr>\n",
       "  </tbody>\n",
       "</table>\n",
       "</div>"
      ],
      "text/plain": [
       "            direct    p_matches      fs_diff    w1sp_diff    w2sp_diff  \\\n",
       "count  2564.000000  2564.000000  2564.000000  2564.000000  2564.000000   \n",
       "mean      0.004570     0.505850     0.032167    -0.010342    -0.011653   \n",
       "std       0.576104     0.500063     1.000000     1.000000     1.000000   \n",
       "min      -1.000000     0.000000    -3.176804    -4.697876    -3.679002   \n",
       "25%       0.000000     0.000000    -0.640104    -0.640202    -0.635431   \n",
       "50%       0.000000     1.000000     0.036107    -0.039413    -0.034047   \n",
       "75%       0.000000     1.000000     0.671030     0.641990     0.616500   \n",
       "max       1.000000     1.000000     4.191206     5.881981     5.016133   \n",
       "\n",
       "          wrp_diff     tpw_diff     tmw_diff  aces_per_game_diff  \\\n",
       "count  2564.000000  2564.000000  2564.000000         2564.000000   \n",
       "mean      0.001536    -0.001665    -0.008921           -0.007736   \n",
       "std       1.000000     1.000000     1.000000            1.000000   \n",
       "min      -4.250947    -5.916746    -5.992180           -4.147274   \n",
       "25%      -0.641436    -0.559539    -0.406719           -0.579194   \n",
       "50%      -0.003016    -0.006582     0.001468           -0.010109   \n",
       "75%       0.589151     0.538373     0.394760            0.551729   \n",
       "max       4.629603     8.516128     5.261427            4.159611   \n",
       "\n",
       "       df_per_game_diff  bp_won_diff     wsp_diff  completeness_diff  \\\n",
       "count       2564.000000  2564.000000  2564.000000        2564.000000   \n",
       "mean          -0.001761     0.001804    -0.003701          -0.004265   \n",
       "std            1.000000     1.000000     1.000000           1.000000   \n",
       "min           -4.532387    -5.535592    -5.172253          -6.011864   \n",
       "25%           -0.662591    -0.534878    -0.614379          -0.593713   \n",
       "50%           -0.008688     0.004841    -0.023473          -0.021192   \n",
       "75%            0.666238     0.530858     0.598914           0.594647   \n",
       "max            4.154253     9.949665     5.000085           6.628267   \n",
       "\n",
       "       serve_adv_diff  elo_rating_diff  \n",
       "count     2564.000000      2564.000000  \n",
       "mean        -0.003068        -0.022885  \n",
       "std          1.000000         1.000000  \n",
       "min         -6.047336        -4.324026  \n",
       "25%         -0.592684        -0.638837  \n",
       "50%         -0.019216        -0.031678  \n",
       "75%          0.585323         0.601879  \n",
       "max          7.169356         3.753825  "
      ]
     },
     "execution_count": 237,
     "metadata": {},
     "output_type": "execute_result"
    }
   ],
   "source": [
    "test_df.describe()"
   ]
  },
  {
   "cell_type": "code",
   "execution_count": 238,
   "metadata": {},
   "outputs": [
    {
     "data": {
      "text/html": [
       "<div>\n",
       "<style scoped>\n",
       "    .dataframe tbody tr th:only-of-type {\n",
       "        vertical-align: middle;\n",
       "    }\n",
       "\n",
       "    .dataframe tbody tr th {\n",
       "        vertical-align: top;\n",
       "    }\n",
       "\n",
       "    .dataframe thead th {\n",
       "        text-align: right;\n",
       "    }\n",
       "</style>\n",
       "<table border=\"1\" class=\"dataframe\">\n",
       "  <thead>\n",
       "    <tr style=\"text-align: right;\">\n",
       "      <th></th>\n",
       "      <th>variable</th>\n",
       "      <th>value</th>\n",
       "    </tr>\n",
       "  </thead>\n",
       "  <tbody>\n",
       "    <tr>\n",
       "      <td>0</td>\n",
       "      <td>direct</td>\n",
       "      <td>0.047756</td>\n",
       "    </tr>\n",
       "    <tr>\n",
       "      <td>1</td>\n",
       "      <td>fs_diff</td>\n",
       "      <td>0.036710</td>\n",
       "    </tr>\n",
       "    <tr>\n",
       "      <td>2</td>\n",
       "      <td>w1sp_diff</td>\n",
       "      <td>0.069094</td>\n",
       "    </tr>\n",
       "    <tr>\n",
       "      <td>3</td>\n",
       "      <td>w2sp_diff</td>\n",
       "      <td>0.084865</td>\n",
       "    </tr>\n",
       "    <tr>\n",
       "      <td>4</td>\n",
       "      <td>wrp_diff</td>\n",
       "      <td>0.522031</td>\n",
       "    </tr>\n",
       "    <tr>\n",
       "      <td>5</td>\n",
       "      <td>tpw_diff</td>\n",
       "      <td>0.224965</td>\n",
       "    </tr>\n",
       "    <tr>\n",
       "      <td>6</td>\n",
       "      <td>tmw_diff</td>\n",
       "      <td>-0.013279</td>\n",
       "    </tr>\n",
       "    <tr>\n",
       "      <td>7</td>\n",
       "      <td>aces_per_game_diff</td>\n",
       "      <td>0.098800</td>\n",
       "    </tr>\n",
       "    <tr>\n",
       "      <td>8</td>\n",
       "      <td>df_per_game_diff</td>\n",
       "      <td>0.026915</td>\n",
       "    </tr>\n",
       "    <tr>\n",
       "      <td>9</td>\n",
       "      <td>bp_won_diff</td>\n",
       "      <td>-0.034164</td>\n",
       "    </tr>\n",
       "    <tr>\n",
       "      <td>10</td>\n",
       "      <td>wsp_diff</td>\n",
       "      <td>1.120548</td>\n",
       "    </tr>\n",
       "    <tr>\n",
       "      <td>11</td>\n",
       "      <td>completeness_diff</td>\n",
       "      <td>0.735169</td>\n",
       "    </tr>\n",
       "    <tr>\n",
       "      <td>12</td>\n",
       "      <td>serve_adv_diff</td>\n",
       "      <td>-2.157022</td>\n",
       "    </tr>\n",
       "    <tr>\n",
       "      <td>13</td>\n",
       "      <td>elo_rating_diff</td>\n",
       "      <td>0.944671</td>\n",
       "    </tr>\n",
       "  </tbody>\n",
       "</table>\n",
       "</div>"
      ],
      "text/plain": [
       "              variable     value\n",
       "0               direct  0.047756\n",
       "1              fs_diff  0.036710\n",
       "2            w1sp_diff  0.069094\n",
       "3            w2sp_diff  0.084865\n",
       "4             wrp_diff  0.522031\n",
       "5             tpw_diff  0.224965\n",
       "6             tmw_diff -0.013279\n",
       "7   aces_per_game_diff  0.098800\n",
       "8     df_per_game_diff  0.026915\n",
       "9          bp_won_diff -0.034164\n",
       "10            wsp_diff  1.120548\n",
       "11   completeness_diff  0.735169\n",
       "12      serve_adv_diff -2.157022\n",
       "13     elo_rating_diff  0.944671"
      ]
     },
     "execution_count": 238,
     "metadata": {},
     "output_type": "execute_result"
    }
   ],
   "source": [
    "pd.DataFrame({'variable':X_train.columns.values, 'value':logreg.coef_[0]})"
   ]
  },
  {
   "cell_type": "code",
   "execution_count": 239,
   "metadata": {},
   "outputs": [
    {
     "data": {
      "text/plain": [
       "0.8015076392283041"
      ]
     },
     "execution_count": 239,
     "metadata": {},
     "output_type": "execute_result"
    }
   ],
   "source": [
    "Y_pred_proba = logreg.predict_proba(X_test)\n",
    "log_loss(Y_test, Y_pred_proba)"
   ]
  }
 ],
 "metadata": {
  "kernelspec": {
   "display_name": "Python 3",
   "language": "python",
   "name": "python3"
  },
  "language_info": {
   "codemirror_mode": {
    "name": "ipython",
    "version": 3
   },
   "file_extension": ".py",
   "mimetype": "text/x-python",
   "name": "python",
   "nbconvert_exporter": "python",
   "pygments_lexer": "ipython3",
   "version": "3.7.4"
  }
 },
 "nbformat": 4,
 "nbformat_minor": 4
}
