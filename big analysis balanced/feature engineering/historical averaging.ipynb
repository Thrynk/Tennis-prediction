{
 "cells": [
  {
   "cell_type": "code",
   "execution_count": 46,
   "metadata": {},
   "outputs": [],
   "source": [
    "import pandas as pd\n",
    "import os\n",
    "from datetime import datetime\n",
    "import numpy as np\n",
    "from tqdm.notebook import tqdm\n",
    "import matplotlib.pyplot as plt\n",
    "import seaborn as sns"
   ]
  },
  {
   "cell_type": "code",
   "execution_count": 17,
   "metadata": {},
   "outputs": [],
   "source": [
    "train_df = pd.read_csv(os.path.abspath('../input/cleaned-2007-2017.csv'))"
   ]
  },
  {
   "cell_type": "code",
   "execution_count": 19,
   "metadata": {},
   "outputs": [],
   "source": [
    "train_df['datetime'] = train_df['date'].apply(lambda x: datetime.strptime(x, '%d/%m/%Y'))"
   ]
  },
  {
   "cell_type": "code",
   "execution_count": 20,
   "metadata": {},
   "outputs": [],
   "source": [
    "train_df_gt_2008 = train_df[train_df['datetime'] > '2008-01-01']"
   ]
  },
  {
   "cell_type": "code",
   "execution_count": 22,
   "metadata": {},
   "outputs": [],
   "source": [
    "surfaces = [('H','H'),('H','C'),('H','G'),('C','H'), ('C','C'), ('C','G'),('G','H'), ('G','C'), ('G','G')]"
   ]
  },
  {
   "cell_type": "code",
   "execution_count": 64,
   "metadata": {},
   "outputs": [
    {
     "data": {
      "application/vnd.jupyter.widget-view+json": {
       "model_id": "51cce3d4f33c44ce815fe704d7246002",
       "version_major": 2,
       "version_minor": 0
      },
      "text/plain": [
       "HBox(children=(IntProgress(value=0, description='surfaces', max=3, style=ProgressStyle(description_width='init…"
      ]
     },
     "metadata": {},
     "output_type": "display_data"
    },
    {
     "data": {
      "application/vnd.jupyter.widget-view+json": {
       "model_id": "c0d5b4e0fe8c4a88b247e5a9881daaf5",
       "version_major": 2,
       "version_minor": 0
      },
      "text/plain": [
       "HBox(children=(IntProgress(value=0, description='players H', max=933, style=ProgressStyle(description_width='i…"
      ]
     },
     "metadata": {},
     "output_type": "display_data"
    },
    {
     "name": "stderr",
     "output_type": "stream",
     "text": [
      "C:\\Users\\PC\\Anaconda3\\lib\\site-packages\\ipykernel_launcher.py:12: RuntimeWarning: invalid value encountered in long_scalars\n",
      "  if sys.path[0] == '':\n"
     ]
    },
    {
     "name": "stdout",
     "output_type": "stream",
     "text": [
      "\n"
     ]
    },
    {
     "data": {
      "application/vnd.jupyter.widget-view+json": {
       "model_id": "1a16a6a5a93d4870b76c613a26912e51",
       "version_major": 2,
       "version_minor": 0
      },
      "text/plain": [
       "HBox(children=(IntProgress(value=0, description='players C', max=933, style=ProgressStyle(description_width='i…"
      ]
     },
     "metadata": {},
     "output_type": "display_data"
    },
    {
     "name": "stdout",
     "output_type": "stream",
     "text": [
      "\n"
     ]
    },
    {
     "data": {
      "application/vnd.jupyter.widget-view+json": {
       "model_id": "cb81c90f23474562bb12f42db0c4ea8d",
       "version_major": 2,
       "version_minor": 0
      },
      "text/plain": [
       "HBox(children=(IntProgress(value=0, description='players G', max=933, style=ProgressStyle(description_width='i…"
      ]
     },
     "metadata": {},
     "output_type": "display_data"
    },
    {
     "name": "stdout",
     "output_type": "stream",
     "text": [
      "\n",
      "\n"
     ]
    }
   ],
   "source": [
    "matches_won_by_surface = {'H':[], 'C':[], 'G':[]}\n",
    "\n",
    "for surface in tqdm(['H','C','G'],desc='surfaces'):\n",
    "    for player_id in tqdm(pd.Series(np.concatenate((np.array(train_df['player_id']), np.array(train_df['opponent_id'])))).unique(),desc='players ' + surface):\n",
    "        player_matches = train_df[((train_df['player_id'] == player_id) | (train_df['opponent_id'] == player_id)) & (train_df['surface'] == surface)]\n",
    "        p_matches_won_surface = 0\n",
    "        for index, row in player_matches.iterrows():\n",
    "            if(row['player_id'] == player_id):\n",
    "                p_matches_won_surface += row['p_matches']\n",
    "            elif(row['p_matches'] == 0):\n",
    "                p_matches_won_surface += 1\n",
    "        p_matches_won_surface = p_matches_won_surface / player_matches['p_matches'].count()\n",
    "        matches_won_by_surface[surface].append(p_matches_won_surface)"
   ]
  },
  {
   "cell_type": "code",
   "execution_count": 88,
   "metadata": {},
   "outputs": [],
   "source": [
    "surface_df = pd.DataFrame({\n",
    "                            'H': np.array(matches_won_by_surface['H']), #[~np.isnan(np.array(matches_won_by_surface['H']))],\n",
    "                            'C': np.array(matches_won_by_surface['C']), #[~np.isnan(np.array(matches_won_by_surface['C']))],\n",
    "                            'G': np.array(matches_won_by_surface['G']), #[~np.isnan(np.array(matches_won_by_surface['G']))]\n",
    "                            'player_id': pd.Series(np.concatenate((np.array(train_df['player_id']), np.array(train_df['opponent_id'])))).unique()\n",
    "                        })"
   ]
  },
  {
   "cell_type": "code",
   "execution_count": 89,
   "metadata": {},
   "outputs": [],
   "source": [
    "H_column = []\n",
    "C_column = []\n",
    "G_column = []\n",
    "\n",
    "for a,b in surfaces:\n",
    "    correlation = 0\n",
    "    numerator_correlation = 0\n",
    "    surface_non_null = surface_df.dropna(subset=[a, b])\n",
    "    n_minus_1 = len(surface_non_null.index) - 1\n",
    "    std_a = surface_non_null[a].std()\n",
    "    std_b = surface_non_null[b].std()\n",
    "    for player_index in surface_non_null.index:\n",
    "        numerator_correlation += (surface_non_null[a][player_index] - surface_non_null[a].mean()) *  (surface_non_null[b][player_index] - surface_non_null[b].mean())\n",
    "    correlation = numerator_correlation / (n_minus_1 * std_a * std_b)\n",
    "    if(a == 'H'):\n",
    "        H_column.append(correlation)\n",
    "    elif(a == 'C'):\n",
    "        C_column.append(correlation)\n",
    "    elif(a == 'G'):\n",
    "        G_column.append(correlation)"
   ]
  },
  {
   "cell_type": "code",
   "execution_count": 90,
   "metadata": {},
   "outputs": [],
   "source": [
    "surface_correlations = pd.DataFrame({\n",
    "                'H': H_column,\n",
    "                'C': C_column,\n",
    "                'G': G_column\n",
    "             }, index=['H', 'C', 'G'])"
   ]
  },
  {
   "cell_type": "code",
   "execution_count": 91,
   "metadata": {},
   "outputs": [
    {
     "data": {
      "image/png": "[encoded data removed]",
      "text/plain": [
       "<Figure size 432x288 with 2 Axes>"
      ]
     },
     "metadata": {
      "needs_background": "light"
     },
     "output_type": "display_data"
    }
   ],
   "source": [
    "fig, ax = plt.subplots()\n",
    "sns.heatmap(surface_correlations, annot=True)\n",
    "ax.set_ylim(len(surface_correlations), 0)\n",
    "plt.show()"
   ]
  },
  {
   "cell_type": "code",
   "execution_count": null,
   "metadata": {},
   "outputs": [],
   "source": [
    "from tqdm.notebook import tqdm\n",
    "\n",
    "# player 1 columns\n",
    "p_fs_column = []\n",
    "p_w1sp_column = []\n",
    "p_w2sp_column = []\n",
    "p_wrp_column = []\n",
    "p_tpw_column = []\n",
    "p_tmw_column = []\n",
    "p_aces_per_game_column = []\n",
    "p_df_per_game_column = []\n",
    "p_bp_won_column = []\n",
    "\n",
    "# Combining statistics\n",
    "p_wsp_column = []\n",
    "p_completeness_column = []\n",
    "\n",
    "p_h2h_column = []\n",
    "\n",
    "p_number_of_matches_used_column = []\n",
    "\n",
    "#player 2 columns\n",
    "o_fs_column = []\n",
    "o_w1sp_column = []\n",
    "o_w2sp_column = []\n",
    "o_wrp_column = []\n",
    "o_tpw_column = []\n",
    "o_tmw_column = []\n",
    "o_aces_per_game_column = []\n",
    "o_df_per_game_column = []\n",
    "o_bp_won_column = []\n",
    "\n",
    "# Combining statistics\n",
    "o_wsp_column = []\n",
    "o_completeness_column = []\n",
    "\n",
    "o_h2h_column = []\n",
    "\n",
    "o_number_of_matches_used_column = []\n",
    "\n",
    "# Combining statistics from the two players\n",
    "p_serve_adv_column = []\n",
    "o_serve_adv_column = []\n",
    "direct_column = []\n",
    "\n",
    "# matches to include (for development, no need for final dataset generation)\n",
    "number_of_matches_to_include = 2000\n",
    "\n",
    "# time discounting coefficient\n",
    "time_discounting = 0.8\n",
    "\n",
    "pbar = tqdm(total=train_df_gt_2008.head(n=number_of_matches_to_include).shape[0])\n",
    "\n",
    "for index, row in train_df_gt_2008.head(n=number_of_matches_to_include).iterrows():\n",
    "    # filter dataset to keep only player matches prior to current match\n",
    "    filtered_dataset = train_df[\n",
    "        (train_df['datetime'] < datetime.strptime(row['date'], '%d/%m/%Y')) \n",
    "        & (train_df['player_id'] == row['player_id'])\n",
    "    ]\n",
    "\n",
    "    # initialize temp variables to calculate features\n",
    "    p_1st_in = p_sv_pt = p_1st_won = p_2nd_won = o_sv_pt = o_1st_won = o_2nd_won = o_sv_pt = p_matches \\\n",
    "    = o_matches = p_ace = p_df = p_sv_gms = p_bp_sv = o_bp_sv = p_bp_fc = o_bp_fc = p_number_of_matches_used = 0\n",
    "\n",
    "    # initialize variable features\n",
    "    p_fs = p_w1sp = p_w2sp = p_wrp = p_tpw = p_tmw = p_aces_per_game = p_df_per_game = p_bp_won = p_wsp = p_completeness = p_h2h = np.nan\n",
    "\n",
    "    # calculate statistics averaging with time discounting and surface weighting for player 1\n",
    "    if(filtered_dataset.shape[0] != 0):\n",
    "        for f_index, f_row in filtered_dataset.iterrows():\n",
    "            time_diff = row['datetime'].year - f_row['datetime'].year\n",
    "            surface_weight = surface_correlations[row['surface']].loc[f_row['surface']]\n",
    "            p_1st_in += f_row['p_1st_in'] * (time_discounting ** time_diff) * surface_weight\n",
    "            p_sv_pt += f_row['p_sv_pt'] * (time_discounting ** time_diff) * surface_weight\n",
    "            p_1st_won += f_row['p_1st_won'] * (time_discounting ** time_diff) * surface_weight\n",
    "            p_2nd_won += f_row['p_2nd_won'] * (time_discounting ** time_diff) * surface_weight\n",
    "            o_sv_pt += f_row['o_sv_pt'] * (time_discounting ** time_diff) * surface_weight\n",
    "            o_1st_won += f_row['o_1st_won'] * (time_discounting ** time_diff) * surface_weight\n",
    "            o_2nd_won += f_row['o_2nd_won'] * (time_discounting ** time_diff) * surface_weight\n",
    "            o_sv_pt += f_row['o_sv_pt'] * (time_discounting ** time_diff) * surface_weight\n",
    "            p_matches += f_row['p_matches'] * (time_discounting ** time_diff) * surface_weight\n",
    "            o_matches += f_row['o_matches'] * (time_discounting ** time_diff) * surface_weight\n",
    "            p_ace += f_row['p_ace'] * (time_discounting ** time_diff) * surface_weight\n",
    "            p_df += f_row['p_df'] * (time_discounting ** time_diff) * surface_weight\n",
    "            p_sv_gms += f_row['p_sv_gms'] * (time_discounting ** time_diff) * surface_weight\n",
    "            p_bp_sv += f_row['p_bp_sv'] * (time_discounting ** time_diff) * surface_weight\n",
    "            o_bp_sv += f_row['o_bp_sv'] * (time_discounting ** time_diff) * surface_weight\n",
    "            p_bp_fc += f_row['p_bp_fc'] * (time_discounting ** time_diff) * surface_weight\n",
    "            o_bp_fc += f_row['o_bp_fc'] * (time_discounting ** time_diff) * surface_weight\n",
    "\n",
    "        ## Compute features \n",
    "\n",
    "        # first serve sucess percentage\n",
    "        p_fs = p_1st_in / p_sv_pt\n",
    "\n",
    "        # winning on first serve percentage\n",
    "        p_w1sp = p_1st_won / p_1st_in\n",
    "\n",
    "        # winning on second serve percentage\n",
    "        p_w2sp = p_2nd_won / (p_sv_pt - p_1st_in)\n",
    "        \n",
    "        # winning on return percentage\n",
    "        p_wrp = (o_sv_pt - o_1st_won - o_2nd_won) / o_sv_pt\n",
    "        \n",
    "        # percentage of all points won\n",
    "        p_tpw = (p_1st_won + p_2nd_won + (o_sv_pt - o_1st_won - o_2nd_won) ) / (p_sv_pt + o_sv_pt)\n",
    "        \n",
    "        # percentage of all matches won\n",
    "        p_tmw = p_matches / (p_matches + o_matches)\n",
    "        \n",
    "        # Average number of aces per game\n",
    "        p_aces_per_game = p_ace / p_sv_gms\n",
    "        \n",
    "        # Average number of double faults per game\n",
    "        p_df_per_game = p_df / p_sv_gms\n",
    "        \n",
    "        # Percentage of breakpoints won\n",
    "        p_bp_won = (p_bp_sv + o_bp_sv) / (p_bp_fc + o_bp_fc)\n",
    "        \n",
    "        # overall winning percentage\n",
    "        p_wsp = p_w1sp * p_fs + p_w2sp * (1-p_fs)\n",
    "        \n",
    "        # completeness\n",
    "        p_completeness = p_wsp * p_wrp\n",
    "        \n",
    "        \n",
    "        \n",
    "        # number of matches used to compute statistics\n",
    "        p_number_of_matches_used = filtered_dataset.shape[0]\n",
    "\n",
    "    p_fs_column.append(p_fs)\n",
    "    p_w1sp_column.append(p_w1sp)\n",
    "    p_w2sp_column.append(p_w2sp)\n",
    "    p_wrp_column.append(p_wrp)\n",
    "    p_tpw_column.append(p_tpw)\n",
    "    p_tmw_column.append(p_tmw)\n",
    "    p_aces_per_game_column.append(p_aces_per_game)\n",
    "    p_df_per_game_column.append(p_df_per_game)\n",
    "    p_bp_won_column.append(p_bp_won)\n",
    "    \n",
    "    # Combining statistics\n",
    "    p_wsp_column.append(p_wsp)\n",
    "    p_completeness_column.append(p_completeness)\n",
    "    \n",
    "    ## head to head feature\n",
    "    # filter dataset to keep only player matches prior to current match\n",
    "    filtered_dataset_h2h = train_df[\n",
    "        (train_df['datetime'] < datetime.strptime(row['date'], '%d/%m/%Y')) \n",
    "        & (train_df['player_id'] == row['player_id'])\n",
    "        & (train_df['opponent_id'] == row['opponent_id'])\n",
    "    ]\n",
    "    if(filtered_dataset_h2h.shape[0] != 0):\n",
    "        p_h2h = filtered_dataset_h2h['p_matches'].sum() / filtered_dataset_h2h['p_matches'].count()\n",
    "    p_h2h_column.append(p_h2h)\n",
    "\n",
    "    # number of matches computed to have stats\n",
    "    p_number_of_matches_used_column.append(p_number_of_matches_used)\n",
    "    \n",
    "    #------------------------------------------------------------------------------------------------------------------\n",
    "    \n",
    "    # filter dataset to keep only opponent matches prior to current match\n",
    "    filtered_dataset = train_df[\n",
    "        (train_df['datetime'] < datetime.strptime(row['date'], '%d/%m/%Y')) \n",
    "        & (train_df['player_id'] == row['opponent_id'])\n",
    "    ]\n",
    "\n",
    "    # initialize temp variables to calculate features\n",
    "    p_1st_in = p_sv_pt = p_1st_won = p_2nd_won = o_sv_pt = o_1st_won = o_2nd_won = o_sv_pt = p_matches \\\n",
    "    = o_matches = p_ace = p_df = p_sv_gms = p_bp_sv = o_bp_sv = p_bp_fc = o_bp_fc = o_number_of_matches_used = 0\n",
    "\n",
    "    # initialize variable features\n",
    "    o_fs = o_w1sp = o_w2sp = o_wrp = o_tpw = o_tmw = o_aces_per_game = o_df_per_game = o_bp_won = o_wsp = o_completeness = o_h2h = np.nan\n",
    "\n",
    "    # calculate statistics averaging with time discounting and surface weighting for player 2\n",
    "    if(filtered_dataset.shape[0] != 0):\n",
    "        for f_index, f_row in filtered_dataset.iterrows():\n",
    "            time_diff = row['datetime'].year - f_row['datetime'].year\n",
    "            surface_weight = surface_correlations[row['surface']].loc[f_row['surface']]\n",
    "            p_1st_in += f_row['p_1st_in'] * (time_discounting ** time_diff) * surface_weight\n",
    "            p_sv_pt += f_row['p_sv_pt'] * (time_discounting ** time_diff) * surface_weight\n",
    "            p_1st_won += f_row['p_1st_won'] * (time_discounting ** time_diff) * surface_weight\n",
    "            p_2nd_won += f_row['p_2nd_won'] * (time_discounting ** time_diff) * surface_weight\n",
    "            o_sv_pt += f_row['o_sv_pt'] * (time_discounting ** time_diff) * surface_weight\n",
    "            o_1st_won += f_row['o_1st_won'] * (time_discounting ** time_diff) * surface_weight\n",
    "            o_2nd_won += f_row['o_2nd_won'] * (time_discounting ** time_diff) * surface_weight\n",
    "            o_sv_pt += f_row['o_sv_pt'] * (time_discounting ** time_diff) * surface_weight\n",
    "            p_matches += f_row['p_matches'] * (time_discounting ** time_diff) * surface_weight\n",
    "            o_matches += f_row['o_matches'] * (time_discounting ** time_diff) * surface_weight\n",
    "            p_ace += f_row['p_ace'] * (time_discounting ** time_diff) * surface_weight\n",
    "            p_df += f_row['p_df'] * (time_discounting ** time_diff) * surface_weight\n",
    "            p_sv_gms += f_row['p_sv_gms'] * (time_discounting ** time_diff) * surface_weight\n",
    "            p_bp_sv += f_row['p_bp_sv'] * (time_discounting ** time_diff) * surface_weight\n",
    "            o_bp_sv += f_row['o_bp_sv'] * (time_discounting ** time_diff) * surface_weight\n",
    "            p_bp_fc += f_row['p_bp_fc'] * (time_discounting ** time_diff) * surface_weight\n",
    "            o_bp_fc += f_row['o_bp_fc'] * (time_discounting ** time_diff) * surface_weight\n",
    "            \n",
    "        ## Compute features \n",
    "\n",
    "        # first serve sucess percentage\n",
    "        o_fs = p_1st_in / p_sv_pt\n",
    "\n",
    "        # winning on first serve percentage\n",
    "        o_w1sp = p_1st_won / p_1st_in\n",
    "\n",
    "        # winning on second serve percentage\n",
    "        o_w2sp = p_2nd_won / (p_sv_pt - p_1st_in)\n",
    "        \n",
    "        # winning on return percentage\n",
    "        o_wrp = (o_sv_pt - o_1st_won - o_2nd_won) / o_sv_pt\n",
    "        \n",
    "        # percentage of all points won\n",
    "        o_tpw = (p_1st_won + p_2nd_won + (o_sv_pt - o_1st_won - o_2nd_won) ) / (p_sv_pt + o_sv_pt)\n",
    "        \n",
    "        # percentage of all matches won\n",
    "        o_tmw = p_matches / (p_matches + o_matches)\n",
    "        \n",
    "        # Average number of aces per game\n",
    "        o_aces_per_game = p_ace / p_sv_gms\n",
    "        \n",
    "        # Average number of double faults per game\n",
    "        o_df_per_game = p_df / p_sv_gms\n",
    "        \n",
    "        # Percentage of breakpoints won\n",
    "        o_bp_won = (p_bp_sv + o_bp_sv) / (p_bp_fc + o_bp_fc)\n",
    "        \n",
    "        ## Combining features to obtain more stats\n",
    "        \n",
    "        # overall winning percentage\n",
    "        o_wsp = o_w1sp * o_fs + o_w2sp * (1-o_fs)\n",
    "        \n",
    "        # completeness\n",
    "        o_completeness = o_wsp * o_wrp\n",
    "        \n",
    "        \n",
    "        \n",
    "        # number of matches used to compute statistics\n",
    "        o_number_of_matches_used = filtered_dataset.shape[0]\n",
    "\n",
    "    o_fs_column.append(o_fs)\n",
    "    o_w1sp_column.append(o_w1sp)\n",
    "    o_w2sp_column.append(o_w2sp)\n",
    "    o_wrp_column.append(o_wrp)\n",
    "    o_tpw_column.append(o_tpw)\n",
    "    o_tmw_column.append(o_tmw)\n",
    "    o_aces_per_game_column.append(o_aces_per_game)\n",
    "    o_df_per_game_column.append(o_df_per_game)\n",
    "    o_bp_won_column.append(o_bp_won)\n",
    "    \n",
    "    # Combining statistics\n",
    "    o_wsp_column.append(o_wsp)\n",
    "    o_completeness_column.append(o_completeness)\n",
    "    \n",
    "    ## head to head feature\n",
    "    # filter dataset to keep only player matches prior to current match\n",
    "    filtered_dataset_h2h = train_df[\n",
    "        (train_df['datetime'] < datetime.strptime(row['date'], '%d/%m/%Y')) \n",
    "        & (train_df['player_id'] == row['opponent_id'])\n",
    "        & (train_df['opponent_id'] == row['player_id'])\n",
    "    ]\n",
    "    if(filtered_dataset_h2h.shape[0] != 0):\n",
    "        o_h2h = filtered_dataset_h2h['p_matches'].sum() / filtered_dataset_h2h['p_matches'].count()\n",
    "    o_h2h_column.append(o_h2h)\n",
    "    \n",
    "\n",
    "    # number of matches computed to have stats\n",
    "    o_number_of_matches_used_column.append(o_number_of_matches_used)\n",
    "    \n",
    "    # Combining statistics from the two players\n",
    "    p_serve_adv_column = (np.array(p_wsp_column) - np.array(o_wrp_column)).tolist()\n",
    "    o_serve_adv_column = (np.array(o_wsp_column) - np.array(p_wrp_column)).tolist()\n",
    "    direct_column = (np.array(p_h2h_column) - np.array(o_h2h_column)).tolist()\n",
    "    \n",
    "    # progress\n",
    "    pbar.update(1)\n",
    "    \n",
    "pbar.close()\n",
    "\n",
    "result_test_df = pd.DataFrame({'p_fs': p_fs_column, 'p_w1sp': p_w1sp_column, 'p_w2sp': p_w2sp_column, 'p_wrp': p_wrp_column, \n",
    "                               'p_tpw': p_tpw_column, 'p_tmw': p_tmw_column, 'p_aces_per_game': p_aces_per_game_column,\n",
    "                               'p_df_per_game': p_df_per_game_column, 'p_bp_won': p_bp_won_column,\n",
    "                               'p_wsp': p_wsp_column, 'p_completeness': p_completeness_column, 'p_serve_adv': p_serve_adv_column,\n",
    "                               'p_number_of_matches_used': p_number_of_matches_used_column,\n",
    "                               'o_fs': o_fs_column, 'o_w1sp': o_w1sp_column, 'o_w2sp': o_w2sp_column, 'o_wrp': o_wrp_column, \n",
    "                               'o_tpw': o_tpw_column, 'o_tmw': o_tmw_column, 'o_aces_per_game': o_aces_per_game_column,\n",
    "                               'o_df_per_game': o_df_per_game_column, 'o_bp_won': o_bp_won_column,\n",
    "                               'o_wsp': o_wsp_column, 'o_completeness': o_completeness_column, 'o_serve_adv': o_serve_adv_column,\n",
    "                               'direct': direct_column,\n",
    "                               'o_number_of_matches_used': o_number_of_matches_used_column\n",
    "                              })"
   ]
  },
  {
   "cell_type": "code",
   "execution_count": null,
   "metadata": {},
   "outputs": [],
   "source": []
  }
 ],
 "metadata": {
  "kernelspec": {
   "display_name": "Python 3",
   "language": "python",
   "name": "python3"
  },
  "language_info": {
   "codemirror_mode": {
    "name": "ipython",
    "version": 3
   },
   "file_extension": ".py",
   "mimetype": "text/x-python",
   "name": "python",
   "nbconvert_exporter": "python",
   "pygments_lexer": "ipython3",
   "version": "3.7.4"
  }
 },
 "nbformat": 4,
 "nbformat_minor": 4
}
