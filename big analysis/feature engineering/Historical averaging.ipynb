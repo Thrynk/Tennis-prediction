{
 "cells": [
  {
   "cell_type": "code",
   "execution_count": 74,
   "metadata": {},
   "outputs": [],
   "source": [
    "import pandas as pd\n",
    "import os"
   ]
  },
  {
   "cell_type": "code",
   "execution_count": 75,
   "metadata": {},
   "outputs": [],
   "source": [
    "train_df = pd.read_csv(os.path.abspath('../input/cleaned-2007-2017.csv'))"
   ]
  },
  {
   "cell_type": "markdown",
   "metadata": {},
   "source": [
    "### Create historical features"
   ]
  },
  {
   "cell_type": "code",
   "execution_count": 76,
   "metadata": {},
   "outputs": [
    {
     "data": {
      "text/plain": [
       "array(['match_id', 'tournament_name', 'season', 'tournament_id', 'date',\n",
       "       'level', 'surface', 'round', 'best_of', 'player_id', 'player_rank',\n",
       "       'player_elo_rating', 'opponent_id', 'opponent_rank',\n",
       "       'opponent_elo_rating', 'outcome', 'p_1st_in', 'o_1st_in',\n",
       "       'p_sv_pt', 'o_sv_pt', 'p_1st_won', 'o_1st_won', 'p_2nd_won',\n",
       "       'o_2nd_won', 'p_ace', 'o_ace', 'p_df', 'o_df', 'p_bp_sv',\n",
       "       'o_bp_sv', 'p_bp_fc', 'o_bp_fc', 'p_matches', 'o_matches',\n",
       "       'p_sv_gms'], dtype=object)"
      ]
     },
     "execution_count": 76,
     "metadata": {},
     "output_type": "execute_result"
    }
   ],
   "source": [
    "train_df.columns.values"
   ]
  },
  {
   "cell_type": "code",
   "execution_count": 77,
   "metadata": {},
   "outputs": [
    {
     "data": {
      "text/html": [
       "<div>\n",
       "<style scoped>\n",
       "    .dataframe tbody tr th:only-of-type {\n",
       "        vertical-align: middle;\n",
       "    }\n",
       "\n",
       "    .dataframe tbody tr th {\n",
       "        vertical-align: top;\n",
       "    }\n",
       "\n",
       "    .dataframe thead th {\n",
       "        text-align: right;\n",
       "    }\n",
       "</style>\n",
       "<table border=\"1\" class=\"dataframe\">\n",
       "  <thead>\n",
       "    <tr style=\"text-align: right;\">\n",
       "      <th></th>\n",
       "      <th>match_id</th>\n",
       "      <th>tournament_name</th>\n",
       "      <th>season</th>\n",
       "      <th>tournament_id</th>\n",
       "      <th>date</th>\n",
       "      <th>level</th>\n",
       "      <th>surface</th>\n",
       "      <th>round</th>\n",
       "      <th>best_of</th>\n",
       "      <th>player_id</th>\n",
       "      <th>...</th>\n",
       "      <th>o_ace</th>\n",
       "      <th>p_df</th>\n",
       "      <th>o_df</th>\n",
       "      <th>p_bp_sv</th>\n",
       "      <th>o_bp_sv</th>\n",
       "      <th>p_bp_fc</th>\n",
       "      <th>o_bp_fc</th>\n",
       "      <th>p_matches</th>\n",
       "      <th>o_matches</th>\n",
       "      <th>p_sv_gms</th>\n",
       "    </tr>\n",
       "  </thead>\n",
       "  <tbody>\n",
       "    <tr>\n",
       "      <td>0</td>\n",
       "      <td>137522.0</td>\n",
       "      <td>Rome Masters</td>\n",
       "      <td>2008.0</td>\n",
       "      <td>11.0</td>\n",
       "      <td>05/05/2008</td>\n",
       "      <td>M</td>\n",
       "      <td>C</td>\n",
       "      <td>R64</td>\n",
       "      <td>3.0</td>\n",
       "      <td>3344.0</td>\n",
       "      <td>...</td>\n",
       "      <td>6.0</td>\n",
       "      <td>4.0</td>\n",
       "      <td>1.0</td>\n",
       "      <td>9.0</td>\n",
       "      <td>6.0</td>\n",
       "      <td>11.0</td>\n",
       "      <td>7.0</td>\n",
       "      <td>0.0</td>\n",
       "      <td>1.0</td>\n",
       "      <td>12.0</td>\n",
       "    </tr>\n",
       "    <tr>\n",
       "      <td>1</td>\n",
       "      <td>137523.0</td>\n",
       "      <td>Rome Masters</td>\n",
       "      <td>2008.0</td>\n",
       "      <td>11.0</td>\n",
       "      <td>05/05/2008</td>\n",
       "      <td>M</td>\n",
       "      <td>C</td>\n",
       "      <td>R64</td>\n",
       "      <td>3.0</td>\n",
       "      <td>2703.0</td>\n",
       "      <td>...</td>\n",
       "      <td>7.0</td>\n",
       "      <td>2.0</td>\n",
       "      <td>1.0</td>\n",
       "      <td>2.0</td>\n",
       "      <td>5.0</td>\n",
       "      <td>5.0</td>\n",
       "      <td>6.0</td>\n",
       "      <td>0.0</td>\n",
       "      <td>1.0</td>\n",
       "      <td>11.0</td>\n",
       "    </tr>\n",
       "    <tr>\n",
       "      <td>2</td>\n",
       "      <td>137524.0</td>\n",
       "      <td>Rome Masters</td>\n",
       "      <td>2008.0</td>\n",
       "      <td>11.0</td>\n",
       "      <td>05/05/2008</td>\n",
       "      <td>M</td>\n",
       "      <td>C</td>\n",
       "      <td>R64</td>\n",
       "      <td>3.0</td>\n",
       "      <td>4654.0</td>\n",
       "      <td>...</td>\n",
       "      <td>1.0</td>\n",
       "      <td>3.0</td>\n",
       "      <td>0.0</td>\n",
       "      <td>6.0</td>\n",
       "      <td>2.0</td>\n",
       "      <td>11.0</td>\n",
       "      <td>3.0</td>\n",
       "      <td>0.0</td>\n",
       "      <td>1.0</td>\n",
       "      <td>8.0</td>\n",
       "    </tr>\n",
       "    <tr>\n",
       "      <td>3</td>\n",
       "      <td>137525.0</td>\n",
       "      <td>Rome Masters</td>\n",
       "      <td>2008.0</td>\n",
       "      <td>11.0</td>\n",
       "      <td>05/05/2008</td>\n",
       "      <td>M</td>\n",
       "      <td>C</td>\n",
       "      <td>R64</td>\n",
       "      <td>3.0</td>\n",
       "      <td>4385.0</td>\n",
       "      <td>...</td>\n",
       "      <td>7.0</td>\n",
       "      <td>4.0</td>\n",
       "      <td>4.0</td>\n",
       "      <td>4.0</td>\n",
       "      <td>4.0</td>\n",
       "      <td>7.0</td>\n",
       "      <td>9.0</td>\n",
       "      <td>0.0</td>\n",
       "      <td>1.0</td>\n",
       "      <td>16.0</td>\n",
       "    </tr>\n",
       "    <tr>\n",
       "      <td>4</td>\n",
       "      <td>137526.0</td>\n",
       "      <td>Rome Masters</td>\n",
       "      <td>2008.0</td>\n",
       "      <td>11.0</td>\n",
       "      <td>05/05/2008</td>\n",
       "      <td>M</td>\n",
       "      <td>C</td>\n",
       "      <td>R64</td>\n",
       "      <td>3.0</td>\n",
       "      <td>4416.0</td>\n",
       "      <td>...</td>\n",
       "      <td>8.0</td>\n",
       "      <td>5.0</td>\n",
       "      <td>4.0</td>\n",
       "      <td>5.0</td>\n",
       "      <td>7.0</td>\n",
       "      <td>7.0</td>\n",
       "      <td>9.0</td>\n",
       "      <td>0.0</td>\n",
       "      <td>1.0</td>\n",
       "      <td>13.0</td>\n",
       "    </tr>\n",
       "  </tbody>\n",
       "</table>\n",
       "<p>5 rows × 35 columns</p>\n",
       "</div>"
      ],
      "text/plain": [
       "   match_id tournament_name  season  tournament_id        date level surface  \\\n",
       "0  137522.0    Rome Masters  2008.0           11.0  05/05/2008     M       C   \n",
       "1  137523.0    Rome Masters  2008.0           11.0  05/05/2008     M       C   \n",
       "2  137524.0    Rome Masters  2008.0           11.0  05/05/2008     M       C   \n",
       "3  137525.0    Rome Masters  2008.0           11.0  05/05/2008     M       C   \n",
       "4  137526.0    Rome Masters  2008.0           11.0  05/05/2008     M       C   \n",
       "\n",
       "  round  best_of  player_id  ...  o_ace  p_df  o_df  p_bp_sv  o_bp_sv p_bp_fc  \\\n",
       "0   R64      3.0     3344.0  ...    6.0   4.0   1.0      9.0      6.0    11.0   \n",
       "1   R64      3.0     2703.0  ...    7.0   2.0   1.0      2.0      5.0     5.0   \n",
       "2   R64      3.0     4654.0  ...    1.0   3.0   0.0      6.0      2.0    11.0   \n",
       "3   R64      3.0     4385.0  ...    7.0   4.0   4.0      4.0      4.0     7.0   \n",
       "4   R64      3.0     4416.0  ...    8.0   5.0   4.0      5.0      7.0     7.0   \n",
       "\n",
       "   o_bp_fc  p_matches  o_matches  p_sv_gms  \n",
       "0      7.0        0.0        1.0      12.0  \n",
       "1      6.0        0.0        1.0      11.0  \n",
       "2      3.0        0.0        1.0       8.0  \n",
       "3      9.0        0.0        1.0      16.0  \n",
       "4      9.0        0.0        1.0      13.0  \n",
       "\n",
       "[5 rows x 35 columns]"
      ]
     },
     "execution_count": 77,
     "metadata": {},
     "output_type": "execute_result"
    }
   ],
   "source": [
    "train_df.head()"
   ]
  },
  {
   "cell_type": "code",
   "execution_count": 83,
   "metadata": {},
   "outputs": [],
   "source": [
    "from datetime import datetime"
   ]
  },
  {
   "cell_type": "code",
   "execution_count": 84,
   "metadata": {},
   "outputs": [],
   "source": [
    "train_df['datetime'] = train_df['date'].apply(lambda x: datetime.strptime(x, '%d/%m/%Y'))"
   ]
  },
  {
   "cell_type": "code",
   "execution_count": 85,
   "metadata": {},
   "outputs": [
    {
     "data": {
      "text/html": [
       "<div>\n",
       "<style scoped>\n",
       "    .dataframe tbody tr th:only-of-type {\n",
       "        vertical-align: middle;\n",
       "    }\n",
       "\n",
       "    .dataframe tbody tr th {\n",
       "        vertical-align: top;\n",
       "    }\n",
       "\n",
       "    .dataframe thead th {\n",
       "        text-align: right;\n",
       "    }\n",
       "</style>\n",
       "<table border=\"1\" class=\"dataframe\">\n",
       "  <thead>\n",
       "    <tr style=\"text-align: right;\">\n",
       "      <th></th>\n",
       "      <th>match_id</th>\n",
       "      <th>tournament_name</th>\n",
       "      <th>season</th>\n",
       "      <th>tournament_id</th>\n",
       "      <th>date</th>\n",
       "      <th>level</th>\n",
       "      <th>surface</th>\n",
       "      <th>round</th>\n",
       "      <th>best_of</th>\n",
       "      <th>player_id</th>\n",
       "      <th>...</th>\n",
       "      <th>p_df</th>\n",
       "      <th>o_df</th>\n",
       "      <th>p_bp_sv</th>\n",
       "      <th>o_bp_sv</th>\n",
       "      <th>p_bp_fc</th>\n",
       "      <th>o_bp_fc</th>\n",
       "      <th>p_matches</th>\n",
       "      <th>o_matches</th>\n",
       "      <th>p_sv_gms</th>\n",
       "      <th>datetime</th>\n",
       "    </tr>\n",
       "  </thead>\n",
       "  <tbody>\n",
       "    <tr>\n",
       "      <td>1209</td>\n",
       "      <td>135262.0</td>\n",
       "      <td>Umag</td>\n",
       "      <td>2007.0</td>\n",
       "      <td>301.0</td>\n",
       "      <td>23/07/2007</td>\n",
       "      <td>B</td>\n",
       "      <td>C</td>\n",
       "      <td>R32</td>\n",
       "      <td>3.0</td>\n",
       "      <td>3344.0</td>\n",
       "      <td>...</td>\n",
       "      <td>2.0</td>\n",
       "      <td>2.0</td>\n",
       "      <td>8.0</td>\n",
       "      <td>4.0</td>\n",
       "      <td>12.0</td>\n",
       "      <td>7.0</td>\n",
       "      <td>0.0</td>\n",
       "      <td>1.0</td>\n",
       "      <td>12.0</td>\n",
       "      <td>2007-07-23</td>\n",
       "    </tr>\n",
       "    <tr>\n",
       "      <td>1938</td>\n",
       "      <td>134477.0</td>\n",
       "      <td>Hamburg</td>\n",
       "      <td>2007.0</td>\n",
       "      <td>10.0</td>\n",
       "      <td>14/05/2007</td>\n",
       "      <td>M</td>\n",
       "      <td>C</td>\n",
       "      <td>R32</td>\n",
       "      <td>3.0</td>\n",
       "      <td>3344.0</td>\n",
       "      <td>...</td>\n",
       "      <td>1.0</td>\n",
       "      <td>1.0</td>\n",
       "      <td>11.0</td>\n",
       "      <td>8.0</td>\n",
       "      <td>13.0</td>\n",
       "      <td>13.0</td>\n",
       "      <td>1.0</td>\n",
       "      <td>0.0</td>\n",
       "      <td>13.0</td>\n",
       "      <td>2007-05-14</td>\n",
       "    </tr>\n",
       "    <tr>\n",
       "      <td>2048</td>\n",
       "      <td>134624.0</td>\n",
       "      <td>Roland Garros</td>\n",
       "      <td>2007.0</td>\n",
       "      <td>19.0</td>\n",
       "      <td>28/05/2007</td>\n",
       "      <td>G</td>\n",
       "      <td>C</td>\n",
       "      <td>R64</td>\n",
       "      <td>5.0</td>\n",
       "      <td>3344.0</td>\n",
       "      <td>...</td>\n",
       "      <td>0.0</td>\n",
       "      <td>1.0</td>\n",
       "      <td>3.0</td>\n",
       "      <td>7.0</td>\n",
       "      <td>4.0</td>\n",
       "      <td>11.0</td>\n",
       "      <td>1.0</td>\n",
       "      <td>0.0</td>\n",
       "      <td>21.0</td>\n",
       "      <td>2007-05-28</td>\n",
       "    </tr>\n",
       "    <tr>\n",
       "      <td>3151</td>\n",
       "      <td>134223.0</td>\n",
       "      <td>Monte Carlo Masters</td>\n",
       "      <td>2007.0</td>\n",
       "      <td>9.0</td>\n",
       "      <td>15/04/2007</td>\n",
       "      <td>M</td>\n",
       "      <td>C</td>\n",
       "      <td>R32</td>\n",
       "      <td>3.0</td>\n",
       "      <td>3344.0</td>\n",
       "      <td>...</td>\n",
       "      <td>1.0</td>\n",
       "      <td>3.0</td>\n",
       "      <td>8.0</td>\n",
       "      <td>11.0</td>\n",
       "      <td>8.0</td>\n",
       "      <td>11.0</td>\n",
       "      <td>1.0</td>\n",
       "      <td>0.0</td>\n",
       "      <td>12.0</td>\n",
       "      <td>2007-04-15</td>\n",
       "    </tr>\n",
       "    <tr>\n",
       "      <td>3474</td>\n",
       "      <td>134526.0</td>\n",
       "      <td>Poertschach</td>\n",
       "      <td>2007.0</td>\n",
       "      <td>277.0</td>\n",
       "      <td>20/05/2007</td>\n",
       "      <td>B</td>\n",
       "      <td>C</td>\n",
       "      <td>R32</td>\n",
       "      <td>3.0</td>\n",
       "      <td>3344.0</td>\n",
       "      <td>...</td>\n",
       "      <td>1.0</td>\n",
       "      <td>2.0</td>\n",
       "      <td>1.0</td>\n",
       "      <td>3.0</td>\n",
       "      <td>2.0</td>\n",
       "      <td>4.0</td>\n",
       "      <td>1.0</td>\n",
       "      <td>0.0</td>\n",
       "      <td>12.0</td>\n",
       "      <td>2007-05-20</td>\n",
       "    </tr>\n",
       "    <tr>\n",
       "      <td>3515</td>\n",
       "      <td>134568.0</td>\n",
       "      <td>Roland Garros</td>\n",
       "      <td>2007.0</td>\n",
       "      <td>19.0</td>\n",
       "      <td>28/05/2007</td>\n",
       "      <td>G</td>\n",
       "      <td>C</td>\n",
       "      <td>R128</td>\n",
       "      <td>5.0</td>\n",
       "      <td>3344.0</td>\n",
       "      <td>...</td>\n",
       "      <td>2.0</td>\n",
       "      <td>3.0</td>\n",
       "      <td>2.0</td>\n",
       "      <td>4.0</td>\n",
       "      <td>3.0</td>\n",
       "      <td>8.0</td>\n",
       "      <td>1.0</td>\n",
       "      <td>0.0</td>\n",
       "      <td>16.0</td>\n",
       "      <td>2007-05-28</td>\n",
       "    </tr>\n",
       "    <tr>\n",
       "      <td>5468</td>\n",
       "      <td>134235.0</td>\n",
       "      <td>Monte Carlo Masters</td>\n",
       "      <td>2007.0</td>\n",
       "      <td>9.0</td>\n",
       "      <td>15/04/2007</td>\n",
       "      <td>M</td>\n",
       "      <td>C</td>\n",
       "      <td>R16</td>\n",
       "      <td>3.0</td>\n",
       "      <td>3344.0</td>\n",
       "      <td>...</td>\n",
       "      <td>5.0</td>\n",
       "      <td>7.0</td>\n",
       "      <td>13.0</td>\n",
       "      <td>2.0</td>\n",
       "      <td>18.0</td>\n",
       "      <td>5.0</td>\n",
       "      <td>0.0</td>\n",
       "      <td>1.0</td>\n",
       "      <td>16.0</td>\n",
       "      <td>2007-04-15</td>\n",
       "    </tr>\n",
       "    <tr>\n",
       "      <td>5614</td>\n",
       "      <td>134422.0</td>\n",
       "      <td>Rome Masters</td>\n",
       "      <td>2007.0</td>\n",
       "      <td>11.0</td>\n",
       "      <td>07/05/2007</td>\n",
       "      <td>M</td>\n",
       "      <td>C</td>\n",
       "      <td>R32</td>\n",
       "      <td>3.0</td>\n",
       "      <td>3344.0</td>\n",
       "      <td>...</td>\n",
       "      <td>2.0</td>\n",
       "      <td>1.0</td>\n",
       "      <td>5.0</td>\n",
       "      <td>2.0</td>\n",
       "      <td>9.0</td>\n",
       "      <td>3.0</td>\n",
       "      <td>0.0</td>\n",
       "      <td>1.0</td>\n",
       "      <td>10.0</td>\n",
       "      <td>2007-05-07</td>\n",
       "    </tr>\n",
       "    <tr>\n",
       "      <td>5745</td>\n",
       "      <td>134491.0</td>\n",
       "      <td>Hamburg</td>\n",
       "      <td>2007.0</td>\n",
       "      <td>10.0</td>\n",
       "      <td>14/05/2007</td>\n",
       "      <td>M</td>\n",
       "      <td>C</td>\n",
       "      <td>R16</td>\n",
       "      <td>3.0</td>\n",
       "      <td>3344.0</td>\n",
       "      <td>...</td>\n",
       "      <td>1.0</td>\n",
       "      <td>0.0</td>\n",
       "      <td>3.0</td>\n",
       "      <td>3.0</td>\n",
       "      <td>7.0</td>\n",
       "      <td>4.0</td>\n",
       "      <td>0.0</td>\n",
       "      <td>1.0</td>\n",
       "      <td>9.0</td>\n",
       "      <td>2007-05-14</td>\n",
       "    </tr>\n",
       "    <tr>\n",
       "      <td>5793</td>\n",
       "      <td>134540.0</td>\n",
       "      <td>Poertschach</td>\n",
       "      <td>2007.0</td>\n",
       "      <td>277.0</td>\n",
       "      <td>20/05/2007</td>\n",
       "      <td>B</td>\n",
       "      <td>C</td>\n",
       "      <td>R16</td>\n",
       "      <td>3.0</td>\n",
       "      <td>3344.0</td>\n",
       "      <td>...</td>\n",
       "      <td>2.0</td>\n",
       "      <td>0.0</td>\n",
       "      <td>3.0</td>\n",
       "      <td>1.0</td>\n",
       "      <td>4.0</td>\n",
       "      <td>1.0</td>\n",
       "      <td>0.0</td>\n",
       "      <td>1.0</td>\n",
       "      <td>11.0</td>\n",
       "      <td>2007-05-20</td>\n",
       "    </tr>\n",
       "    <tr>\n",
       "      <td>6356</td>\n",
       "      <td>137381.0</td>\n",
       "      <td>Monte Carlo Masters</td>\n",
       "      <td>2008.0</td>\n",
       "      <td>9.0</td>\n",
       "      <td>20/04/2008</td>\n",
       "      <td>M</td>\n",
       "      <td>C</td>\n",
       "      <td>R64</td>\n",
       "      <td>3.0</td>\n",
       "      <td>3344.0</td>\n",
       "      <td>...</td>\n",
       "      <td>0.0</td>\n",
       "      <td>3.0</td>\n",
       "      <td>0.0</td>\n",
       "      <td>4.0</td>\n",
       "      <td>0.0</td>\n",
       "      <td>8.0</td>\n",
       "      <td>1.0</td>\n",
       "      <td>0.0</td>\n",
       "      <td>8.0</td>\n",
       "      <td>2008-04-20</td>\n",
       "    </tr>\n",
       "    <tr>\n",
       "      <td>10490</td>\n",
       "      <td>134652.0</td>\n",
       "      <td>Roland Garros</td>\n",
       "      <td>2007.0</td>\n",
       "      <td>19.0</td>\n",
       "      <td>28/05/2007</td>\n",
       "      <td>G</td>\n",
       "      <td>C</td>\n",
       "      <td>R32</td>\n",
       "      <td>5.0</td>\n",
       "      <td>3344.0</td>\n",
       "      <td>...</td>\n",
       "      <td>3.0</td>\n",
       "      <td>3.0</td>\n",
       "      <td>8.0</td>\n",
       "      <td>4.0</td>\n",
       "      <td>15.0</td>\n",
       "      <td>9.0</td>\n",
       "      <td>0.0</td>\n",
       "      <td>1.0</td>\n",
       "      <td>25.0</td>\n",
       "      <td>2007-05-28</td>\n",
       "    </tr>\n",
       "    <tr>\n",
       "      <td>34065</td>\n",
       "      <td>137403.0</td>\n",
       "      <td>Monte Carlo Masters</td>\n",
       "      <td>2008.0</td>\n",
       "      <td>9.0</td>\n",
       "      <td>20/04/2008</td>\n",
       "      <td>M</td>\n",
       "      <td>C</td>\n",
       "      <td>R32</td>\n",
       "      <td>3.0</td>\n",
       "      <td>3344.0</td>\n",
       "      <td>...</td>\n",
       "      <td>4.0</td>\n",
       "      <td>0.0</td>\n",
       "      <td>1.0</td>\n",
       "      <td>7.0</td>\n",
       "      <td>5.0</td>\n",
       "      <td>8.0</td>\n",
       "      <td>0.0</td>\n",
       "      <td>1.0</td>\n",
       "      <td>9.0</td>\n",
       "      <td>2008-04-20</td>\n",
       "    </tr>\n",
       "  </tbody>\n",
       "</table>\n",
       "<p>13 rows × 36 columns</p>\n",
       "</div>"
      ],
      "text/plain": [
       "       match_id      tournament_name  season  tournament_id        date level  \\\n",
       "1209   135262.0                 Umag  2007.0          301.0  23/07/2007     B   \n",
       "1938   134477.0              Hamburg  2007.0           10.0  14/05/2007     M   \n",
       "2048   134624.0        Roland Garros  2007.0           19.0  28/05/2007     G   \n",
       "3151   134223.0  Monte Carlo Masters  2007.0            9.0  15/04/2007     M   \n",
       "3474   134526.0          Poertschach  2007.0          277.0  20/05/2007     B   \n",
       "3515   134568.0        Roland Garros  2007.0           19.0  28/05/2007     G   \n",
       "5468   134235.0  Monte Carlo Masters  2007.0            9.0  15/04/2007     M   \n",
       "5614   134422.0         Rome Masters  2007.0           11.0  07/05/2007     M   \n",
       "5745   134491.0              Hamburg  2007.0           10.0  14/05/2007     M   \n",
       "5793   134540.0          Poertschach  2007.0          277.0  20/05/2007     B   \n",
       "6356   137381.0  Monte Carlo Masters  2008.0            9.0  20/04/2008     M   \n",
       "10490  134652.0        Roland Garros  2007.0           19.0  28/05/2007     G   \n",
       "34065  137403.0  Monte Carlo Masters  2008.0            9.0  20/04/2008     M   \n",
       "\n",
       "      surface round  best_of  player_id  ...  p_df  o_df  p_bp_sv  o_bp_sv  \\\n",
       "1209        C   R32      3.0     3344.0  ...   2.0   2.0      8.0      4.0   \n",
       "1938        C   R32      3.0     3344.0  ...   1.0   1.0     11.0      8.0   \n",
       "2048        C   R64      5.0     3344.0  ...   0.0   1.0      3.0      7.0   \n",
       "3151        C   R32      3.0     3344.0  ...   1.0   3.0      8.0     11.0   \n",
       "3474        C   R32      3.0     3344.0  ...   1.0   2.0      1.0      3.0   \n",
       "3515        C  R128      5.0     3344.0  ...   2.0   3.0      2.0      4.0   \n",
       "5468        C   R16      3.0     3344.0  ...   5.0   7.0     13.0      2.0   \n",
       "5614        C   R32      3.0     3344.0  ...   2.0   1.0      5.0      2.0   \n",
       "5745        C   R16      3.0     3344.0  ...   1.0   0.0      3.0      3.0   \n",
       "5793        C   R16      3.0     3344.0  ...   2.0   0.0      3.0      1.0   \n",
       "6356        C   R64      3.0     3344.0  ...   0.0   3.0      0.0      4.0   \n",
       "10490       C   R32      5.0     3344.0  ...   3.0   3.0      8.0      4.0   \n",
       "34065       C   R32      3.0     3344.0  ...   4.0   0.0      1.0      7.0   \n",
       "\n",
       "       p_bp_fc o_bp_fc  p_matches  o_matches  p_sv_gms   datetime  \n",
       "1209      12.0     7.0        0.0        1.0      12.0 2007-07-23  \n",
       "1938      13.0    13.0        1.0        0.0      13.0 2007-05-14  \n",
       "2048       4.0    11.0        1.0        0.0      21.0 2007-05-28  \n",
       "3151       8.0    11.0        1.0        0.0      12.0 2007-04-15  \n",
       "3474       2.0     4.0        1.0        0.0      12.0 2007-05-20  \n",
       "3515       3.0     8.0        1.0        0.0      16.0 2007-05-28  \n",
       "5468      18.0     5.0        0.0        1.0      16.0 2007-04-15  \n",
       "5614       9.0     3.0        0.0        1.0      10.0 2007-05-07  \n",
       "5745       7.0     4.0        0.0        1.0       9.0 2007-05-14  \n",
       "5793       4.0     1.0        0.0        1.0      11.0 2007-05-20  \n",
       "6356       0.0     8.0        1.0        0.0       8.0 2008-04-20  \n",
       "10490     15.0     9.0        0.0        1.0      25.0 2007-05-28  \n",
       "34065      5.0     8.0        0.0        1.0       9.0 2008-04-20  \n",
       "\n",
       "[13 rows x 36 columns]"
      ]
     },
     "execution_count": 85,
     "metadata": {},
     "output_type": "execute_result"
    }
   ],
   "source": [
    "train_df[\n",
    "    (train_df['datetime'] < train_df['date'][0]) \n",
    "    & (train_df['player_id'] == 3344)\n",
    "    & (train_df['surface'] == 'C')\n",
    "]"
   ]
  },
  {
   "cell_type": "markdown",
   "metadata": {},
   "source": [
    "We won't compute statistic for year 2007 because due to few matches statistics would not be representative of player levels\n",
    "\n",
    "We create a dataset excluding 2007 :"
   ]
  },
  {
   "cell_type": "code",
   "execution_count": 86,
   "metadata": {},
   "outputs": [],
   "source": [
    "train_df_gt_2008 = train_df[train_df['datetime'] > '2008-01-01']"
   ]
  },
  {
   "cell_type": "code",
   "execution_count": 87,
   "metadata": {},
   "outputs": [],
   "source": [
    "import numpy as np"
   ]
  },
  {
   "cell_type": "markdown",
   "metadata": {},
   "source": [
    "We want to find surface correlations to give different weights to past matches depending on surface correlation :"
   ]
  },
  {
   "cell_type": "code",
   "execution_count": 186,
   "metadata": {},
   "outputs": [],
   "source": [
    "surfaces = [('H','H'),('H','C'),('H','G'),('C','H'), ('C','C'), ('C','G'),('G','H'), ('G','C'), ('G','G')]"
   ]
  },
  {
   "cell_type": "code",
   "execution_count": 187,
   "metadata": {},
   "outputs": [
    {
     "data": {
      "application/vnd.jupyter.widget-view+json": {
       "model_id": "7ac56a73d63e4e91b8796c42c96627f5",
       "version_major": 2,
       "version_minor": 0
      },
      "text/plain": [
       "HBox(children=(IntProgress(value=0, description='surfaces', max=3, style=ProgressStyle(description_width='init…"
      ]
     },
     "metadata": {},
     "output_type": "display_data"
    },
    {
     "data": {
      "application/vnd.jupyter.widget-view+json": {
       "model_id": "e4a110fea07f4edd9a8e5a39c45b8863",
       "version_major": 2,
       "version_minor": 0
      },
      "text/plain": [
       "HBox(children=(IntProgress(value=0, description='players H', max=933, style=ProgressStyle(description_width='i…"
      ]
     },
     "metadata": {},
     "output_type": "display_data"
    },
    {
     "name": "stderr",
     "output_type": "stream",
     "text": [
      "C:\\Users\\PC\\Anaconda3\\lib\\site-packages\\ipykernel_launcher.py:6: RuntimeWarning: invalid value encountered in double_scalars\n",
      "  \n"
     ]
    },
    {
     "name": "stdout",
     "output_type": "stream",
     "text": [
      "\n"
     ]
    },
    {
     "data": {
      "application/vnd.jupyter.widget-view+json": {
       "model_id": "c928b173ef5849b9a4e495d7275a60c6",
       "version_major": 2,
       "version_minor": 0
      },
      "text/plain": [
       "HBox(children=(IntProgress(value=0, description='players C', max=933, style=ProgressStyle(description_width='i…"
      ]
     },
     "metadata": {},
     "output_type": "display_data"
    },
    {
     "name": "stdout",
     "output_type": "stream",
     "text": [
      "\n"
     ]
    },
    {
     "data": {
      "application/vnd.jupyter.widget-view+json": {
       "model_id": "f840696f2c2443f59fd41af06381af64",
       "version_major": 2,
       "version_minor": 0
      },
      "text/plain": [
       "HBox(children=(IntProgress(value=0, description='players G', max=933, style=ProgressStyle(description_width='i…"
      ]
     },
     "metadata": {},
     "output_type": "display_data"
    },
    {
     "name": "stdout",
     "output_type": "stream",
     "text": [
      "\n",
      "\n"
     ]
    }
   ],
   "source": [
    "matches_won_by_surface = {'H':[], 'C':[], 'G':[]}\n",
    "\n",
    "for surface in tqdm(['H','C','G'],desc='surfaces'):\n",
    "    for player_id in tqdm(train_df['player_id'].unique(),desc='players ' + surface):\n",
    "        player_matches = train_df[(train_df['player_id'] == player_id) & (train_df['surface'] == surface)]\n",
    "        p_matches_won_surface = player_matches['p_matches'].sum() / player_matches['p_matches'].count()\n",
    "        matches_won_by_surface[surface].append(p_matches_won_surface)"
   ]
  },
  {
   "cell_type": "code",
   "execution_count": 188,
   "metadata": {},
   "outputs": [],
   "source": [
    "surface_df = pd.DataFrame({\n",
    "                            'H': np.array(matches_won_by_surface['H']), #[~np.isnan(np.array(matches_won_by_surface['H']))],\n",
    "                            'C': np.array(matches_won_by_surface['C']), #[~np.isnan(np.array(matches_won_by_surface['C']))],\n",
    "                            'G': np.array(matches_won_by_surface['G']), #[~np.isnan(np.array(matches_won_by_surface['G']))]\n",
    "                            'player_id': train_df['player_id'].unique()\n",
    "                        })"
   ]
  },
  {
   "cell_type": "code",
   "execution_count": 189,
   "metadata": {},
   "outputs": [],
   "source": [
    "surface_df = surface_df.dropna()"
   ]
  },
  {
   "cell_type": "code",
   "execution_count": 190,
   "metadata": {},
   "outputs": [],
   "source": [
    "H_column = []\n",
    "C_column = []\n",
    "G_column = []\n",
    "\n",
    "for a,b in surfaces:\n",
    "    correlation = 0\n",
    "    numerator_correlation = 0\n",
    "    n_minus_1 = len(surface_df.index) - 1\n",
    "    std_a = surface_df[a].std()\n",
    "    std_b = surface_df[b].std()\n",
    "    for player_index in surface_df.index:\n",
    "        numerator_correlation += (surface_df[a][player_index] - surface_df[a].mean()) *  (surface_df[b][player_index] - surface_df[b].mean())\n",
    "    correlation = numerator_correlation / (n_minus_1 * std_a * std_b)\n",
    "    if(a == 'H'):\n",
    "        H_column.append(correlation)\n",
    "    elif(a == 'C'):\n",
    "        C_column.append(correlation)\n",
    "    elif(a == 'G'):\n",
    "        G_column.append(correlation)"
   ]
  },
  {
   "cell_type": "code",
   "execution_count": 191,
   "metadata": {},
   "outputs": [],
   "source": [
    "surface_correlations = pd.DataFrame({\n",
    "                'H': H_column,\n",
    "                'C': C_column,\n",
    "                'G': G_column\n",
    "             }, index=['H', 'C', 'G'])"
   ]
  },
  {
   "cell_type": "code",
   "execution_count": 192,
   "metadata": {},
   "outputs": [
    {
     "data": {
      "image/png": "[encoded data removed]",
      "text/plain": [
       "<Figure size 432x288 with 2 Axes>"
      ]
     },
     "metadata": {
      "needs_background": "light"
     },
     "output_type": "display_data"
    }
   ],
   "source": [
    "fig, ax = plt.subplots()\n",
    "sns.heatmap(surface_correlations, annot=True)\n",
    "ax.set_ylim(len(surface_correlations), 0)\n",
    "plt.show()"
   ]
  },
  {
   "cell_type": "code",
   "execution_count": 202,
   "metadata": {},
   "outputs": [
    {
     "data": {
      "application/vnd.jupyter.widget-view+json": {
       "model_id": "973f7ec04e4c4dc383127163e8185739",
       "version_major": 2,
       "version_minor": 0
      },
      "text/plain": [
       "HBox(children=(IntProgress(value=0, max=2000), HTML(value='')))"
      ]
     },
     "metadata": {},
     "output_type": "display_data"
    },
    {
     "name": "stdout",
     "output_type": "stream",
     "text": [
      "\n"
     ]
    }
   ],
   "source": [
    "from tqdm.notebook import tqdm\n",
    "\n",
    "# player 1 columns\n",
    "p_fs_column = []\n",
    "p_w1sp_column = []\n",
    "p_w2sp_column = []\n",
    "p_wrp_column = []\n",
    "p_tpw_column = []\n",
    "p_tmw_column = []\n",
    "p_aces_per_game_column = []\n",
    "p_df_per_game_column = []\n",
    "p_bp_won_column = []\n",
    "\n",
    "# Combining statistics\n",
    "p_wsp_column = []\n",
    "p_completeness_column = []\n",
    "\n",
    "p_h2h_column = []\n",
    "\n",
    "p_number_of_matches_used_column = []\n",
    "\n",
    "#player 2 columns\n",
    "o_fs_column = []\n",
    "o_w1sp_column = []\n",
    "o_w2sp_column = []\n",
    "o_wrp_column = []\n",
    "o_tpw_column = []\n",
    "o_tmw_column = []\n",
    "o_aces_per_game_column = []\n",
    "o_df_per_game_column = []\n",
    "o_bp_won_column = []\n",
    "\n",
    "# Combining statistics\n",
    "o_wsp_column = []\n",
    "o_completeness_column = []\n",
    "\n",
    "o_h2h_column = []\n",
    "\n",
    "o_number_of_matches_used_column = []\n",
    "\n",
    "# Combining statistics from the two players\n",
    "p_serve_adv_column = []\n",
    "o_serve_adv_column = []\n",
    "direct_column = []\n",
    "\n",
    "# matches to include (for development, no need for final dataset generation)\n",
    "number_of_matches_to_include = 2000\n",
    "\n",
    "# time discounting coefficient\n",
    "time_discounting = 0.8\n",
    "\n",
    "pbar = tqdm(total=train_df_gt_2008.head(n=number_of_matches_to_include).shape[0])\n",
    "\n",
    "for index, row in train_df_gt_2008.head(n=number_of_matches_to_include).iterrows():\n",
    "    # filter dataset to keep only player matches prior to current match\n",
    "    filtered_dataset = train_df[\n",
    "        (train_df['datetime'] < datetime.strptime(row['date'], '%d/%m/%Y')) \n",
    "        & (train_df['player_id'] == row['player_id'])\n",
    "    ]\n",
    "\n",
    "    # initialize temp variables to calculate features\n",
    "    p_1st_in = p_sv_pt = p_1st_won = p_2nd_won = o_sv_pt = o_1st_won = o_2nd_won = o_sv_pt = p_matches \\\n",
    "    = o_matches = p_ace = p_df = p_sv_gms = p_bp_sv = o_bp_sv = p_bp_fc = o_bp_fc = p_number_of_matches_used = 0\n",
    "\n",
    "    # initialize variable features\n",
    "    p_fs = p_w1sp = p_w2sp = p_wrp = p_tpw = p_tmw = p_aces_per_game = p_df_per_game = p_bp_won = p_wsp = p_completeness = p_h2h = np.nan\n",
    "\n",
    "    # calculate statistics averaging with time discounting and surface weighting for player 1\n",
    "    if(filtered_dataset.shape[0] != 0):\n",
    "        for f_index, f_row in filtered_dataset.iterrows():\n",
    "            time_diff = row['datetime'].year - f_row['datetime'].year\n",
    "            surface_weight = surface_correlations[row['surface']].loc[f_row['surface']]\n",
    "            p_1st_in += f_row['p_1st_in'] * (time_discounting ** time_diff) * surface_weight\n",
    "            p_sv_pt += f_row['p_sv_pt'] * (time_discounting ** time_diff) * surface_weight\n",
    "            p_1st_won += f_row['p_1st_won'] * (time_discounting ** time_diff) * surface_weight\n",
    "            p_2nd_won += f_row['p_2nd_won'] * (time_discounting ** time_diff) * surface_weight\n",
    "            o_sv_pt += f_row['o_sv_pt'] * (time_discounting ** time_diff) * surface_weight\n",
    "            o_1st_won += f_row['o_1st_won'] * (time_discounting ** time_diff) * surface_weight\n",
    "            o_2nd_won += f_row['o_2nd_won'] * (time_discounting ** time_diff) * surface_weight\n",
    "            o_sv_pt += f_row['o_sv_pt'] * (time_discounting ** time_diff) * surface_weight\n",
    "            p_matches += f_row['p_matches'] * (time_discounting ** time_diff) * surface_weight\n",
    "            o_matches += f_row['o_matches'] * (time_discounting ** time_diff) * surface_weight\n",
    "            p_ace += f_row['p_ace'] * (time_discounting ** time_diff) * surface_weight\n",
    "            p_df += f_row['p_df'] * (time_discounting ** time_diff) * surface_weight\n",
    "            p_sv_gms += f_row['p_sv_gms'] * (time_discounting ** time_diff) * surface_weight\n",
    "            p_bp_sv += f_row['p_bp_sv'] * (time_discounting ** time_diff) * surface_weight\n",
    "            o_bp_sv += f_row['o_bp_sv'] * (time_discounting ** time_diff) * surface_weight\n",
    "            p_bp_fc += f_row['p_bp_fc'] * (time_discounting ** time_diff) * surface_weight\n",
    "            o_bp_fc += f_row['o_bp_fc'] * (time_discounting ** time_diff) * surface_weight\n",
    "\n",
    "        ## Compute features \n",
    "\n",
    "        # first serve sucess percentage\n",
    "        p_fs = p_1st_in / p_sv_pt\n",
    "\n",
    "        # winning on first serve percentage\n",
    "        p_w1sp = p_1st_won / p_1st_in\n",
    "\n",
    "        # winning on second serve percentage\n",
    "        p_w2sp = p_2nd_won / (p_sv_pt - p_1st_in)\n",
    "        \n",
    "        # winning on return percentage\n",
    "        p_wrp = (o_sv_pt - o_1st_won - o_2nd_won) / o_sv_pt\n",
    "        \n",
    "        # percentage of all points won\n",
    "        p_tpw = (p_1st_won + p_2nd_won + (o_sv_pt - o_1st_won - o_2nd_won) ) / (p_sv_pt + o_sv_pt)\n",
    "        \n",
    "        # percentage of all matches won\n",
    "        p_tmw = p_matches / (p_matches + o_matches)\n",
    "        \n",
    "        # Average number of aces per game\n",
    "        p_aces_per_game = p_ace / p_sv_gms\n",
    "        \n",
    "        # Average number of double faults per game\n",
    "        p_df_per_game = p_df / p_sv_gms\n",
    "        \n",
    "        # Percentage of breakpoints won\n",
    "        p_bp_won = (p_bp_sv + o_bp_sv) / (p_bp_fc + o_bp_fc)\n",
    "        \n",
    "        # overall winning percentage\n",
    "        p_wsp = p_w1sp * p_fs + p_w2sp * (1-p_fs)\n",
    "        \n",
    "        # completeness\n",
    "        p_completeness = p_wsp * p_wrp\n",
    "        \n",
    "        \n",
    "        \n",
    "        # number of matches used to compute statistics\n",
    "        p_number_of_matches_used = filtered_dataset.shape[0]\n",
    "\n",
    "    p_fs_column.append(p_fs)\n",
    "    p_w1sp_column.append(p_w1sp)\n",
    "    p_w2sp_column.append(p_w2sp)\n",
    "    p_wrp_column.append(p_wrp)\n",
    "    p_tpw_column.append(p_tpw)\n",
    "    p_tmw_column.append(p_tmw)\n",
    "    p_aces_per_game_column.append(p_aces_per_game)\n",
    "    p_df_per_game_column.append(p_df_per_game)\n",
    "    p_bp_won_column.append(p_bp_won)\n",
    "    \n",
    "    # Combining statistics\n",
    "    p_wsp_column.append(p_wsp)\n",
    "    p_completeness_column.append(p_completeness)\n",
    "    \n",
    "    ## head to head feature\n",
    "    # filter dataset to keep only player matches prior to current match\n",
    "    filtered_dataset_h2h = train_df[\n",
    "        (train_df['datetime'] < datetime.strptime(row['date'], '%d/%m/%Y')) \n",
    "        & (train_df['player_id'] == row['player_id'])\n",
    "        & (train_df['opponent_id'] == row['opponent_id'])\n",
    "    ]\n",
    "    if(filtered_dataset_h2h.shape[0] != 0):\n",
    "        p_h2h = filtered_dataset_h2h['p_matches'].sum() / filtered_dataset_h2h['p_matches'].count()\n",
    "    p_h2h_column.append(p_h2h)\n",
    "\n",
    "    # number of matches computed to have stats\n",
    "    p_number_of_matches_used_column.append(p_number_of_matches_used)\n",
    "    \n",
    "    #------------------------------------------------------------------------------------------------------------------\n",
    "    \n",
    "    # filter dataset to keep only opponent matches prior to current match\n",
    "    filtered_dataset = train_df[\n",
    "        (train_df['datetime'] < datetime.strptime(row['date'], '%d/%m/%Y')) \n",
    "        & (train_df['player_id'] == row['opponent_id'])\n",
    "    ]\n",
    "\n",
    "    # initialize temp variables to calculate features\n",
    "    p_1st_in = p_sv_pt = p_1st_won = p_2nd_won = o_sv_pt = o_1st_won = o_2nd_won = o_sv_pt = p_matches \\\n",
    "    = o_matches = p_ace = p_df = p_sv_gms = p_bp_sv = o_bp_sv = p_bp_fc = o_bp_fc = o_number_of_matches_used = 0\n",
    "\n",
    "    # initialize variable features\n",
    "    o_fs = o_w1sp = o_w2sp = o_wrp = o_tpw = o_tmw = o_aces_per_game = o_df_per_game = o_bp_won = o_wsp = o_completeness = o_h2h = np.nan\n",
    "\n",
    "    # calculate statistics averaging with time discounting and surface weighting for player 2\n",
    "    if(filtered_dataset.shape[0] != 0):\n",
    "        for f_index, f_row in filtered_dataset.iterrows():\n",
    "            time_diff = row['datetime'].year - f_row['datetime'].year\n",
    "            surface_weight = surface_correlations[row['surface']].loc[f_row['surface']]\n",
    "            p_1st_in += f_row['p_1st_in'] * (time_discounting ** time_diff) * surface_weight\n",
    "            p_sv_pt += f_row['p_sv_pt'] * (time_discounting ** time_diff) * surface_weight\n",
    "            p_1st_won += f_row['p_1st_won'] * (time_discounting ** time_diff) * surface_weight\n",
    "            p_2nd_won += f_row['p_2nd_won'] * (time_discounting ** time_diff) * surface_weight\n",
    "            o_sv_pt += f_row['o_sv_pt'] * (time_discounting ** time_diff) * surface_weight\n",
    "            o_1st_won += f_row['o_1st_won'] * (time_discounting ** time_diff) * surface_weight\n",
    "            o_2nd_won += f_row['o_2nd_won'] * (time_discounting ** time_diff) * surface_weight\n",
    "            o_sv_pt += f_row['o_sv_pt'] * (time_discounting ** time_diff) * surface_weight\n",
    "            p_matches += f_row['p_matches'] * (time_discounting ** time_diff) * surface_weight\n",
    "            o_matches += f_row['o_matches'] * (time_discounting ** time_diff) * surface_weight\n",
    "            p_ace += f_row['p_ace'] * (time_discounting ** time_diff) * surface_weight\n",
    "            p_df += f_row['p_df'] * (time_discounting ** time_diff) * surface_weight\n",
    "            p_sv_gms += f_row['p_sv_gms'] * (time_discounting ** time_diff) * surface_weight\n",
    "            p_bp_sv += f_row['p_bp_sv'] * (time_discounting ** time_diff) * surface_weight\n",
    "            o_bp_sv += f_row['o_bp_sv'] * (time_discounting ** time_diff) * surface_weight\n",
    "            p_bp_fc += f_row['p_bp_fc'] * (time_discounting ** time_diff) * surface_weight\n",
    "            o_bp_fc += f_row['o_bp_fc'] * (time_discounting ** time_diff) * surface_weight\n",
    "            \n",
    "        ## Compute features \n",
    "\n",
    "        # first serve sucess percentage\n",
    "        o_fs = p_1st_in / p_sv_pt\n",
    "\n",
    "        # winning on first serve percentage\n",
    "        o_w1sp = p_1st_won / p_1st_in\n",
    "\n",
    "        # winning on second serve percentage\n",
    "        o_w2sp = p_2nd_won / (p_sv_pt - p_1st_in)\n",
    "        \n",
    "        # winning on return percentage\n",
    "        o_wrp = (o_sv_pt - o_1st_won - o_2nd_won) / o_sv_pt\n",
    "        \n",
    "        # percentage of all points won\n",
    "        o_tpw = (p_1st_won + p_2nd_won + (o_sv_pt - o_1st_won - o_2nd_won) ) / (p_sv_pt + o_sv_pt)\n",
    "        \n",
    "        # percentage of all matches won\n",
    "        o_tmw = p_matches / (p_matches + o_matches)\n",
    "        \n",
    "        # Average number of aces per game\n",
    "        o_aces_per_game = p_ace / p_sv_gms\n",
    "        \n",
    "        # Average number of double faults per game\n",
    "        o_df_per_game = p_df / p_sv_gms\n",
    "        \n",
    "        # Percentage of breakpoints won\n",
    "        o_bp_won = (p_bp_sv + o_bp_sv) / (p_bp_fc + o_bp_fc)\n",
    "        \n",
    "        ## Combining features to obtain more stats\n",
    "        \n",
    "        # overall winning percentage\n",
    "        o_wsp = o_w1sp * o_fs + o_w2sp * (1-o_fs)\n",
    "        \n",
    "        # completeness\n",
    "        o_completeness = o_wsp * o_wrp\n",
    "        \n",
    "        \n",
    "        \n",
    "        # number of matches used to compute statistics\n",
    "        o_number_of_matches_used = filtered_dataset.shape[0]\n",
    "\n",
    "    o_fs_column.append(o_fs)\n",
    "    o_w1sp_column.append(o_w1sp)\n",
    "    o_w2sp_column.append(o_w2sp)\n",
    "    o_wrp_column.append(o_wrp)\n",
    "    o_tpw_column.append(o_tpw)\n",
    "    o_tmw_column.append(o_tmw)\n",
    "    o_aces_per_game_column.append(o_aces_per_game)\n",
    "    o_df_per_game_column.append(o_df_per_game)\n",
    "    o_bp_won_column.append(o_bp_won)\n",
    "    \n",
    "    # Combining statistics\n",
    "    o_wsp_column.append(o_wsp)\n",
    "    o_completeness_column.append(o_completeness)\n",
    "    \n",
    "    ## head to head feature\n",
    "    # filter dataset to keep only player matches prior to current match\n",
    "    filtered_dataset_h2h = train_df[\n",
    "        (train_df['datetime'] < datetime.strptime(row['date'], '%d/%m/%Y')) \n",
    "        & (train_df['player_id'] == row['opponent_id'])\n",
    "        & (train_df['opponent_id'] == row['player_id'])\n",
    "    ]\n",
    "    if(filtered_dataset_h2h.shape[0] != 0):\n",
    "        o_h2h = filtered_dataset_h2h['p_matches'].sum() / filtered_dataset_h2h['p_matches'].count()\n",
    "    o_h2h_column.append(o_h2h)\n",
    "    \n",
    "\n",
    "    # number of matches computed to have stats\n",
    "    o_number_of_matches_used_column.append(o_number_of_matches_used)\n",
    "    \n",
    "    # Combining statistics from the two players\n",
    "    p_serve_adv_column = (np.array(p_wsp_column) - np.array(o_wrp_column)).tolist()\n",
    "    o_serve_adv_column = (np.array(o_wsp_column) - np.array(p_wrp_column)).tolist()\n",
    "    direct_column = (np.array(p_h2h_column) - np.array(o_h2h_column)).tolist()\n",
    "    \n",
    "    # progress\n",
    "    pbar.update(1)\n",
    "    \n",
    "pbar.close()\n",
    "\n",
    "result_test_df = pd.DataFrame({'p_fs': p_fs_column, 'p_w1sp': p_w1sp_column, 'p_w2sp': p_w2sp_column, 'p_wrp': p_wrp_column, \n",
    "                               'p_tpw': p_tpw_column, 'p_tmw': p_tmw_column, 'p_aces_per_game': p_aces_per_game_column,\n",
    "                               'p_df_per_game': p_df_per_game_column, 'p_bp_won': p_bp_won_column,\n",
    "                               'p_wsp': p_wsp_column, 'p_completeness': p_completeness_column, 'p_serve_adv': p_serve_adv_column,\n",
    "                               'p_number_of_matches_used': p_number_of_matches_used_column,\n",
    "                               'o_fs': o_fs_column, 'o_w1sp': o_w1sp_column, 'o_w2sp': o_w2sp_column, 'o_wrp': o_wrp_column, \n",
    "                               'o_tpw': o_tpw_column, 'o_tmw': o_tmw_column, 'o_aces_per_game': o_aces_per_game_column,\n",
    "                               'o_df_per_game': o_df_per_game_column, 'o_bp_won': o_bp_won_column,\n",
    "                               'o_wsp': o_wsp_column, 'o_completeness': o_completeness_column, 'o_serve_adv': o_serve_adv_column,\n",
    "                               'direct': direct_column,\n",
    "                               'o_number_of_matches_used': o_number_of_matches_used_column\n",
    "                              })"
   ]
  },
  {
   "cell_type": "code",
   "execution_count": 204,
   "metadata": {},
   "outputs": [],
   "source": [
    "result_test_df['player_id'] = train_df_gt_2008.head(n=number_of_matches_to_include)['player_id'].tolist()\n",
    "result_test_df['opponent_id'] = train_df_gt_2008.head(n=number_of_matches_to_include)['opponent_id'].tolist()\n",
    "result_test_df['tournament_name'] = train_df_gt_2008.head(n=number_of_matches_to_include)['tournament_name'].tolist()\n",
    "result_test_df['date'] = train_df_gt_2008.head(n=number_of_matches_to_include)['date'].tolist()\n",
    "result_test_df['p_matches'] = train_df_gt_2008.head(n=number_of_matches_to_include)['p_matches'].tolist()"
   ]
  },
  {
   "cell_type": "code",
   "execution_count": 205,
   "metadata": {},
   "outputs": [
    {
     "data": {
      "text/plain": [
       "array(['p_fs', 'p_w1sp', 'p_w2sp', 'p_wrp', 'p_tpw', 'p_tmw',\n",
       "       'p_aces_per_game', 'p_df_per_game', 'p_bp_won', 'p_wsp',\n",
       "       'p_completeness', 'p_serve_adv', 'p_number_of_matches_used',\n",
       "       'o_fs', 'o_w1sp', 'o_w2sp', 'o_wrp', 'o_tpw', 'o_tmw',\n",
       "       'o_aces_per_game', 'o_df_per_game', 'o_bp_won', 'o_wsp',\n",
       "       'o_completeness', 'o_serve_adv', 'direct',\n",
       "       'o_number_of_matches_used', 'player_id', 'opponent_id',\n",
       "       'tournament_name', 'date', 'p_matches'], dtype=object)"
      ]
     },
     "execution_count": 205,
     "metadata": {},
     "output_type": "execute_result"
    }
   ],
   "source": [
    "result_test_df.columns.values"
   ]
  },
  {
   "cell_type": "markdown",
   "metadata": {},
   "source": [
    "We can verify our results for basic features on https://ultimatetennisstatistics.com"
   ]
  },
  {
   "cell_type": "code",
   "execution_count": 199,
   "metadata": {},
   "outputs": [
    {
     "data": {
      "text/plain": [
       "p_fs                            0.579331\n",
       "p_w1sp                          0.768307\n",
       "p_w2sp                          0.525845\n",
       "p_wrp                           0.676797\n",
       "p_tpw                           0.673291\n",
       "p_tmw                           0.594817\n",
       "p_aces_per_game                 0.935874\n",
       "p_df_per_game                   0.159475\n",
       "p_bp_won                        0.652125\n",
       "p_wsp                           0.666311\n",
       "p_completeness                  0.450957\n",
       "p_serve_adv                   -0.0292848\n",
       "p_number_of_matches_used              73\n",
       "o_fs                            0.589628\n",
       "o_w1sp                          0.742658\n",
       "o_w2sp                          0.511649\n",
       "o_wrp                           0.695596\n",
       "o_tpw                           0.679792\n",
       "o_tmw                           0.636258\n",
       "o_aces_per_game                 0.420354\n",
       "o_df_per_game                    0.13071\n",
       "o_bp_won                        0.567557\n",
       "o_wsp                           0.647858\n",
       "o_completeness                  0.450648\n",
       "o_serve_adv                   -0.0289385\n",
       "o_number_of_matches_used              21\n",
       "player_id                           3344\n",
       "opponent_id                         4326\n",
       "tournament_name             Rome Masters\n",
       "date                          05/05/2008\n",
       "Name: 0, dtype: object"
      ]
     },
     "execution_count": 199,
     "metadata": {},
     "output_type": "execute_result"
    }
   ],
   "source": [
    "result_test_df.iloc[0]"
   ]
  },
  {
   "cell_type": "code",
   "execution_count": 93,
   "metadata": {},
   "outputs": [
    {
     "data": {
      "text/plain": [
       "count    2000.000000\n",
       "mean       62.059500\n",
       "std        35.786887\n",
       "min         0.000000\n",
       "25%        37.000000\n",
       "50%        61.000000\n",
       "75%        83.000000\n",
       "max       244.000000\n",
       "Name: p_number_of_matches_used, dtype: float64"
      ]
     },
     "execution_count": 93,
     "metadata": {},
     "output_type": "execute_result"
    }
   ],
   "source": [
    "result_test_df['p_number_of_matches_used'].describe()"
   ]
  },
  {
   "cell_type": "code",
   "execution_count": 94,
   "metadata": {},
   "outputs": [
    {
     "data": {
      "text/plain": [
       "18"
      ]
     },
     "execution_count": 94,
     "metadata": {},
     "output_type": "execute_result"
    }
   ],
   "source": [
    "np.isnan(result_test_df['p_fs']).sum()"
   ]
  },
  {
   "cell_type": "markdown",
   "metadata": {},
   "source": [
    "Density function :"
   ]
  },
  {
   "cell_type": "code",
   "execution_count": 95,
   "metadata": {},
   "outputs": [
    {
     "data": {
      "image/png": "[encoded data removed]",
      "text/plain": [
       "<Figure size 432x288 with 1 Axes>"
      ]
     },
     "metadata": {
      "needs_background": "light"
     },
     "output_type": "display_data"
    }
   ],
   "source": [
    "import seaborn as sns\n",
    "import matplotlib.pyplot as plt\n",
    "sns.distplot(result_test_df['p_number_of_matches_used'])\n",
    "plt.show()"
   ]
  },
  {
   "cell_type": "markdown",
   "metadata": {},
   "source": [
    "Cumulative distribution function :"
   ]
  },
  {
   "cell_type": "code",
   "execution_count": 96,
   "metadata": {},
   "outputs": [],
   "source": [
    "cdf = result_test_df['p_number_of_matches_used'].value_counts().sort_index()"
   ]
  },
  {
   "cell_type": "code",
   "execution_count": 97,
   "metadata": {},
   "outputs": [
    {
     "data": {
      "text/plain": [
       "[<matplotlib.lines.Line2D at 0x20fe6753c88>]"
      ]
     },
     "execution_count": 97,
     "metadata": {},
     "output_type": "execute_result"
    },
    {
     "data": {
      "image/png": "[encoded data removed]",
      "text/plain": [
       "<Figure size 432x288 with 1 Axes>"
      ]
     },
     "metadata": {
      "needs_background": "light"
     },
     "output_type": "display_data"
    }
   ],
   "source": [
    "plt.plot(cdf.index, cdf.cumsum() / cdf.cumsum().max())"
   ]
  },
  {
   "cell_type": "code",
   "execution_count": 98,
   "metadata": {},
   "outputs": [
    {
     "data": {
      "text/plain": [
       "0.36"
      ]
     },
     "execution_count": 98,
     "metadata": {},
     "output_type": "execute_result"
    }
   ],
   "source": [
    "cdf[cdf.index < 50].sum() / cdf.cumsum().max()"
   ]
  },
  {
   "cell_type": "markdown",
   "metadata": {},
   "source": [
    "We have 36 % of our matches that have less than 50 matches to compute our statistics"
   ]
  },
  {
   "cell_type": "code",
   "execution_count": 99,
   "metadata": {},
   "outputs": [
    {
     "data": {
      "text/plain": [
       "p_fs                        18\n",
       "p_w1sp                      18\n",
       "p_w2sp                      18\n",
       "p_wrp                       18\n",
       "p_tpw                       18\n",
       "p_tmw                       18\n",
       "p_aces_per_game             18\n",
       "p_df_per_game               18\n",
       "p_bp_won                    18\n",
       "p_wsp                       18\n",
       "p_completeness              18\n",
       "p_serve_adv                 91\n",
       "p_number_of_matches_used     0\n",
       "o_fs                        74\n",
       "o_w1sp                      74\n",
       "o_w2sp                      74\n",
       "o_wrp                       74\n",
       "o_tpw                       74\n",
       "o_tmw                       74\n",
       "o_aces_per_game             74\n",
       "o_df_per_game               74\n",
       "o_bp_won                    74\n",
       "o_wsp                       74\n",
       "o_completeness              74\n",
       "o_serve_adv                 91\n",
       "o_number_of_matches_used     0\n",
       "player_id                    0\n",
       "opponent_id                  0\n",
       "tournament_name              0\n",
       "date                         0\n",
       "dtype: int64"
      ]
     },
     "execution_count": 99,
     "metadata": {},
     "output_type": "execute_result"
    }
   ],
   "source": [
    "result_test_df.isnull().sum()"
   ]
  },
  {
   "cell_type": "code",
   "execution_count": 100,
   "metadata": {},
   "outputs": [
    {
     "data": {
      "image/png": "[encoded data removed]",
      "text/plain": [
       "<Figure size 432x288 with 1 Axes>"
      ]
     },
     "metadata": {
      "needs_background": "light"
     },
     "output_type": "display_data"
    }
   ],
   "source": [
    "sns.distplot(result_test_df.dropna(subset=[\"p_serve_adv\"])['p_serve_adv'])\n",
    "plt.show()"
   ]
  }
 ],
 "metadata": {
  "kernelspec": {
   "display_name": "Python 3",
   "language": "python",
   "name": "python3"
  },
  "language_info": {
   "codemirror_mode": {
    "name": "ipython",
    "version": 3
   },
   "file_extension": ".py",
   "mimetype": "text/x-python",
   "name": "python",
   "nbconvert_exporter": "python",
   "pygments_lexer": "ipython3",
   "version": "3.7.4"
  }
 },
 "nbformat": 4,
 "nbformat_minor": 4
}
