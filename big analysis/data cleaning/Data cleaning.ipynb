{
 "cells": [
  {
   "cell_type": "code",
   "execution_count": 1,
   "metadata": {},
   "outputs": [],
   "source": [
    "import pandas as pd\n",
    "import os"
   ]
  },
  {
   "cell_type": "code",
   "execution_count": 4,
   "metadata": {},
   "outputs": [],
   "source": [
    "train_df = pd.read_csv(os.path.abspath('../input/2007-2017.csv'), delimiter=';')"
   ]
  },
  {
   "cell_type": "markdown",
   "metadata": {},
   "source": [
    "Drop empty line drop in primary data exploration"
   ]
  },
  {
   "cell_type": "code",
   "execution_count": 6,
   "metadata": {},
   "outputs": [],
   "source": [
    "train_df = train_df.dropna(subset=['match_id'])"
   ]
  },
  {
   "cell_type": "code",
   "execution_count": 7,
   "metadata": {},
   "outputs": [
    {
     "data": {
      "text/plain": [
       "match_id                   0\n",
       "tournament_name            0\n",
       "season                     0\n",
       "tournament_id              0\n",
       "date                       0\n",
       "level                      0\n",
       "surface                  390\n",
       "round                      0\n",
       "best_of                    0\n",
       "player_id                  0\n",
       "player_rank              636\n",
       "player_elo_rating          0\n",
       "opponent_id                0\n",
       "opponent_rank            636\n",
       "opponent_elo_rating        0\n",
       "outcome                63420\n",
       "minutes                 8414\n",
       "p_1st_in                5794\n",
       "o_1st_in                5794\n",
       "p_sv_pt                 5794\n",
       "o_sv_pt                 5794\n",
       "p_1st_won               5794\n",
       "o_1st_won               5794\n",
       "p_2nd_won               5794\n",
       "o_2nd_won               5794\n",
       "p_ace                   5794\n",
       "o_ace                   5794\n",
       "p_df                    5794\n",
       "o_df                    5794\n",
       "p_bp_sv                 5794\n",
       "o_bp_sv                 5794\n",
       "p_bp_fc                 5794\n",
       "o_bp_fc                 5794\n",
       "p_matches                  0\n",
       "o_matches                  0\n",
       "p_sv_gms                5794\n",
       "dtype: int64"
      ]
     },
     "execution_count": 7,
     "metadata": {},
     "output_type": "execute_result"
    }
   ],
   "source": [
    "train_df.isnull().sum()"
   ]
  },
  {
   "cell_type": "markdown",
   "metadata": {},
   "source": [
    "We can't afford to have missing statistics because almost all of our features will use those.\n",
    "\n",
    "It would be too complicated to try to complete them + they only represent 8 % of our dataset, let's just check from which year those records are :"
   ]
  },
  {
   "cell_type": "code",
   "execution_count": 16,
   "metadata": {},
   "outputs": [
    {
     "data": {
      "text/plain": [
       "2007.0    714\n",
       "2009.0    664\n",
       "2008.0    650\n",
       "2010.0    646\n",
       "2015.0    626\n",
       "2011.0    624\n",
       "2013.0    618\n",
       "2012.0    618\n",
       "2014.0    598\n",
       "2017.0     26\n",
       "2016.0     10\n",
       "Name: season, dtype: int64"
      ]
     },
     "execution_count": 16,
     "metadata": {},
     "output_type": "execute_result"
    }
   ],
   "source": [
    "train_df[train_df['p_1st_in'].isnull()][\"season\"].value_counts()"
   ]
  },
  {
   "cell_type": "code",
   "execution_count": 18,
   "metadata": {},
   "outputs": [
    {
     "data": {
      "text/plain": [
       "24.0     2532\n",
       "21.0     1612\n",
       "28.0     1560\n",
       "318.0      48\n",
       "50.0        6\n",
       "280.0       4\n",
       "347.0       4\n",
       "1.0         4\n",
       "41.0        4\n",
       "330.0       2\n",
       "36.0        2\n",
       "200.0       2\n",
       "86.0        2\n",
       "288.0       2\n",
       "341.0       2\n",
       "49.0        2\n",
       "37.0        2\n",
       "108.0       2\n",
       "10.0        2\n",
       "Name: tournament_id, dtype: int64"
      ]
     },
     "execution_count": 18,
     "metadata": {},
     "output_type": "execute_result"
    }
   ],
   "source": [
    "train_df[train_df['p_1st_in'].isnull()][\"tournament_id\"].value_counts()"
   ]
  },
  {
   "cell_type": "code",
   "execution_count": 12,
   "metadata": {},
   "outputs": [
    {
     "data": {
      "text/plain": [
       "count    5794.000000\n",
       "mean     2010.927166\n",
       "std         2.634907\n",
       "min      2007.000000\n",
       "25%      2009.000000\n",
       "50%      2011.000000\n",
       "75%      2013.000000\n",
       "max      2017.000000\n",
       "Name: season, dtype: float64"
      ]
     },
     "execution_count": 12,
     "metadata": {},
     "output_type": "execute_result"
    }
   ],
   "source": [
    "train_df[train_df['p_1st_in'].isnull()][\"season\"].describe()"
   ]
  },
  {
   "cell_type": "code",
   "execution_count": 23,
   "metadata": {},
   "outputs": [
    {
     "data": {
      "text/plain": [
       "season  tournament_id\n",
       "2007.0  24.0             280\n",
       "        28.0             190\n",
       "        21.0             184\n",
       "        318.0             48\n",
       "        36.0               2\n",
       "        86.0               2\n",
       "        108.0              2\n",
       "        200.0              2\n",
       "        288.0              2\n",
       "        330.0              2\n",
       "2008.0  24.0             288\n",
       "        21.0             180\n",
       "        28.0             180\n",
       "        280.0              2\n",
       "2009.0  24.0             286\n",
       "        21.0             184\n",
       "        28.0             184\n",
       "        1.0                4\n",
       "        41.0               4\n",
       "        10.0               2\n",
       "2010.0  24.0             284\n",
       "        21.0             182\n",
       "        28.0             180\n",
       "2011.0  24.0             276\n",
       "        21.0             180\n",
       "        28.0             168\n",
       "2012.0  24.0             278\n",
       "        21.0             176\n",
       "        28.0             162\n",
       "        280.0              2\n",
       "2013.0  24.0             266\n",
       "        28.0             178\n",
       "        21.0             174\n",
       "2014.0  24.0             278\n",
       "        21.0             176\n",
       "        28.0             142\n",
       "        37.0               2\n",
       "2015.0  24.0             278\n",
       "        21.0             174\n",
       "        28.0             172\n",
       "        341.0              2\n",
       "2016.0  24.0               8\n",
       "        347.0              2\n",
       "2017.0  24.0              10\n",
       "        50.0               6\n",
       "        28.0               4\n",
       "        21.0               2\n",
       "        49.0               2\n",
       "        347.0              2\n",
       "Name: tournament_id, dtype: int64"
      ]
     },
     "execution_count": 23,
     "metadata": {},
     "output_type": "execute_result"
    }
   ],
   "source": [
    "train_df[train_df['p_1st_in'].isnull()].groupby(by=\"season\")['tournament_id'].value_counts()"
   ]
  },
  {
   "cell_type": "code",
   "execution_count": 41,
   "metadata": {},
   "outputs": [
    {
     "data": {
      "text/html": [
       "<div>\n",
       "<style scoped>\n",
       "    .dataframe tbody tr th:only-of-type {\n",
       "        vertical-align: middle;\n",
       "    }\n",
       "\n",
       "    .dataframe tbody tr th {\n",
       "        vertical-align: top;\n",
       "    }\n",
       "\n",
       "    .dataframe thead th {\n",
       "        text-align: right;\n",
       "    }\n",
       "</style>\n",
       "<table border=\"1\" class=\"dataframe\">\n",
       "  <thead>\n",
       "    <tr style=\"text-align: right;\">\n",
       "      <th></th>\n",
       "      <th>tournament_name</th>\n",
       "      <th>season</th>\n",
       "      <th>level</th>\n",
       "      <th>surface</th>\n",
       "      <th>best_of</th>\n",
       "    </tr>\n",
       "  </thead>\n",
       "  <tbody>\n",
       "    <tr>\n",
       "      <td>26588</td>\n",
       "      <td>Davis Cup G2</td>\n",
       "      <td>2016.0</td>\n",
       "      <td>D</td>\n",
       "      <td>H</td>\n",
       "      <td>5.0</td>\n",
       "    </tr>\n",
       "    <tr>\n",
       "      <td>26589</td>\n",
       "      <td>Davis Cup G2</td>\n",
       "      <td>2016.0</td>\n",
       "      <td>D</td>\n",
       "      <td>H</td>\n",
       "      <td>3.0</td>\n",
       "    </tr>\n",
       "    <tr>\n",
       "      <td>26590</td>\n",
       "      <td>Davis Cup G2</td>\n",
       "      <td>2016.0</td>\n",
       "      <td>D</td>\n",
       "      <td>H</td>\n",
       "      <td>3.0</td>\n",
       "    </tr>\n",
       "    <tr>\n",
       "      <td>26591</td>\n",
       "      <td>Davis Cup WG</td>\n",
       "      <td>2016.0</td>\n",
       "      <td>D</td>\n",
       "      <td>H</td>\n",
       "      <td>5.0</td>\n",
       "    </tr>\n",
       "    <tr>\n",
       "      <td>26592</td>\n",
       "      <td>Davis Cup WG</td>\n",
       "      <td>2016.0</td>\n",
       "      <td>D</td>\n",
       "      <td>H</td>\n",
       "      <td>5.0</td>\n",
       "    </tr>\n",
       "    <tr>\n",
       "      <td>...</td>\n",
       "      <td>...</td>\n",
       "      <td>...</td>\n",
       "      <td>...</td>\n",
       "      <td>...</td>\n",
       "      <td>...</td>\n",
       "    </tr>\n",
       "    <tr>\n",
       "      <td>65682</td>\n",
       "      <td>Davis Cup WG</td>\n",
       "      <td>2015.0</td>\n",
       "      <td>D</td>\n",
       "      <td>H</td>\n",
       "      <td>3.0</td>\n",
       "    </tr>\n",
       "    <tr>\n",
       "      <td>65683</td>\n",
       "      <td>Davis Cup G1</td>\n",
       "      <td>2013.0</td>\n",
       "      <td>D</td>\n",
       "      <td>H</td>\n",
       "      <td>5.0</td>\n",
       "    </tr>\n",
       "    <tr>\n",
       "      <td>65684</td>\n",
       "      <td>Davis Cup G2</td>\n",
       "      <td>2007.0</td>\n",
       "      <td>D</td>\n",
       "      <td>H</td>\n",
       "      <td>3.0</td>\n",
       "    </tr>\n",
       "    <tr>\n",
       "      <td>65685</td>\n",
       "      <td>Davis Cup WG</td>\n",
       "      <td>2012.0</td>\n",
       "      <td>D</td>\n",
       "      <td>C</td>\n",
       "      <td>5.0</td>\n",
       "    </tr>\n",
       "    <tr>\n",
       "      <td>65686</td>\n",
       "      <td>Davis Cup G2</td>\n",
       "      <td>2008.0</td>\n",
       "      <td>D</td>\n",
       "      <td>C</td>\n",
       "      <td>3.0</td>\n",
       "    </tr>\n",
       "  </tbody>\n",
       "</table>\n",
       "<p>6678 rows × 5 columns</p>\n",
       "</div>"
      ],
      "text/plain": [
       "      tournament_name  season level surface  best_of\n",
       "26588    Davis Cup G2  2016.0     D       H      5.0\n",
       "26589    Davis Cup G2  2016.0     D       H      3.0\n",
       "26590    Davis Cup G2  2016.0     D       H      3.0\n",
       "26591    Davis Cup WG  2016.0     D       H      5.0\n",
       "26592    Davis Cup WG  2016.0     D       H      5.0\n",
       "...               ...     ...   ...     ...      ...\n",
       "65682    Davis Cup WG  2015.0     D       H      3.0\n",
       "65683    Davis Cup G1  2013.0     D       H      5.0\n",
       "65684    Davis Cup G2  2007.0     D       H      3.0\n",
       "65685    Davis Cup WG  2012.0     D       C      5.0\n",
       "65686    Davis Cup G2  2008.0     D       C      3.0\n",
       "\n",
       "[6678 rows x 5 columns]"
      ]
     },
     "execution_count": 41,
     "metadata": {},
     "output_type": "execute_result"
    }
   ],
   "source": [
    "train_df[\n",
    "    (train_df['tournament_id'] == 21)\n",
    "    | (train_df['tournament_id'] == 24)\n",
    "    | (train_df['tournament_id'] == 28)\n",
    "][['tournament_name', 'season', 'level', 'surface', 'best_of']]"
   ]
  },
  {
   "cell_type": "markdown",
   "metadata": {},
   "source": [
    "We see that for Davis Cups we have a lot of missing values, it would be to hard to complete those values, so we will just drop these matches\n",
    "\n",
    "We also want to drop the records where player_rank or opponent_rank is missing"
   ]
  },
  {
   "cell_type": "code",
   "execution_count": 49,
   "metadata": {},
   "outputs": [],
   "source": [
    "train_df = train_df.dropna(subset=['p_1st_in', 'player_rank', 'opponent_rank'])"
   ]
  },
  {
   "cell_type": "code",
   "execution_count": 50,
   "metadata": {},
   "outputs": [
    {
     "data": {
      "text/plain": [
       "match_id                   0\n",
       "tournament_name            0\n",
       "season                     0\n",
       "tournament_id              0\n",
       "date                       0\n",
       "level                      0\n",
       "surface                  114\n",
       "round                      0\n",
       "best_of                    0\n",
       "player_id                  0\n",
       "player_rank                0\n",
       "player_elo_rating          0\n",
       "opponent_id                0\n",
       "opponent_rank              0\n",
       "opponent_elo_rating        0\n",
       "outcome                57592\n",
       "minutes                 2618\n",
       "p_1st_in                   0\n",
       "o_1st_in                   0\n",
       "p_sv_pt                    0\n",
       "o_sv_pt                    0\n",
       "p_1st_won                  0\n",
       "o_1st_won                  0\n",
       "p_2nd_won                  0\n",
       "o_2nd_won                  0\n",
       "p_ace                      0\n",
       "o_ace                      0\n",
       "p_df                       0\n",
       "o_df                       0\n",
       "p_bp_sv                    0\n",
       "o_bp_sv                    0\n",
       "p_bp_fc                    0\n",
       "o_bp_fc                    0\n",
       "p_matches                  0\n",
       "o_matches                  0\n",
       "p_sv_gms                   0\n",
       "dtype: int64"
      ]
     },
     "execution_count": 50,
     "metadata": {},
     "output_type": "execute_result"
    }
   ],
   "source": [
    "train_df.isnull().sum()"
   ]
  },
  {
   "cell_type": "code",
   "execution_count": 51,
   "metadata": {},
   "outputs": [
    {
     "data": {
      "text/plain": [
       "H    33690\n",
       "C    18750\n",
       "G     6850\n",
       "P      264\n",
       "Name: surface, dtype: int64"
      ]
     },
     "execution_count": 51,
     "metadata": {},
     "output_type": "execute_result"
    }
   ],
   "source": [
    "train_df['surface'].value_counts()"
   ]
  },
  {
   "cell_type": "markdown",
   "metadata": {},
   "source": [
    "We also want to drop records that have carpet surface (value P), because that surface is no longer played"
   ]
  },
  {
   "cell_type": "code",
   "execution_count": 56,
   "metadata": {},
   "outputs": [],
   "source": [
    "train_df = train_df.drop(train_df[train_df['surface'] == 'P'].index)"
   ]
  },
  {
   "cell_type": "code",
   "execution_count": 57,
   "metadata": {},
   "outputs": [
    {
     "data": {
      "text/plain": [
       "match_id                   0\n",
       "tournament_name            0\n",
       "season                     0\n",
       "tournament_id              0\n",
       "date                       0\n",
       "level                      0\n",
       "surface                  114\n",
       "round                      0\n",
       "best_of                    0\n",
       "player_id                  0\n",
       "player_rank                0\n",
       "player_elo_rating          0\n",
       "opponent_id                0\n",
       "opponent_rank              0\n",
       "opponent_elo_rating        0\n",
       "outcome                57334\n",
       "minutes                 2618\n",
       "p_1st_in                   0\n",
       "o_1st_in                   0\n",
       "p_sv_pt                    0\n",
       "o_sv_pt                    0\n",
       "p_1st_won                  0\n",
       "o_1st_won                  0\n",
       "p_2nd_won                  0\n",
       "o_2nd_won                  0\n",
       "p_ace                      0\n",
       "o_ace                      0\n",
       "p_df                       0\n",
       "o_df                       0\n",
       "p_bp_sv                    0\n",
       "o_bp_sv                    0\n",
       "p_bp_fc                    0\n",
       "o_bp_fc                    0\n",
       "p_matches                  0\n",
       "o_matches                  0\n",
       "p_sv_gms                   0\n",
       "dtype: int64"
      ]
     },
     "execution_count": 57,
     "metadata": {},
     "output_type": "execute_result"
    }
   ],
   "source": [
    "train_df.isnull().sum()"
   ]
  },
  {
   "cell_type": "code",
   "execution_count": 59,
   "metadata": {},
   "outputs": [
    {
     "data": {
      "text/plain": [
       "24.0    68\n",
       "28.0    46\n",
       "Name: tournament_id, dtype: int64"
      ]
     },
     "execution_count": 59,
     "metadata": {},
     "output_type": "execute_result"
    }
   ],
   "source": [
    "train_df[train_df['surface'].isnull()]['tournament_id'].value_counts()"
   ]
  },
  {
   "cell_type": "markdown",
   "metadata": {},
   "source": [
    "We see that again those matches are from Davis Cups tournaments so we can't complete them because it changes depending on location and year"
   ]
  },
  {
   "cell_type": "code",
   "execution_count": 60,
   "metadata": {},
   "outputs": [],
   "source": [
    "train_df = train_df.dropna(subset=['surface'])"
   ]
  },
  {
   "cell_type": "code",
   "execution_count": 61,
   "metadata": {},
   "outputs": [
    {
     "data": {
      "text/plain": [
       "match_id                   0\n",
       "tournament_name            0\n",
       "season                     0\n",
       "tournament_id              0\n",
       "date                       0\n",
       "level                      0\n",
       "surface                    0\n",
       "round                      0\n",
       "best_of                    0\n",
       "player_id                  0\n",
       "player_rank                0\n",
       "player_elo_rating          0\n",
       "opponent_id                0\n",
       "opponent_rank              0\n",
       "opponent_elo_rating        0\n",
       "outcome                57224\n",
       "minutes                 2614\n",
       "p_1st_in                   0\n",
       "o_1st_in                   0\n",
       "p_sv_pt                    0\n",
       "o_sv_pt                    0\n",
       "p_1st_won                  0\n",
       "o_1st_won                  0\n",
       "p_2nd_won                  0\n",
       "o_2nd_won                  0\n",
       "p_ace                      0\n",
       "o_ace                      0\n",
       "p_df                       0\n",
       "o_df                       0\n",
       "p_bp_sv                    0\n",
       "o_bp_sv                    0\n",
       "p_bp_fc                    0\n",
       "o_bp_fc                    0\n",
       "p_matches                  0\n",
       "o_matches                  0\n",
       "p_sv_gms                   0\n",
       "dtype: int64"
      ]
     },
     "execution_count": 61,
     "metadata": {},
     "output_type": "execute_result"
    }
   ],
   "source": [
    "train_df.isnull().sum()"
   ]
  },
  {
   "cell_type": "markdown",
   "metadata": {},
   "source": [
    "Minutes isn't a predictor so we will drop this column"
   ]
  },
  {
   "cell_type": "code",
   "execution_count": 62,
   "metadata": {},
   "outputs": [],
   "source": [
    "train_df = train_df.drop(columns=['minutes'])"
   ]
  },
  {
   "cell_type": "code",
   "execution_count": 65,
   "metadata": {},
   "outputs": [
    {
     "data": {
      "text/plain": [
       "array(['match_id', 'tournament_name', 'season', 'tournament_id', 'date',\n",
       "       'level', 'surface', 'round', 'best_of', 'player_id', 'player_rank',\n",
       "       'player_elo_rating', 'opponent_id', 'opponent_rank',\n",
       "       'opponent_elo_rating', 'outcome', 'p_1st_in', 'o_1st_in',\n",
       "       'p_sv_pt', 'o_sv_pt', 'p_1st_won', 'o_1st_won', 'p_2nd_won',\n",
       "       'o_2nd_won', 'p_ace', 'o_ace', 'p_df', 'o_df', 'p_bp_sv',\n",
       "       'o_bp_sv', 'p_bp_fc', 'o_bp_fc', 'p_matches', 'o_matches',\n",
       "       'p_sv_gms'], dtype=object)"
      ]
     },
     "execution_count": 65,
     "metadata": {},
     "output_type": "execute_result"
    }
   ],
   "source": [
    "train_df.columns.values"
   ]
  },
  {
   "cell_type": "code",
   "execution_count": 66,
   "metadata": {},
   "outputs": [
    {
     "data": {
      "text/plain": [
       "match_id                   0\n",
       "tournament_name            0\n",
       "season                     0\n",
       "tournament_id              0\n",
       "date                       0\n",
       "level                      0\n",
       "surface                    0\n",
       "round                      0\n",
       "best_of                    0\n",
       "player_id                  0\n",
       "player_rank                0\n",
       "player_elo_rating          0\n",
       "opponent_id                0\n",
       "opponent_rank              0\n",
       "opponent_elo_rating        0\n",
       "outcome                57224\n",
       "p_1st_in                   0\n",
       "o_1st_in                   0\n",
       "p_sv_pt                    0\n",
       "o_sv_pt                    0\n",
       "p_1st_won                  0\n",
       "o_1st_won                  0\n",
       "p_2nd_won                  0\n",
       "o_2nd_won                  0\n",
       "p_ace                      0\n",
       "o_ace                      0\n",
       "p_df                       0\n",
       "o_df                       0\n",
       "p_bp_sv                    0\n",
       "o_bp_sv                    0\n",
       "p_bp_fc                    0\n",
       "o_bp_fc                    0\n",
       "p_matches                  0\n",
       "o_matches                  0\n",
       "p_sv_gms                   0\n",
       "dtype: int64"
      ]
     },
     "execution_count": 66,
     "metadata": {},
     "output_type": "execute_result"
    }
   ],
   "source": [
    "train_df.isnull().sum()"
   ]
  },
  {
   "cell_type": "markdown",
   "metadata": {},
   "source": [
    "Let's see for validation and test sets :"
   ]
  },
  {
   "cell_type": "code",
   "execution_count": 67,
   "metadata": {},
   "outputs": [],
   "source": [
    "validation_df = pd.read_csv(os.path.abspath('../input/2018.csv'), delimiter=';')"
   ]
  },
  {
   "cell_type": "code",
   "execution_count": 68,
   "metadata": {},
   "outputs": [
    {
     "data": {
      "text/plain": [
       "match_id                  0\n",
       "tournament_name           0\n",
       "season                    0\n",
       "tournament_id             0\n",
       "date                      0\n",
       "level                     0\n",
       "surface                   0\n",
       "round                     0\n",
       "best_of                   0\n",
       "player_id                 0\n",
       "player_rank              28\n",
       "player_elo_rating         0\n",
       "opponent_id               0\n",
       "opponent_rank            28\n",
       "opponent_elo_rating       0\n",
       "outcome                5744\n",
       "minutes                  42\n",
       "p_1st_in                 24\n",
       "o_1st_in                 24\n",
       "p_sv_pt                  24\n",
       "o_sv_pt                  24\n",
       "p_1st_won                24\n",
       "o_1st_won                24\n",
       "p_2nd_won                24\n",
       "o_2nd_won                24\n",
       "p_ace                    24\n",
       "o_ace                    24\n",
       "p_df                     24\n",
       "o_df                     24\n",
       "p_bp_sv                  24\n",
       "o_bp_sv                  24\n",
       "p_bp_fc                  24\n",
       "o_bp_fc                  24\n",
       "p_matches                 0\n",
       "o_matches                 0\n",
       "p_sv_gms                 24\n",
       "dtype: int64"
      ]
     },
     "execution_count": 68,
     "metadata": {},
     "output_type": "execute_result"
    }
   ],
   "source": [
    "validation_df.isnull().sum()"
   ]
  },
  {
   "cell_type": "code",
   "execution_count": 69,
   "metadata": {},
   "outputs": [],
   "source": [
    "validation_df = validation_df.dropna(subset=['p_1st_in', 'player_rank', 'opponent_rank', 'surface'])"
   ]
  },
  {
   "cell_type": "code",
   "execution_count": 70,
   "metadata": {},
   "outputs": [],
   "source": [
    "validation_df = validation_df.drop(columns=['minutes'])"
   ]
  },
  {
   "cell_type": "code",
   "execution_count": 71,
   "metadata": {},
   "outputs": [
    {
     "data": {
      "text/plain": [
       "match_id                  0\n",
       "tournament_name           0\n",
       "season                    0\n",
       "tournament_id             0\n",
       "date                      0\n",
       "level                     0\n",
       "surface                   0\n",
       "round                     0\n",
       "best_of                   0\n",
       "player_id                 0\n",
       "player_rank               0\n",
       "player_elo_rating         0\n",
       "opponent_id               0\n",
       "opponent_rank             0\n",
       "opponent_elo_rating       0\n",
       "outcome                5672\n",
       "p_1st_in                  0\n",
       "o_1st_in                  0\n",
       "p_sv_pt                   0\n",
       "o_sv_pt                   0\n",
       "p_1st_won                 0\n",
       "o_1st_won                 0\n",
       "p_2nd_won                 0\n",
       "o_2nd_won                 0\n",
       "p_ace                     0\n",
       "o_ace                     0\n",
       "p_df                      0\n",
       "o_df                      0\n",
       "p_bp_sv                   0\n",
       "o_bp_sv                   0\n",
       "p_bp_fc                   0\n",
       "o_bp_fc                   0\n",
       "p_matches                 0\n",
       "o_matches                 0\n",
       "p_sv_gms                  0\n",
       "dtype: int64"
      ]
     },
     "execution_count": 71,
     "metadata": {},
     "output_type": "execute_result"
    }
   ],
   "source": [
    "validation_df.isnull().sum()"
   ]
  },
  {
   "cell_type": "code",
   "execution_count": 72,
   "metadata": {},
   "outputs": [
    {
     "data": {
      "text/plain": [
       "H    3380\n",
       "C    1776\n",
       "G     654\n",
       "Name: surface, dtype: int64"
      ]
     },
     "execution_count": 72,
     "metadata": {},
     "output_type": "execute_result"
    }
   ],
   "source": [
    "validation_df['surface'].value_counts()"
   ]
  },
  {
   "cell_type": "code",
   "execution_count": 73,
   "metadata": {},
   "outputs": [],
   "source": [
    "test_df = pd.read_csv(os.path.abspath('../input/2019.csv'), delimiter=';')"
   ]
  },
  {
   "cell_type": "code",
   "execution_count": 74,
   "metadata": {},
   "outputs": [
    {
     "data": {
      "text/plain": [
       "match_id                  0\n",
       "tournament_name           0\n",
       "season                    0\n",
       "tournament_id             0\n",
       "date                      0\n",
       "level                     0\n",
       "surface                   0\n",
       "round                     0\n",
       "best_of                   0\n",
       "player_id                 0\n",
       "player_rank              20\n",
       "player_elo_rating         0\n",
       "opponent_id               0\n",
       "opponent_rank            20\n",
       "opponent_elo_rating       0\n",
       "outcome                5232\n",
       "minutes                 170\n",
       "p_1st_in                162\n",
       "o_1st_in                162\n",
       "p_sv_pt                 162\n",
       "o_sv_pt                 162\n",
       "p_1st_won               162\n",
       "o_1st_won               162\n",
       "p_2nd_won               162\n",
       "o_2nd_won               162\n",
       "p_ace                   162\n",
       "o_ace                   162\n",
       "p_df                    162\n",
       "o_df                    162\n",
       "p_bp_sv                 162\n",
       "o_bp_sv                 162\n",
       "p_bp_fc                 162\n",
       "o_bp_fc                 162\n",
       "p_matches                 0\n",
       "o_matches                 0\n",
       "p_sv_gms                162\n",
       "dtype: int64"
      ]
     },
     "execution_count": 74,
     "metadata": {},
     "output_type": "execute_result"
    }
   ],
   "source": [
    "test_df.isnull().sum()"
   ]
  },
  {
   "cell_type": "code",
   "execution_count": 75,
   "metadata": {},
   "outputs": [],
   "source": [
    "test_df = test_df.dropna(subset=['p_1st_in', 'player_rank', 'opponent_rank', 'surface'])\n",
    "test_df = test_df.drop(columns=['minutes'])"
   ]
  },
  {
   "cell_type": "code",
   "execution_count": 76,
   "metadata": {},
   "outputs": [
    {
     "data": {
      "text/plain": [
       "match_id                  0\n",
       "tournament_name           0\n",
       "season                    0\n",
       "tournament_id             0\n",
       "date                      0\n",
       "level                     0\n",
       "surface                   0\n",
       "round                     0\n",
       "best_of                   0\n",
       "player_id                 0\n",
       "player_rank               0\n",
       "player_elo_rating         0\n",
       "opponent_id               0\n",
       "opponent_rank             0\n",
       "opponent_elo_rating       0\n",
       "outcome                5068\n",
       "p_1st_in                  0\n",
       "o_1st_in                  0\n",
       "p_sv_pt                   0\n",
       "o_sv_pt                   0\n",
       "p_1st_won                 0\n",
       "o_1st_won                 0\n",
       "p_2nd_won                 0\n",
       "o_2nd_won                 0\n",
       "p_ace                     0\n",
       "o_ace                     0\n",
       "p_df                      0\n",
       "o_df                      0\n",
       "p_bp_sv                   0\n",
       "o_bp_sv                   0\n",
       "p_bp_fc                   0\n",
       "o_bp_fc                   0\n",
       "p_matches                 0\n",
       "o_matches                 0\n",
       "p_sv_gms                  0\n",
       "dtype: int64"
      ]
     },
     "execution_count": 76,
     "metadata": {},
     "output_type": "execute_result"
    }
   ],
   "source": [
    "test_df.isnull().sum()"
   ]
  },
  {
   "cell_type": "code",
   "execution_count": null,
   "metadata": {},
   "outputs": [],
   "source": []
  }
 ],
 "metadata": {
  "kernelspec": {
   "display_name": "Python 3",
   "language": "python",
   "name": "python3"
  },
  "language_info": {
   "codemirror_mode": {
    "name": "ipython",
    "version": 3
   },
   "file_extension": ".py",
   "mimetype": "text/x-python",
   "name": "python",
   "nbconvert_exporter": "python",
   "pygments_lexer": "ipython3",
   "version": "3.7.4"
  }
 },
 "nbformat": 4,
 "nbformat_minor": 4
}
